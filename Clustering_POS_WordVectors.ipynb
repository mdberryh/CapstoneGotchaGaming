{
 "cells": [
  {
   "cell_type": "markdown",
   "metadata": {},
   "source": [
    "We have a few elements that can be useful. Word counts, average word length, parts of speech, and the content of the review. \n",
    "\n",
    "Let's see which words are associated with each game.\n",
    "\n",
    "we can group vectors by week or month... we can get bi and trigrams counts for each month.\n",
    "\n"
   ]
  },
  {
   "cell_type": "code",
   "execution_count": null,
   "metadata": {},
   "outputs": [],
   "source": []
  },
  {
   "cell_type": "code",
   "execution_count": 84,
   "metadata": {},
   "outputs": [
    {
     "name": "stderr",
     "output_type": "stream",
     "text": [
      "[nltk_data] Downloading package wordnet to /tf/school/Capstone...\n",
      "[nltk_data]   Package wordnet is already up-to-date!\n",
      "[nltk_data] Downloading package omw-1.4 to /tf/school/Capstone...\n",
      "[nltk_data]   Package omw-1.4 is already up-to-date!\n",
      "[nltk_data] Downloading package stopwords to /tf/school/Capstone...\n",
      "[nltk_data]   Package stopwords is already up-to-date!\n"
     ]
    },
    {
     "data": {
      "text/plain": [
       "Index(['reviewId', 'userName', 'content', 'score', 'thumbsUpCount', 'at',\n",
       "       'title', 'description', 'summary', 'size', 'developer', 'contentRating',\n",
       "       'updated', 'released', 'appId', 'sentiment', 'review_word_count',\n",
       "       'review_average_word_len', 'NN', 'NNS', 'NNP', 'NNPS', 'VB', 'VBG',\n",
       "       'VBD', 'VBN', 'VBP', 'VBZ', 'JJ', 'JJR', 'JJS'],\n",
       "      dtype='object')"
      ]
     },
     "metadata": {},
     "output_type": "display_data"
    },
    {
     "name": "stdout",
     "output_type": "stream",
     "text": [
      "2461319\n",
      "1503346\n"
     ]
    },
    {
     "data": {
      "text/html": [
       "<div>\n",
       "<style scoped>\n",
       "    .dataframe tbody tr th:only-of-type {\n",
       "        vertical-align: middle;\n",
       "    }\n",
       "\n",
       "    .dataframe tbody tr th {\n",
       "        vertical-align: top;\n",
       "    }\n",
       "\n",
       "    .dataframe thead th {\n",
       "        text-align: right;\n",
       "    }\n",
       "</style>\n",
       "<table border=\"1\" class=\"dataframe\">\n",
       "  <thead>\n",
       "    <tr style=\"text-align: right;\">\n",
       "      <th></th>\n",
       "      <th>reviewId</th>\n",
       "      <th>userName</th>\n",
       "      <th>content</th>\n",
       "      <th>score</th>\n",
       "      <th>thumbsUpCount</th>\n",
       "      <th>at</th>\n",
       "      <th>title</th>\n",
       "      <th>description</th>\n",
       "      <th>summary</th>\n",
       "      <th>size</th>\n",
       "      <th>...</th>\n",
       "      <th>VB</th>\n",
       "      <th>VBG</th>\n",
       "      <th>VBD</th>\n",
       "      <th>VBN</th>\n",
       "      <th>VBP</th>\n",
       "      <th>VBZ</th>\n",
       "      <th>JJ</th>\n",
       "      <th>JJR</th>\n",
       "      <th>JJS</th>\n",
       "      <th>sum</th>\n",
       "    </tr>\n",
       "  </thead>\n",
       "  <tbody>\n",
       "    <tr>\n",
       "      <th>0</th>\n",
       "      <td>gp:AOqpTOHeXtcxesY0s6oCJYMlDPBOZ4Zdnj6HzbPhcd1...</td>\n",
       "      <td>Derrick Frantal</td>\n",
       "      <td>Fun. Strategic. Nice art. But most importantly...</td>\n",
       "      <td>5</td>\n",
       "      <td>0</td>\n",
       "      <td>2022-03-15 01:52:10</td>\n",
       "      <td>Arknights</td>\n",
       "      <td>Take on the role of a key member of Rhodes Isl...</td>\n",
       "      <td>Through the darkness, we see light</td>\n",
       "      <td>92M</td>\n",
       "      <td>...</td>\n",
       "      <td>0</td>\n",
       "      <td>0</td>\n",
       "      <td>0</td>\n",
       "      <td>0</td>\n",
       "      <td>0</td>\n",
       "      <td>0</td>\n",
       "      <td>0</td>\n",
       "      <td>0</td>\n",
       "      <td>0</td>\n",
       "      <td>3</td>\n",
       "    </tr>\n",
       "    <tr>\n",
       "      <th>1</th>\n",
       "      <td>gp:AOqpTOFnfbcsywKq4__k6rBBWkoKtmj5R8mXfRTQqVg...</td>\n",
       "      <td>M A.</td>\n",
       "      <td>Hardest game i ever play</td>\n",
       "      <td>5</td>\n",
       "      <td>0</td>\n",
       "      <td>2022-03-15 01:24:59</td>\n",
       "      <td>Arknights</td>\n",
       "      <td>Take on the role of a key member of Rhodes Isl...</td>\n",
       "      <td>Through the darkness, we see light</td>\n",
       "      <td>92M</td>\n",
       "      <td>...</td>\n",
       "      <td>0</td>\n",
       "      <td>0</td>\n",
       "      <td>0</td>\n",
       "      <td>0</td>\n",
       "      <td>0</td>\n",
       "      <td>0</td>\n",
       "      <td>0</td>\n",
       "      <td>0</td>\n",
       "      <td>0</td>\n",
       "      <td>2</td>\n",
       "    </tr>\n",
       "    <tr>\n",
       "      <th>2</th>\n",
       "      <td>gp:AOqpTOH7IFtnDuyQdwXbdHktD9pSQcZ1051pC5Hsfn_...</td>\n",
       "      <td>Kazzi</td>\n",
       "      <td>most rewarding for rewards and gacha, immersiv...</td>\n",
       "      <td>5</td>\n",
       "      <td>1</td>\n",
       "      <td>2022-03-15 00:34:13</td>\n",
       "      <td>Arknights</td>\n",
       "      <td>Take on the role of a key member of Rhodes Isl...</td>\n",
       "      <td>Through the darkness, we see light</td>\n",
       "      <td>92M</td>\n",
       "      <td>...</td>\n",
       "      <td>3</td>\n",
       "      <td>0</td>\n",
       "      <td>0</td>\n",
       "      <td>0</td>\n",
       "      <td>0</td>\n",
       "      <td>0</td>\n",
       "      <td>4</td>\n",
       "      <td>0</td>\n",
       "      <td>0</td>\n",
       "      <td>13</td>\n",
       "    </tr>\n",
       "    <tr>\n",
       "      <th>3</th>\n",
       "      <td>gp:AOqpTOEHcra3ybz74C9MhORbu8xdgaI5ALU0zQh3q1O...</td>\n",
       "      <td>Arjey Bagasbas</td>\n",
       "      <td>For F2P players and weebs here, this is a game...</td>\n",
       "      <td>5</td>\n",
       "      <td>0</td>\n",
       "      <td>2022-03-14 23:56:09</td>\n",
       "      <td>Arknights</td>\n",
       "      <td>Take on the role of a key member of Rhodes Isl...</td>\n",
       "      <td>Through the darkness, we see light</td>\n",
       "      <td>92M</td>\n",
       "      <td>...</td>\n",
       "      <td>3</td>\n",
       "      <td>0</td>\n",
       "      <td>0</td>\n",
       "      <td>0</td>\n",
       "      <td>4</td>\n",
       "      <td>5</td>\n",
       "      <td>5</td>\n",
       "      <td>0</td>\n",
       "      <td>0</td>\n",
       "      <td>41</td>\n",
       "    </tr>\n",
       "    <tr>\n",
       "      <th>4</th>\n",
       "      <td>gp:AOqpTOG-4_b2Qow31H3SxYxv_Sr3PKTt2_3ZH4ZeGiy...</td>\n",
       "      <td>Zweï</td>\n",
       "      <td>Strategy rpg × tower defence blended to perfec...</td>\n",
       "      <td>5</td>\n",
       "      <td>0</td>\n",
       "      <td>2022-03-14 23:07:11</td>\n",
       "      <td>Arknights</td>\n",
       "      <td>Take on the role of a key member of Rhodes Isl...</td>\n",
       "      <td>Through the darkness, we see light</td>\n",
       "      <td>92M</td>\n",
       "      <td>...</td>\n",
       "      <td>0</td>\n",
       "      <td>0</td>\n",
       "      <td>0</td>\n",
       "      <td>0</td>\n",
       "      <td>0</td>\n",
       "      <td>0</td>\n",
       "      <td>0</td>\n",
       "      <td>0</td>\n",
       "      <td>0</td>\n",
       "      <td>4</td>\n",
       "    </tr>\n",
       "  </tbody>\n",
       "</table>\n",
       "<p>5 rows × 32 columns</p>\n",
       "</div>"
      ],
      "text/plain": [
       "                                            reviewId         userName  \\\n",
       "0  gp:AOqpTOHeXtcxesY0s6oCJYMlDPBOZ4Zdnj6HzbPhcd1...  Derrick Frantal   \n",
       "1  gp:AOqpTOFnfbcsywKq4__k6rBBWkoKtmj5R8mXfRTQqVg...             M A.   \n",
       "2  gp:AOqpTOH7IFtnDuyQdwXbdHktD9pSQcZ1051pC5Hsfn_...            Kazzi   \n",
       "3  gp:AOqpTOEHcra3ybz74C9MhORbu8xdgaI5ALU0zQh3q1O...   Arjey Bagasbas   \n",
       "4  gp:AOqpTOG-4_b2Qow31H3SxYxv_Sr3PKTt2_3ZH4ZeGiy...             Zweï   \n",
       "\n",
       "                                             content  score  thumbsUpCount  \\\n",
       "0  Fun. Strategic. Nice art. But most importantly...      5              0   \n",
       "1                           Hardest game i ever play      5              0   \n",
       "2  most rewarding for rewards and gacha, immersiv...      5              1   \n",
       "3  For F2P players and weebs here, this is a game...      5              0   \n",
       "4  Strategy rpg × tower defence blended to perfec...      5              0   \n",
       "\n",
       "                   at      title  \\\n",
       "0 2022-03-15 01:52:10  Arknights   \n",
       "1 2022-03-15 01:24:59  Arknights   \n",
       "2 2022-03-15 00:34:13  Arknights   \n",
       "3 2022-03-14 23:56:09  Arknights   \n",
       "4 2022-03-14 23:07:11  Arknights   \n",
       "\n",
       "                                         description  \\\n",
       "0  Take on the role of a key member of Rhodes Isl...   \n",
       "1  Take on the role of a key member of Rhodes Isl...   \n",
       "2  Take on the role of a key member of Rhodes Isl...   \n",
       "3  Take on the role of a key member of Rhodes Isl...   \n",
       "4  Take on the role of a key member of Rhodes Isl...   \n",
       "\n",
       "                              summary size  ... VB VBG VBD VBN VBP VBZ  JJ  \\\n",
       "0  Through the darkness, we see light  92M  ...  0   0   0   0   0   0   0   \n",
       "1  Through the darkness, we see light  92M  ...  0   0   0   0   0   0   0   \n",
       "2  Through the darkness, we see light  92M  ...  3   0   0   0   0   0   4   \n",
       "3  Through the darkness, we see light  92M  ...  3   0   0   0   4   5   5   \n",
       "4  Through the darkness, we see light  92M  ...  0   0   0   0   0   0   0   \n",
       "\n",
       "   JJR  JJS  sum  \n",
       "0    0    0    3  \n",
       "1    0    0    2  \n",
       "2    0    0   13  \n",
       "3    0    0   41  \n",
       "4    0    0    4  \n",
       "\n",
       "[5 rows x 32 columns]"
      ]
     },
     "execution_count": 84,
     "metadata": {},
     "output_type": "execute_result"
    }
   ],
   "source": [
    "# Load com.miHoYo.GenshinImpact\n",
    "\n",
    "import pandas as pd\n",
    "import numpy as np\n",
    "import matplotlib.pyplot as plt\n",
    "import seaborn as sns\n",
    "# from google_play_scraper import app, Sort, reviews_all, permissions\n",
    "\n",
    "from os import listdir, path\n",
    "from os.path import isfile, join\n",
    "import pickle\n",
    "from collections import Counter\n",
    "\n",
    "# import these modules\n",
    "import nltk\n",
    "from nltk.corpus import stopwords\n",
    "nltk.data.path.append('/tf/school/Capstone')\n",
    "nltk.download('wordnet', download_dir='/tf/school/Capstone')\n",
    "nltk.download('omw-1.4', download_dir='/tf/school/Capstone')\n",
    "nltk.download('stopwords', download_dir='/tf/school/Capstone')\n",
    "from nltk.stem import WordNetLemmatizer\n",
    "\n",
    "my_stopwords = nltk.corpus.stopwords.words('english')\n",
    "stemmer = nltk.stem.snowball.PorterStemmer(ignore_stopwords=False).stem\n",
    "my_punctuation = '!\"$%&\\'()*+,-./:;<=>?[\\\\]^_`{|}~•@'\n",
    "\n",
    "\n",
    "import commonFunctions as cf\n",
    "\n",
    "import re\n",
    "\n",
    "\n",
    "def getReviewsDf(app_id = None):\n",
    "    mypath = 'sentReviews/'\n",
    "    reviews_df = None\n",
    "    if path.exists(mypath + app_id):\n",
    "        reviews_df = pd.read_pickle(mypath + app_id, compression='gzip')\n",
    "\n",
    "    return reviews_df\n",
    "\n",
    "# reviews_df = getReviewsDf('com.YoStarEN.Arknights.pkl')\n",
    "\n",
    "reviews_df = cf.getReviewsDf()\n",
    "\n",
    "display(reviews_df.columns)\n",
    "print(len(reviews_df))\n",
    "# Let's remove some elements that won't help us that much this includes foreign languages...\n",
    "reviews_df = reviews_df[reviews_df['review_average_word_len'] < 15]\n",
    "\n",
    "# remove reviews that don't have the POS tags\n",
    "tempCols = ['NN','NNS','NNP','NNPS','VB','VBG','VBD','VBN','VBP','VBZ','JJ','JJR','JJS']\n",
    "\n",
    "reviews_df['sum'] = reviews_df[tempCols].sum(axis=1)\n",
    "reviews_df = reviews_df[reviews_df['sum'] > 0]\n",
    "\n",
    "print(len(reviews_df))\n",
    "\n",
    "reviews_df.head()"
   ]
  },
  {
   "cell_type": "code",
   "execution_count": 85,
   "metadata": {},
   "outputs": [],
   "source": [
    "# we can preprocess some text...\n",
    "\n",
    "reviews_df['content']=reviews_df['content'].str.lower()\n",
    "\n",
    "# remove extra whitespaces\n",
    "def remove_whitespace(text):\n",
    "    return  \" \".join(text.split())\n",
    "\n",
    "\n",
    "def remove_puncuation(text):\n",
    "    my_punctuation = '!\"$%&\\'()*+,-./:;<=>?[\\\\]^_`{|}~•@'\n",
    "    return re.sub('['+my_punctuation + ']+', '', text) # strip punctuation\n",
    "\n",
    "def remove_numbers(text):\n",
    "    return re.sub('([0-9]+)', '', text) # remove numbers\n",
    "\n",
    "def remove_stopwords(text):\n",
    "     return \" \".join([word for word in text.split(' ')\n",
    "                            if word not in my_stopwords]) # remove stopwords\n",
    "def lemmatize_stemming(text):\n",
    "    return word_rooter(WordNetLemmatizer().lemmatize(text, pos='v'))\n",
    "\n",
    "\n",
    "reviews_df['content']=reviews_df['content'].apply(lambda x: remove_whitespace(x))\n",
    "\n",
    "reviews_df['content']=reviews_df['content'].apply(lambda x: remove_puncuation(x))\n",
    "\n",
    "reviews_df['content']=reviews_df['content'].apply(lambda x: remove_numbers(x))\n",
    "\n",
    "reviews_df['content']=reviews_df['content'].apply(lambda x: remove_stopwords(x))\n",
    "\n",
    "reviews_df['content']=reviews_df['content'].apply(lambda x: lemmatize_stemming(x))\n",
    "\n",
    "\n",
    "\n",
    "\n",
    "from nltk import word_tokenize\n",
    "\n",
    "# reviews_df['content']=reviews_df['content'].apply(lambda X: word_tokenize(X))"
   ]
  },
  {
   "cell_type": "code",
   "execution_count": 86,
   "metadata": {},
   "outputs": [
    {
     "data": {
      "text/html": [
       "<div>\n",
       "<style scoped>\n",
       "    .dataframe tbody tr th:only-of-type {\n",
       "        vertical-align: middle;\n",
       "    }\n",
       "\n",
       "    .dataframe tbody tr th {\n",
       "        vertical-align: top;\n",
       "    }\n",
       "\n",
       "    .dataframe thead th {\n",
       "        text-align: right;\n",
       "    }\n",
       "</style>\n",
       "<table border=\"1\" class=\"dataframe\">\n",
       "  <thead>\n",
       "    <tr style=\"text-align: right;\">\n",
       "      <th></th>\n",
       "      <th>reviewId</th>\n",
       "      <th>userName</th>\n",
       "      <th>content</th>\n",
       "      <th>score</th>\n",
       "      <th>thumbsUpCount</th>\n",
       "      <th>at</th>\n",
       "      <th>title</th>\n",
       "      <th>description</th>\n",
       "      <th>summary</th>\n",
       "      <th>size</th>\n",
       "      <th>...</th>\n",
       "      <th>VB</th>\n",
       "      <th>VBG</th>\n",
       "      <th>VBD</th>\n",
       "      <th>VBN</th>\n",
       "      <th>VBP</th>\n",
       "      <th>VBZ</th>\n",
       "      <th>JJ</th>\n",
       "      <th>JJR</th>\n",
       "      <th>JJS</th>\n",
       "      <th>sum</th>\n",
       "    </tr>\n",
       "  </thead>\n",
       "  <tbody>\n",
       "    <tr>\n",
       "      <th>0</th>\n",
       "      <td>gp:AOqpTOHeXtcxesY0s6oCJYMlDPBOZ4Zdnj6HzbPhcd1...</td>\n",
       "      <td>Derrick Frantal</td>\n",
       "      <td>fun strategic nice art importantly fun</td>\n",
       "      <td>5</td>\n",
       "      <td>0</td>\n",
       "      <td>2022-03-15 01:52:10</td>\n",
       "      <td>Arknights</td>\n",
       "      <td>Take on the role of a key member of Rhodes Isl...</td>\n",
       "      <td>Through the darkness, we see light</td>\n",
       "      <td>92M</td>\n",
       "      <td>...</td>\n",
       "      <td>0</td>\n",
       "      <td>0</td>\n",
       "      <td>0</td>\n",
       "      <td>0</td>\n",
       "      <td>0</td>\n",
       "      <td>0</td>\n",
       "      <td>0</td>\n",
       "      <td>0</td>\n",
       "      <td>0</td>\n",
       "      <td>3</td>\n",
       "    </tr>\n",
       "    <tr>\n",
       "      <th>1</th>\n",
       "      <td>gp:AOqpTOFnfbcsywKq4__k6rBBWkoKtmj5R8mXfRTQqVg...</td>\n",
       "      <td>M A.</td>\n",
       "      <td>hardest game ever play</td>\n",
       "      <td>5</td>\n",
       "      <td>0</td>\n",
       "      <td>2022-03-15 01:24:59</td>\n",
       "      <td>Arknights</td>\n",
       "      <td>Take on the role of a key member of Rhodes Isl...</td>\n",
       "      <td>Through the darkness, we see light</td>\n",
       "      <td>92M</td>\n",
       "      <td>...</td>\n",
       "      <td>0</td>\n",
       "      <td>0</td>\n",
       "      <td>0</td>\n",
       "      <td>0</td>\n",
       "      <td>0</td>\n",
       "      <td>0</td>\n",
       "      <td>0</td>\n",
       "      <td>0</td>\n",
       "      <td>0</td>\n",
       "      <td>2</td>\n",
       "    </tr>\n",
       "    <tr>\n",
       "      <th>2</th>\n",
       "      <td>gp:AOqpTOH7IFtnDuyQdwXbdHktD9pSQcZ1051pC5Hsfn_...</td>\n",
       "      <td>Kazzi</td>\n",
       "      <td>rewarding rewards gacha immersive content char...</td>\n",
       "      <td>5</td>\n",
       "      <td>1</td>\n",
       "      <td>2022-03-15 00:34:13</td>\n",
       "      <td>Arknights</td>\n",
       "      <td>Take on the role of a key member of Rhodes Isl...</td>\n",
       "      <td>Through the darkness, we see light</td>\n",
       "      <td>92M</td>\n",
       "      <td>...</td>\n",
       "      <td>3</td>\n",
       "      <td>0</td>\n",
       "      <td>0</td>\n",
       "      <td>0</td>\n",
       "      <td>0</td>\n",
       "      <td>0</td>\n",
       "      <td>4</td>\n",
       "      <td>0</td>\n",
       "      <td>0</td>\n",
       "      <td>13</td>\n",
       "    </tr>\n",
       "    <tr>\n",
       "      <th>3</th>\n",
       "      <td>gp:AOqpTOEHcra3ybz74C9MhORbu8xdgaI5ALU0zQh3q1O...</td>\n",
       "      <td>Arjey Bagasbas</td>\n",
       "      <td>fp players weebs game fits especially ones lov...</td>\n",
       "      <td>5</td>\n",
       "      <td>0</td>\n",
       "      <td>2022-03-14 23:56:09</td>\n",
       "      <td>Arknights</td>\n",
       "      <td>Take on the role of a key member of Rhodes Isl...</td>\n",
       "      <td>Through the darkness, we see light</td>\n",
       "      <td>92M</td>\n",
       "      <td>...</td>\n",
       "      <td>3</td>\n",
       "      <td>0</td>\n",
       "      <td>0</td>\n",
       "      <td>0</td>\n",
       "      <td>4</td>\n",
       "      <td>5</td>\n",
       "      <td>5</td>\n",
       "      <td>0</td>\n",
       "      <td>0</td>\n",
       "      <td>41</td>\n",
       "    </tr>\n",
       "    <tr>\n",
       "      <th>4</th>\n",
       "      <td>gp:AOqpTOG-4_b2Qow31H3SxYxv_Sr3PKTt2_3ZH4ZeGiy...</td>\n",
       "      <td>Zweï</td>\n",
       "      <td>strategy rpg × tower defence blended perfect</td>\n",
       "      <td>5</td>\n",
       "      <td>0</td>\n",
       "      <td>2022-03-14 23:07:11</td>\n",
       "      <td>Arknights</td>\n",
       "      <td>Take on the role of a key member of Rhodes Isl...</td>\n",
       "      <td>Through the darkness, we see light</td>\n",
       "      <td>92M</td>\n",
       "      <td>...</td>\n",
       "      <td>0</td>\n",
       "      <td>0</td>\n",
       "      <td>0</td>\n",
       "      <td>0</td>\n",
       "      <td>0</td>\n",
       "      <td>0</td>\n",
       "      <td>0</td>\n",
       "      <td>0</td>\n",
       "      <td>0</td>\n",
       "      <td>4</td>\n",
       "    </tr>\n",
       "  </tbody>\n",
       "</table>\n",
       "<p>5 rows × 32 columns</p>\n",
       "</div>"
      ],
      "text/plain": [
       "                                            reviewId         userName  \\\n",
       "0  gp:AOqpTOHeXtcxesY0s6oCJYMlDPBOZ4Zdnj6HzbPhcd1...  Derrick Frantal   \n",
       "1  gp:AOqpTOFnfbcsywKq4__k6rBBWkoKtmj5R8mXfRTQqVg...             M A.   \n",
       "2  gp:AOqpTOH7IFtnDuyQdwXbdHktD9pSQcZ1051pC5Hsfn_...            Kazzi   \n",
       "3  gp:AOqpTOEHcra3ybz74C9MhORbu8xdgaI5ALU0zQh3q1O...   Arjey Bagasbas   \n",
       "4  gp:AOqpTOG-4_b2Qow31H3SxYxv_Sr3PKTt2_3ZH4ZeGiy...             Zweï   \n",
       "\n",
       "                                             content  score  thumbsUpCount  \\\n",
       "0             fun strategic nice art importantly fun      5              0   \n",
       "1                             hardest game ever play      5              0   \n",
       "2  rewarding rewards gacha immersive content char...      5              1   \n",
       "3  fp players weebs game fits especially ones lov...      5              0   \n",
       "4       strategy rpg × tower defence blended perfect      5              0   \n",
       "\n",
       "                   at      title  \\\n",
       "0 2022-03-15 01:52:10  Arknights   \n",
       "1 2022-03-15 01:24:59  Arknights   \n",
       "2 2022-03-15 00:34:13  Arknights   \n",
       "3 2022-03-14 23:56:09  Arknights   \n",
       "4 2022-03-14 23:07:11  Arknights   \n",
       "\n",
       "                                         description  \\\n",
       "0  Take on the role of a key member of Rhodes Isl...   \n",
       "1  Take on the role of a key member of Rhodes Isl...   \n",
       "2  Take on the role of a key member of Rhodes Isl...   \n",
       "3  Take on the role of a key member of Rhodes Isl...   \n",
       "4  Take on the role of a key member of Rhodes Isl...   \n",
       "\n",
       "                              summary size  ... VB VBG VBD VBN VBP VBZ  JJ  \\\n",
       "0  Through the darkness, we see light  92M  ...  0   0   0   0   0   0   0   \n",
       "1  Through the darkness, we see light  92M  ...  0   0   0   0   0   0   0   \n",
       "2  Through the darkness, we see light  92M  ...  3   0   0   0   0   0   4   \n",
       "3  Through the darkness, we see light  92M  ...  3   0   0   0   4   5   5   \n",
       "4  Through the darkness, we see light  92M  ...  0   0   0   0   0   0   0   \n",
       "\n",
       "   JJR  JJS  sum  \n",
       "0    0    0    3  \n",
       "1    0    0    2  \n",
       "2    0    0   13  \n",
       "3    0    0   41  \n",
       "4    0    0    4  \n",
       "\n",
       "[5 rows x 32 columns]"
      ]
     },
     "execution_count": 86,
     "metadata": {},
     "output_type": "execute_result"
    }
   ],
   "source": [
    "reviews_df.head()"
   ]
  },
  {
   "cell_type": "code",
   "execution_count": 87,
   "metadata": {},
   "outputs": [
    {
     "name": "stderr",
     "output_type": "stream",
     "text": [
      "/.local/lib/python3.8/site-packages/sklearn/utils/deprecation.py:87: FutureWarning: Function get_feature_names is deprecated; get_feature_names is deprecated in 1.0 and will be removed in 1.2. Please use get_feature_names_out instead.\n",
      "  warnings.warn(msg, category=FutureWarning)\n"
     ]
    }
   ],
   "source": [
    "from sklearn.feature_extraction.text import TfidfVectorizer, CountVectorizer\n",
    "\n",
    "no_features = 1000\n",
    "\n",
    "documents = reviews_df['content']\n",
    "\n",
    "\n",
    "# NMF is able to use tf-idf\n",
    "tfidf_vectorizer = TfidfVectorizer(max_df=0.85, min_df=10, max_features=no_features, stop_words='english')\n",
    "tfidf = tfidf_vectorizer.fit_transform(documents)\n",
    "tfidf_feature_names = tfidf_vectorizer.get_feature_names()\n",
    "\n",
    "# LDA can only use raw term counts for LDA because it is a probabilistic graphical model\n",
    "tf_vectorizer = CountVectorizer(max_df=0.85, min_df=10, max_features=no_features, stop_words='english')\n",
    "tf = tf_vectorizer.fit_transform(documents)\n",
    "tf_feature_names = tf_vectorizer.get_feature_names()"
   ]
  },
  {
   "cell_type": "code",
   "execution_count": 33,
   "metadata": {},
   "outputs": [],
   "source": [
    "# Let's try again...\n",
    "# https://towardsdatascience.com/topic-modeling-and-latent-dirichlet-allocation-in-python-9bf156893c24\n"
   ]
  },
  {
   "cell_type": "code",
   "execution_count": 34,
   "metadata": {},
   "outputs": [
    {
     "data": {
      "image/png": "[encoded data removed]",
      "text/plain": [
       "<Figure size 640x480 with 1 Axes>"
      ]
     },
     "metadata": {},
     "output_type": "display_data"
    }
   ],
   "source": [
    "# calculate distortion for a range of number of cluster\n",
    "from sklearn.cluster import KMeans\n",
    "import numpy as np\n",
    "from sklearn.decomposition import NMF, LatentDirichletAllocation\n",
    "\n",
    "\n",
    "X = tfidf\n",
    "distortions = []\n",
    "\n",
    "for i in range(1, 25):\n",
    "#     lda = LatentDirichletAllocation(n_topics=i, max_iter=5,\n",
    "#                                     learning_method='online', \n",
    "#                                     learning_offset=50.,\n",
    "#                                     random_state=0).fit(tf)\n",
    "\n",
    "    km = KMeans(\n",
    "        n_clusters=i, init='random',\n",
    "        n_init=10, max_iter=300,\n",
    "        tol=1e-04, random_state=0\n",
    "    )\n",
    "    km.fit(X)\n",
    "    distortions.append(km.inertia_)\n",
    "\n",
    "# plot\n",
    "plt.plot(range(1, 25), distortions, marker='o')\n",
    "plt.xlabel('Number of clusters')\n",
    "plt.ylabel('Distortion')\n",
    "plt.show()"
   ]
  },
  {
   "cell_type": "code",
   "execution_count": 36,
   "metadata": {},
   "outputs": [
    {
     "data": {
      "image/png": "[encoded data removed]",
      "text/plain": [
       "<Figure size 640x480 with 1 Axes>"
      ]
     },
     "metadata": {},
     "output_type": "display_data"
    }
   ],
   "source": [
    "# calculate distortion for a range of number of cluster\n",
    "from sklearn.cluster import KMeans\n",
    "import numpy as np\n",
    "\n",
    "\n",
    "X = tfidf\n",
    "distortions = []\n",
    "\n",
    "for i in range(1, 11):\n",
    "    km = KMeans(\n",
    "        n_clusters=i, init='random',\n",
    "        n_init=10, max_iter=300,\n",
    "        tol=1e-04, random_state=0\n",
    "    )\n",
    "    km.fit(X)\n",
    "    distortions.append(km.inertia_)\n",
    "\n",
    "# plot\n",
    "plt.plot(range(1, 11), distortions, marker='o')\n",
    "plt.xlabel('Number of clusters')\n",
    "plt.ylabel('Distortion')\n",
    "plt.show()"
   ]
  },
  {
   "cell_type": "code",
   "execution_count": 53,
   "metadata": {},
   "outputs": [],
   "source": [
    "from sklearn.cluster import KMeans\n",
    "\n",
    "km = KMeans(\n",
    "    n_clusters=7, init='random',\n",
    "    n_init=10, max_iter=300, \n",
    "    tol=1e-04, random_state=0\n",
    ")\n",
    "y_km = km.fit_predict(X)\n",
    "\n",
    "reviews_df['cluster'] = y_km"
   ]
  },
  {
   "cell_type": "code",
   "execution_count": 54,
   "metadata": {},
   "outputs": [
    {
     "data": {
      "text/html": [
       "<div>\n",
       "<style scoped>\n",
       "    .dataframe tbody tr th:only-of-type {\n",
       "        vertical-align: middle;\n",
       "    }\n",
       "\n",
       "    .dataframe tbody tr th {\n",
       "        vertical-align: top;\n",
       "    }\n",
       "\n",
       "    .dataframe thead th {\n",
       "        text-align: right;\n",
       "    }\n",
       "</style>\n",
       "<table border=\"1\" class=\"dataframe\">\n",
       "  <thead>\n",
       "    <tr style=\"text-align: right;\">\n",
       "      <th></th>\n",
       "      <th>reviewId</th>\n",
       "      <th>userName</th>\n",
       "      <th>content</th>\n",
       "      <th>score</th>\n",
       "      <th>thumbsUpCount</th>\n",
       "      <th>at</th>\n",
       "      <th>title</th>\n",
       "      <th>description</th>\n",
       "      <th>summary</th>\n",
       "      <th>size</th>\n",
       "      <th>...</th>\n",
       "      <th>VBG</th>\n",
       "      <th>VBD</th>\n",
       "      <th>VBN</th>\n",
       "      <th>VBP</th>\n",
       "      <th>VBZ</th>\n",
       "      <th>JJ</th>\n",
       "      <th>JJR</th>\n",
       "      <th>JJS</th>\n",
       "      <th>sum</th>\n",
       "      <th>cluster</th>\n",
       "    </tr>\n",
       "  </thead>\n",
       "  <tbody>\n",
       "    <tr>\n",
       "      <th>0</th>\n",
       "      <td>gp:AOqpTOHeXtcxesY0s6oCJYMlDPBOZ4Zdnj6HzbPhcd1...</td>\n",
       "      <td>Derrick Frantal</td>\n",
       "      <td>fun strategic nice art importantly fun</td>\n",
       "      <td>5</td>\n",
       "      <td>0</td>\n",
       "      <td>2022-03-15 01:52:10</td>\n",
       "      <td>Arknights</td>\n",
       "      <td>Take on the role of a key member of Rhodes Isl...</td>\n",
       "      <td>Through the darkness, we see light</td>\n",
       "      <td>92M</td>\n",
       "      <td>...</td>\n",
       "      <td>0</td>\n",
       "      <td>0</td>\n",
       "      <td>0</td>\n",
       "      <td>0</td>\n",
       "      <td>0</td>\n",
       "      <td>0</td>\n",
       "      <td>0</td>\n",
       "      <td>0</td>\n",
       "      <td>3</td>\n",
       "      <td>2</td>\n",
       "    </tr>\n",
       "    <tr>\n",
       "      <th>1</th>\n",
       "      <td>gp:AOqpTOFnfbcsywKq4__k6rBBWkoKtmj5R8mXfRTQqVg...</td>\n",
       "      <td>M A.</td>\n",
       "      <td>hardest game ever play</td>\n",
       "      <td>5</td>\n",
       "      <td>0</td>\n",
       "      <td>2022-03-15 01:24:59</td>\n",
       "      <td>Arknights</td>\n",
       "      <td>Take on the role of a key member of Rhodes Isl...</td>\n",
       "      <td>Through the darkness, we see light</td>\n",
       "      <td>92M</td>\n",
       "      <td>...</td>\n",
       "      <td>0</td>\n",
       "      <td>0</td>\n",
       "      <td>0</td>\n",
       "      <td>0</td>\n",
       "      <td>0</td>\n",
       "      <td>0</td>\n",
       "      <td>0</td>\n",
       "      <td>0</td>\n",
       "      <td>2</td>\n",
       "      <td>2</td>\n",
       "    </tr>\n",
       "    <tr>\n",
       "      <th>2</th>\n",
       "      <td>gp:AOqpTOH7IFtnDuyQdwXbdHktD9pSQcZ1051pC5Hsfn_...</td>\n",
       "      <td>Kazzi</td>\n",
       "      <td>rewarding rewards gacha immersive content char...</td>\n",
       "      <td>5</td>\n",
       "      <td>1</td>\n",
       "      <td>2022-03-15 00:34:13</td>\n",
       "      <td>Arknights</td>\n",
       "      <td>Take on the role of a key member of Rhodes Isl...</td>\n",
       "      <td>Through the darkness, we see light</td>\n",
       "      <td>92M</td>\n",
       "      <td>...</td>\n",
       "      <td>0</td>\n",
       "      <td>0</td>\n",
       "      <td>0</td>\n",
       "      <td>0</td>\n",
       "      <td>0</td>\n",
       "      <td>4</td>\n",
       "      <td>0</td>\n",
       "      <td>0</td>\n",
       "      <td>13</td>\n",
       "      <td>5</td>\n",
       "    </tr>\n",
       "    <tr>\n",
       "      <th>3</th>\n",
       "      <td>gp:AOqpTOEHcra3ybz74C9MhORbu8xdgaI5ALU0zQh3q1O...</td>\n",
       "      <td>Arjey Bagasbas</td>\n",
       "      <td>fp players weebs game fits especially ones lov...</td>\n",
       "      <td>5</td>\n",
       "      <td>0</td>\n",
       "      <td>2022-03-14 23:56:09</td>\n",
       "      <td>Arknights</td>\n",
       "      <td>Take on the role of a key member of Rhodes Isl...</td>\n",
       "      <td>Through the darkness, we see light</td>\n",
       "      <td>92M</td>\n",
       "      <td>...</td>\n",
       "      <td>0</td>\n",
       "      <td>0</td>\n",
       "      <td>0</td>\n",
       "      <td>4</td>\n",
       "      <td>5</td>\n",
       "      <td>5</td>\n",
       "      <td>0</td>\n",
       "      <td>0</td>\n",
       "      <td>41</td>\n",
       "      <td>2</td>\n",
       "    </tr>\n",
       "    <tr>\n",
       "      <th>4</th>\n",
       "      <td>gp:AOqpTOG-4_b2Qow31H3SxYxv_Sr3PKTt2_3ZH4ZeGiy...</td>\n",
       "      <td>Zweï</td>\n",
       "      <td>strategy rpg × tower defence blended perfect</td>\n",
       "      <td>5</td>\n",
       "      <td>0</td>\n",
       "      <td>2022-03-14 23:07:11</td>\n",
       "      <td>Arknights</td>\n",
       "      <td>Take on the role of a key member of Rhodes Isl...</td>\n",
       "      <td>Through the darkness, we see light</td>\n",
       "      <td>92M</td>\n",
       "      <td>...</td>\n",
       "      <td>0</td>\n",
       "      <td>0</td>\n",
       "      <td>0</td>\n",
       "      <td>0</td>\n",
       "      <td>0</td>\n",
       "      <td>0</td>\n",
       "      <td>0</td>\n",
       "      <td>0</td>\n",
       "      <td>4</td>\n",
       "      <td>0</td>\n",
       "    </tr>\n",
       "  </tbody>\n",
       "</table>\n",
       "<p>5 rows × 33 columns</p>\n",
       "</div>"
      ],
      "text/plain": [
       "                                            reviewId         userName  \\\n",
       "0  gp:AOqpTOHeXtcxesY0s6oCJYMlDPBOZ4Zdnj6HzbPhcd1...  Derrick Frantal   \n",
       "1  gp:AOqpTOFnfbcsywKq4__k6rBBWkoKtmj5R8mXfRTQqVg...             M A.   \n",
       "2  gp:AOqpTOH7IFtnDuyQdwXbdHktD9pSQcZ1051pC5Hsfn_...            Kazzi   \n",
       "3  gp:AOqpTOEHcra3ybz74C9MhORbu8xdgaI5ALU0zQh3q1O...   Arjey Bagasbas   \n",
       "4  gp:AOqpTOG-4_b2Qow31H3SxYxv_Sr3PKTt2_3ZH4ZeGiy...             Zweï   \n",
       "\n",
       "                                             content  score  thumbsUpCount  \\\n",
       "0             fun strategic nice art importantly fun      5              0   \n",
       "1                             hardest game ever play      5              0   \n",
       "2  rewarding rewards gacha immersive content char...      5              1   \n",
       "3  fp players weebs game fits especially ones lov...      5              0   \n",
       "4       strategy rpg × tower defence blended perfect      5              0   \n",
       "\n",
       "                   at      title  \\\n",
       "0 2022-03-15 01:52:10  Arknights   \n",
       "1 2022-03-15 01:24:59  Arknights   \n",
       "2 2022-03-15 00:34:13  Arknights   \n",
       "3 2022-03-14 23:56:09  Arknights   \n",
       "4 2022-03-14 23:07:11  Arknights   \n",
       "\n",
       "                                         description  \\\n",
       "0  Take on the role of a key member of Rhodes Isl...   \n",
       "1  Take on the role of a key member of Rhodes Isl...   \n",
       "2  Take on the role of a key member of Rhodes Isl...   \n",
       "3  Take on the role of a key member of Rhodes Isl...   \n",
       "4  Take on the role of a key member of Rhodes Isl...   \n",
       "\n",
       "                              summary size  ... VBG VBD VBN VBP VBZ JJ  JJR  \\\n",
       "0  Through the darkness, we see light  92M  ...   0   0   0   0   0  0    0   \n",
       "1  Through the darkness, we see light  92M  ...   0   0   0   0   0  0    0   \n",
       "2  Through the darkness, we see light  92M  ...   0   0   0   0   0  4    0   \n",
       "3  Through the darkness, we see light  92M  ...   0   0   0   4   5  5    0   \n",
       "4  Through the darkness, we see light  92M  ...   0   0   0   0   0  0    0   \n",
       "\n",
       "   JJS  sum  cluster  \n",
       "0    0    3        2  \n",
       "1    0    2        2  \n",
       "2    0   13        5  \n",
       "3    0   41        2  \n",
       "4    0    4        0  \n",
       "\n",
       "[5 rows x 33 columns]"
      ]
     },
     "execution_count": 54,
     "metadata": {},
     "output_type": "execute_result"
    }
   ],
   "source": [
    "reviews_df.head()"
   ]
  },
  {
   "cell_type": "code",
   "execution_count": 55,
   "metadata": {},
   "outputs": [
    {
     "data": {
      "text/html": [
       "<div>\n",
       "<style scoped>\n",
       "    .dataframe tbody tr th:only-of-type {\n",
       "        vertical-align: middle;\n",
       "    }\n",
       "\n",
       "    .dataframe tbody tr th {\n",
       "        vertical-align: top;\n",
       "    }\n",
       "\n",
       "    .dataframe thead th {\n",
       "        text-align: right;\n",
       "    }\n",
       "</style>\n",
       "<table border=\"1\" class=\"dataframe\">\n",
       "  <thead>\n",
       "    <tr style=\"text-align: right;\">\n",
       "      <th></th>\n",
       "      <th>cluster</th>\n",
       "      <th>score</th>\n",
       "    </tr>\n",
       "  </thead>\n",
       "  <tbody>\n",
       "    <tr>\n",
       "      <th>0</th>\n",
       "      <td>0</td>\n",
       "      <td>4.545232</td>\n",
       "    </tr>\n",
       "    <tr>\n",
       "      <th>1</th>\n",
       "      <td>1</td>\n",
       "      <td>4.828846</td>\n",
       "    </tr>\n",
       "    <tr>\n",
       "      <th>2</th>\n",
       "      <td>2</td>\n",
       "      <td>3.858197</td>\n",
       "    </tr>\n",
       "    <tr>\n",
       "      <th>3</th>\n",
       "      <td>3</td>\n",
       "      <td>4.956973</td>\n",
       "    </tr>\n",
       "    <tr>\n",
       "      <th>4</th>\n",
       "      <td>4</td>\n",
       "      <td>4.461972</td>\n",
       "    </tr>\n",
       "    <tr>\n",
       "      <th>5</th>\n",
       "      <td>5</td>\n",
       "      <td>4.563888</td>\n",
       "    </tr>\n",
       "    <tr>\n",
       "      <th>6</th>\n",
       "      <td>6</td>\n",
       "      <td>4.512554</td>\n",
       "    </tr>\n",
       "  </tbody>\n",
       "</table>\n",
       "</div>"
      ],
      "text/plain": [
       "   cluster     score\n",
       "0        0  4.545232\n",
       "1        1  4.828846\n",
       "2        2  3.858197\n",
       "3        3  4.956973\n",
       "4        4  4.461972\n",
       "5        5  4.563888\n",
       "6        6  4.512554"
      ]
     },
     "execution_count": 55,
     "metadata": {},
     "output_type": "execute_result"
    }
   ],
   "source": [
    "reviews_df[['score','cluster']].groupby('cluster').mean().reset_index()"
   ]
  },
  {
   "cell_type": "code",
   "execution_count": 56,
   "metadata": {},
   "outputs": [
    {
     "data": {
      "image/png": "[encoded data removed]",
      "text/plain": [
       "<Figure size 640x480 with 1 Axes>"
      ]
     },
     "metadata": {},
     "output_type": "display_data"
    }
   ],
   "source": [
    "# plt.scatter(\n",
    "#     X[y_km == 0, 0], X[y_km == 0, 1],\n",
    "#     s=50, c='lightgreen',\n",
    "#     marker='s', edgecolor='black',\n",
    "#     label='cluster 1'\n",
    "# )\n",
    "\n",
    "# plt.scatter(\n",
    "#     X[y_km == 1, 0], X[y_km == 1, 1],\n",
    "#     s=50, c='orange',\n",
    "#     marker='o', edgecolor='black',\n",
    "#     label='cluster 2'\n",
    "# )\n",
    "\n",
    "# plt.scatter(\n",
    "#     X[y_km == 2, 0], X[y_km == 2, 1],\n",
    "#     s=50, c='lightblue',\n",
    "#     marker='v', edgecolor='black',\n",
    "#     label='cluster 3'\n",
    "# )\n",
    "\n",
    "# plot the centroids\n",
    "plt.scatter(\n",
    "    km.cluster_centers_[:, 0], km.cluster_centers_[:, 1],\n",
    "    s=250, marker='*',\n",
    "    c='red', edgecolor='black',\n",
    "    label='centroids'\n",
    ")\n",
    "plt.legend(scatterpoints=1)\n",
    "plt.grid()\n",
    "plt.show()"
   ]
  },
  {
   "cell_type": "code",
   "execution_count": 66,
   "metadata": {},
   "outputs": [
    {
     "data": {
      "text/plain": [
       "4.177727598171504"
      ]
     },
     "metadata": {},
     "output_type": "display_data"
    },
    {
     "data": {
      "text/plain": [
       "4.54523227383863"
      ]
     },
     "metadata": {},
     "output_type": "display_data"
    },
    {
     "data": {
      "text/plain": [
       "array([5, 1, 5, 3, 5, 1, 5, 5, 5, 5])"
      ]
     },
     "metadata": {},
     "output_type": "display_data"
    },
    {
     "data": {
      "text/plain": [
       "array(['positive', 'positive', 'positive', 'negative', 'positive',\n",
       "       'negative', 'positive', 'positive', 'positive', 'positive'],\n",
       "      dtype=object)"
      ]
     },
     "metadata": {},
     "output_type": "display_data"
    },
    {
     "data": {
      "text/plain": [
       "array(['strategy rpg × tower defence blended perfect',\n",
       "       'force closing galaxy  downloaded app still wont work otherwise finally good gacha game isnt pay win awesome tower defense style game leveling experience gain oper',\n",
       "       'great game tons characters choose allowing unique playstyles lot variety comes strategies level havent encountered bugs yet game fairly generous comes materials resources needed upgrade characters game also great deep story tons character lore delve definitely recommend want long term tower defense game play',\n",
       "       'gacha game tower defense styled battle system im big fan tower defense downloaded pic showed gameplay looked like tactics game like fire emblem heroes something guess might peoples cup tea min',\n",
       "       'first gave  star review store would stop pestering rate game ive playing almost  years honestly say engaging tower defense game solid story love gameplay lore story event wholeheartedly music solid ',\n",
       "       'game gb big made millions dollars  literally lowest effort dogshit tower defense game ever seen',\n",
       "       'definitely top tier tower defense game worth play',\n",
       "       'yr player say game stunning first feels like typical tower defense game fp friendly well game completed without high rarity units really struggling specific stage ak content creators carry game lastly music chefss kiss',\n",
       "       'amazing experience one best tower defense games opinion',\n",
       "       'nice game tower defens'], dtype=object)"
      ]
     },
     "execution_count": 66,
     "metadata": {},
     "output_type": "execute_result"
    }
   ],
   "source": [
    "#NOTE: we have to plot the number of the cluster somehow. We don't know 0,0 is cluster 0\n",
    "\n",
    "# to me it looks like there might be 5 groups not the 7. The three in the bottom left appear pretty close and what is the 0,0 position?\n",
    "# before we get too far we need to know what this 0,0 is. It's possible we need to remove that if it is dirty data.\n",
    "\n",
    "display(reviews_df['score'].mean())\n",
    "display((reviews_df[reviews_df['cluster'] == 0])['score'].mean())\n",
    "display((reviews_df[reviews_df['cluster'] == 0])['score'].values[:10])\n",
    "display((reviews_df[reviews_df['cluster'] == 0])['sentiment'].values[:10])\n",
    "(reviews_df[reviews_df['cluster'] == 0])['content'].values[:10]"
   ]
  },
  {
   "cell_type": "code",
   "execution_count": 83,
   "metadata": {},
   "outputs": [
    {
     "data": {
      "image/png": "[encoded data removed]",
      "text/plain": [
       "<Figure size 640x480 with 1 Axes>"
      ]
     },
     "metadata": {},
     "output_type": "display_data"
    }
   ],
   "source": [
    "# I can see some weird situations... someone gave a score of 1, but the sentiment was positive, and when I read it\n",
    "# it was also informative and sounded good. Maybe the cluster is properly grouping good comments?\n",
    "\n",
    "\n",
    "km = KMeans(\n",
    "    n_clusters=5, init='random',\n",
    "    n_init=10, max_iter=300, \n",
    "    tol=1e-04, random_state=0\n",
    ")\n",
    "y_km = km.fit_predict(X)\n",
    "\n",
    "# reviews_df['cluster'] = y_km\n",
    "\n",
    "\n",
    "\n",
    "plt.scatter(\n",
    "    km.cluster_centers_[:, 0], km.cluster_centers_[:, 1],\n",
    "    s=250, marker='*',\n",
    "    c='red', edgecolor='black',\n",
    "    label='centroids'\n",
    ")\n",
    "plt.legend(scatterpoints=1)\n",
    "plt.grid()\n",
    "plt.show()"
   ]
  },
  {
   "cell_type": "code",
   "execution_count": 93,
   "metadata": {},
   "outputs": [
    {
     "data": {
      "text/plain": [
       "GridSearchCV(estimator=LatentDirichletAllocation(n_jobs=-1),\n",
       "             param_grid={'learning_decay': [0.5], 'n_components': [5, 7, 10]})"
      ]
     },
     "execution_count": 93,
     "metadata": {},
     "output_type": "execute_result"
    }
   ],
   "source": [
    "# LDA\n",
    "\n",
    "from sklearn.decomposition import LatentDirichletAllocation\n",
    "from sklearn.model_selection import GridSearchCV\n",
    "\n",
    "# lda = LatentDirichletAllocation(n_topics=no_topics, max_iter=5, learning_method='online', learning_offset=50.,random_state=0).fit(tf)\n",
    "\n",
    "\n",
    "# Define Search Param\n",
    "search_params = {'n_components': [5,7,10], 'learning_decay': [.5]}\n",
    "\n",
    "# Init the Model\n",
    "lda = LatentDirichletAllocation(n_jobs=-1)\n",
    "\n",
    "# Init Grid Search Class\n",
    "model = GridSearchCV(lda, param_grid=search_params)\n",
    "\n",
    "# Do the Grid Search\n",
    "model.fit(tf)"
   ]
  },
  {
   "cell_type": "code",
   "execution_count": 94,
   "metadata": {},
   "outputs": [
    {
     "name": "stdout",
     "output_type": "stream",
     "text": [
      "Best Model's Params:  {'learning_decay': 0.5, 'n_components': 5}\n",
      "Best Log Likelihood Score:  -15917528.101022517\n",
      "Model Perplexity:  374.17046159688374\n"
     ]
    }
   ],
   "source": [
    "# Best Model\n",
    "best_lda_model = model.best_estimator_\n",
    "\n",
    "# Model Parameters\n",
    "print(\"Best Model's Params: \", model.best_params_)\n",
    "\n",
    "# Log Likelihood Score\n",
    "print(\"Best Log Likelihood Score: \", model.best_score_)\n",
    "\n",
    "# Perplexity\n",
    "print(\"Model Perplexity: \", best_lda_model.perplexity(tf))"
   ]
  },
  {
   "cell_type": "code",
   "execution_count": 111,
   "metadata": {},
   "outputs": [
    {
     "name": "stderr",
     "output_type": "stream",
     "text": [
      "/.local/lib/python3.8/site-packages/sklearn/utils/deprecation.py:87: FutureWarning: Function get_feature_names is deprecated; get_feature_names is deprecated in 1.0 and will be removed in 1.2. Please use get_feature_names_out instead.\n",
      "  warnings.warn(msg, category=FutureWarning)\n"
     ]
    }
   ],
   "source": [
    "\n",
    "# LDA can only use raw term counts for LDA because it is a probabilistic graphical model\n",
    "tf_vectorizer = CountVectorizer(max_df=0.80, min_df=10, max_features=no_features, stop_words='english')\n",
    "tf = tf_vectorizer.fit_transform(documents)\n",
    "tf_feature_names = tf_vectorizer.get_feature_names()\n",
    "\n",
    "\n",
    "def display_topics(model, feature_names, no_top_words):\n",
    "    for topic_idx, topic in enumerate(model.components_):\n",
    "        print(\"Topic %d:\" % (topic_idx))\n",
    "        print(\" \".join([feature_names[i]\n",
    "                        for i in topic.argsort()[:-no_top_words - 1:-1]]))\n",
    "\n",
    "        \n",
    "lda = LatentDirichletAllocation(n_components=5,n_jobs=-1,\n",
    "                                max_iter=5, learning_method='online', learning_offset=50.,random_state=0).fit(tf)\n",
    "     "
   ]
  },
  {
   "cell_type": "code",
   "execution_count": 112,
   "metadata": {},
   "outputs": [
    {
     "name": "stdout",
     "output_type": "stream",
     "text": [
      "Topic 0:\n",
      "game play fix app update phone download time account im data problem cat wont screen lost error start playing help\n",
      "Topic 1:\n",
      "game love best great gam played mobile amazing ive games play far final rpg fantasy playing im fan like worth\n",
      "Topic 2:\n",
      "game cards yugioh dont make like money star duel need bad think add deck want im better got spend people\n",
      "Topic 3:\n",
      "game good fun great play really like awesome gam pay free graphics cool easy time win pretty old real story\n",
      "Topic 4:\n",
      "game card fun nice characters really playing new hard enjoy story like bit pvp monsters games cats lot play monster\n"
     ]
    }
   ],
   "source": [
    "display_topics(lda, tf_feature_names, 20)"
   ]
  },
  {
   "cell_type": "code",
   "execution_count": 113,
   "metadata": {},
   "outputs": [
    {
     "data": {
      "text/plain": [
       "array(['Arknights', 'Azur Lane', 'Fate/Grand Order (English)',\n",
       "       'Disney Twisted-Wonderland', 'DRAGON BALL LEGENDS',\n",
       "       'MY HERO ULTRA IMPACT', 'ONE PIECE Bounty Rush',\n",
       "       'SLIME - ISEKAI Memories', 'DRAGON BALL Z DOKKAN BATTLE',\n",
       "       'Summoners War', 'Princess Connect! Re: Dive',\n",
       "       'Pokémon Masters EX', 'Idle Heroes', 'Guardian Tales', 'AFK Arena',\n",
       "       'Genshin Impact', 'Honkai Impact 3rd', 'ONE PIECE TREASURE CRUISE',\n",
       "       'Identity V', 'MARVEL Future Fight', 'The Seven Deadly Sins',\n",
       "       'MapleStory M - Fantasy MMORPG', 'Fire Emblem Heroes',\n",
       "       'Mario Kart Tour', 'RAID: Shadow Legends',\n",
       "       'HATSUNE MIKU: COLORFUL STAGE!', 'DISSIDIA FINAL FANTASY OO',\n",
       "       'FINAL FANTASY  BRAVE EXVIUS', 'FFBE WAR OF THE VISIONS',\n",
       "       'Epic Seven', 'Evertale', 'ANOTHER EDEN Global', 'The Battle Cats',\n",
       "       'Puzzle & Dragons', 'Yu-Gi-Oh! Duel Links',\n",
       "       'Yu-Gi-Oh! Master Duel'], dtype=object)"
      ]
     },
     "execution_count": 113,
     "metadata": {},
     "output_type": "execute_result"
    }
   ],
   "source": [
    "reviews_df['title'].unique()"
   ]
  },
  {
   "cell_type": "code",
   "execution_count": 114,
   "metadata": {},
   "outputs": [
    {
     "data": {
      "text/plain": [
       "(5, 1000)"
      ]
     },
     "execution_count": 114,
     "metadata": {},
     "output_type": "execute_result"
    }
   ],
   "source": [
    "lda.components_.shape\n"
   ]
  },
  {
   "cell_type": "code",
   "execution_count": 115,
   "metadata": {},
   "outputs": [],
   "source": [
    "W = lda.transform(tf)"
   ]
  },
  {
   "cell_type": "code",
   "execution_count": 116,
   "metadata": {},
   "outputs": [
    {
     "data": {
      "text/plain": [
       "(1503346, 5)"
      ]
     },
     "execution_count": 116,
     "metadata": {},
     "output_type": "execute_result"
    }
   ],
   "source": [
    "W.shape"
   ]
  },
  {
   "cell_type": "code",
   "execution_count": 117,
   "metadata": {},
   "outputs": [
    {
     "data": {
      "text/plain": [
       "array([0.04      , 0.04060681, 0.04      , 0.46011462, 0.41927857])"
      ]
     },
     "execution_count": 117,
     "metadata": {},
     "output_type": "execute_result"
    }
   ],
   "source": [
    "W[0]"
   ]
  },
  {
   "cell_type": "code",
   "execution_count": 118,
   "metadata": {},
   "outputs": [
    {
     "data": {
      "text/plain": [
       "array([[0.04      , 0.04060681, 0.04      , 0.46011462, 0.41927857],\n",
       "       [0.06822041, 0.06877752, 0.06690384, 0.72863786, 0.06746037],\n",
       "       [0.01602537, 0.33155003, 0.09727487, 0.01546336, 0.53968637],\n",
       "       [0.07452397, 0.00777821, 0.75568508, 0.00776125, 0.15425149],\n",
       "       [0.04      , 0.24000052, 0.04      , 0.29652746, 0.38347202]])"
      ]
     },
     "execution_count": 118,
     "metadata": {},
     "output_type": "execute_result"
    }
   ],
   "source": [
    "W[0:5]"
   ]
  },
  {
   "cell_type": "code",
   "execution_count": 126,
   "metadata": {},
   "outputs": [],
   "source": [
    "# get the highest field\n",
    "clusters= [np.argsort(x)[-1] for x in W]\n",
    "# clusters"
   ]
  },
  {
   "cell_type": "code",
   "execution_count": 127,
   "metadata": {},
   "outputs": [
    {
     "name": "stdout",
     "output_type": "stream",
     "text": [
      "1503346\n",
      "1503346\n"
     ]
    }
   ],
   "source": [
    "print(len(reviews_df))\n",
    "print(len(clusters))"
   ]
  },
  {
   "cell_type": "code",
   "execution_count": 128,
   "metadata": {},
   "outputs": [],
   "source": [
    "reviews_df['lda_clusters'] = clusters"
   ]
  },
  {
   "cell_type": "code",
   "execution_count": 129,
   "metadata": {},
   "outputs": [
    {
     "data": {
      "text/plain": [
       "5                             keep crashing logging g ultra \n",
       "11         giving one star game crashes every time try ge...\n",
       "14              trying log day play crashes every single tim\n",
       "17         reason give one star cause got new phone went ...\n",
       "19         unplayable new player download frequently cras...\n",
       "                                 ...                        \n",
       "2461291    phone never ran hot please fix optimization bo...\n",
       "2461297    first try looks great theres bug black screen ...\n",
       "2461301    ingame download keeps turning reason pls solve...\n",
       "2461304    problem linking konami id android version sets...\n",
       "2461312     hours pc satisfied game moment putting  stars...\n",
       "Name: content, Length: 317831, dtype: object"
      ]
     },
     "execution_count": 129,
     "metadata": {},
     "output_type": "execute_result"
    }
   ],
   "source": [
    "reviews_df[reviews_df['lda_clusters'] == 0]['content']"
   ]
  },
  {
   "cell_type": "code",
   "execution_count": 130,
   "metadata": {},
   "outputs": [
    {
     "data": {
      "text/plain": [
       "10         game great pw  yostar make anime game maybe great\n",
       "20         cant believe ive playing game year expect good...\n",
       "34         game long dialogues characters yes building en...\n",
       "39                                      amazing game love iy\n",
       "92                                            best getcha ev\n",
       "                                 ...                        \n",
       "2461281                                  best yugioh game ev\n",
       "2461287     interactions incorrect overall im blown away gam\n",
       "2461290    im addicted game im excited build nostalgic fa...\n",
       "2461300               game got back yugioh many years im lov\n",
       "2461307                                  best yugioh app tim\n",
       "Name: content, Length: 307642, dtype: object"
      ]
     },
     "execution_count": 130,
     "metadata": {},
     "output_type": "execute_result"
    }
   ],
   "source": [
    "reviews_df[reviews_df['lda_clusters'] == 1]['content']"
   ]
  },
  {
   "cell_type": "code",
   "execution_count": 131,
   "metadata": {},
   "outputs": [
    {
     "data": {
      "text/plain": [
       "3          fp players weebs game fits especially ones lov...\n",
       "9          quit alr rated unwelcoming new players pity le...\n",
       "29         lot players would stayed playing add basic qol...\n",
       "36         hope arknights implement auto clear stage star...\n",
       "60                                      love need say anymor\n",
       "                                 ...                        \n",
       "2461276    greatest yu gi oh game ever better duel links ...\n",
       "2461286                  il gioco di carte yugioh definitivo\n",
       "2461296    love much better duel links getting card much ...\n",
       "2461311                         rip duel links linked us gam\n",
       "2461317                                 gave ward dating tip\n",
       "Name: content, Length: 269265, dtype: object"
      ]
     },
     "execution_count": 131,
     "metadata": {},
     "output_type": "execute_result"
    }
   ],
   "source": [
    "reviews_df[reviews_df['lda_clusters'] == 2]['content']"
   ]
  },
  {
   "cell_type": "code",
   "execution_count": null,
   "metadata": {},
   "outputs": [],
   "source": [
    "emotions = pd.read_pickle('emotions_dictionary.plk')"
   ]
  },
  {
   "cell_type": "code",
   "execution_count": 135,
   "metadata": {},
   "outputs": [
    {
     "name": "stdout",
     "output_type": "stream",
     "text": [
      "<class 'dict'>\n"
     ]
    }
   ],
   "source": [
    "print(type(emotions))"
   ]
  },
  {
   "cell_type": "code",
   "execution_count": 140,
   "metadata": {},
   "outputs": [],
   "source": [
    "# Regex for identifying words that don’t have numbers.\n",
    "reg = re.compile(r'[a-zA-Z]+')\n",
    "\n",
    "\n",
    "match = re.findall(reg, \"I was born on June 24\") "
   ]
  },
  {
   "cell_type": "code",
   "execution_count": 142,
   "metadata": {},
   "outputs": [
    {
     "data": {
      "text/plain": [
       "['I', 'was', 'born', 'on', 'June']"
      ]
     },
     "execution_count": 142,
     "metadata": {},
     "output_type": "execute_result"
    }
   ],
   "source": [
    "match"
   ]
  },
  {
   "cell_type": "code",
   "execution_count": 150,
   "metadata": {},
   "outputs": [
    {
     "name": "stderr",
     "output_type": "stream",
     "text": [
      "[nltk_data] Downloading package wordnet to /tf/school/Capstone...\n",
      "[nltk_data]   Package wordnet is already up-to-date!\n"
     ]
    },
    {
     "data": {
      "text/plain": [
       "True"
      ]
     },
     "execution_count": 150,
     "metadata": {},
     "output_type": "execute_result"
    }
   ],
   "source": [
    "\n",
    "from nltk.corpus import wordnet\n",
    "import nltk\n",
    "nltk.download('wordnet', download_dir='/tf/school/Capstone')\n",
    "\n",
    "\n",
    "from nltk.stem import WordNetLemmatizer\n",
    " \n",
    "lemmatizer = WordNetLemmatizer()\n",
    " \n",
    "    \n",
    "    \n",
    "my_stopwords = nltk.corpus.stopwords.words('english')\n",
    "word_rooter = nltk.stem.snowball.PorterStemmer(ignore_stopwords=False).stem\n",
    "\n",
    "# nltk.download('averaged_perceptron_tagger', download_dir='/tf/school/Capstone')\n",
    "# emotions.values()"
   ]
  },
  {
   "cell_type": "code",
   "execution_count": 155,
   "metadata": {},
   "outputs": [
    {
     "data": {
      "text/plain": [
       "'accept'"
      ]
     },
     "execution_count": 155,
     "metadata": {},
     "output_type": "execute_result"
    }
   ],
   "source": [
    "word_rooter('acceptance')"
   ]
  },
  {
   "cell_type": "code",
   "execution_count": 156,
   "metadata": {},
   "outputs": [],
   "source": [
    "rootedEmotions = {}\n",
    "\n",
    "for word in emotions.keys():\n",
    "    if(word_rooter(word) in rootedEmotions):\n",
    "        # we need to append\n",
    "        rootedEmotions[word_rooter(word)].extend([word_rooter(x) for x in emotions[word] ])\n",
    "    else:\n",
    "        rootedEmotions[word_rooter(word)] = [word_rooter(x) for x in emotions[word] ]"
   ]
  },
  {
   "cell_type": "code",
   "execution_count": 157,
   "metadata": {},
   "outputs": [
    {
     "data": {
      "text/plain": [
       "{'accept': ['accept'],\n",
       " 'admir': ['admir', 'appreci'],\n",
       " 'ador': ['ador', 'latria'],\n",
       " 'affect': ['affect',\n",
       "  'affection',\n",
       "  'fond',\n",
       "  'tender',\n",
       "  'heart',\n",
       "  'warm',\n",
       "  'warmhearted',\n",
       "  'philia'],\n",
       " 'afraid': ['afraid'],\n",
       " 'agit': ['agit'],\n",
       " 'agoni': ['agoni', 'suffer', 'excruci'],\n",
       " 'aggress': ['aggress', 'belliger'],\n",
       " 'alarm': ['alarm', 'alert', 'alarm'],\n",
       " 'alien': ['alien'],\n",
       " 'amaz': ['astonish', 'amaz'],\n",
       " 'ambival': ['ambival', 'ambival'],\n",
       " 'amus': ['entertain', 'amus'],\n",
       " 'anger': ['anger', 'see_r'],\n",
       " 'anguish': ['pain', 'anguish', 'hurt'],\n",
       " 'annoy': ['annoy', 'harass', 'harri', 'pester', 'vex'],\n",
       " 'anticip': ['anticip'],\n",
       " 'anxiou': ['anxiou', 'nervou', 'queasi', 'uneasi', 'unquiet'],\n",
       " 'apathi': ['apathi', 'indiffer', 'numb', 'spiritless'],\n",
       " 'apprehens': ['apprehens',\n",
       "  'arrest',\n",
       "  'catch',\n",
       "  'collar',\n",
       "  'pinch',\n",
       "  'taking_into_custodi'],\n",
       " 'arrog': ['arrog', 'chesti', 'self-import'],\n",
       " 'assert': ['assert', 'self-assert', 'self-assert'],\n",
       " 'astonish': ['amaz', 'astoni', 'astonish', 'astound', 'stun'],\n",
       " 'attent': ['attent'],\n",
       " 'attract': ['drawing_card', 'draw', 'attract', 'attractor', 'attract'],\n",
       " 'avers': ['avers', 'avert'],\n",
       " 'awe': ['awe'],\n",
       " 'baffl': ['baffl',\n",
       "  'befuddl',\n",
       "  'bemus',\n",
       "  'bewild',\n",
       "  'confound',\n",
       "  'confus',\n",
       "  'lost',\n",
       "  'maze',\n",
       "  'mixed-up',\n",
       "  'at_sea'],\n",
       " 'bewild': ['baffl',\n",
       "  'befuddl',\n",
       "  'bemus',\n",
       "  'bewild',\n",
       "  'confound',\n",
       "  'confus',\n",
       "  'lost',\n",
       "  'maze',\n",
       "  'mixed-up',\n",
       "  'at_sea'],\n",
       " 'bitter': ['piercingli', 'bitterli', 'bitingli', 'bitter'],\n",
       " 'bitter sweet': ['piercingli', 'bitterli', 'bitingli', 'bitter'],\n",
       " 'bliss': ['bliss', 'bliss', 'cloud_nin', 'seventh_heaven', 'walking_on_air'],\n",
       " 'bore': ['blase', 'bore'],\n",
       " 'brazen': ['brazen'],\n",
       " 'brood': ['brood',\n",
       "  'broodi',\n",
       "  'contempl',\n",
       "  'medit',\n",
       "  'muse',\n",
       "  'pensiv',\n",
       "  'ponder',\n",
       "  'reflect',\n",
       "  'rumin'],\n",
       " 'calm': ['calm'],\n",
       " 'carefre': ['carefre',\n",
       "  'devil-may-car',\n",
       "  'freewheel',\n",
       "  'happy-go-lucki',\n",
       "  'harum-scarum',\n",
       "  'slaphappi'],\n",
       " 'careless': ['careless', 'regardless'],\n",
       " 'care': ['care'],\n",
       " 'chariti': ['chariti'],\n",
       " 'cheeki': ['brash', 'cheeki', 'nervi'],\n",
       " 'cheer': ['cheer', 'blith'],\n",
       " 'claustrophob': ['claustrophob'],\n",
       " 'coerciv': ['coerciv'],\n",
       " 'comfort': ['comfort',\n",
       "  'easi',\n",
       "  'prosper',\n",
       "  'well-fix',\n",
       "  'well-heel',\n",
       "  'well-off',\n",
       "  'well-situ',\n",
       "  'well-to-do'],\n",
       " 'confid': ['confid', 'surefoot', 'sure-foot'],\n",
       " 'confus': ['confus', 'mix-up'],\n",
       " 'contempt': ['contempt'],\n",
       " 'content': ['content', 'content'],\n",
       " 'courag': ['courag', 'courag', 'braveri', 'brave'],\n",
       " 'cowardli': ['cowardli', 'fear'],\n",
       " 'cruelti': ['cruelti', 'cruel', 'harsh'],\n",
       " 'curios': ['curio', 'curios', 'odditi', 'oddment', 'peculiar', 'rariti'],\n",
       " 'cynic': ['cynic'],\n",
       " 'daze': ['daze', 'foggi', 'groggi', 'logi', 'stupor'],\n",
       " 'deject': ['fecal_matt',\n",
       "  'faecal_matt',\n",
       "  'fece',\n",
       "  'faec',\n",
       "  'bm',\n",
       "  'stool',\n",
       "  'ordur',\n",
       "  'deject'],\n",
       " 'delight': ['beguil', 'captiv', 'charm', 'delight', 'enthral', 'entranc'],\n",
       " 'demor': ['demor', 'demoralis', 'discourag', 'dishearten'],\n",
       " 'depress': ['gloomi',\n",
       "  'grim',\n",
       "  'blue',\n",
       "  'depress',\n",
       "  'dispirit',\n",
       "  'down',\n",
       "  'downcast',\n",
       "  'downheart',\n",
       "  'down_in_the_mouth',\n",
       "  'low',\n",
       "  'low-spirit'],\n",
       " 'desir': ['desir'],\n",
       " 'despair': ['despair'],\n",
       " 'determin': ['compuls', 'determin', 'driven'],\n",
       " 'disappoint': ['disappoint', 'dashing_hop'],\n",
       " 'disbelief': ['unbelief', 'disbelief'],\n",
       " 'discombobul': ['discombobul', 'disconcert'],\n",
       " 'discomfort': ['discomfort', 'sore', 'irrit'],\n",
       " 'discontent': ['discontent', 'discont', 'discontented'],\n",
       " 'disgruntl': ['disgruntl', 'dissatisfi'],\n",
       " 'disgust': ['disgust', 'revolt', 'nauseat', 'sicken', 'churn_up'],\n",
       " 'dishearten': ['demor', 'demoralis', 'discourag', 'dishearten'],\n",
       " 'dislik': ['dislik'],\n",
       " 'dismay': ['dismay', 'alarm', 'appal', 'appal', 'horrifi'],\n",
       " 'disori': ['alien', 'anom', 'disori'],\n",
       " 'dispirit': ['gloomi',\n",
       "  'grim',\n",
       "  'blue',\n",
       "  'depress',\n",
       "  'dispirit',\n",
       "  'down',\n",
       "  'downcast',\n",
       "  'downheart',\n",
       "  'down_in_the_mouth',\n",
       "  'low',\n",
       "  'low-spirit'],\n",
       " 'displeasur': ['displeasur'],\n",
       " 'distract': ['distract', 'misdirect'],\n",
       " 'distress': ['distress'],\n",
       " 'disturb': ['brainsick',\n",
       "  'crazi',\n",
       "  'dement',\n",
       "  'disturb',\n",
       "  'mad',\n",
       "  'sick',\n",
       "  'unbalanc',\n",
       "  'unhing'],\n",
       " 'domin': ['prevail', 'preval', 'predomin', 'domin', 'rife'],\n",
       " 'doubt': ['doubt'],\n",
       " 'dread': ['aw',\n",
       "  'dire',\n",
       "  'dire',\n",
       "  'dread',\n",
       "  'dread',\n",
       "  'dread',\n",
       "  'fear',\n",
       "  'fearsom',\n",
       "  'frighten',\n",
       "  'horrend',\n",
       "  'horrif',\n",
       "  'terribl'],\n",
       " 'driven': ['compuls', 'determin', 'driven'],\n",
       " 'dumbstruck': ['dumbfound',\n",
       "  'dumfound',\n",
       "  'flabbergast',\n",
       "  'stupefi',\n",
       "  'thunderstruck',\n",
       "  'dumbstruck',\n",
       "  'dumbstricken'],\n",
       " 'eager': ['readi', 'eager', 'zeal', 'forward'],\n",
       " 'ecstasi': ['adam',\n",
       "  'ecstasi',\n",
       "  'xtc',\n",
       "  'go',\n",
       "  'disco_biscuit',\n",
       "  'cristal',\n",
       "  'x',\n",
       "  'hug_drug'],\n",
       " 'elat': ['elat', 'high_spirit', 'light'],\n",
       " 'embarrass': ['overplu', 'plethora', 'superflu', 'embarrass'],\n",
       " 'empathi': ['empathi'],\n",
       " 'enchant': ['enchant'],\n",
       " 'enjoy': ['use', 'enjoy'],\n",
       " 'enlighten': ['educ', 'enlighten'],\n",
       " 'ennui': ['boredom', 'ennui', 'tedium'],\n",
       " 'enthusiasm': ['enthusiasm'],\n",
       " 'envi': ['envi', 'begrudg'],\n",
       " 'epiphani': ['epiphani',\n",
       "  'epiphany_of_our_lord',\n",
       "  'twelfth_day',\n",
       "  \"three_kings'_day\",\n",
       "  'january_6'],\n",
       " 'euphoria': ['euphoria', 'euphori'],\n",
       " 'exasper': ['exasper', 'cheesed_off', 'browned_off'],\n",
       " 'excit': ['agit', 'excit', 'turmoil', 'upheav', 'hullabaloo'],\n",
       " 'expect': ['anticip', 'expect'],\n",
       " 'fascin': ['fascin'],\n",
       " 'fear': ['rever', 'fear', 'rever', 'vener'],\n",
       " 'flakey': ['bizarr',\n",
       "  'eccentr',\n",
       "  'freakish',\n",
       "  'freaki',\n",
       "  'flaki',\n",
       "  'flakey',\n",
       "  'gonzo',\n",
       "  'off-the-wal',\n",
       "  'outlandish',\n",
       "  'outr'],\n",
       " 'focus': ['focus'],\n",
       " 'fond': ['affection', 'fond', 'loving', 'warmth'],\n",
       " 'friendli': ['friendli'],\n",
       " 'fright': ['frighten', 'fright', 'scare', 'affright'],\n",
       " 'frustrat': ['defeat',\n",
       "  'disappoint',\n",
       "  'discomfit',\n",
       "  'foil',\n",
       "  'frustrat',\n",
       "  'thwart'],\n",
       " 'furi': ['furi', 'eumenid', 'eriny'],\n",
       " 'glee': ['gloat', 'gloat', 'glee'],\n",
       " 'gloomi': ['blue',\n",
       "  'dark',\n",
       "  'dingi',\n",
       "  'disconsol',\n",
       "  'dismal',\n",
       "  'gloomi',\n",
       "  'grim',\n",
       "  'sorri',\n",
       "  'drab',\n",
       "  'drear',\n",
       "  'dreari'],\n",
       " 'glum': ['moros', 'glum', 'sullen'],\n",
       " 'gratitud': ['gratitud'],\n",
       " 'greed': ['avaric', 'greed', 'covet', 'rapac', 'avaritia'],\n",
       " 'grief': ['grief', 'sorrow'],\n",
       " 'grouchi': ['grief', 'sorrow'],\n",
       " 'grumpi': ['cranki', 'crotcheti', 'contrari', 'grumpi'],\n",
       " 'guilt': ['guilt', 'guilty_consci', 'guilt_feel', 'guilt_trip'],\n",
       " 'happi': ['happi'],\n",
       " 'hate': ['hate', 'detest'],\n",
       " 'hatr': ['hate', 'hatr'],\n",
       " 'helpless': ['helpless'],\n",
       " 'homesick': ['homesick'],\n",
       " 'hope': ['hope', 'go_for'],\n",
       " 'hopeless': ['hopeless'],\n",
       " 'horrifi': ['horrifi', 'horror-stricken', 'horror-struck'],\n",
       " 'hospit': ['hospit'],\n",
       " 'humili': ['humili', 'abas'],\n",
       " 'humil': ['humil', 'humbl'],\n",
       " 'hurt': ['hurt', 'weaken'],\n",
       " 'hysteria': ['hysteria', 'hysterical_neurosi'],\n",
       " 'idl': ['faineanc', 'idl'],\n",
       " 'impati': ['impati', 'rare'],\n",
       " 'indiffer': ['nonchal', 'unconcern', 'indiffer'],\n",
       " 'indign': ['indign', 'incens', 'outrag', 'umbrag'],\n",
       " 'infatu': ['infatu'],\n",
       " 'infuri': ['anger', 'enrag', 'furiou', 'infuri', 'madden'],\n",
       " 'insecur': ['insecur'],\n",
       " 'insight': ['insight'],\n",
       " 'insult': ['diss', 'insult', 'affront'],\n",
       " 'interest': ['matter_to', 'interest'],\n",
       " 'intrigu': ['scheme', 'intrigu', 'conniv'],\n",
       " 'irrit': ['annoy',\n",
       "  'irrit',\n",
       "  'mif',\n",
       "  'nettl',\n",
       "  'peev',\n",
       "  'piss',\n",
       "  'pissed_off',\n",
       "  'rile',\n",
       "  'roil',\n",
       "  'steam',\n",
       "  'stung'],\n",
       " 'isol': ['apart', 'isol', 'obscur'],\n",
       " 'jealousi': ['jealousi'],\n",
       " 'jovial': ['convivi', 'jovial'],\n",
       " 'joy': ['gladden', 'joy'],\n",
       " 'jubil': ['exult', 'rejoic', 'jubil'],\n",
       " 'kind': ['kind', 'toler'],\n",
       " 'lazi': ['faineant', 'indol', 'lazi', 'otios', 'sloth', 'work-shi'],\n",
       " 'like': ['like'],\n",
       " 'loath': ['abhor', 'loath', 'abomin', 'execr'],\n",
       " 'lone': ['lone', 'solitari', 'unfrequ'],\n",
       " 'long': ['hanker', 'long', 'yearn'],\n",
       " 'loopi': ['balmi',\n",
       "  'barmi',\n",
       "  'bat',\n",
       "  'batti',\n",
       "  'bonker',\n",
       "  'buggi',\n",
       "  'crack',\n",
       "  'cracker',\n",
       "  'daft',\n",
       "  'dotti',\n",
       "  'fruiti',\n",
       "  'haywir',\n",
       "  'kooki',\n",
       "  'kooki',\n",
       "  'loco',\n",
       "  'looni',\n",
       "  'loopi',\n",
       "  'nut',\n",
       "  'nutti',\n",
       "  'round_the_bend',\n",
       "  'around_the_bend',\n",
       "  'wacki',\n",
       "  'whacki'],\n",
       " 'love': ['sleep_togeth',\n",
       "  'roll_in_the_hay',\n",
       "  'love',\n",
       "  'make_out',\n",
       "  'make_lov',\n",
       "  'sleep_with',\n",
       "  'get_laid',\n",
       "  'have_sex',\n",
       "  'know',\n",
       "  'do_it',\n",
       "  'be_intim',\n",
       "  'have_intercours',\n",
       "  'have_it_away',\n",
       "  'have_it_off',\n",
       "  'screw',\n",
       "  'fuck',\n",
       "  'jazz',\n",
       "  'eff',\n",
       "  'hump',\n",
       "  'lie_with',\n",
       "  'bed',\n",
       "  'have_a_go_at_it',\n",
       "  'bang',\n",
       "  'get_it_on',\n",
       "  'bonk'],\n",
       " 'lust': ['crave', 'hunger', 'thirst', 'starv', 'lust'],\n",
       " 'mad': ['harebrain', 'insan', 'mad'],\n",
       " 'melancholi': ['somber', 'sombr', 'melancholi'],\n",
       " 'miser': ['measli', 'miser', 'paltri'],\n",
       " 'miserli': ['miserli'],\n",
       " 'mixed up': ['miserli'],\n",
       " 'modesti': ['modesti', 'reserv'],\n",
       " 'moodi': ['moodi', 'temperament'],\n",
       " 'mortifi': ['embarrass', 'humili', 'mortifi'],\n",
       " 'mystifi': ['metagrobol',\n",
       "  'metagrobolis',\n",
       "  'metagrabol',\n",
       "  'metagrabolis',\n",
       "  'mystifi'],\n",
       " 'nasti': ['filthi', 'foul', 'nasti'],\n",
       " 'nauseat': ['nauseat', 'nauseou', 'queasi', 'sick', 'sickish'],\n",
       " 'neg': ['minu', 'neg'],\n",
       " 'neglect': ['neglect', 'ignor', 'disregard'],\n",
       " 'nervou': ['skittish', 'flighti', 'spooki', 'nervou'],\n",
       " 'nostalg': ['nostalg'],\n",
       " 'numb': ['numb'],\n",
       " 'obstin': ['contrari', 'obstin', 'pervers', 'wayward'],\n",
       " 'offend': ['offend', 'pain'],\n",
       " 'optimist': ['affirm', 'optimist'],\n",
       " 'outrag': ['rape',\n",
       "  'ravish',\n",
       "  'violat',\n",
       "  'assault',\n",
       "  'dishonor',\n",
       "  'dishonour',\n",
       "  'outrag'],\n",
       " 'overwhelm': ['overpow', 'overmast', 'overwhelm'],\n",
       " 'panick': ['panicki',\n",
       "  'panick',\n",
       "  'panic-stricken',\n",
       "  'panic-struck',\n",
       "  'terrifi',\n",
       "  'frighten'],\n",
       " 'paranoid': ['paranoid'],\n",
       " 'passion': ['passion', 'passion_of_christ'],\n",
       " 'patienc': ['solitair', 'patienc'],\n",
       " 'pensiv': ['pensiv', 'medit', 'contempl'],\n",
       " 'perplex': ['perplex'],\n",
       " 'persev': ['dilig', 'persev'],\n",
       " 'pessim': ['pessim'],\n",
       " 'piti': ['feel_for', 'piti', 'compassion', 'condole_with', 'sympathize_with'],\n",
       " 'pleas': ['pleas', 'proud_of'],\n",
       " 'pleasur': ['pleasur'],\n",
       " 'polit': ['polit', 'civil'],\n",
       " 'posit': ['cocksur', 'overconfid', 'posit'],\n",
       " 'possess': ['possess'],\n",
       " 'powerless': ['powerless'],\n",
       " 'pride': ['pride', 'plume', 'congratul'],\n",
       " 'puzzl': ['at_a_loss', 'nonplus', 'nonpluss', 'puzzl'],\n",
       " 'rage': ['rage'],\n",
       " 'rash': ['foolhardi', 'headi', 'rash', 'reckless'],\n",
       " 'rattl': ['fluster', 'hot_and_both', 'perturb', 'rattl'],\n",
       " 'regret': ['regret'],\n",
       " 'reject': ['jilt', 'reject', 'spurn'],\n",
       " 'relax': ['relax'],\n",
       " 'reliev': ['jut',\n",
       "  'project',\n",
       "  'project',\n",
       "  'protrud',\n",
       "  'reliev',\n",
       "  'stick',\n",
       "  'sticking_out'],\n",
       " 'reluct': ['reluct'],\n",
       " 'remors': ['compunct', 'remors', 'self-reproach'],\n",
       " 'resent': ['resent', 'bitter', 'gall', 'rancor', 'rancour'],\n",
       " 'resign': ['resign'],\n",
       " 'restless': ['restless', 'uneasi', 'queasi'],\n",
       " 'revuls': ['repugn', 'repuls', 'revuls', 'horror'],\n",
       " 'ruthless': ['pitiless', 'remorseless', 'ruthless', 'unpiti'],\n",
       " 'sad': ['gloomi', 'lugubri', 'sad'],\n",
       " 'satisfact': ['satisfact'],\n",
       " 'scare': ['frighten', 'scare'],\n",
       " 'schadenfreud': ['schadenfreud'],\n",
       " 'scorn': ['reject',\n",
       "  'spurn',\n",
       "  'freeze_off',\n",
       "  'scorn',\n",
       "  'pooh-pooh',\n",
       "  'disdain',\n",
       "  'turn_down'],\n",
       " 'self-car': ['reject',\n",
       "  'spurn',\n",
       "  'freeze_off',\n",
       "  'scorn',\n",
       "  'pooh-pooh',\n",
       "  'disdain',\n",
       "  'turn_down'],\n",
       " 'self-compassion': ['reject',\n",
       "  'spurn',\n",
       "  'freeze_off',\n",
       "  'scorn',\n",
       "  'pooh-pooh',\n",
       "  'disdain',\n",
       "  'turn_down'],\n",
       " 'self-confid': ['self-assur', 'self-confid'],\n",
       " 'self-consci': ['self-consci'],\n",
       " 'self-crit': ['self-consci'],\n",
       " 'self-loath': ['self-consci'],\n",
       " 'self-motiv': ['self-consci'],\n",
       " 'self-piti': ['self-piti'],\n",
       " 'self-respect': ['dignifi', 'self-respect', 'self-respect'],\n",
       " 'self-understand': ['dignifi', 'self-respect', 'self-respect'],\n",
       " 'sentiment': ['sentiment'],\n",
       " 'seren': ['peac',\n",
       "  'peac',\n",
       "  'peace_of_mind',\n",
       "  'repos',\n",
       "  'seren',\n",
       "  'heartseas',\n",
       "  'ataraxi'],\n",
       " 'shame': ['shame'],\n",
       " 'shameless': ['shameless', 'unblush'],\n",
       " 'shock': ['aghast', 'appal', 'dismay', 'shock'],\n",
       " 'smug': ['smug', 'self-satisfi'],\n",
       " 'sorrow': ['griev', 'sorrow'],\n",
       " 'spite': ['hurt', 'wound', 'injur', 'bruis', 'offend', 'spite'],\n",
       " 'stress': ['stress', 'accent'],\n",
       " 'strong': ['firm', 'strong'],\n",
       " 'stubborn': ['refractori', 'stubborn'],\n",
       " 'stuck': ['stuck'],\n",
       " 'submiss': ['slavish', 'subservi', 'submiss'],\n",
       " 'suffer': ['miser', 'suffer', 'wretch'],\n",
       " 'sullen': ['sulki', 'sullen', 'moros', 'sour'],\n",
       " 'surpris': ['storm', 'surpris'],\n",
       " 'suspens': ['suspens'],\n",
       " 'suspici': ['fishi', 'funni', 'shadi', 'suspect', 'suspici'],\n",
       " 'sympathi': ['sympathi'],\n",
       " 'tender': ['softhearted', 'tender'],\n",
       " 'tension': ['tension'],\n",
       " 'terror': ['terror'],\n",
       " 'thank': ['grate', 'thank', 'appreci'],\n",
       " 'thrill': ['thrill'],\n",
       " 'tire': ['banal',\n",
       "  'commonplac',\n",
       "  'hackney',\n",
       "  'old-hat',\n",
       "  'shopworn',\n",
       "  'stock',\n",
       "  'threadbar',\n",
       "  'timeworn',\n",
       "  'tire',\n",
       "  'trite',\n",
       "  'well-worn'],\n",
       " 'toler': ['allow', 'leeway', 'margin', 'toler'],\n",
       " 'torment': ['tortur', 'excruci', 'torment'],\n",
       " 'triumphant': ['triumphant', 'victori'],\n",
       " 'troubl': ['disrupt', 'riotou', 'troubl', 'tumultu', 'turbul'],\n",
       " 'trust': ['trust'],\n",
       " 'uncertainti': ['doubt',\n",
       "  'uncertainti',\n",
       "  'incertitud',\n",
       "  'dubieti',\n",
       "  'doubt',\n",
       "  'dubious'],\n",
       " 'undermin': ['cave', 'undermin'],\n",
       " 'uneasi': ['restless', 'uneasi', 'queasi'],\n",
       " 'unhappi': ['infelicit', 'unhappi'],\n",
       " 'unnerv': ['unnerv'],\n",
       " 'unsettl': ['unsettl'],\n",
       " 'unsur': ['uncertain', 'unsur', 'incertain'],\n",
       " 'upset': ['overturn', 'upset', 'upturn'],\n",
       " 'veng': ['reveng', 'vindict', 'veng'],\n",
       " 'viciou': ['poison', 'venom', 'viciou'],\n",
       " 'vigil': ['watch', 'vigil', 'weather_ey'],\n",
       " 'vulner': ['vulner'],\n",
       " 'weak': ['weak'],\n",
       " 'woe': ['woe', 'woeful'],\n",
       " 'worri': ['apprehens', 'worri'],\n",
       " 'worthi': ['worthi'],\n",
       " 'wrath': ['wrath', 'anger', 'ire', 'ira']}"
      ]
     },
     "execution_count": 157,
     "metadata": {},
     "output_type": "execute_result"
    }
   ],
   "source": [
    "rootedEmotions"
   ]
  },
  {
   "cell_type": "code",
   "execution_count": 158,
   "metadata": {},
   "outputs": [
    {
     "data": {
      "text/plain": [
       "0                fun strategic nice art importantly fun\n",
       "1                                hardest game ever play\n",
       "2     rewarding rewards gacha immersive content char...\n",
       "3     fp players weebs game fits especially ones lov...\n",
       "4          strategy rpg × tower defence blended perfect\n",
       "5                        keep crashing logging g ultra \n",
       "7     hate concept gacha games leave part aside lot ...\n",
       "9     quit alr rated unwelcoming new players pity le...\n",
       "10    game great pw  yostar make anime game maybe great\n",
       "Name: content, dtype: object"
      ]
     },
     "execution_count": 158,
     "metadata": {},
     "output_type": "execute_result"
    }
   ],
   "source": [
    "documents = reviews_df['content'].values()"
   ]
  },
  {
   "cell_type": "code",
   "execution_count": 219,
   "metadata": {},
   "outputs": [],
   "source": [
    "def getEmotion(word):\n",
    "    def findWordInList(word):\n",
    "        for elem in rootedEmotions.values():\n",
    "            if word in elem:\n",
    "                return True\n",
    "        return False\n",
    "    \n",
    "    word = word_rooter(word)\n",
    "#     print(word)\n",
    "    if findWordInList(word):\n",
    "        # get the main word\n",
    "        for key in rootedEmotions.keys():\n",
    "            if word in rootedEmotions[key]:\n",
    "                # if we find the rooted word in a list then get the main word and\n",
    "                # return it.\n",
    "                return key\n",
    "    return None\n",
    "\n",
    "def tokenize_stem_emotion_vect(text):\n",
    "    if text is None or text == '':\n",
    "        return []\n",
    "#     print(text)\n",
    "    match = re.findall(reg, text)\n",
    "#     print(match)\n",
    "    \n",
    "    words = [getEmotion(x.lower()) for x in match]\n",
    "    return [x for x in words if x]"
   ]
  },
  {
   "cell_type": "code",
   "execution_count": 220,
   "metadata": {},
   "outputs": [
    {
     "name": "stdout",
     "output_type": "stream",
     "text": [
      "False\n"
     ]
    },
    {
     "data": {
      "text/plain": [
       "['ador']"
      ]
     },
     "execution_count": 220,
     "metadata": {},
     "output_type": "execute_result"
    }
   ],
   "source": [
    "print('ador' in rootedEmotions.values())\n",
    "tokenize_stem_emotion_vect('I adore it')"
   ]
  },
  {
   "cell_type": "code",
   "execution_count": 221,
   "metadata": {},
   "outputs": [
    {
     "data": {
      "text/plain": [
       "True"
      ]
     },
     "execution_count": 221,
     "metadata": {},
     "output_type": "execute_result"
    }
   ],
   "source": [
    "'ador' in ['ador']"
   ]
  },
  {
   "cell_type": "code",
   "execution_count": 222,
   "metadata": {},
   "outputs": [
    {
     "name": "stdout",
     "output_type": "stream",
     "text": [
      "1503346\n"
     ]
    },
    {
     "data": {
      "text/plain": [
       "'expect love amaz impati'"
      ]
     },
     "execution_count": 222,
     "metadata": {},
     "output_type": "execute_result"
    }
   ],
   "source": [
    "# rootedEmotions.keys()\n",
    "# list(rootedEmotions.values())\n",
    "# rootedEmotions.values()\n",
    "# fun, rewarding, cute, worth, unfair, patient, perfect, uplifting, great,crash,tri,good, lack, smooth\n",
    "print(len(documents))\n",
    "' '.join(tokenize_stem_emotion_vect(documents[20]))"
   ]
  },
  {
   "cell_type": "code",
   "execution_count": 223,
   "metadata": {},
   "outputs": [],
   "source": [
    "reviews_df['emotions']= reviews_df['content'].apply(lambda x: tokenize_stem_emotion_vect(x))"
   ]
  },
  {
   "cell_type": "code",
   "execution_count": 224,
   "metadata": {},
   "outputs": [
    {
     "data": {
      "text/plain": [
       "0                                 []\n",
       "1                                 []\n",
       "2                          [content]\n",
       "3                             [love]\n",
       "4                                 []\n",
       "                     ...            \n",
       "2461312    [irrit, hope, disappoint]\n",
       "2461313                       [like]\n",
       "2461315                 [hope, like]\n",
       "2461316                           []\n",
       "2461317                           []\n",
       "Name: emotions, Length: 1503346, dtype: object"
      ]
     },
     "execution_count": 224,
     "metadata": {},
     "output_type": "execute_result"
    }
   ],
   "source": [
    "reviews_df['emotions']"
   ]
  },
  {
   "cell_type": "code",
   "execution_count": null,
   "metadata": {},
   "outputs": [],
   "source": [
    "tf_emotions_vectorizer = CountVectorizer(max_df=0.80, min_df=10, max_features=100, stop_words='english')\n",
    "\n",
    "\n",
    "\n",
    "# docs = ' '.join()\n",
    "\n",
    "tf_emotions = tf_emotions_vectorizer.fit_transform(reviews_df['emotions'].apply(lambda x: ' '.join(x) ).values)\n",
    "tf_emotions_feature_names = tf_emotions_vectorizer.get_feature_names()"
   ]
  },
  {
   "cell_type": "code",
   "execution_count": 229,
   "metadata": {},
   "outputs": [
    {
     "data": {
      "image/png": "[encoded data removed]",
      "text/plain": [
       "<Figure size 640x480 with 1 Axes>"
      ]
     },
     "metadata": {},
     "output_type": "display_data"
    }
   ],
   "source": [
    "distortions =[]\n",
    "for i in range(1, 25):\n",
    "    km = KMeans(\n",
    "        n_clusters=i, init='random',\n",
    "        n_init=10, max_iter=300,\n",
    "        tol=1e-04, random_state=0\n",
    "    )\n",
    "    km.fit(tf_emotions)\n",
    "    distortions.append(km.inertia_)\n",
    "\n",
    "# plot\n",
    "plt.plot(range(1, 25), distortions, marker='o')\n",
    "plt.xlabel('Number of clusters')\n",
    "plt.ylabel('Distortion')\n",
    "plt.show()"
   ]
  },
  {
   "cell_type": "code",
   "execution_count": 230,
   "metadata": {},
   "outputs": [
    {
     "data": {
      "image/png": "[encoded data removed]",
      "text/plain": [
       "<Figure size 640x480 with 1 Axes>"
      ]
     },
     "metadata": {},
     "output_type": "display_data"
    }
   ],
   "source": [
    "distortions =[]\n",
    "for i in range(1, 5):\n",
    "    km = KMeans(\n",
    "        n_clusters=i, init='random',\n",
    "        n_init=10, max_iter=300,\n",
    "        tol=1e-04, random_state=0\n",
    "    )\n",
    "    km.fit(tf_emotions)\n",
    "    distortions.append(km.inertia_)\n",
    "\n",
    "# plot\n",
    "plt.plot(range(1, 5), distortions, marker='o')\n",
    "plt.xlabel('Number of clusters')\n",
    "plt.ylabel('Distortion')\n",
    "plt.show()"
   ]
  },
  {
   "cell_type": "code",
   "execution_count": 233,
   "metadata": {},
   "outputs": [],
   "source": [
    "\n",
    "def display_topics(model, feature_names, no_top_words):\n",
    "    for topic_idx, topic in enumerate(model.components_):\n",
    "        print(\"Topic %d:\" % (topic_idx))\n",
    "        print(\" \".join([feature_names[i]\n",
    "                        for i in topic.argsort()[:-no_top_words - 1:-1]]))\n",
    "\n",
    "        \n",
    "lda = LatentDirichletAllocation(n_components=3,n_jobs=-1,\n",
    "                                max_iter=5, learning_method='online', learning_offset=50.,random_state=0).fit(tf_emotions)\n",
    "     "
   ]
  },
  {
   "cell_type": "code",
   "execution_count": 235,
   "metadata": {},
   "outputs": [
    {
     "name": "stdout",
     "output_type": "stream",
     "text": [
      "Topic 0:\n",
      "like thank hope bore vigil dread kind disappoint gloomi frustrat courag nostalg suspici puzzl sad admir apprehens shame neg irrit\n",
      "Topic 1:\n",
      "comfort long baffl content depress impati expect hate disturb care toler friendli eager amus strong mad overwhelm surpris attent reliev\n",
      "Topic 2:\n",
      "love enjoy amaz pleas ecstasi annoy attract stuck happi excit affect loopi anguish tire troubl delight trust upset discomfort relax\n"
     ]
    }
   ],
   "source": [
    "display_topics(lda, tf_emotions_feature_names, 20)"
   ]
  },
  {
   "cell_type": "code",
   "execution_count": 238,
   "metadata": {},
   "outputs": [
    {
     "name": "stdout",
     "output_type": "stream",
     "text": [
      "100\n",
      "['accept', 'admir', 'ador', 'affect', 'agoni', 'amaz', 'amus', 'anguish', 'annoy', 'apprehens', 'astonish', 'attent', 'attract', 'baffl', 'bore', 'care', 'careless', 'comfort', 'content', 'courag', 'cruelti', 'curios', 'delight', 'demor', 'depress', 'desir', 'determin', 'disappoint', 'discomfort', 'disgust', 'dislik', 'disturb', 'domin', 'doubt', 'dread', 'eager', 'ecstasi', 'elat', 'enjoy', 'excit', 'expect', 'focus', 'friendli', 'frustrat', 'gloomi', 'greed', 'happi', 'hate', 'hope', 'idl', 'impati', 'indign', 'infuri', 'insult', 'intrigu', 'irrit', 'isol', 'joy', 'kind', 'lazi', 'like', 'long', 'loopi', 'love', 'mad', 'neg', 'neglect', 'nostalg', 'outrag', 'overwhelm', 'patienc', 'piti', 'pleas', 'posit', 'puzzl', 'rage', 'regret', 'relax', 'reliev', 'revuls', 'sad', 'seren', 'shame', 'shock', 'stress', 'strong', 'stuck', 'surpris', 'suspici', 'thank', 'thrill', 'tire', 'toler', 'troubl', 'trust', 'upset', 'vigil', 'weak', 'worri', 'worthi']\n"
     ]
    }
   ],
   "source": [
    "print(len(tf_emotions_feature_names))\n",
    "print(tf_emotions_feature_names)"
   ]
  },
  {
   "cell_type": "code",
   "execution_count": 239,
   "metadata": {},
   "outputs": [],
   "source": [
    "emotionNames = [x for x in rootedEmotions.keys()]"
   ]
  },
  {
   "cell_type": "code",
   "execution_count": 244,
   "metadata": {},
   "outputs": [
    {
     "name": "stdout",
     "output_type": "stream",
     "text": [
      "270\n"
     ]
    }
   ],
   "source": [
    "print(len(emotionNames))\n",
    "# emotionNames"
   ]
  },
  {
   "cell_type": "code",
   "execution_count": 242,
   "metadata": {},
   "outputs": [
    {
     "data": {
      "text/plain": [
       "['love']"
      ]
     },
     "execution_count": 242,
     "metadata": {},
     "output_type": "execute_result"
    }
   ],
   "source": [
    "reviews_df['emotions'].values[3] #in emotionNames"
   ]
  },
  {
   "cell_type": "code",
   "execution_count": null,
   "metadata": {},
   "outputs": [],
   "source": [
    "# create a dictionary for each emotion and store an array of the counts for each pandas row...\n",
    "pandas_emotions_dict = {}\n",
    "for emotion in emotionNames:\n",
    "    # we'll automatically create empty arrays for each review\n",
    "    pandas_emotions_dict[emotion]=[0] * len(reviews_df)\n",
    "\n",
    "for index, row in enumerate(reviews_df['emotions'].values):\n",
    "    for emotion in row:\n",
    "        pandas_emotions_dict[emotion][index] = pandas_emotions_dict[emotion][index] +1"
   ]
  },
  {
   "cell_type": "code",
   "execution_count": 247,
   "metadata": {},
   "outputs": [
    {
     "data": {
      "text/html": [
       "<div>\n",
       "<style scoped>\n",
       "    .dataframe tbody tr th:only-of-type {\n",
       "        vertical-align: middle;\n",
       "    }\n",
       "\n",
       "    .dataframe tbody tr th {\n",
       "        vertical-align: top;\n",
       "    }\n",
       "\n",
       "    .dataframe thead th {\n",
       "        text-align: right;\n",
       "    }\n",
       "</style>\n",
       "<table border=\"1\" class=\"dataframe\">\n",
       "  <thead>\n",
       "    <tr style=\"text-align: right;\">\n",
       "      <th></th>\n",
       "      <th>accept</th>\n",
       "      <th>admir</th>\n",
       "      <th>ador</th>\n",
       "      <th>affect</th>\n",
       "      <th>afraid</th>\n",
       "      <th>agit</th>\n",
       "      <th>agoni</th>\n",
       "      <th>aggress</th>\n",
       "      <th>alarm</th>\n",
       "      <th>alien</th>\n",
       "      <th>...</th>\n",
       "      <th>upset</th>\n",
       "      <th>veng</th>\n",
       "      <th>viciou</th>\n",
       "      <th>vigil</th>\n",
       "      <th>vulner</th>\n",
       "      <th>weak</th>\n",
       "      <th>woe</th>\n",
       "      <th>worri</th>\n",
       "      <th>worthi</th>\n",
       "      <th>wrath</th>\n",
       "    </tr>\n",
       "  </thead>\n",
       "  <tbody>\n",
       "    <tr>\n",
       "      <th>0</th>\n",
       "      <td>0</td>\n",
       "      <td>0</td>\n",
       "      <td>0</td>\n",
       "      <td>0</td>\n",
       "      <td>0</td>\n",
       "      <td>0</td>\n",
       "      <td>0</td>\n",
       "      <td>0</td>\n",
       "      <td>0</td>\n",
       "      <td>0</td>\n",
       "      <td>...</td>\n",
       "      <td>0</td>\n",
       "      <td>0</td>\n",
       "      <td>0</td>\n",
       "      <td>0</td>\n",
       "      <td>0</td>\n",
       "      <td>0</td>\n",
       "      <td>0</td>\n",
       "      <td>0</td>\n",
       "      <td>0</td>\n",
       "      <td>0</td>\n",
       "    </tr>\n",
       "    <tr>\n",
       "      <th>1</th>\n",
       "      <td>0</td>\n",
       "      <td>0</td>\n",
       "      <td>0</td>\n",
       "      <td>0</td>\n",
       "      <td>0</td>\n",
       "      <td>0</td>\n",
       "      <td>0</td>\n",
       "      <td>0</td>\n",
       "      <td>0</td>\n",
       "      <td>0</td>\n",
       "      <td>...</td>\n",
       "      <td>0</td>\n",
       "      <td>0</td>\n",
       "      <td>0</td>\n",
       "      <td>0</td>\n",
       "      <td>0</td>\n",
       "      <td>0</td>\n",
       "      <td>0</td>\n",
       "      <td>0</td>\n",
       "      <td>0</td>\n",
       "      <td>0</td>\n",
       "    </tr>\n",
       "    <tr>\n",
       "      <th>2</th>\n",
       "      <td>0</td>\n",
       "      <td>0</td>\n",
       "      <td>0</td>\n",
       "      <td>0</td>\n",
       "      <td>0</td>\n",
       "      <td>0</td>\n",
       "      <td>0</td>\n",
       "      <td>0</td>\n",
       "      <td>0</td>\n",
       "      <td>0</td>\n",
       "      <td>...</td>\n",
       "      <td>0</td>\n",
       "      <td>0</td>\n",
       "      <td>0</td>\n",
       "      <td>0</td>\n",
       "      <td>0</td>\n",
       "      <td>0</td>\n",
       "      <td>0</td>\n",
       "      <td>0</td>\n",
       "      <td>0</td>\n",
       "      <td>0</td>\n",
       "    </tr>\n",
       "    <tr>\n",
       "      <th>3</th>\n",
       "      <td>0</td>\n",
       "      <td>0</td>\n",
       "      <td>0</td>\n",
       "      <td>0</td>\n",
       "      <td>0</td>\n",
       "      <td>0</td>\n",
       "      <td>0</td>\n",
       "      <td>0</td>\n",
       "      <td>0</td>\n",
       "      <td>0</td>\n",
       "      <td>...</td>\n",
       "      <td>0</td>\n",
       "      <td>0</td>\n",
       "      <td>0</td>\n",
       "      <td>0</td>\n",
       "      <td>0</td>\n",
       "      <td>0</td>\n",
       "      <td>0</td>\n",
       "      <td>0</td>\n",
       "      <td>0</td>\n",
       "      <td>0</td>\n",
       "    </tr>\n",
       "    <tr>\n",
       "      <th>4</th>\n",
       "      <td>0</td>\n",
       "      <td>0</td>\n",
       "      <td>0</td>\n",
       "      <td>0</td>\n",
       "      <td>0</td>\n",
       "      <td>0</td>\n",
       "      <td>0</td>\n",
       "      <td>0</td>\n",
       "      <td>0</td>\n",
       "      <td>0</td>\n",
       "      <td>...</td>\n",
       "      <td>0</td>\n",
       "      <td>0</td>\n",
       "      <td>0</td>\n",
       "      <td>0</td>\n",
       "      <td>0</td>\n",
       "      <td>0</td>\n",
       "      <td>0</td>\n",
       "      <td>0</td>\n",
       "      <td>0</td>\n",
       "      <td>0</td>\n",
       "    </tr>\n",
       "  </tbody>\n",
       "</table>\n",
       "<p>5 rows × 270 columns</p>\n",
       "</div>"
      ],
      "text/plain": [
       "   accept  admir  ador  affect  afraid  agit  agoni  aggress  alarm  alien  \\\n",
       "0       0      0     0       0       0     0      0        0      0      0   \n",
       "1       0      0     0       0       0     0      0        0      0      0   \n",
       "2       0      0     0       0       0     0      0        0      0      0   \n",
       "3       0      0     0       0       0     0      0        0      0      0   \n",
       "4       0      0     0       0       0     0      0        0      0      0   \n",
       "\n",
       "   ...  upset  veng  viciou  vigil  vulner  weak  woe  worri  worthi  wrath  \n",
       "0  ...      0     0       0      0       0     0    0      0       0      0  \n",
       "1  ...      0     0       0      0       0     0    0      0       0      0  \n",
       "2  ...      0     0       0      0       0     0    0      0       0      0  \n",
       "3  ...      0     0       0      0       0     0    0      0       0      0  \n",
       "4  ...      0     0       0      0       0     0    0      0       0      0  \n",
       "\n",
       "[5 rows x 270 columns]"
      ]
     },
     "execution_count": 247,
     "metadata": {},
     "output_type": "execute_result"
    }
   ],
   "source": [
    "# pandas_emotions_dict\n",
    "new = pd.DataFrame.from_dict(pandas_emotions_dict)\n",
    "new.head()    "
   ]
  },
  {
   "cell_type": "code",
   "execution_count": 248,
   "metadata": {},
   "outputs": [
    {
     "name": "stdout",
     "output_type": "stream",
     "text": [
      "1503346\n",
      "1503346\n"
     ]
    }
   ],
   "source": [
    "print(len(new))\n",
    "print(len(reviews_df))"
   ]
  },
  {
   "cell_type": "code",
   "execution_count": 251,
   "metadata": {},
   "outputs": [
    {
     "data": {
      "text/plain": [
       "48         2\n",
       "107        3\n",
       "124        2\n",
       "216        2\n",
       "279        7\n",
       "          ..\n",
       "1502468    2\n",
       "1502518    2\n",
       "1502557    2\n",
       "1502598    2\n",
       "1502832    2\n",
       "Name: love, Length: 24579, dtype: int64"
      ]
     },
     "execution_count": 251,
     "metadata": {},
     "output_type": "execute_result"
    }
   ],
   "source": [
    "new[new['love']>1]['love']"
   ]
  },
  {
   "cell_type": "code",
   "execution_count": 252,
   "metadata": {},
   "outputs": [
    {
     "name": "stdout",
     "output_type": "stream",
     "text": [
      "Index(['reviewId', 'userName', 'content', 'score', 'thumbsUpCount', 'at',\n",
      "       'title', 'description', 'summary', 'size', 'developer', 'contentRating',\n",
      "       'updated', 'released', 'appId', 'sentiment', 'review_word_count',\n",
      "       'review_average_word_len', 'NN', 'NNS', 'NNP', 'NNPS', 'VB', 'VBG',\n",
      "       'VBD', 'VBN', 'VBP', 'VBZ', 'JJ', 'JJR', 'JJS', 'sum', 'lda_clusters',\n",
      "       'emotions'],\n",
      "      dtype='object')\n"
     ]
    }
   ],
   "source": [
    "print(reviews_df.columns)"
   ]
  },
  {
   "cell_type": "code",
   "execution_count": 258,
   "metadata": {},
   "outputs": [
    {
     "name": "stdout",
     "output_type": "stream",
     "text": [
      "3006692\n"
     ]
    },
    {
     "data": {
      "text/html": [
       "<div>\n",
       "<style scoped>\n",
       "    .dataframe tbody tr th:only-of-type {\n",
       "        vertical-align: middle;\n",
       "    }\n",
       "\n",
       "    .dataframe tbody tr th {\n",
       "        vertical-align: top;\n",
       "    }\n",
       "\n",
       "    .dataframe thead th {\n",
       "        text-align: right;\n",
       "    }\n",
       "</style>\n",
       "<table border=\"1\" class=\"dataframe\">\n",
       "  <thead>\n",
       "    <tr style=\"text-align: right;\">\n",
       "      <th></th>\n",
       "      <th>title</th>\n",
       "      <th>sentiment</th>\n",
       "      <th>accept</th>\n",
       "      <th>admir</th>\n",
       "      <th>ador</th>\n",
       "      <th>affect</th>\n",
       "      <th>afraid</th>\n",
       "      <th>agit</th>\n",
       "      <th>agoni</th>\n",
       "      <th>aggress</th>\n",
       "      <th>...</th>\n",
       "      <th>upset</th>\n",
       "      <th>veng</th>\n",
       "      <th>viciou</th>\n",
       "      <th>vigil</th>\n",
       "      <th>vulner</th>\n",
       "      <th>weak</th>\n",
       "      <th>woe</th>\n",
       "      <th>worri</th>\n",
       "      <th>worthi</th>\n",
       "      <th>wrath</th>\n",
       "    </tr>\n",
       "  </thead>\n",
       "  <tbody>\n",
       "    <tr>\n",
       "      <th>0</th>\n",
       "      <td>AFK Arena</td>\n",
       "      <td>negative</td>\n",
       "      <td>0</td>\n",
       "      <td>0</td>\n",
       "      <td>0</td>\n",
       "      <td>0</td>\n",
       "      <td>0</td>\n",
       "      <td>0</td>\n",
       "      <td>0</td>\n",
       "      <td>0</td>\n",
       "      <td>...</td>\n",
       "      <td>0</td>\n",
       "      <td>0</td>\n",
       "      <td>0</td>\n",
       "      <td>0</td>\n",
       "      <td>0</td>\n",
       "      <td>0</td>\n",
       "      <td>0</td>\n",
       "      <td>0</td>\n",
       "      <td>0</td>\n",
       "      <td>0</td>\n",
       "    </tr>\n",
       "    <tr>\n",
       "      <th>1</th>\n",
       "      <td>AFK Arena</td>\n",
       "      <td>neutral</td>\n",
       "      <td>0</td>\n",
       "      <td>0</td>\n",
       "      <td>0</td>\n",
       "      <td>0</td>\n",
       "      <td>0</td>\n",
       "      <td>0</td>\n",
       "      <td>0</td>\n",
       "      <td>0</td>\n",
       "      <td>...</td>\n",
       "      <td>0</td>\n",
       "      <td>0</td>\n",
       "      <td>0</td>\n",
       "      <td>0</td>\n",
       "      <td>0</td>\n",
       "      <td>0</td>\n",
       "      <td>0</td>\n",
       "      <td>0</td>\n",
       "      <td>0</td>\n",
       "      <td>0</td>\n",
       "    </tr>\n",
       "    <tr>\n",
       "      <th>2</th>\n",
       "      <td>AFK Arena</td>\n",
       "      <td>positive</td>\n",
       "      <td>0</td>\n",
       "      <td>0</td>\n",
       "      <td>0</td>\n",
       "      <td>0</td>\n",
       "      <td>0</td>\n",
       "      <td>0</td>\n",
       "      <td>0</td>\n",
       "      <td>0</td>\n",
       "      <td>...</td>\n",
       "      <td>0</td>\n",
       "      <td>0</td>\n",
       "      <td>0</td>\n",
       "      <td>0</td>\n",
       "      <td>0</td>\n",
       "      <td>0</td>\n",
       "      <td>0</td>\n",
       "      <td>0</td>\n",
       "      <td>0</td>\n",
       "      <td>0</td>\n",
       "    </tr>\n",
       "    <tr>\n",
       "      <th>3</th>\n",
       "      <td>ANOTHER EDEN Global</td>\n",
       "      <td>negative</td>\n",
       "      <td>0</td>\n",
       "      <td>0</td>\n",
       "      <td>0</td>\n",
       "      <td>0</td>\n",
       "      <td>0</td>\n",
       "      <td>0</td>\n",
       "      <td>0</td>\n",
       "      <td>0</td>\n",
       "      <td>...</td>\n",
       "      <td>0</td>\n",
       "      <td>0</td>\n",
       "      <td>0</td>\n",
       "      <td>0</td>\n",
       "      <td>0</td>\n",
       "      <td>0</td>\n",
       "      <td>0</td>\n",
       "      <td>0</td>\n",
       "      <td>0</td>\n",
       "      <td>0</td>\n",
       "    </tr>\n",
       "    <tr>\n",
       "      <th>4</th>\n",
       "      <td>ANOTHER EDEN Global</td>\n",
       "      <td>neutral</td>\n",
       "      <td>0</td>\n",
       "      <td>0</td>\n",
       "      <td>0</td>\n",
       "      <td>0</td>\n",
       "      <td>0</td>\n",
       "      <td>0</td>\n",
       "      <td>0</td>\n",
       "      <td>0</td>\n",
       "      <td>...</td>\n",
       "      <td>0</td>\n",
       "      <td>0</td>\n",
       "      <td>0</td>\n",
       "      <td>0</td>\n",
       "      <td>0</td>\n",
       "      <td>0</td>\n",
       "      <td>0</td>\n",
       "      <td>0</td>\n",
       "      <td>0</td>\n",
       "      <td>0</td>\n",
       "    </tr>\n",
       "  </tbody>\n",
       "</table>\n",
       "<p>5 rows × 271 columns</p>\n",
       "</div>"
      ],
      "text/plain": [
       "                 title sentiment  accept  admir  ador  affect  afraid  agit  \\\n",
       "0            AFK Arena  negative       0      0     0       0       0     0   \n",
       "1            AFK Arena   neutral       0      0     0       0       0     0   \n",
       "2            AFK Arena  positive       0      0     0       0       0     0   \n",
       "3  ANOTHER EDEN Global  negative       0      0     0       0       0     0   \n",
       "4  ANOTHER EDEN Global   neutral       0      0     0       0       0     0   \n",
       "\n",
       "   agoni  aggress  ...  upset  veng  viciou  vigil  vulner  weak  woe  worri  \\\n",
       "0      0        0  ...      0     0       0      0       0     0    0      0   \n",
       "1      0        0  ...      0     0       0      0       0     0    0      0   \n",
       "2      0        0  ...      0     0       0      0       0     0    0      0   \n",
       "3      0        0  ...      0     0       0      0       0     0    0      0   \n",
       "4      0        0  ...      0     0       0      0       0     0    0      0   \n",
       "\n",
       "   worthi  wrath  \n",
       "0       0      0  \n",
       "1       0      0  \n",
       "2       0      0  \n",
       "3       0      0  \n",
       "4       0      0  \n",
       "\n",
       "[5 rows x 271 columns]"
      ]
     },
     "execution_count": 258,
     "metadata": {},
     "output_type": "execute_result"
    }
   ],
   "source": [
    "columnsForEmotions = ['title','sentiment']\n",
    "\n",
    "game_emotions_df = reviews_df[columnsForEmotions]\n",
    "game_emotions_df = pd.concat([game_emotions_df, new], ignore_index=True)\n",
    "print(len(game_emotions_df))\n",
    "game_emotions_df=game_emotions_df.groupby(['title','sentiment']).count().reset_index()\n",
    "game_emotions_df.head()"
   ]
  },
  {
   "cell_type": "code",
   "execution_count": 264,
   "metadata": {},
   "outputs": [],
   "source": [
    "game_emotions_df.to_pickle('game_emotions_vector_df.pkl',protocol=4,compression='gzip')"
   ]
  },
  {
   "cell_type": "code",
   "execution_count": 262,
   "metadata": {},
   "outputs": [
    {
     "data": {
      "text/plain": [
       "108"
      ]
     },
     "execution_count": 262,
     "metadata": {},
     "output_type": "execute_result"
    }
   ],
   "source": [
    "36*3"
   ]
  },
  {
   "cell_type": "code",
   "execution_count": null,
   "metadata": {},
   "outputs": [],
   "source": []
  }
 ],
 "metadata": {
  "kernelspec": {
   "display_name": "Python 3",
   "language": "python",
   "name": "python3"
  },
  "language_info": {
   "codemirror_mode": {
    "name": "ipython",
    "version": 3
   },
   "file_extension": ".py",
   "mimetype": "text/x-python",
   "name": "python",
   "nbconvert_exporter": "python",
   "pygments_lexer": "ipython3",
   "version": "3.8.10"
  }
 },
 "nbformat": 4,
 "nbformat_minor": 2
}
