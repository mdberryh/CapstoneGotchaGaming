{
 "cells": [
  {
   "cell_type": "code",
   "execution_count": 1,
   "metadata": {},
   "outputs": [
    {
     "name": "stderr",
     "output_type": "stream",
     "text": [
      "Matplotlib created a temporary config/cache directory at /tmp/matplotlib-02scvt9r because the default path (/.config/matplotlib) is not a writable directory; it is highly recommended to set the MPLCONFIGDIR environment variable to a writable directory, in particular to speed up the import of Matplotlib and to better support multiprocessing.\n"
     ]
    }
   ],
   "source": [
    "import pandas as pd\n",
    "import numpy as np\n",
    "import matplotlib.pyplot as plt\n",
    "import seaborn as sns\n",
    "# from google_play_scraper import app, Sort, reviews_all, permissions\n",
    "\n",
    "import threading\n",
    "import time\n",
    "\n",
    "import pickle"
   ]
  },
  {
   "cell_type": "code",
   "execution_count": 2,
   "metadata": {},
   "outputs": [
    {
     "name": "stdout",
     "output_type": "stream",
     "text": [
      "env: SENTENCE_TRANSFORMERS_HOME=./.config\n",
      "env: TRANSFORMERS_CACHE=./transformers\n"
     ]
    },
    {
     "name": "stderr",
     "output_type": "stream",
     "text": [
      "All model checkpoint layers were used when initializing TFRobertaForSequenceClassification.\n",
      "\n",
      "All the layers of TFRobertaForSequenceClassification were initialized from the model checkpoint at /tf/school/UofM_School/Capstone/tweeteval_new/roberta-base-rt-sentiment.\n",
      "If your task is similar to the task the model of the checkpoint was trained on, you can already use TFRobertaForSequenceClassification for predictions without further training.\n"
     ]
    }
   ],
   "source": [
    "# from transformers import AutoModelForSequenceClassification\n",
    "from transformers import TFAutoModelForSequenceClassification\n",
    "from transformers import AutoTokenizer,TFAutoModel, TFAutoModelWithLMHead\n",
    "import numpy as np\n",
    "from scipy.special import softmax\n",
    "import csv\n",
    "import urllib.request\n",
    "\n",
    "%env SENTENCE_TRANSFORMERS_HOME=./.config\n",
    "%env TRANSFORMERS_CACHE=./transformers\n",
    "# Preprocess text (username and link placeholders)\n",
    "def preprocess(text):\n",
    "    new_text = []\n",
    "    if text is None or text == '':\n",
    "        return ''\n",
    "    \n",
    "    for t in text.split(\" \"):\n",
    "        t = '@user' if t.startswith('@') and len(t) > 1 else t\n",
    "        t = 'http' if t.startswith('http') else t\n",
    "        new_text.append(t)\n",
    "    return \" \".join(new_text)\n",
    "\n",
    "\n",
    "\n",
    "MODEL = f\"cardiffnlp/twitter-roberta-base-sentiment\"\n",
    "# !rm -r ./cardiffnlp\n",
    "MODEL = '/tf/school/UofM_School/Capstone/tweeteval_new/roberta-base-rt-sentiment'#tf_model.h5'\n",
    "\n",
    "tokenizer = AutoTokenizer.from_pretrained(MODEL, local_files_only=True)#'tf_model.h5')\n",
    "# tokenizer = AutoTokenizer.from_pretrained('./local_model_directory/')\n",
    "model = TFAutoModelForSequenceClassification.from_pretrained(MODEL)\n",
    "labels = ['negative','neutral','positive']\n",
    "\n",
    "# model.save_pretrained(MODEL)\n",
    "# tokenizer.save_pretrained(MODEL)"
   ]
  },
  {
   "cell_type": "code",
   "execution_count": 3,
   "metadata": {},
   "outputs": [],
   "source": [
    "def encode_text(text):\n",
    "#     if text is None or text == '':\n",
    "#         return ''\n",
    "#     text = preprocess(text)\n",
    "#     if text is None or text =='':\n",
    "#         return\n",
    "    encoded_input = tokenizer(text, return_tensors='tf', padding=True, truncation=True, max_length=512)\n",
    "    return encoded_input\n",
    "    \n",
    "def GetReviewSentiment(encoded_input):\n",
    "    output = model(encoded_input)\n",
    "#     display(output)\n",
    "    scores = output[0][0].numpy()\n",
    "    scores = softmax(scores)\n",
    "\n",
    "    ranking = np.argsort(scores)\n",
    "    ranking = ranking[::-1]\n",
    "    return labels[ranking[0]]\n",
    "\n",
    "# display(reviews_df.columns)"
   ]
  },
  {
   "cell_type": "code",
   "execution_count": 4,
   "metadata": {},
   "outputs": [],
   "source": [
    "# tokenizer(['this is my test','this is another test to try'], return_tensors='tf', padding=True, truncation=True, max_length=512)"
   ]
  },
  {
   "cell_type": "code",
   "execution_count": 5,
   "metadata": {},
   "outputs": [],
   "source": [
    "mypath = 'topReviews/'\n",
    "sentimentPath = 'sentReviews/'\n",
    "\n",
    "\n",
    "\n",
    "from os import listdir, path\n",
    "from os.path import isfile, join\n",
    "onlyfiles = [f for f in listdir(mypath) if isfile(join(mypath, f))]"
   ]
  },
  {
   "cell_type": "code",
   "execution_count": 6,
   "metadata": {},
   "outputs": [],
   "source": [
    "## Practice with only one and let's see how it goes...\n",
    "# temp_df = pd.read_pickle(mypath + onlyfiles[0])\n",
    "# display(temp_df.sort_values(by='content', ascending =False))\n",
    "# temp_df=temp_df[temp_df['content']=='None']\n",
    "# temp_df =temp_df.sample(n=10)\n",
    "# temp_df['encoded_input'] = temp_df['content'].apply(lambda x: encode_text(x))\n",
    "\n",
    "# temp_df['content'] = temp_df['content'].apply(lambda x: 'NA' if x == None or x == 'None' else x)\n",
    "\n",
    "# for text in temp_df['content'].values:\n",
    "#     print(text)\n",
    "#     encode_text(text)\n",
    "    \n",
    "# encoded_data = encode_text(list(temp_df['content'].values))\n",
    "# # display(encoded_data)\n",
    "\n",
    "# output = model(encoded_data)\n",
    "# # display(output)\n",
    "# scores = output[0].numpy()\n",
    "# scores = softmax(scores, axis=1)\n",
    "# display(scores)\n",
    "# ranking = np.argsort(scores,axis=1)\n",
    "# display('ranking')\n",
    "# display(ranking)\n",
    "# # ranking = ranking[::-1]\n",
    "# ranking = np.flip(ranking, axis=1)\n",
    "# sentiment = [labels[x[0]] for x in ranking]\n",
    "# display(sentiment)\n",
    "# display(pd.Series(sentiment))\n",
    "# temp_df['sentiment'] = pd.Series(sentiment).values\n",
    "# # numpy.flip(ranking, axis=1)\n",
    "# # temp_df.append(pd.Series(scores))\n",
    "# # # temp_df['sentiment'].append(scores)\n",
    "# # display(temp_df.head())\n",
    "# # # display(\"scores\")\n",
    "# # # display(scores.shape)\n",
    "# # # display(scores)\n",
    "# # temp_df['sentiment'] = temp_df['sentiment'].apply(lambda x: softmax(x))\n",
    "# # temp_df['sentiment'] = temp_df['sentiment'].apply(lambda x: np.argsort(x))\n",
    "# # temp_df['sentiment'] = temp_df['sentiment'].apply(lambda x: x[::-1])\n",
    "# # temp_df['sentiment'] = temp_df['sentiment'].apply(lambda x: labels[x[0]])\n",
    "\n",
    "\n",
    "# # scores = softmax(scores)\n",
    "# # display(\"softmax\")\n",
    "# # display(scores)\n",
    "# # ranking = np.argsort(scores)\n",
    "# # display(\"sort\")\n",
    "# # display(scores)\n",
    "# # ranking = ranking[::-1]\n",
    "# # display(ranking)\n",
    "# # ranking = ranking[::-1]\n",
    "# # display(ranking)\n",
    "\n",
    "\n",
    "# # temp_df['sentiment'] = GetReviewSentiment(encoded_data)\n",
    "\n",
    "# # temp_df['sentiment'] = temp_df['encoded_input'].apply(lambda x: GetReviewSentiment(x))\n",
    "# temp_df.head(10)"
   ]
  },
  {
   "cell_type": "code",
   "execution_count": 7,
   "metadata": {},
   "outputs": [],
   "source": [
    "# temp_df.where(temp_df['content']=='None').apply(lambda x: 'NA' if x == 'None' else x)\n",
    "# temp_df.head()"
   ]
  },
  {
   "cell_type": "code",
   "execution_count": 8,
   "metadata": {},
   "outputs": [],
   "source": [
    "# display(pd.Series(sentiment))\n",
    "\n",
    "# temp_df['sentiment'] = pd.Series(sentiment).values\n",
    "# temp_df[['content','sentiment']].head(10)"
   ]
  },
  {
   "cell_type": "code",
   "execution_count": 38,
   "metadata": {},
   "outputs": [],
   "source": [
    "def getSentiment(text):\n",
    "        encoded_data = encode_text(list(text))\n",
    "        output = model(encoded_data)\n",
    "        scores = output[0].numpy()\n",
    "        scores = softmax(scores, axis=1)\n",
    "        ranking = np.argsort(scores,axis=1)\n",
    "        ranking = np.flip(ranking, axis=1)\n",
    "        sentiment = [labels[x[0]] for x in ranking]\n",
    "        return sentiment\n",
    "\n",
    "def batch_process_df(df, batch_size):\n",
    "    \n",
    "    \n",
    "    timeEstimates = {}\n",
    "    timeEstimates['count'] = 0\n",
    "    timeEstimates['value'] = 0\n",
    "    \n",
    "    import time\n",
    "\n",
    "#     start = time.time()\n",
    "#     print(\"hello\")\n",
    "#     end = time.time()\n",
    "#     print(end - start)\n",
    "\n",
    "    numBatches = int(len(df)/batch_size)\n",
    "\n",
    "    df['content'] = df['content'].apply(lambda x: 'NA' if x == None or x == 'None' else x)\n",
    "    df['sentiment'] = df['content']\n",
    "    \n",
    "    final_df = None\n",
    "    for i in range(0,numBatches):\n",
    "        \n",
    "        # show estimated time every 20 batches\n",
    "        \n",
    "        # we only want to show when the minute from last shown changes.\n",
    "        remainingTime = int(round((timeEstimates['value'] * (numBatches-i))/60, 0))\n",
    "        \n",
    "#         changedMinute = int(round(timeEstimates['value']/60, 0)) != remainingTime\n",
    "        if(timeEstimates['count'] > 0 and timeEstimates['count'] % 100 == 0):\n",
    "            print(f\"Estimated Time Remaining: {remainingTime} m\")\n",
    "        \n",
    "        start = time.time()\n",
    "        \n",
    "        df_1 = df.iloc[i*batch_size: (i*batch_size) + batch_size,:]\n",
    "        # call the sentiment analizer on our batch\n",
    "        encoded_data = encode_text(list(df_1['content'].values))\n",
    "        \n",
    "        output = model(encoded_data)\n",
    "        scores = output[0].numpy()\n",
    "        scores = softmax(scores, axis=1)\n",
    "        ranking = np.argsort(scores,axis=1)\n",
    "        ranking = np.flip(ranking, axis=1)\n",
    "        sentiment = [labels[x[0]] for x in ranking]\n",
    "        \n",
    "        # attach the sentiment data to the df we are using\n",
    "        df_1['sentiment'] = pd.Series(sentiment).values\n",
    "        \n",
    "        \n",
    "        #  merge together into one big df\n",
    "        if final_df is None:\n",
    "            final_df = df_1\n",
    "        else:\n",
    "            final_df = pd.concat([final_df, df_1],ignore_index=True)\n",
    "            \n",
    "        end = time.time()\n",
    "        \n",
    "        # let's average out the timer\n",
    "        executionTime = end - start\n",
    "        \n",
    "#         print(end - start)\n",
    "        \n",
    "        if(timeEstimates['count']== 0):\n",
    "            timeEstimates['count'] = 1\n",
    "            timeEstimates['value'] = executionTime\n",
    "        else:\n",
    "            # undo the averaging we did and append this.\n",
    "            oldTotal = timeEstimates['value'] * timeEstimates['count']\n",
    "            \n",
    "            timeEstimates['count'] = timeEstimates['count'] + 1\n",
    "            timeEstimates['value'] = (oldTotal + executionTime)/timeEstimates['count']\n",
    "        \n",
    "            \n",
    "    if len(df) % batch_size != 0:\n",
    "        # we have a few remaining items to process\n",
    "        df_1 = df.iloc[numBatches*batch_size:,:]\n",
    "        # call the sentiment analizer on our batch\n",
    "        encoded_data = encode_text(list(df_1['content'].values))\n",
    "        \n",
    "        output = model(encoded_data)\n",
    "        scores = output[0].numpy()\n",
    "        scores = softmax(scores, axis=1)\n",
    "        ranking = np.argsort(scores,axis=1)\n",
    "        ranking = np.flip(ranking, axis=1)\n",
    "        sentiment = [labels[x[0]] for x in ranking]\n",
    "        \n",
    "        # attach the sentiment data to the df we are using\n",
    "        df_1['sentiment'] = pd.Series(sentiment).values\n",
    "        final_df = pd.concat([final_df, df_1],ignore_index=True)\n",
    "#         The frame.append method is deprecated and will be removed from pandas in a future version. Use pandas.concat instead.\n",
    "        \n",
    "    return final_df\n",
    "\n",
    "def WorkerJob(onlyfiles, threadNum):\n",
    "    for app_id in onlyfiles:\n",
    "        print(f\"thread {threadNum}: loading file: {app_id}\")\n",
    "        temp_df = pd.read_pickle(mypath + app_id)\n",
    "        \n",
    "        print(f\"thread {threadNum}: encoding text for analysis...\")\n",
    "#         temp_df['content'] = temp_df['content'].apply(lambda x: x if x !='None' or x != None else ' None ')\n",
    "#         display(temp_df['content'].values[:100])\n",
    "        temp_df['content'] = temp_df['content'].apply(lambda x: 'NA' if x == None or x == 'None' else x)\n",
    "#         encoded_data = encode_text(list(temp_df['content'].values))\n",
    "        \n",
    "        print(f\"thread {threadNum}: performing sentiment analysis on: {temp_df['title'].unique()[0]}\")\n",
    "        temp_df = batch_process_df(temp_df, 16)\n",
    "#      Try using .loc[row_indexer,col_indexer] = value instead   \n",
    "        \n",
    "#         output = model(encoded_data)\n",
    "#         scores = output[0].numpy()\n",
    "#         scores = softmax(scores, axis=1)\n",
    "#         ranking = np.argsort(scores,axis=1)\n",
    "#         ranking = np.flip(ranking, axis=1)\n",
    "#         sentiment = [labels[x[0]] for x in ranking]\n",
    "#         temp_df['sentiment'] = pd.Series(sentiment).values\n",
    "        \n",
    "        print(f\"thread {threadNum}: Done with {app_id}\")\n",
    "        temp_df.to_pickle(sentimentPath + app_id)\n",
    "    "
   ]
  },
  {
   "cell_type": "code",
   "execution_count": 39,
   "metadata": {},
   "outputs": [],
   "source": [
    "# display(reviews_df.columns)\n",
    "# reviews_df.head(5)\n",
    "\n",
    "# display(temp_df[temp_df['content']])\n",
    "# display(temp_df['content'].sort_values(ascending=True).values)"
   ]
  },
  {
   "cell_type": "code",
   "execution_count": 40,
   "metadata": {},
   "outputs": [
    {
     "name": "stdout",
     "output_type": "stream",
     "text": [
      "thread only worker: loading file: com.miHoYo.GenshinImpact.pkl\n",
      "thread only worker: encoding text for analysis...\n",
      "thread only worker: performing sentiment analysis on: Genshin Impact\n"
     ]
    },
    {
     "name": "stderr",
     "output_type": "stream",
     "text": [
      "<ipython-input-38-6e3985ef19b8>:56: SettingWithCopyWarning: \n",
      "A value is trying to be set on a copy of a slice from a DataFrame.\n",
      "Try using .loc[row_indexer,col_indexer] = value instead\n",
      "\n",
      "See the caveats in the documentation: https://pandas.pydata.org/pandas-docs/stable/user_guide/indexing.html#returning-a-view-versus-a-copy\n",
      "  df_1['sentiment'] = pd.Series(sentiment).values\n"
     ]
    },
    {
     "name": "stdout",
     "output_type": "stream",
     "text": [
      "Estimated Time Remaining: 65 m\n",
      "Estimated Time Remaining: 65 m\n",
      "Estimated Time Remaining: 64 m\n",
      "Estimated Time Remaining: 64 m\n",
      "Estimated Time Remaining: 64 m\n",
      "Estimated Time Remaining: 64 m\n",
      "Estimated Time Remaining: 63 m\n",
      "Estimated Time Remaining: 63 m\n",
      "Estimated Time Remaining: 63 m\n",
      "Estimated Time Remaining: 63 m\n",
      "Estimated Time Remaining: 62 m\n",
      "Estimated Time Remaining: 62 m\n",
      "Estimated Time Remaining: 62 m\n",
      "Estimated Time Remaining: 62 m\n",
      "Estimated Time Remaining: 62 m\n",
      "Estimated Time Remaining: 61 m\n",
      "Estimated Time Remaining: 61 m\n",
      "Estimated Time Remaining: 61 m\n",
      "Estimated Time Remaining: 61 m\n",
      "Estimated Time Remaining: 60 m\n",
      "Estimated Time Remaining: 60 m\n",
      "Estimated Time Remaining: 60 m\n",
      "Estimated Time Remaining: 60 m\n",
      "Estimated Time Remaining: 59 m\n",
      "Estimated Time Remaining: 59 m\n",
      "Estimated Time Remaining: 59 m\n",
      "Estimated Time Remaining: 59 m\n",
      "Estimated Time Remaining: 59 m\n",
      "Estimated Time Remaining: 58 m\n",
      "Estimated Time Remaining: 58 m\n",
      "Estimated Time Remaining: 58 m\n",
      "Estimated Time Remaining: 58 m\n",
      "Estimated Time Remaining: 57 m\n",
      "Estimated Time Remaining: 57 m\n",
      "Estimated Time Remaining: 57 m\n",
      "Estimated Time Remaining: 57 m\n",
      "Estimated Time Remaining: 56 m\n",
      "Estimated Time Remaining: 56 m\n",
      "Estimated Time Remaining: 56 m\n",
      "Estimated Time Remaining: 56 m\n",
      "Estimated Time Remaining: 55 m\n",
      "Estimated Time Remaining: 55 m\n",
      "Estimated Time Remaining: 55 m\n",
      "Estimated Time Remaining: 55 m\n",
      "Estimated Time Remaining: 54 m\n",
      "Estimated Time Remaining: 54 m\n",
      "Estimated Time Remaining: 54 m\n",
      "Estimated Time Remaining: 54 m\n",
      "Estimated Time Remaining: 53 m\n",
      "Estimated Time Remaining: 53 m\n",
      "Estimated Time Remaining: 53 m\n",
      "Estimated Time Remaining: 53 m\n",
      "Estimated Time Remaining: 52 m\n",
      "Estimated Time Remaining: 52 m\n",
      "Estimated Time Remaining: 52 m\n",
      "Estimated Time Remaining: 52 m\n",
      "Estimated Time Remaining: 51 m\n",
      "Estimated Time Remaining: 51 m\n",
      "Estimated Time Remaining: 51 m\n",
      "Estimated Time Remaining: 51 m\n",
      "Estimated Time Remaining: 50 m\n",
      "Estimated Time Remaining: 50 m\n",
      "Estimated Time Remaining: 50 m\n",
      "Estimated Time Remaining: 50 m\n",
      "Estimated Time Remaining: 49 m\n",
      "Estimated Time Remaining: 49 m\n",
      "Estimated Time Remaining: 49 m\n",
      "Estimated Time Remaining: 49 m\n",
      "Estimated Time Remaining: 48 m\n",
      "Estimated Time Remaining: 48 m\n",
      "Estimated Time Remaining: 48 m\n",
      "Estimated Time Remaining: 47 m\n",
      "Estimated Time Remaining: 47 m\n",
      "Estimated Time Remaining: 47 m\n",
      "Estimated Time Remaining: 47 m\n",
      "Estimated Time Remaining: 46 m\n",
      "Estimated Time Remaining: 46 m\n",
      "Estimated Time Remaining: 46 m\n",
      "Estimated Time Remaining: 46 m\n",
      "Estimated Time Remaining: 45 m\n",
      "Estimated Time Remaining: 45 m\n",
      "Estimated Time Remaining: 45 m\n",
      "Estimated Time Remaining: 44 m\n",
      "Estimated Time Remaining: 44 m\n",
      "Estimated Time Remaining: 44 m\n",
      "Estimated Time Remaining: 44 m\n",
      "Estimated Time Remaining: 43 m\n",
      "Estimated Time Remaining: 43 m\n",
      "Estimated Time Remaining: 43 m\n",
      "Estimated Time Remaining: 43 m\n",
      "Estimated Time Remaining: 42 m\n",
      "Estimated Time Remaining: 42 m\n",
      "Estimated Time Remaining: 42 m\n",
      "Estimated Time Remaining: 41 m\n",
      "Estimated Time Remaining: 41 m\n",
      "Estimated Time Remaining: 41 m\n",
      "Estimated Time Remaining: 41 m\n",
      "Estimated Time Remaining: 40 m\n",
      "Estimated Time Remaining: 40 m\n",
      "Estimated Time Remaining: 40 m\n",
      "Estimated Time Remaining: 39 m\n",
      "Estimated Time Remaining: 39 m\n",
      "Estimated Time Remaining: 39 m\n",
      "Estimated Time Remaining: 39 m\n",
      "Estimated Time Remaining: 38 m\n",
      "Estimated Time Remaining: 38 m\n",
      "Estimated Time Remaining: 38 m\n",
      "Estimated Time Remaining: 37 m\n",
      "Estimated Time Remaining: 37 m\n",
      "Estimated Time Remaining: 37 m\n",
      "Estimated Time Remaining: 37 m\n",
      "Estimated Time Remaining: 36 m\n",
      "Estimated Time Remaining: 36 m\n",
      "Estimated Time Remaining: 36 m\n",
      "Estimated Time Remaining: 35 m\n",
      "Estimated Time Remaining: 35 m\n",
      "Estimated Time Remaining: 35 m\n",
      "Estimated Time Remaining: 34 m\n",
      "Estimated Time Remaining: 34 m\n",
      "Estimated Time Remaining: 34 m\n",
      "Estimated Time Remaining: 34 m\n",
      "Estimated Time Remaining: 33 m\n",
      "Estimated Time Remaining: 33 m\n",
      "Estimated Time Remaining: 33 m\n",
      "Estimated Time Remaining: 32 m\n",
      "Estimated Time Remaining: 32 m\n",
      "Estimated Time Remaining: 32 m\n",
      "Estimated Time Remaining: 31 m\n",
      "Estimated Time Remaining: 31 m\n",
      "Estimated Time Remaining: 31 m\n",
      "Estimated Time Remaining: 31 m\n",
      "Estimated Time Remaining: 30 m\n",
      "Estimated Time Remaining: 30 m\n",
      "Estimated Time Remaining: 30 m\n",
      "Estimated Time Remaining: 29 m\n",
      "Estimated Time Remaining: 29 m\n",
      "Estimated Time Remaining: 29 m\n",
      "Estimated Time Remaining: 28 m\n",
      "Estimated Time Remaining: 28 m\n",
      "Estimated Time Remaining: 28 m\n",
      "Estimated Time Remaining: 27 m\n",
      "Estimated Time Remaining: 27 m\n",
      "Estimated Time Remaining: 27 m\n",
      "Estimated Time Remaining: 27 m\n",
      "Estimated Time Remaining: 26 m\n",
      "Estimated Time Remaining: 26 m\n",
      "Estimated Time Remaining: 26 m\n",
      "Estimated Time Remaining: 25 m\n",
      "Estimated Time Remaining: 25 m\n",
      "Estimated Time Remaining: 25 m\n",
      "Estimated Time Remaining: 24 m\n",
      "Estimated Time Remaining: 24 m\n",
      "Estimated Time Remaining: 24 m\n",
      "Estimated Time Remaining: 23 m\n",
      "Estimated Time Remaining: 23 m\n",
      "Estimated Time Remaining: 23 m\n",
      "Estimated Time Remaining: 22 m\n",
      "Estimated Time Remaining: 22 m\n",
      "Estimated Time Remaining: 22 m\n",
      "Estimated Time Remaining: 22 m\n",
      "Estimated Time Remaining: 21 m\n",
      "Estimated Time Remaining: 21 m\n",
      "Estimated Time Remaining: 21 m\n",
      "Estimated Time Remaining: 20 m\n",
      "Estimated Time Remaining: 20 m\n",
      "Estimated Time Remaining: 20 m\n",
      "Estimated Time Remaining: 19 m\n",
      "Estimated Time Remaining: 19 m\n",
      "Estimated Time Remaining: 19 m\n",
      "Estimated Time Remaining: 18 m\n",
      "Estimated Time Remaining: 18 m\n",
      "Estimated Time Remaining: 18 m\n",
      "Estimated Time Remaining: 17 m\n",
      "Estimated Time Remaining: 17 m\n",
      "Estimated Time Remaining: 17 m\n",
      "Estimated Time Remaining: 16 m\n",
      "Estimated Time Remaining: 16 m\n",
      "Estimated Time Remaining: 16 m\n",
      "Estimated Time Remaining: 15 m\n",
      "Estimated Time Remaining: 15 m\n",
      "Estimated Time Remaining: 15 m\n",
      "Estimated Time Remaining: 14 m\n",
      "Estimated Time Remaining: 14 m\n",
      "Estimated Time Remaining: 14 m\n",
      "Estimated Time Remaining: 13 m\n",
      "Estimated Time Remaining: 13 m\n",
      "Estimated Time Remaining: 13 m\n",
      "Estimated Time Remaining: 12 m\n",
      "Estimated Time Remaining: 12 m\n",
      "Estimated Time Remaining: 12 m\n",
      "Estimated Time Remaining: 11 m\n",
      "Estimated Time Remaining: 11 m\n",
      "Estimated Time Remaining: 11 m\n",
      "Estimated Time Remaining: 10 m\n",
      "Estimated Time Remaining: 10 m\n",
      "Estimated Time Remaining: 10 m\n",
      "Estimated Time Remaining: 9 m\n",
      "Estimated Time Remaining: 9 m\n",
      "Estimated Time Remaining: 9 m\n",
      "Estimated Time Remaining: 8 m\n",
      "Estimated Time Remaining: 8 m\n",
      "Estimated Time Remaining: 8 m\n",
      "Estimated Time Remaining: 7 m\n",
      "Estimated Time Remaining: 7 m\n",
      "Estimated Time Remaining: 7 m\n",
      "Estimated Time Remaining: 6 m\n",
      "Estimated Time Remaining: 6 m\n",
      "Estimated Time Remaining: 6 m\n",
      "Estimated Time Remaining: 5 m\n",
      "Estimated Time Remaining: 5 m\n",
      "Estimated Time Remaining: 5 m\n",
      "Estimated Time Remaining: 4 m\n",
      "Estimated Time Remaining: 4 m\n",
      "Estimated Time Remaining: 4 m\n",
      "Estimated Time Remaining: 3 m\n",
      "Estimated Time Remaining: 3 m\n",
      "Estimated Time Remaining: 3 m\n",
      "Estimated Time Remaining: 2 m\n",
      "Estimated Time Remaining: 2 m\n",
      "Estimated Time Remaining: 1 m\n",
      "Estimated Time Remaining: 1 m\n",
      "Estimated Time Remaining: 1 m\n",
      "Estimated Time Remaining: 0 m\n",
      "Estimated Time Remaining: 0 m\n"
     ]
    },
    {
     "name": "stderr",
     "output_type": "stream",
     "text": [
      "<ipython-input-38-6e3985ef19b8>:97: SettingWithCopyWarning: \n",
      "A value is trying to be set on a copy of a slice from a DataFrame.\n",
      "Try using .loc[row_indexer,col_indexer] = value instead\n",
      "\n",
      "See the caveats in the documentation: https://pandas.pydata.org/pandas-docs/stable/user_guide/indexing.html#returning-a-view-versus-a-copy\n",
      "  df_1['sentiment'] = pd.Series(sentiment).values\n"
     ]
    },
    {
     "name": "stdout",
     "output_type": "stream",
     "text": [
      "thread only worker: Done with com.miHoYo.GenshinImpact.pkl\n",
      "thread only worker: loading file: com.bandainamcogames.dbzdokkanww.pkl\n",
      "thread only worker: encoding text for analysis...\n",
      "thread only worker: performing sentiment analysis on: DRAGON BALL Z DOKKAN BATTLE\n"
     ]
    },
    {
     "name": "stderr",
     "output_type": "stream",
     "text": [
      "<ipython-input-38-6e3985ef19b8>:56: SettingWithCopyWarning: \n",
      "A value is trying to be set on a copy of a slice from a DataFrame.\n",
      "Try using .loc[row_indexer,col_indexer] = value instead\n",
      "\n",
      "See the caveats in the documentation: https://pandas.pydata.org/pandas-docs/stable/user_guide/indexing.html#returning-a-view-versus-a-copy\n",
      "  df_1['sentiment'] = pd.Series(sentiment).values\n"
     ]
    },
    {
     "name": "stdout",
     "output_type": "stream",
     "text": [
      "Estimated Time Remaining: 31 m\n",
      "Estimated Time Remaining: 31 m\n",
      "Estimated Time Remaining: 31 m\n",
      "Estimated Time Remaining: 31 m\n",
      "Estimated Time Remaining: 30 m\n",
      "Estimated Time Remaining: 30 m\n",
      "Estimated Time Remaining: 30 m\n",
      "Estimated Time Remaining: 30 m\n",
      "Estimated Time Remaining: 29 m\n",
      "Estimated Time Remaining: 29 m\n",
      "Estimated Time Remaining: 29 m\n",
      "Estimated Time Remaining: 28 m\n",
      "Estimated Time Remaining: 28 m\n",
      "Estimated Time Remaining: 28 m\n",
      "Estimated Time Remaining: 28 m\n",
      "Estimated Time Remaining: 27 m\n",
      "Estimated Time Remaining: 27 m\n",
      "Estimated Time Remaining: 27 m\n",
      "Estimated Time Remaining: 27 m\n",
      "Estimated Time Remaining: 26 m\n",
      "Estimated Time Remaining: 26 m\n",
      "Estimated Time Remaining: 26 m\n",
      "Estimated Time Remaining: 25 m\n",
      "Estimated Time Remaining: 25 m\n",
      "Estimated Time Remaining: 25 m\n",
      "Estimated Time Remaining: 25 m\n",
      "Estimated Time Remaining: 24 m\n",
      "Estimated Time Remaining: 24 m\n",
      "Estimated Time Remaining: 24 m\n",
      "Estimated Time Remaining: 24 m\n",
      "Estimated Time Remaining: 23 m\n",
      "Estimated Time Remaining: 23 m\n",
      "Estimated Time Remaining: 23 m\n",
      "Estimated Time Remaining: 22 m\n",
      "Estimated Time Remaining: 22 m\n",
      "Estimated Time Remaining: 22 m\n",
      "Estimated Time Remaining: 22 m\n",
      "Estimated Time Remaining: 21 m\n",
      "Estimated Time Remaining: 21 m\n",
      "Estimated Time Remaining: 21 m\n",
      "Estimated Time Remaining: 20 m\n",
      "Estimated Time Remaining: 20 m\n",
      "Estimated Time Remaining: 20 m\n",
      "Estimated Time Remaining: 20 m\n",
      "Estimated Time Remaining: 19 m\n",
      "Estimated Time Remaining: 19 m\n",
      "Estimated Time Remaining: 19 m\n",
      "Estimated Time Remaining: 18 m\n",
      "Estimated Time Remaining: 18 m\n",
      "Estimated Time Remaining: 18 m\n",
      "Estimated Time Remaining: 18 m\n",
      "Estimated Time Remaining: 17 m\n",
      "Estimated Time Remaining: 17 m\n",
      "Estimated Time Remaining: 17 m\n",
      "Estimated Time Remaining: 16 m\n",
      "Estimated Time Remaining: 16 m\n",
      "Estimated Time Remaining: 16 m\n",
      "Estimated Time Remaining: 15 m\n",
      "Estimated Time Remaining: 15 m\n",
      "Estimated Time Remaining: 15 m\n",
      "Estimated Time Remaining: 15 m\n",
      "Estimated Time Remaining: 14 m\n",
      "Estimated Time Remaining: 14 m\n",
      "Estimated Time Remaining: 14 m\n",
      "Estimated Time Remaining: 13 m\n",
      "Estimated Time Remaining: 13 m\n",
      "Estimated Time Remaining: 13 m\n",
      "Estimated Time Remaining: 13 m\n",
      "Estimated Time Remaining: 12 m\n",
      "Estimated Time Remaining: 12 m\n",
      "Estimated Time Remaining: 12 m\n",
      "Estimated Time Remaining: 11 m\n",
      "Estimated Time Remaining: 11 m\n",
      "Estimated Time Remaining: 11 m\n",
      "Estimated Time Remaining: 10 m\n",
      "Estimated Time Remaining: 10 m\n",
      "Estimated Time Remaining: 10 m\n",
      "Estimated Time Remaining: 10 m\n",
      "Estimated Time Remaining: 9 m\n",
      "Estimated Time Remaining: 9 m\n",
      "Estimated Time Remaining: 9 m\n",
      "Estimated Time Remaining: 8 m\n",
      "Estimated Time Remaining: 8 m\n",
      "Estimated Time Remaining: 8 m\n",
      "Estimated Time Remaining: 7 m\n",
      "Estimated Time Remaining: 7 m\n",
      "Estimated Time Remaining: 7 m\n",
      "Estimated Time Remaining: 6 m\n",
      "Estimated Time Remaining: 6 m\n",
      "Estimated Time Remaining: 6 m\n",
      "Estimated Time Remaining: 6 m\n",
      "Estimated Time Remaining: 5 m\n",
      "Estimated Time Remaining: 5 m\n",
      "Estimated Time Remaining: 5 m\n",
      "Estimated Time Remaining: 4 m\n",
      "Estimated Time Remaining: 4 m\n",
      "Estimated Time Remaining: 4 m\n",
      "Estimated Time Remaining: 3 m\n",
      "Estimated Time Remaining: 3 m\n",
      "Estimated Time Remaining: 3 m\n",
      "Estimated Time Remaining: 2 m\n",
      "Estimated Time Remaining: 2 m\n",
      "Estimated Time Remaining: 2 m\n",
      "Estimated Time Remaining: 1 m\n",
      "Estimated Time Remaining: 1 m\n",
      "Estimated Time Remaining: 1 m\n",
      "Estimated Time Remaining: 0 m\n",
      "Estimated Time Remaining: 0 m\n"
     ]
    },
    {
     "name": "stderr",
     "output_type": "stream",
     "text": [
      "<ipython-input-38-6e3985ef19b8>:97: SettingWithCopyWarning: \n",
      "A value is trying to be set on a copy of a slice from a DataFrame.\n",
      "Try using .loc[row_indexer,col_indexer] = value instead\n",
      "\n",
      "See the caveats in the documentation: https://pandas.pydata.org/pandas-docs/stable/user_guide/indexing.html#returning-a-view-versus-a-copy\n",
      "  df_1['sentiment'] = pd.Series(sentiment).values\n"
     ]
    },
    {
     "name": "stdout",
     "output_type": "stream",
     "text": [
      "thread only worker: Done with com.bandainamcogames.dbzdokkanww.pkl\n",
      "thread only worker: loading file: com.aniplex.fategrandorder.en.pkl\n",
      "thread only worker: encoding text for analysis...\n",
      "thread only worker: performing sentiment analysis on: Fate/Grand Order (English)\n"
     ]
    },
    {
     "name": "stderr",
     "output_type": "stream",
     "text": [
      "<ipython-input-38-6e3985ef19b8>:56: SettingWithCopyWarning: \n",
      "A value is trying to be set on a copy of a slice from a DataFrame.\n",
      "Try using .loc[row_indexer,col_indexer] = value instead\n",
      "\n",
      "See the caveats in the documentation: https://pandas.pydata.org/pandas-docs/stable/user_guide/indexing.html#returning-a-view-versus-a-copy\n",
      "  df_1['sentiment'] = pd.Series(sentiment).values\n"
     ]
    },
    {
     "name": "stdout",
     "output_type": "stream",
     "text": [
      "Estimated Time Remaining: 3 m\n",
      "Estimated Time Remaining: 3 m\n",
      "Estimated Time Remaining: 3 m\n",
      "Estimated Time Remaining: 2 m\n",
      "Estimated Time Remaining: 2 m\n",
      "Estimated Time Remaining: 2 m\n",
      "Estimated Time Remaining: 1 m\n",
      "Estimated Time Remaining: 1 m\n",
      "Estimated Time Remaining: 1 m\n",
      "Estimated Time Remaining: 1 m\n",
      "Estimated Time Remaining: 0 m\n",
      "thread only worker: Done with com.aniplex.fategrandorder.en.pkl\n",
      "thread only worker: loading file: com.plarium.raidlegends.pkl\n",
      "thread only worker: encoding text for analysis...\n",
      "thread only worker: performing sentiment analysis on: RAID: Shadow Legends\n"
     ]
    },
    {
     "name": "stderr",
     "output_type": "stream",
     "text": [
      "<ipython-input-38-6e3985ef19b8>:56: SettingWithCopyWarning: \n",
      "A value is trying to be set on a copy of a slice from a DataFrame.\n",
      "Try using .loc[row_indexer,col_indexer] = value instead\n",
      "\n",
      "See the caveats in the documentation: https://pandas.pydata.org/pandas-docs/stable/user_guide/indexing.html#returning-a-view-versus-a-copy\n",
      "  df_1['sentiment'] = pd.Series(sentiment).values\n"
     ]
    },
    {
     "name": "stdout",
     "output_type": "stream",
     "text": [
      "Estimated Time Remaining: 32 m\n",
      "Estimated Time Remaining: 32 m\n",
      "Estimated Time Remaining: 32 m\n",
      "Estimated Time Remaining: 32 m\n",
      "Estimated Time Remaining: 31 m\n",
      "Estimated Time Remaining: 31 m\n",
      "Estimated Time Remaining: 31 m\n",
      "Estimated Time Remaining: 31 m\n",
      "Estimated Time Remaining: 30 m\n",
      "Estimated Time Remaining: 30 m\n",
      "Estimated Time Remaining: 30 m\n",
      "Estimated Time Remaining: 30 m\n",
      "Estimated Time Remaining: 29 m\n",
      "Estimated Time Remaining: 29 m\n",
      "Estimated Time Remaining: 29 m\n",
      "Estimated Time Remaining: 28 m\n",
      "Estimated Time Remaining: 28 m\n",
      "Estimated Time Remaining: 28 m\n",
      "Estimated Time Remaining: 28 m\n",
      "Estimated Time Remaining: 27 m\n",
      "Estimated Time Remaining: 27 m\n",
      "Estimated Time Remaining: 27 m\n",
      "Estimated Time Remaining: 27 m\n",
      "Estimated Time Remaining: 26 m\n",
      "Estimated Time Remaining: 26 m\n",
      "Estimated Time Remaining: 26 m\n",
      "Estimated Time Remaining: 26 m\n",
      "Estimated Time Remaining: 25 m\n",
      "Estimated Time Remaining: 25 m\n",
      "Estimated Time Remaining: 25 m\n",
      "Estimated Time Remaining: 24 m\n",
      "Estimated Time Remaining: 24 m\n",
      "Estimated Time Remaining: 24 m\n",
      "Estimated Time Remaining: 24 m\n",
      "Estimated Time Remaining: 23 m\n",
      "Estimated Time Remaining: 23 m\n",
      "Estimated Time Remaining: 23 m\n",
      "Estimated Time Remaining: 22 m\n",
      "Estimated Time Remaining: 22 m\n",
      "Estimated Time Remaining: 22 m\n",
      "Estimated Time Remaining: 22 m\n",
      "Estimated Time Remaining: 21 m\n",
      "Estimated Time Remaining: 21 m\n",
      "Estimated Time Remaining: 21 m\n",
      "Estimated Time Remaining: 20 m\n",
      "Estimated Time Remaining: 20 m\n",
      "Estimated Time Remaining: 20 m\n",
      "Estimated Time Remaining: 20 m\n",
      "Estimated Time Remaining: 19 m\n",
      "Estimated Time Remaining: 19 m\n",
      "Estimated Time Remaining: 19 m\n",
      "Estimated Time Remaining: 18 m\n",
      "Estimated Time Remaining: 18 m\n",
      "Estimated Time Remaining: 18 m\n",
      "Estimated Time Remaining: 18 m\n",
      "Estimated Time Remaining: 17 m\n",
      "Estimated Time Remaining: 17 m\n",
      "Estimated Time Remaining: 17 m\n",
      "Estimated Time Remaining: 16 m\n",
      "Estimated Time Remaining: 16 m\n",
      "Estimated Time Remaining: 16 m\n",
      "Estimated Time Remaining: 16 m\n",
      "Estimated Time Remaining: 15 m\n",
      "Estimated Time Remaining: 15 m\n",
      "Estimated Time Remaining: 15 m\n",
      "Estimated Time Remaining: 14 m\n",
      "Estimated Time Remaining: 14 m\n",
      "Estimated Time Remaining: 14 m\n",
      "Estimated Time Remaining: 13 m\n",
      "Estimated Time Remaining: 13 m\n",
      "Estimated Time Remaining: 13 m\n",
      "Estimated Time Remaining: 13 m\n",
      "Estimated Time Remaining: 12 m\n",
      "Estimated Time Remaining: 12 m\n",
      "Estimated Time Remaining: 12 m\n",
      "Estimated Time Remaining: 11 m\n",
      "Estimated Time Remaining: 11 m\n",
      "Estimated Time Remaining: 11 m\n",
      "Estimated Time Remaining: 10 m\n",
      "Estimated Time Remaining: 10 m\n",
      "Estimated Time Remaining: 10 m\n",
      "Estimated Time Remaining: 10 m\n",
      "Estimated Time Remaining: 9 m\n",
      "Estimated Time Remaining: 9 m\n",
      "Estimated Time Remaining: 9 m\n",
      "Estimated Time Remaining: 8 m\n",
      "Estimated Time Remaining: 8 m\n",
      "Estimated Time Remaining: 8 m\n",
      "Estimated Time Remaining: 7 m\n",
      "Estimated Time Remaining: 7 m\n",
      "Estimated Time Remaining: 7 m\n",
      "Estimated Time Remaining: 6 m\n",
      "Estimated Time Remaining: 6 m\n",
      "Estimated Time Remaining: 6 m\n",
      "Estimated Time Remaining: 5 m\n",
      "Estimated Time Remaining: 5 m\n",
      "Estimated Time Remaining: 5 m\n",
      "Estimated Time Remaining: 5 m\n",
      "Estimated Time Remaining: 4 m\n",
      "Estimated Time Remaining: 4 m\n",
      "Estimated Time Remaining: 4 m\n",
      "Estimated Time Remaining: 3 m\n",
      "Estimated Time Remaining: 3 m\n",
      "Estimated Time Remaining: 3 m\n",
      "Estimated Time Remaining: 2 m\n",
      "Estimated Time Remaining: 2 m\n",
      "Estimated Time Remaining: 2 m\n",
      "Estimated Time Remaining: 1 m\n",
      "Estimated Time Remaining: 1 m\n",
      "Estimated Time Remaining: 1 m\n",
      "Estimated Time Remaining: 0 m\n",
      "Estimated Time Remaining: 0 m\n"
     ]
    },
    {
     "name": "stderr",
     "output_type": "stream",
     "text": [
      "<ipython-input-38-6e3985ef19b8>:97: SettingWithCopyWarning: \n",
      "A value is trying to be set on a copy of a slice from a DataFrame.\n",
      "Try using .loc[row_indexer,col_indexer] = value instead\n",
      "\n",
      "See the caveats in the documentation: https://pandas.pydata.org/pandas-docs/stable/user_guide/indexing.html#returning-a-view-versus-a-copy\n",
      "  df_1['sentiment'] = pd.Series(sentiment).values\n"
     ]
    },
    {
     "name": "stdout",
     "output_type": "stream",
     "text": [
      "thread only worker: Done with com.plarium.raidlegends.pkl\n",
      "thread only worker: loading file: jp.konami.masterduel.pkl\n",
      "thread only worker: encoding text for analysis...\n",
      "thread only worker: performing sentiment analysis on: Yu-Gi-Oh! Master Duel\n"
     ]
    },
    {
     "name": "stderr",
     "output_type": "stream",
     "text": [
      "<ipython-input-38-6e3985ef19b8>:56: SettingWithCopyWarning: \n",
      "A value is trying to be set on a copy of a slice from a DataFrame.\n",
      "Try using .loc[row_indexer,col_indexer] = value instead\n",
      "\n",
      "See the caveats in the documentation: https://pandas.pydata.org/pandas-docs/stable/user_guide/indexing.html#returning-a-view-versus-a-copy\n",
      "  df_1['sentiment'] = pd.Series(sentiment).values\n"
     ]
    },
    {
     "name": "stdout",
     "output_type": "stream",
     "text": [
      "Estimated Time Remaining: 1 m\n",
      "Estimated Time Remaining: 1 m\n",
      "Estimated Time Remaining: 1 m\n",
      "Estimated Time Remaining: 0 m\n",
      "Estimated Time Remaining: 0 m\n"
     ]
    },
    {
     "name": "stderr",
     "output_type": "stream",
     "text": [
      "<ipython-input-38-6e3985ef19b8>:97: SettingWithCopyWarning: \n",
      "A value is trying to be set on a copy of a slice from a DataFrame.\n",
      "Try using .loc[row_indexer,col_indexer] = value instead\n",
      "\n",
      "See the caveats in the documentation: https://pandas.pydata.org/pandas-docs/stable/user_guide/indexing.html#returning-a-view-versus-a-copy\n",
      "  df_1['sentiment'] = pd.Series(sentiment).values\n"
     ]
    },
    {
     "name": "stdout",
     "output_type": "stream",
     "text": [
      "thread only worker: Done with jp.konami.masterduel.pkl\n",
      "thread only worker: loading file: jp.gungho.padEN.pkl\n",
      "thread only worker: encoding text for analysis...\n",
      "thread only worker: performing sentiment analysis on: Puzzle & Dragons\n"
     ]
    },
    {
     "name": "stderr",
     "output_type": "stream",
     "text": [
      "<ipython-input-38-6e3985ef19b8>:56: SettingWithCopyWarning: \n",
      "A value is trying to be set on a copy of a slice from a DataFrame.\n",
      "Try using .loc[row_indexer,col_indexer] = value instead\n",
      "\n",
      "See the caveats in the documentation: https://pandas.pydata.org/pandas-docs/stable/user_guide/indexing.html#returning-a-view-versus-a-copy\n",
      "  df_1['sentiment'] = pd.Series(sentiment).values\n"
     ]
    },
    {
     "name": "stdout",
     "output_type": "stream",
     "text": [
      "Estimated Time Remaining: 5 m\n",
      "Estimated Time Remaining: 5 m\n",
      "Estimated Time Remaining: 5 m\n",
      "Estimated Time Remaining: 5 m\n",
      "Estimated Time Remaining: 4 m\n",
      "Estimated Time Remaining: 4 m\n",
      "Estimated Time Remaining: 4 m\n",
      "Estimated Time Remaining: 3 m\n",
      "Estimated Time Remaining: 3 m\n",
      "Estimated Time Remaining: 3 m\n",
      "Estimated Time Remaining: 3 m\n",
      "Estimated Time Remaining: 2 m\n",
      "Estimated Time Remaining: 2 m\n",
      "Estimated Time Remaining: 2 m\n",
      "Estimated Time Remaining: 1 m\n",
      "Estimated Time Remaining: 1 m\n",
      "Estimated Time Remaining: 1 m\n",
      "Estimated Time Remaining: 0 m\n",
      "Estimated Time Remaining: 0 m\n"
     ]
    },
    {
     "name": "stderr",
     "output_type": "stream",
     "text": [
      "<ipython-input-38-6e3985ef19b8>:97: SettingWithCopyWarning: \n",
      "A value is trying to be set on a copy of a slice from a DataFrame.\n",
      "Try using .loc[row_indexer,col_indexer] = value instead\n",
      "\n",
      "See the caveats in the documentation: https://pandas.pydata.org/pandas-docs/stable/user_guide/indexing.html#returning-a-view-versus-a-copy\n",
      "  df_1['sentiment'] = pd.Series(sentiment).values\n"
     ]
    },
    {
     "name": "stdout",
     "output_type": "stream",
     "text": [
      "thread only worker: Done with jp.gungho.padEN.pkl\n",
      "thread only worker: loading file: com.com2us.smon.normal.freefull.google.kr.android.common.pkl\n",
      "thread only worker: encoding text for analysis...\n",
      "thread only worker: performing sentiment analysis on: Summoners War\n"
     ]
    },
    {
     "name": "stderr",
     "output_type": "stream",
     "text": [
      "<ipython-input-38-6e3985ef19b8>:56: SettingWithCopyWarning: \n",
      "A value is trying to be set on a copy of a slice from a DataFrame.\n",
      "Try using .loc[row_indexer,col_indexer] = value instead\n",
      "\n",
      "See the caveats in the documentation: https://pandas.pydata.org/pandas-docs/stable/user_guide/indexing.html#returning-a-view-versus-a-copy\n",
      "  df_1['sentiment'] = pd.Series(sentiment).values\n"
     ]
    },
    {
     "name": "stdout",
     "output_type": "stream",
     "text": [
      "Estimated Time Remaining: 42 m\n",
      "Estimated Time Remaining: 42 m\n",
      "Estimated Time Remaining: 42 m\n",
      "Estimated Time Remaining: 41 m\n",
      "Estimated Time Remaining: 41 m\n",
      "Estimated Time Remaining: 41 m\n",
      "Estimated Time Remaining: 41 m\n",
      "Estimated Time Remaining: 40 m\n",
      "Estimated Time Remaining: 40 m\n",
      "Estimated Time Remaining: 40 m\n",
      "Estimated Time Remaining: 40 m\n",
      "Estimated Time Remaining: 39 m\n",
      "Estimated Time Remaining: 39 m\n",
      "Estimated Time Remaining: 39 m\n",
      "Estimated Time Remaining: 39 m\n",
      "Estimated Time Remaining: 38 m\n",
      "Estimated Time Remaining: 38 m\n",
      "Estimated Time Remaining: 38 m\n",
      "Estimated Time Remaining: 38 m\n",
      "Estimated Time Remaining: 37 m\n",
      "Estimated Time Remaining: 37 m\n",
      "Estimated Time Remaining: 37 m\n",
      "Estimated Time Remaining: 37 m\n",
      "Estimated Time Remaining: 36 m\n",
      "Estimated Time Remaining: 36 m\n",
      "Estimated Time Remaining: 36 m\n",
      "Estimated Time Remaining: 35 m\n",
      "Estimated Time Remaining: 35 m\n",
      "Estimated Time Remaining: 35 m\n",
      "Estimated Time Remaining: 35 m\n",
      "Estimated Time Remaining: 34 m\n",
      "Estimated Time Remaining: 34 m\n",
      "Estimated Time Remaining: 34 m\n",
      "Estimated Time Remaining: 34 m\n",
      "Estimated Time Remaining: 33 m\n",
      "Estimated Time Remaining: 33 m\n",
      "Estimated Time Remaining: 33 m\n",
      "Estimated Time Remaining: 32 m\n",
      "Estimated Time Remaining: 32 m\n",
      "Estimated Time Remaining: 32 m\n",
      "Estimated Time Remaining: 32 m\n",
      "Estimated Time Remaining: 31 m\n",
      "Estimated Time Remaining: 31 m\n",
      "Estimated Time Remaining: 31 m\n",
      "Estimated Time Remaining: 31 m\n",
      "Estimated Time Remaining: 30 m\n",
      "Estimated Time Remaining: 30 m\n",
      "Estimated Time Remaining: 30 m\n",
      "Estimated Time Remaining: 29 m\n",
      "Estimated Time Remaining: 29 m\n",
      "Estimated Time Remaining: 29 m\n",
      "Estimated Time Remaining: 29 m\n",
      "Estimated Time Remaining: 28 m\n",
      "Estimated Time Remaining: 28 m\n",
      "Estimated Time Remaining: 28 m\n",
      "Estimated Time Remaining: 27 m\n",
      "Estimated Time Remaining: 27 m\n",
      "Estimated Time Remaining: 27 m\n",
      "Estimated Time Remaining: 27 m\n",
      "Estimated Time Remaining: 26 m\n",
      "Estimated Time Remaining: 26 m\n",
      "Estimated Time Remaining: 26 m\n",
      "Estimated Time Remaining: 25 m\n",
      "Estimated Time Remaining: 25 m\n",
      "Estimated Time Remaining: 25 m\n",
      "Estimated Time Remaining: 25 m\n",
      "Estimated Time Remaining: 24 m\n",
      "Estimated Time Remaining: 24 m\n",
      "Estimated Time Remaining: 24 m\n",
      "Estimated Time Remaining: 23 m\n",
      "Estimated Time Remaining: 23 m\n",
      "Estimated Time Remaining: 23 m\n",
      "Estimated Time Remaining: 22 m\n",
      "Estimated Time Remaining: 22 m\n",
      "Estimated Time Remaining: 22 m\n",
      "Estimated Time Remaining: 22 m\n",
      "Estimated Time Remaining: 21 m\n",
      "Estimated Time Remaining: 21 m\n",
      "Estimated Time Remaining: 21 m\n",
      "Estimated Time Remaining: 20 m\n",
      "Estimated Time Remaining: 20 m\n",
      "Estimated Time Remaining: 20 m\n",
      "Estimated Time Remaining: 20 m\n",
      "Estimated Time Remaining: 19 m\n",
      "Estimated Time Remaining: 19 m\n",
      "Estimated Time Remaining: 19 m\n",
      "Estimated Time Remaining: 18 m\n",
      "Estimated Time Remaining: 18 m\n",
      "Estimated Time Remaining: 18 m\n",
      "Estimated Time Remaining: 17 m\n",
      "Estimated Time Remaining: 17 m\n",
      "Estimated Time Remaining: 17 m\n",
      "Estimated Time Remaining: 16 m\n",
      "Estimated Time Remaining: 16 m\n",
      "Estimated Time Remaining: 16 m\n",
      "Estimated Time Remaining: 16 m\n",
      "Estimated Time Remaining: 15 m\n",
      "Estimated Time Remaining: 15 m\n",
      "Estimated Time Remaining: 15 m\n",
      "Estimated Time Remaining: 14 m\n",
      "Estimated Time Remaining: 14 m\n",
      "Estimated Time Remaining: 14 m\n",
      "Estimated Time Remaining: 13 m\n",
      "Estimated Time Remaining: 13 m\n",
      "Estimated Time Remaining: 13 m\n",
      "Estimated Time Remaining: 12 m\n",
      "Estimated Time Remaining: 12 m\n",
      "Estimated Time Remaining: 12 m\n",
      "Estimated Time Remaining: 12 m\n",
      "Estimated Time Remaining: 11 m\n",
      "Estimated Time Remaining: 11 m\n",
      "Estimated Time Remaining: 11 m\n",
      "Estimated Time Remaining: 10 m\n",
      "Estimated Time Remaining: 10 m\n",
      "Estimated Time Remaining: 10 m\n",
      "Estimated Time Remaining: 9 m\n",
      "Estimated Time Remaining: 9 m\n",
      "Estimated Time Remaining: 9 m\n",
      "Estimated Time Remaining: 8 m\n",
      "Estimated Time Remaining: 8 m\n",
      "Estimated Time Remaining: 8 m\n",
      "Estimated Time Remaining: 7 m\n",
      "Estimated Time Remaining: 7 m\n",
      "Estimated Time Remaining: 7 m\n",
      "Estimated Time Remaining: 7 m\n",
      "Estimated Time Remaining: 6 m\n",
      "Estimated Time Remaining: 6 m\n",
      "Estimated Time Remaining: 6 m\n",
      "Estimated Time Remaining: 5 m\n",
      "Estimated Time Remaining: 5 m\n",
      "Estimated Time Remaining: 5 m\n",
      "Estimated Time Remaining: 4 m\n",
      "Estimated Time Remaining: 4 m\n",
      "Estimated Time Remaining: 4 m\n",
      "Estimated Time Remaining: 3 m\n",
      "Estimated Time Remaining: 3 m\n",
      "Estimated Time Remaining: 3 m\n",
      "Estimated Time Remaining: 2 m\n",
      "Estimated Time Remaining: 2 m\n",
      "Estimated Time Remaining: 2 m\n",
      "Estimated Time Remaining: 1 m\n",
      "Estimated Time Remaining: 1 m\n",
      "Estimated Time Remaining: 1 m\n",
      "Estimated Time Remaining: 0 m\n",
      "Estimated Time Remaining: 0 m\n"
     ]
    },
    {
     "name": "stderr",
     "output_type": "stream",
     "text": [
      "<ipython-input-38-6e3985ef19b8>:97: SettingWithCopyWarning: \n",
      "A value is trying to be set on a copy of a slice from a DataFrame.\n",
      "Try using .loc[row_indexer,col_indexer] = value instead\n",
      "\n",
      "See the caveats in the documentation: https://pandas.pydata.org/pandas-docs/stable/user_guide/indexing.html#returning-a-view-versus-a-copy\n",
      "  df_1['sentiment'] = pd.Series(sentiment).values\n"
     ]
    },
    {
     "name": "stdout",
     "output_type": "stream",
     "text": [
      "thread only worker: Done with com.com2us.smon.normal.freefull.google.kr.android.common.pkl\n",
      "thread only worker: loading file: com.crunchyroll.princessconnectredive.pkl\n",
      "thread only worker: encoding text for analysis...\n",
      "thread only worker: performing sentiment analysis on: Princess Connect! Re: Dive\n"
     ]
    },
    {
     "name": "stderr",
     "output_type": "stream",
     "text": [
      "<ipython-input-38-6e3985ef19b8>:56: SettingWithCopyWarning: \n",
      "A value is trying to be set on a copy of a slice from a DataFrame.\n",
      "Try using .loc[row_indexer,col_indexer] = value instead\n",
      "\n",
      "See the caveats in the documentation: https://pandas.pydata.org/pandas-docs/stable/user_guide/indexing.html#returning-a-view-versus-a-copy\n",
      "  df_1['sentiment'] = pd.Series(sentiment).values\n"
     ]
    },
    {
     "name": "stdout",
     "output_type": "stream",
     "text": [
      "Estimated Time Remaining: 1 m\n",
      "Estimated Time Remaining: 1 m\n",
      "Estimated Time Remaining: 1 m\n",
      "Estimated Time Remaining: 0 m\n",
      "Estimated Time Remaining: 0 m\n"
     ]
    },
    {
     "name": "stderr",
     "output_type": "stream",
     "text": [
      "<ipython-input-38-6e3985ef19b8>:97: SettingWithCopyWarning: \n",
      "A value is trying to be set on a copy of a slice from a DataFrame.\n",
      "Try using .loc[row_indexer,col_indexer] = value instead\n",
      "\n",
      "See the caveats in the documentation: https://pandas.pydata.org/pandas-docs/stable/user_guide/indexing.html#returning-a-view-versus-a-copy\n",
      "  df_1['sentiment'] = pd.Series(sentiment).values\n"
     ]
    },
    {
     "name": "stdout",
     "output_type": "stream",
     "text": [
      "thread only worker: Done with com.crunchyroll.princessconnectredive.pkl\n",
      "thread only worker: loading file: com.stove.epic7.google.pkl\n",
      "thread only worker: encoding text for analysis...\n",
      "thread only worker: performing sentiment analysis on: Epic Seven\n"
     ]
    },
    {
     "name": "stderr",
     "output_type": "stream",
     "text": [
      "<ipython-input-38-6e3985ef19b8>:56: SettingWithCopyWarning: \n",
      "A value is trying to be set on a copy of a slice from a DataFrame.\n",
      "Try using .loc[row_indexer,col_indexer] = value instead\n",
      "\n",
      "See the caveats in the documentation: https://pandas.pydata.org/pandas-docs/stable/user_guide/indexing.html#returning-a-view-versus-a-copy\n",
      "  df_1['sentiment'] = pd.Series(sentiment).values\n"
     ]
    },
    {
     "name": "stdout",
     "output_type": "stream",
     "text": [
      "Estimated Time Remaining: 9 m\n",
      "Estimated Time Remaining: 9 m\n",
      "Estimated Time Remaining: 9 m\n",
      "Estimated Time Remaining: 8 m\n",
      "Estimated Time Remaining: 8 m\n",
      "Estimated Time Remaining: 8 m\n",
      "Estimated Time Remaining: 8 m\n",
      "Estimated Time Remaining: 7 m\n",
      "Estimated Time Remaining: 7 m\n",
      "Estimated Time Remaining: 7 m\n",
      "Estimated Time Remaining: 6 m\n",
      "Estimated Time Remaining: 6 m\n",
      "Estimated Time Remaining: 6 m\n",
      "Estimated Time Remaining: 6 m\n",
      "Estimated Time Remaining: 5 m\n",
      "Estimated Time Remaining: 5 m\n",
      "Estimated Time Remaining: 5 m\n",
      "Estimated Time Remaining: 4 m\n",
      "Estimated Time Remaining: 4 m\n",
      "Estimated Time Remaining: 4 m\n",
      "Estimated Time Remaining: 4 m\n",
      "Estimated Time Remaining: 3 m\n",
      "Estimated Time Remaining: 3 m\n",
      "Estimated Time Remaining: 3 m\n",
      "Estimated Time Remaining: 2 m\n",
      "Estimated Time Remaining: 2 m\n",
      "Estimated Time Remaining: 2 m\n",
      "Estimated Time Remaining: 1 m\n",
      "Estimated Time Remaining: 1 m\n",
      "Estimated Time Remaining: 1 m\n",
      "Estimated Time Remaining: 0 m\n",
      "Estimated Time Remaining: 0 m\n"
     ]
    },
    {
     "name": "stderr",
     "output_type": "stream",
     "text": [
      "<ipython-input-38-6e3985ef19b8>:97: SettingWithCopyWarning: \n",
      "A value is trying to be set on a copy of a slice from a DataFrame.\n",
      "Try using .loc[row_indexer,col_indexer] = value instead\n",
      "\n",
      "See the caveats in the documentation: https://pandas.pydata.org/pandas-docs/stable/user_guide/indexing.html#returning-a-view-versus-a-copy\n",
      "  df_1['sentiment'] = pd.Series(sentiment).values\n"
     ]
    },
    {
     "name": "stdout",
     "output_type": "stream",
     "text": [
      "thread only worker: Done with com.stove.epic7.google.pkl\n",
      "thread only worker: loading file: com.sega.ColorfulStage.en.pkl\n",
      "thread only worker: encoding text for analysis...\n",
      "thread only worker: performing sentiment analysis on: HATSUNE MIKU: COLORFUL STAGE!\n"
     ]
    },
    {
     "name": "stderr",
     "output_type": "stream",
     "text": [
      "<ipython-input-38-6e3985ef19b8>:56: SettingWithCopyWarning: \n",
      "A value is trying to be set on a copy of a slice from a DataFrame.\n",
      "Try using .loc[row_indexer,col_indexer] = value instead\n",
      "\n",
      "See the caveats in the documentation: https://pandas.pydata.org/pandas-docs/stable/user_guide/indexing.html#returning-a-view-versus-a-copy\n",
      "  df_1['sentiment'] = pd.Series(sentiment).values\n"
     ]
    },
    {
     "name": "stdout",
     "output_type": "stream",
     "text": [
      "Estimated Time Remaining: 0 m\n"
     ]
    },
    {
     "name": "stderr",
     "output_type": "stream",
     "text": [
      "<ipython-input-38-6e3985ef19b8>:97: SettingWithCopyWarning: \n",
      "A value is trying to be set on a copy of a slice from a DataFrame.\n",
      "Try using .loc[row_indexer,col_indexer] = value instead\n",
      "\n",
      "See the caveats in the documentation: https://pandas.pydata.org/pandas-docs/stable/user_guide/indexing.html#returning-a-view-versus-a-copy\n",
      "  df_1['sentiment'] = pd.Series(sentiment).values\n"
     ]
    },
    {
     "name": "stdout",
     "output_type": "stream",
     "text": [
      "thread only worker: Done with com.sega.ColorfulStage.en.pkl\n",
      "thread only worker: loading file: com.lilithgame.hgame.gp.pkl\n",
      "thread only worker: encoding text for analysis...\n",
      "thread only worker: performing sentiment analysis on: AFK Arena\n"
     ]
    },
    {
     "name": "stderr",
     "output_type": "stream",
     "text": [
      "<ipython-input-38-6e3985ef19b8>:56: SettingWithCopyWarning: \n",
      "A value is trying to be set on a copy of a slice from a DataFrame.\n",
      "Try using .loc[row_indexer,col_indexer] = value instead\n",
      "\n",
      "See the caveats in the documentation: https://pandas.pydata.org/pandas-docs/stable/user_guide/indexing.html#returning-a-view-versus-a-copy\n",
      "  df_1['sentiment'] = pd.Series(sentiment).values\n"
     ]
    },
    {
     "name": "stdout",
     "output_type": "stream",
     "text": [
      "Estimated Time Remaining: 2 m\n",
      "Estimated Time Remaining: 1 m\n",
      "Estimated Time Remaining: 1 m\n",
      "Estimated Time Remaining: 1 m\n",
      "Estimated Time Remaining: 0 m\n",
      "Estimated Time Remaining: 0 m\n"
     ]
    },
    {
     "name": "stderr",
     "output_type": "stream",
     "text": [
      "<ipython-input-38-6e3985ef19b8>:97: SettingWithCopyWarning: \n",
      "A value is trying to be set on a copy of a slice from a DataFrame.\n",
      "Try using .loc[row_indexer,col_indexer] = value instead\n",
      "\n",
      "See the caveats in the documentation: https://pandas.pydata.org/pandas-docs/stable/user_guide/indexing.html#returning-a-view-versus-a-copy\n",
      "  df_1['sentiment'] = pd.Series(sentiment).values\n"
     ]
    },
    {
     "name": "stdout",
     "output_type": "stream",
     "text": [
      "thread only worker: Done with com.lilithgame.hgame.gp.pkl\n",
      "thread only worker: loading file: com.nexon.maplem.global.pkl\n",
      "thread only worker: encoding text for analysis...\n",
      "thread only worker: performing sentiment analysis on: MapleStory M - Fantasy MMORPG\n"
     ]
    },
    {
     "name": "stderr",
     "output_type": "stream",
     "text": [
      "<ipython-input-38-6e3985ef19b8>:56: SettingWithCopyWarning: \n",
      "A value is trying to be set on a copy of a slice from a DataFrame.\n",
      "Try using .loc[row_indexer,col_indexer] = value instead\n",
      "\n",
      "See the caveats in the documentation: https://pandas.pydata.org/pandas-docs/stable/user_guide/indexing.html#returning-a-view-versus-a-copy\n",
      "  df_1['sentiment'] = pd.Series(sentiment).values\n"
     ]
    },
    {
     "name": "stdout",
     "output_type": "stream",
     "text": [
      "Estimated Time Remaining: 0 m\n",
      "thread only worker: Done with com.nexon.maplem.global.pkl\n",
      "thread only worker: loading file: com.YoStarEN.AzurLane.pkl\n",
      "thread only worker: encoding text for analysis...\n",
      "thread only worker: performing sentiment analysis on: Azur Lane\n"
     ]
    },
    {
     "name": "stderr",
     "output_type": "stream",
     "text": [
      "<ipython-input-38-6e3985ef19b8>:56: SettingWithCopyWarning: \n",
      "A value is trying to be set on a copy of a slice from a DataFrame.\n",
      "Try using .loc[row_indexer,col_indexer] = value instead\n",
      "\n",
      "See the caveats in the documentation: https://pandas.pydata.org/pandas-docs/stable/user_guide/indexing.html#returning-a-view-versus-a-copy\n",
      "  df_1['sentiment'] = pd.Series(sentiment).values\n"
     ]
    },
    {
     "name": "stdout",
     "output_type": "stream",
     "text": [
      "Estimated Time Remaining: 1 m\n",
      "Estimated Time Remaining: 1 m\n",
      "Estimated Time Remaining: 0 m\n"
     ]
    },
    {
     "name": "stderr",
     "output_type": "stream",
     "text": [
      "<ipython-input-38-6e3985ef19b8>:97: SettingWithCopyWarning: \n",
      "A value is trying to be set on a copy of a slice from a DataFrame.\n",
      "Try using .loc[row_indexer,col_indexer] = value instead\n",
      "\n",
      "See the caveats in the documentation: https://pandas.pydata.org/pandas-docs/stable/user_guide/indexing.html#returning-a-view-versus-a-copy\n",
      "  df_1['sentiment'] = pd.Series(sentiment).values\n"
     ]
    },
    {
     "name": "stdout",
     "output_type": "stream",
     "text": [
      "thread only worker: Done with com.YoStarEN.AzurLane.pkl\n",
      "thread only worker: loading file: com.nintendo.zaba.pkl\n",
      "thread only worker: encoding text for analysis...\n",
      "thread only worker: performing sentiment analysis on: Fire Emblem Heroes\n"
     ]
    },
    {
     "name": "stderr",
     "output_type": "stream",
     "text": [
      "<ipython-input-38-6e3985ef19b8>:56: SettingWithCopyWarning: \n",
      "A value is trying to be set on a copy of a slice from a DataFrame.\n",
      "Try using .loc[row_indexer,col_indexer] = value instead\n",
      "\n",
      "See the caveats in the documentation: https://pandas.pydata.org/pandas-docs/stable/user_guide/indexing.html#returning-a-view-versus-a-copy\n",
      "  df_1['sentiment'] = pd.Series(sentiment).values\n",
      "<ipython-input-38-6e3985ef19b8>:97: SettingWithCopyWarning: \n",
      "A value is trying to be set on a copy of a slice from a DataFrame.\n",
      "Try using .loc[row_indexer,col_indexer] = value instead\n",
      "\n",
      "See the caveats in the documentation: https://pandas.pydata.org/pandas-docs/stable/user_guide/indexing.html#returning-a-view-versus-a-copy\n",
      "  df_1['sentiment'] = pd.Series(sentiment).values\n"
     ]
    },
    {
     "name": "stdout",
     "output_type": "stream",
     "text": [
      "thread only worker: Done with com.nintendo.zaba.pkl\n",
      "thread only worker: loading file: com.nintendo.zaka.pkl\n",
      "thread only worker: encoding text for analysis...\n",
      "thread only worker: performing sentiment analysis on: Mario Kart Tour\n"
     ]
    },
    {
     "name": "stderr",
     "output_type": "stream",
     "text": [
      "<ipython-input-38-6e3985ef19b8>:56: SettingWithCopyWarning: \n",
      "A value is trying to be set on a copy of a slice from a DataFrame.\n",
      "Try using .loc[row_indexer,col_indexer] = value instead\n",
      "\n",
      "See the caveats in the documentation: https://pandas.pydata.org/pandas-docs/stable/user_guide/indexing.html#returning-a-view-versus-a-copy\n",
      "  df_1['sentiment'] = pd.Series(sentiment).values\n",
      "<ipython-input-38-6e3985ef19b8>:97: SettingWithCopyWarning: \n",
      "A value is trying to be set on a copy of a slice from a DataFrame.\n",
      "Try using .loc[row_indexer,col_indexer] = value instead\n",
      "\n",
      "See the caveats in the documentation: https://pandas.pydata.org/pandas-docs/stable/user_guide/indexing.html#returning-a-view-versus-a-copy\n",
      "  df_1['sentiment'] = pd.Series(sentiment).values\n"
     ]
    },
    {
     "name": "stdout",
     "output_type": "stream",
     "text": [
      "thread only worker: Done with com.nintendo.zaka.pkl\n",
      "thread only worker: loading file: com.kakaogames.gdts.pkl\n",
      "thread only worker: encoding text for analysis...\n",
      "thread only worker: performing sentiment analysis on: Guardian Tales\n"
     ]
    },
    {
     "name": "stderr",
     "output_type": "stream",
     "text": [
      "<ipython-input-38-6e3985ef19b8>:56: SettingWithCopyWarning: \n",
      "A value is trying to be set on a copy of a slice from a DataFrame.\n",
      "Try using .loc[row_indexer,col_indexer] = value instead\n",
      "\n",
      "See the caveats in the documentation: https://pandas.pydata.org/pandas-docs/stable/user_guide/indexing.html#returning-a-view-versus-a-copy\n",
      "  df_1['sentiment'] = pd.Series(sentiment).values\n",
      "<ipython-input-38-6e3985ef19b8>:97: SettingWithCopyWarning: \n",
      "A value is trying to be set on a copy of a slice from a DataFrame.\n",
      "Try using .loc[row_indexer,col_indexer] = value instead\n",
      "\n",
      "See the caveats in the documentation: https://pandas.pydata.org/pandas-docs/stable/user_guide/indexing.html#returning-a-view-versus-a-copy\n",
      "  df_1['sentiment'] = pd.Series(sentiment).values\n"
     ]
    },
    {
     "name": "stdout",
     "output_type": "stream",
     "text": [
      "thread only worker: Done with com.kakaogames.gdts.pkl\n",
      "thread only worker: loading file: com.netmarble.nanagb.pkl\n",
      "thread only worker: encoding text for analysis...\n",
      "thread only worker: performing sentiment analysis on: The Seven Deadly Sins\n"
     ]
    },
    {
     "name": "stderr",
     "output_type": "stream",
     "text": [
      "<ipython-input-38-6e3985ef19b8>:56: SettingWithCopyWarning: \n",
      "A value is trying to be set on a copy of a slice from a DataFrame.\n",
      "Try using .loc[row_indexer,col_indexer] = value instead\n",
      "\n",
      "See the caveats in the documentation: https://pandas.pydata.org/pandas-docs/stable/user_guide/indexing.html#returning-a-view-versus-a-copy\n",
      "  df_1['sentiment'] = pd.Series(sentiment).values\n"
     ]
    },
    {
     "name": "stdout",
     "output_type": "stream",
     "text": [
      "Estimated Time Remaining: 10 m\n",
      "Estimated Time Remaining: 9 m\n",
      "Estimated Time Remaining: 9 m\n",
      "Estimated Time Remaining: 9 m\n",
      "Estimated Time Remaining: 8 m\n",
      "Estimated Time Remaining: 8 m\n",
      "Estimated Time Remaining: 8 m\n",
      "Estimated Time Remaining: 8 m\n",
      "Estimated Time Remaining: 7 m\n",
      "Estimated Time Remaining: 7 m\n",
      "Estimated Time Remaining: 7 m\n",
      "Estimated Time Remaining: 6 m\n",
      "Estimated Time Remaining: 6 m\n",
      "Estimated Time Remaining: 6 m\n",
      "Estimated Time Remaining: 6 m\n",
      "Estimated Time Remaining: 5 m\n",
      "Estimated Time Remaining: 5 m\n",
      "Estimated Time Remaining: 5 m\n",
      "Estimated Time Remaining: 4 m\n",
      "Estimated Time Remaining: 4 m\n",
      "Estimated Time Remaining: 4 m\n",
      "Estimated Time Remaining: 3 m\n",
      "Estimated Time Remaining: 3 m\n",
      "Estimated Time Remaining: 3 m\n",
      "Estimated Time Remaining: 3 m\n",
      "Estimated Time Remaining: 2 m\n",
      "Estimated Time Remaining: 2 m\n",
      "Estimated Time Remaining: 2 m\n",
      "Estimated Time Remaining: 1 m\n",
      "Estimated Time Remaining: 1 m\n",
      "Estimated Time Remaining: 1 m\n",
      "Estimated Time Remaining: 0 m\n",
      "Estimated Time Remaining: 0 m\n"
     ]
    },
    {
     "name": "stderr",
     "output_type": "stream",
     "text": [
      "<ipython-input-38-6e3985ef19b8>:97: SettingWithCopyWarning: \n",
      "A value is trying to be set on a copy of a slice from a DataFrame.\n",
      "Try using .loc[row_indexer,col_indexer] = value instead\n",
      "\n",
      "See the caveats in the documentation: https://pandas.pydata.org/pandas-docs/stable/user_guide/indexing.html#returning-a-view-versus-a-copy\n",
      "  df_1['sentiment'] = pd.Series(sentiment).values\n"
     ]
    },
    {
     "name": "stdout",
     "output_type": "stream",
     "text": [
      "thread only worker: Done with com.netmarble.nanagb.pkl\n",
      "thread only worker: loading file: com.bandainamcoent.dblegends_ww.pkl\n",
      "thread only worker: encoding text for analysis...\n",
      "thread only worker: performing sentiment analysis on: DRAGON BALL LEGENDS\n"
     ]
    },
    {
     "name": "stderr",
     "output_type": "stream",
     "text": [
      "<ipython-input-38-6e3985ef19b8>:56: SettingWithCopyWarning: \n",
      "A value is trying to be set on a copy of a slice from a DataFrame.\n",
      "Try using .loc[row_indexer,col_indexer] = value instead\n",
      "\n",
      "See the caveats in the documentation: https://pandas.pydata.org/pandas-docs/stable/user_guide/indexing.html#returning-a-view-versus-a-copy\n",
      "  df_1['sentiment'] = pd.Series(sentiment).values\n"
     ]
    },
    {
     "name": "stdout",
     "output_type": "stream",
     "text": [
      "Estimated Time Remaining: 51 m\n",
      "Estimated Time Remaining: 51 m\n",
      "Estimated Time Remaining: 51 m\n",
      "Estimated Time Remaining: 50 m\n",
      "Estimated Time Remaining: 50 m\n",
      "Estimated Time Remaining: 50 m\n",
      "Estimated Time Remaining: 50 m\n",
      "Estimated Time Remaining: 49 m\n",
      "Estimated Time Remaining: 49 m\n",
      "Estimated Time Remaining: 49 m\n",
      "Estimated Time Remaining: 49 m\n",
      "Estimated Time Remaining: 48 m\n",
      "Estimated Time Remaining: 48 m\n",
      "Estimated Time Remaining: 48 m\n",
      "Estimated Time Remaining: 48 m\n",
      "Estimated Time Remaining: 47 m\n",
      "Estimated Time Remaining: 47 m\n",
      "Estimated Time Remaining: 47 m\n",
      "Estimated Time Remaining: 47 m\n",
      "Estimated Time Remaining: 46 m\n",
      "Estimated Time Remaining: 46 m\n",
      "Estimated Time Remaining: 46 m\n",
      "Estimated Time Remaining: 46 m\n",
      "Estimated Time Remaining: 45 m\n",
      "Estimated Time Remaining: 45 m\n",
      "Estimated Time Remaining: 45 m\n",
      "Estimated Time Remaining: 44 m\n",
      "Estimated Time Remaining: 44 m\n",
      "Estimated Time Remaining: 44 m\n",
      "Estimated Time Remaining: 44 m\n",
      "Estimated Time Remaining: 43 m\n",
      "Estimated Time Remaining: 43 m\n",
      "Estimated Time Remaining: 43 m\n",
      "Estimated Time Remaining: 43 m\n",
      "Estimated Time Remaining: 42 m\n",
      "Estimated Time Remaining: 42 m\n",
      "Estimated Time Remaining: 42 m\n",
      "Estimated Time Remaining: 42 m\n",
      "Estimated Time Remaining: 41 m\n",
      "Estimated Time Remaining: 41 m\n",
      "Estimated Time Remaining: 41 m\n",
      "Estimated Time Remaining: 41 m\n",
      "Estimated Time Remaining: 40 m\n",
      "Estimated Time Remaining: 40 m\n",
      "Estimated Time Remaining: 40 m\n",
      "Estimated Time Remaining: 39 m\n",
      "Estimated Time Remaining: 39 m\n",
      "Estimated Time Remaining: 39 m\n",
      "Estimated Time Remaining: 39 m\n",
      "Estimated Time Remaining: 38 m\n",
      "Estimated Time Remaining: 38 m\n",
      "Estimated Time Remaining: 38 m\n",
      "Estimated Time Remaining: 38 m\n",
      "Estimated Time Remaining: 37 m\n",
      "Estimated Time Remaining: 37 m\n",
      "Estimated Time Remaining: 37 m\n",
      "Estimated Time Remaining: 36 m\n",
      "Estimated Time Remaining: 36 m\n",
      "Estimated Time Remaining: 36 m\n",
      "Estimated Time Remaining: 36 m\n",
      "Estimated Time Remaining: 35 m\n",
      "Estimated Time Remaining: 35 m\n",
      "Estimated Time Remaining: 35 m\n",
      "Estimated Time Remaining: 34 m\n",
      "Estimated Time Remaining: 34 m\n",
      "Estimated Time Remaining: 34 m\n",
      "Estimated Time Remaining: 34 m\n",
      "Estimated Time Remaining: 33 m\n",
      "Estimated Time Remaining: 33 m\n",
      "Estimated Time Remaining: 33 m\n",
      "Estimated Time Remaining: 32 m\n",
      "Estimated Time Remaining: 32 m\n",
      "Estimated Time Remaining: 32 m\n",
      "Estimated Time Remaining: 32 m\n",
      "Estimated Time Remaining: 31 m\n",
      "Estimated Time Remaining: 31 m\n",
      "Estimated Time Remaining: 31 m\n",
      "Estimated Time Remaining: 30 m\n",
      "Estimated Time Remaining: 30 m\n",
      "Estimated Time Remaining: 30 m\n",
      "Estimated Time Remaining: 30 m\n",
      "Estimated Time Remaining: 29 m\n",
      "Estimated Time Remaining: 29 m\n",
      "Estimated Time Remaining: 29 m\n",
      "Estimated Time Remaining: 28 m\n",
      "Estimated Time Remaining: 28 m\n",
      "Estimated Time Remaining: 28 m\n",
      "Estimated Time Remaining: 28 m\n",
      "Estimated Time Remaining: 27 m\n",
      "Estimated Time Remaining: 27 m\n",
      "Estimated Time Remaining: 27 m\n",
      "Estimated Time Remaining: 26 m\n",
      "Estimated Time Remaining: 26 m\n",
      "Estimated Time Remaining: 26 m\n",
      "Estimated Time Remaining: 26 m\n",
      "Estimated Time Remaining: 25 m\n",
      "Estimated Time Remaining: 25 m\n",
      "Estimated Time Remaining: 25 m\n",
      "Estimated Time Remaining: 24 m\n",
      "Estimated Time Remaining: 24 m\n",
      "Estimated Time Remaining: 24 m\n",
      "Estimated Time Remaining: 23 m\n",
      "Estimated Time Remaining: 23 m\n",
      "Estimated Time Remaining: 23 m\n",
      "Estimated Time Remaining: 23 m\n",
      "Estimated Time Remaining: 22 m\n",
      "Estimated Time Remaining: 22 m\n",
      "Estimated Time Remaining: 22 m\n",
      "Estimated Time Remaining: 21 m\n",
      "Estimated Time Remaining: 21 m\n",
      "Estimated Time Remaining: 21 m\n",
      "Estimated Time Remaining: 20 m\n",
      "Estimated Time Remaining: 20 m\n",
      "Estimated Time Remaining: 20 m\n",
      "Estimated Time Remaining: 19 m\n",
      "Estimated Time Remaining: 19 m\n",
      "Estimated Time Remaining: 19 m\n",
      "Estimated Time Remaining: 19 m\n",
      "Estimated Time Remaining: 18 m\n",
      "Estimated Time Remaining: 18 m\n",
      "Estimated Time Remaining: 18 m\n",
      "Estimated Time Remaining: 17 m\n",
      "Estimated Time Remaining: 17 m\n",
      "Estimated Time Remaining: 17 m\n",
      "Estimated Time Remaining: 16 m\n",
      "Estimated Time Remaining: 16 m\n",
      "Estimated Time Remaining: 16 m\n",
      "Estimated Time Remaining: 15 m\n",
      "Estimated Time Remaining: 15 m\n",
      "Estimated Time Remaining: 15 m\n",
      "Estimated Time Remaining: 14 m\n",
      "Estimated Time Remaining: 14 m\n",
      "Estimated Time Remaining: 14 m\n",
      "Estimated Time Remaining: 14 m\n",
      "Estimated Time Remaining: 13 m\n",
      "Estimated Time Remaining: 13 m\n",
      "Estimated Time Remaining: 13 m\n",
      "Estimated Time Remaining: 12 m\n",
      "Estimated Time Remaining: 12 m\n",
      "Estimated Time Remaining: 12 m\n",
      "Estimated Time Remaining: 11 m\n",
      "Estimated Time Remaining: 11 m\n",
      "Estimated Time Remaining: 11 m\n",
      "Estimated Time Remaining: 10 m\n",
      "Estimated Time Remaining: 10 m\n",
      "Estimated Time Remaining: 10 m\n",
      "Estimated Time Remaining: 9 m\n",
      "Estimated Time Remaining: 9 m\n",
      "Estimated Time Remaining: 9 m\n",
      "Estimated Time Remaining: 8 m\n",
      "Estimated Time Remaining: 8 m\n",
      "Estimated Time Remaining: 8 m\n",
      "Estimated Time Remaining: 7 m\n",
      "Estimated Time Remaining: 7 m\n",
      "Estimated Time Remaining: 7 m\n",
      "Estimated Time Remaining: 6 m\n",
      "Estimated Time Remaining: 6 m\n",
      "Estimated Time Remaining: 6 m\n",
      "Estimated Time Remaining: 5 m\n",
      "Estimated Time Remaining: 5 m\n",
      "Estimated Time Remaining: 5 m\n",
      "Estimated Time Remaining: 4 m\n",
      "Estimated Time Remaining: 4 m\n",
      "Estimated Time Remaining: 4 m\n",
      "Estimated Time Remaining: 3 m\n",
      "Estimated Time Remaining: 3 m\n",
      "Estimated Time Remaining: 3 m\n",
      "Estimated Time Remaining: 2 m\n",
      "Estimated Time Remaining: 2 m\n",
      "Estimated Time Remaining: 2 m\n",
      "Estimated Time Remaining: 1 m\n",
      "Estimated Time Remaining: 1 m\n",
      "Estimated Time Remaining: 1 m\n",
      "Estimated Time Remaining: 0 m\n",
      "Estimated Time Remaining: 0 m\n"
     ]
    },
    {
     "name": "stderr",
     "output_type": "stream",
     "text": [
      "<ipython-input-38-6e3985ef19b8>:97: SettingWithCopyWarning: \n",
      "A value is trying to be set on a copy of a slice from a DataFrame.\n",
      "Try using .loc[row_indexer,col_indexer] = value instead\n",
      "\n",
      "See the caveats in the documentation: https://pandas.pydata.org/pandas-docs/stable/user_guide/indexing.html#returning-a-view-versus-a-copy\n",
      "  df_1['sentiment'] = pd.Series(sentiment).values\n"
     ]
    },
    {
     "name": "stdout",
     "output_type": "stream",
     "text": [
      "thread only worker: Done with com.bandainamcoent.dblegends_ww.pkl\n",
      "thread only worker: loading file: com.droidhang.ad.pkl\n",
      "thread only worker: encoding text for analysis...\n",
      "thread only worker: performing sentiment analysis on: Idle Heroes\n"
     ]
    },
    {
     "name": "stderr",
     "output_type": "stream",
     "text": [
      "<ipython-input-38-6e3985ef19b8>:56: SettingWithCopyWarning: \n",
      "A value is trying to be set on a copy of a slice from a DataFrame.\n",
      "Try using .loc[row_indexer,col_indexer] = value instead\n",
      "\n",
      "See the caveats in the documentation: https://pandas.pydata.org/pandas-docs/stable/user_guide/indexing.html#returning-a-view-versus-a-copy\n",
      "  df_1['sentiment'] = pd.Series(sentiment).values\n"
     ]
    },
    {
     "name": "stdout",
     "output_type": "stream",
     "text": [
      "Estimated Time Remaining: 22 m\n",
      "Estimated Time Remaining: 22 m\n",
      "Estimated Time Remaining: 21 m\n",
      "Estimated Time Remaining: 21 m\n",
      "Estimated Time Remaining: 21 m\n",
      "Estimated Time Remaining: 20 m\n",
      "Estimated Time Remaining: 20 m\n",
      "Estimated Time Remaining: 20 m\n",
      "Estimated Time Remaining: 20 m\n",
      "Estimated Time Remaining: 19 m\n",
      "Estimated Time Remaining: 19 m\n",
      "Estimated Time Remaining: 19 m\n",
      "Estimated Time Remaining: 19 m\n",
      "Estimated Time Remaining: 18 m\n",
      "Estimated Time Remaining: 18 m\n",
      "Estimated Time Remaining: 18 m\n",
      "Estimated Time Remaining: 17 m\n",
      "Estimated Time Remaining: 17 m\n",
      "Estimated Time Remaining: 17 m\n",
      "Estimated Time Remaining: 17 m\n",
      "Estimated Time Remaining: 16 m\n",
      "Estimated Time Remaining: 16 m\n",
      "Estimated Time Remaining: 16 m\n",
      "Estimated Time Remaining: 15 m\n",
      "Estimated Time Remaining: 15 m\n",
      "Estimated Time Remaining: 15 m\n",
      "Estimated Time Remaining: 15 m\n",
      "Estimated Time Remaining: 14 m\n",
      "Estimated Time Remaining: 14 m\n",
      "Estimated Time Remaining: 14 m\n",
      "Estimated Time Remaining: 13 m\n",
      "Estimated Time Remaining: 13 m\n",
      "Estimated Time Remaining: 13 m\n",
      "Estimated Time Remaining: 13 m\n",
      "Estimated Time Remaining: 12 m\n",
      "Estimated Time Remaining: 12 m\n",
      "Estimated Time Remaining: 12 m\n",
      "Estimated Time Remaining: 11 m\n",
      "Estimated Time Remaining: 11 m\n",
      "Estimated Time Remaining: 11 m\n",
      "Estimated Time Remaining: 10 m\n",
      "Estimated Time Remaining: 10 m\n",
      "Estimated Time Remaining: 10 m\n",
      "Estimated Time Remaining: 10 m\n",
      "Estimated Time Remaining: 9 m\n",
      "Estimated Time Remaining: 9 m\n",
      "Estimated Time Remaining: 9 m\n",
      "Estimated Time Remaining: 8 m\n",
      "Estimated Time Remaining: 8 m\n",
      "Estimated Time Remaining: 8 m\n",
      "Estimated Time Remaining: 7 m\n",
      "Estimated Time Remaining: 7 m\n",
      "Estimated Time Remaining: 7 m\n",
      "Estimated Time Remaining: 7 m\n",
      "Estimated Time Remaining: 6 m\n",
      "Estimated Time Remaining: 6 m\n",
      "Estimated Time Remaining: 6 m\n",
      "Estimated Time Remaining: 5 m\n",
      "Estimated Time Remaining: 5 m\n",
      "Estimated Time Remaining: 5 m\n",
      "Estimated Time Remaining: 4 m\n",
      "Estimated Time Remaining: 4 m\n",
      "Estimated Time Remaining: 4 m\n",
      "Estimated Time Remaining: 4 m\n",
      "Estimated Time Remaining: 3 m\n",
      "Estimated Time Remaining: 3 m\n",
      "Estimated Time Remaining: 3 m\n",
      "Estimated Time Remaining: 2 m\n",
      "Estimated Time Remaining: 2 m\n",
      "Estimated Time Remaining: 2 m\n",
      "Estimated Time Remaining: 1 m\n",
      "Estimated Time Remaining: 1 m\n",
      "Estimated Time Remaining: 1 m\n",
      "Estimated Time Remaining: 0 m\n",
      "Estimated Time Remaining: 0 m\n"
     ]
    },
    {
     "name": "stderr",
     "output_type": "stream",
     "text": [
      "<ipython-input-38-6e3985ef19b8>:97: SettingWithCopyWarning: \n",
      "A value is trying to be set on a copy of a slice from a DataFrame.\n",
      "Try using .loc[row_indexer,col_indexer] = value instead\n",
      "\n",
      "See the caveats in the documentation: https://pandas.pydata.org/pandas-docs/stable/user_guide/indexing.html#returning-a-view-versus-a-copy\n",
      "  df_1['sentiment'] = pd.Series(sentiment).values\n"
     ]
    },
    {
     "name": "stdout",
     "output_type": "stream",
     "text": [
      "thread only worker: Done with com.droidhang.ad.pkl\n",
      "thread only worker: loading file: com.dena.a12026418.pkl\n",
      "thread only worker: encoding text for analysis...\n",
      "thread only worker: performing sentiment analysis on: Pokémon Masters EX\n"
     ]
    },
    {
     "name": "stderr",
     "output_type": "stream",
     "text": [
      "<ipython-input-38-6e3985ef19b8>:56: SettingWithCopyWarning: \n",
      "A value is trying to be set on a copy of a slice from a DataFrame.\n",
      "Try using .loc[row_indexer,col_indexer] = value instead\n",
      "\n",
      "See the caveats in the documentation: https://pandas.pydata.org/pandas-docs/stable/user_guide/indexing.html#returning-a-view-versus-a-copy\n",
      "  df_1['sentiment'] = pd.Series(sentiment).values\n"
     ]
    },
    {
     "name": "stdout",
     "output_type": "stream",
     "text": [
      "Estimated Time Remaining: 13 m\n",
      "Estimated Time Remaining: 13 m\n",
      "Estimated Time Remaining: 13 m\n",
      "Estimated Time Remaining: 13 m\n",
      "Estimated Time Remaining: 12 m\n",
      "Estimated Time Remaining: 12 m\n",
      "Estimated Time Remaining: 12 m\n",
      "Estimated Time Remaining: 12 m\n",
      "Estimated Time Remaining: 11 m\n",
      "Estimated Time Remaining: 11 m\n",
      "Estimated Time Remaining: 11 m\n",
      "Estimated Time Remaining: 10 m\n",
      "Estimated Time Remaining: 10 m\n",
      "Estimated Time Remaining: 10 m\n",
      "Estimated Time Remaining: 10 m\n",
      "Estimated Time Remaining: 9 m\n",
      "Estimated Time Remaining: 9 m\n",
      "Estimated Time Remaining: 9 m\n",
      "Estimated Time Remaining: 8 m\n",
      "Estimated Time Remaining: 8 m\n",
      "Estimated Time Remaining: 8 m\n",
      "Estimated Time Remaining: 8 m\n",
      "Estimated Time Remaining: 7 m\n",
      "Estimated Time Remaining: 7 m\n",
      "Estimated Time Remaining: 7 m\n",
      "Estimated Time Remaining: 6 m\n",
      "Estimated Time Remaining: 6 m\n",
      "Estimated Time Remaining: 6 m\n",
      "Estimated Time Remaining: 5 m\n",
      "Estimated Time Remaining: 5 m\n",
      "Estimated Time Remaining: 5 m\n",
      "Estimated Time Remaining: 5 m\n",
      "Estimated Time Remaining: 4 m\n",
      "Estimated Time Remaining: 4 m\n",
      "Estimated Time Remaining: 4 m\n",
      "Estimated Time Remaining: 3 m\n",
      "Estimated Time Remaining: 3 m\n",
      "Estimated Time Remaining: 3 m\n",
      "Estimated Time Remaining: 2 m\n",
      "Estimated Time Remaining: 2 m\n",
      "Estimated Time Remaining: 2 m\n",
      "Estimated Time Remaining: 2 m\n",
      "Estimated Time Remaining: 1 m\n",
      "Estimated Time Remaining: 1 m\n",
      "Estimated Time Remaining: 1 m\n",
      "Estimated Time Remaining: 0 m\n",
      "Estimated Time Remaining: 0 m\n",
      "thread only worker: Done with com.dena.a12026418.pkl\n",
      "thread only worker: loading file: jp.konami.duellinks.pkl\n",
      "thread only worker: encoding text for analysis...\n",
      "thread only worker: performing sentiment analysis on: Yu-Gi-Oh! Duel Links\n"
     ]
    },
    {
     "name": "stderr",
     "output_type": "stream",
     "text": [
      "<ipython-input-38-6e3985ef19b8>:56: SettingWithCopyWarning: \n",
      "A value is trying to be set on a copy of a slice from a DataFrame.\n",
      "Try using .loc[row_indexer,col_indexer] = value instead\n",
      "\n",
      "See the caveats in the documentation: https://pandas.pydata.org/pandas-docs/stable/user_guide/indexing.html#returning-a-view-versus-a-copy\n",
      "  df_1['sentiment'] = pd.Series(sentiment).values\n"
     ]
    },
    {
     "name": "stdout",
     "output_type": "stream",
     "text": [
      "Estimated Time Remaining: 41 m\n",
      "Estimated Time Remaining: 41 m\n",
      "Estimated Time Remaining: 41 m\n",
      "Estimated Time Remaining: 41 m\n",
      "Estimated Time Remaining: 40 m\n",
      "Estimated Time Remaining: 40 m\n",
      "Estimated Time Remaining: 40 m\n",
      "Estimated Time Remaining: 40 m\n",
      "Estimated Time Remaining: 40 m\n",
      "Estimated Time Remaining: 39 m\n",
      "Estimated Time Remaining: 39 m\n",
      "Estimated Time Remaining: 39 m\n",
      "Estimated Time Remaining: 38 m\n",
      "Estimated Time Remaining: 38 m\n",
      "Estimated Time Remaining: 38 m\n",
      "Estimated Time Remaining: 38 m\n",
      "Estimated Time Remaining: 37 m\n",
      "Estimated Time Remaining: 37 m\n",
      "Estimated Time Remaining: 37 m\n",
      "Estimated Time Remaining: 37 m\n",
      "Estimated Time Remaining: 36 m\n",
      "Estimated Time Remaining: 36 m\n",
      "Estimated Time Remaining: 36 m\n",
      "Estimated Time Remaining: 35 m\n",
      "Estimated Time Remaining: 35 m\n",
      "Estimated Time Remaining: 35 m\n",
      "Estimated Time Remaining: 35 m\n",
      "Estimated Time Remaining: 34 m\n",
      "Estimated Time Remaining: 34 m\n",
      "Estimated Time Remaining: 34 m\n",
      "Estimated Time Remaining: 34 m\n",
      "Estimated Time Remaining: 33 m\n",
      "Estimated Time Remaining: 33 m\n",
      "Estimated Time Remaining: 33 m\n",
      "Estimated Time Remaining: 32 m\n",
      "Estimated Time Remaining: 32 m\n",
      "Estimated Time Remaining: 32 m\n",
      "Estimated Time Remaining: 32 m\n",
      "Estimated Time Remaining: 31 m\n",
      "Estimated Time Remaining: 31 m\n",
      "Estimated Time Remaining: 31 m\n",
      "Estimated Time Remaining: 30 m\n",
      "Estimated Time Remaining: 30 m\n",
      "Estimated Time Remaining: 30 m\n",
      "Estimated Time Remaining: 30 m\n",
      "Estimated Time Remaining: 29 m\n",
      "Estimated Time Remaining: 29 m\n",
      "Estimated Time Remaining: 29 m\n",
      "Estimated Time Remaining: 29 m\n",
      "Estimated Time Remaining: 28 m\n",
      "Estimated Time Remaining: 28 m\n",
      "Estimated Time Remaining: 28 m\n",
      "Estimated Time Remaining: 27 m\n",
      "Estimated Time Remaining: 27 m\n",
      "Estimated Time Remaining: 27 m\n",
      "Estimated Time Remaining: 27 m\n",
      "Estimated Time Remaining: 26 m\n",
      "Estimated Time Remaining: 26 m\n",
      "Estimated Time Remaining: 26 m\n",
      "Estimated Time Remaining: 25 m\n",
      "Estimated Time Remaining: 25 m\n",
      "Estimated Time Remaining: 25 m\n",
      "Estimated Time Remaining: 25 m\n",
      "Estimated Time Remaining: 24 m\n",
      "Estimated Time Remaining: 24 m\n",
      "Estimated Time Remaining: 24 m\n",
      "Estimated Time Remaining: 23 m\n",
      "Estimated Time Remaining: 23 m\n",
      "Estimated Time Remaining: 23 m\n",
      "Estimated Time Remaining: 23 m\n",
      "Estimated Time Remaining: 22 m\n",
      "Estimated Time Remaining: 22 m\n",
      "Estimated Time Remaining: 22 m\n",
      "Estimated Time Remaining: 21 m\n",
      "Estimated Time Remaining: 21 m\n",
      "Estimated Time Remaining: 21 m\n",
      "Estimated Time Remaining: 20 m\n",
      "Estimated Time Remaining: 20 m\n",
      "Estimated Time Remaining: 20 m\n",
      "Estimated Time Remaining: 20 m\n",
      "Estimated Time Remaining: 19 m\n",
      "Estimated Time Remaining: 19 m\n",
      "Estimated Time Remaining: 19 m\n",
      "Estimated Time Remaining: 18 m\n",
      "Estimated Time Remaining: 18 m\n",
      "Estimated Time Remaining: 18 m\n",
      "Estimated Time Remaining: 17 m\n",
      "Estimated Time Remaining: 17 m\n",
      "Estimated Time Remaining: 17 m\n",
      "Estimated Time Remaining: 17 m\n",
      "Estimated Time Remaining: 16 m\n",
      "Estimated Time Remaining: 16 m\n",
      "Estimated Time Remaining: 16 m\n",
      "Estimated Time Remaining: 15 m\n",
      "Estimated Time Remaining: 15 m\n",
      "Estimated Time Remaining: 15 m\n",
      "Estimated Time Remaining: 14 m\n",
      "Estimated Time Remaining: 14 m\n",
      "Estimated Time Remaining: 14 m\n",
      "Estimated Time Remaining: 13 m\n",
      "Estimated Time Remaining: 13 m\n",
      "Estimated Time Remaining: 13 m\n",
      "Estimated Time Remaining: 13 m\n",
      "Estimated Time Remaining: 12 m\n",
      "Estimated Time Remaining: 12 m\n",
      "Estimated Time Remaining: 12 m\n",
      "Estimated Time Remaining: 11 m\n",
      "Estimated Time Remaining: 11 m\n",
      "Estimated Time Remaining: 11 m\n",
      "Estimated Time Remaining: 10 m\n",
      "Estimated Time Remaining: 10 m\n",
      "Estimated Time Remaining: 10 m\n",
      "Estimated Time Remaining: 9 m\n",
      "Estimated Time Remaining: 9 m\n",
      "Estimated Time Remaining: 9 m\n",
      "Estimated Time Remaining: 9 m\n",
      "Estimated Time Remaining: 8 m\n",
      "Estimated Time Remaining: 8 m\n",
      "Estimated Time Remaining: 8 m\n",
      "Estimated Time Remaining: 7 m\n",
      "Estimated Time Remaining: 7 m\n",
      "Estimated Time Remaining: 7 m\n",
      "Estimated Time Remaining: 6 m\n",
      "Estimated Time Remaining: 6 m\n",
      "Estimated Time Remaining: 6 m\n",
      "Estimated Time Remaining: 5 m\n",
      "Estimated Time Remaining: 5 m\n",
      "Estimated Time Remaining: 5 m\n",
      "Estimated Time Remaining: 4 m\n",
      "Estimated Time Remaining: 4 m\n",
      "Estimated Time Remaining: 4 m\n",
      "Estimated Time Remaining: 3 m\n",
      "Estimated Time Remaining: 3 m\n",
      "Estimated Time Remaining: 3 m\n",
      "Estimated Time Remaining: 2 m\n",
      "Estimated Time Remaining: 2 m\n",
      "Estimated Time Remaining: 2 m\n",
      "Estimated Time Remaining: 1 m\n",
      "Estimated Time Remaining: 1 m\n",
      "Estimated Time Remaining: 1 m\n",
      "Estimated Time Remaining: 0 m\n",
      "Estimated Time Remaining: 0 m\n"
     ]
    },
    {
     "name": "stderr",
     "output_type": "stream",
     "text": [
      "<ipython-input-38-6e3985ef19b8>:97: SettingWithCopyWarning: \n",
      "A value is trying to be set on a copy of a slice from a DataFrame.\n",
      "Try using .loc[row_indexer,col_indexer] = value instead\n",
      "\n",
      "See the caveats in the documentation: https://pandas.pydata.org/pandas-docs/stable/user_guide/indexing.html#returning-a-view-versus-a-copy\n",
      "  df_1['sentiment'] = pd.Series(sentiment).values\n"
     ]
    },
    {
     "name": "stdout",
     "output_type": "stream",
     "text": [
      "thread only worker: Done with jp.konami.duellinks.pkl\n",
      "thread only worker: loading file: com.YoStarEN.Arknights.pkl\n",
      "thread only worker: encoding text for analysis...\n",
      "thread only worker: performing sentiment analysis on: Arknights\n"
     ]
    },
    {
     "name": "stderr",
     "output_type": "stream",
     "text": [
      "<ipython-input-38-6e3985ef19b8>:56: SettingWithCopyWarning: \n",
      "A value is trying to be set on a copy of a slice from a DataFrame.\n",
      "Try using .loc[row_indexer,col_indexer] = value instead\n",
      "\n",
      "See the caveats in the documentation: https://pandas.pydata.org/pandas-docs/stable/user_guide/indexing.html#returning-a-view-versus-a-copy\n",
      "  df_1['sentiment'] = pd.Series(sentiment).values\n"
     ]
    },
    {
     "name": "stdout",
     "output_type": "stream",
     "text": [
      "Estimated Time Remaining: 4 m\n",
      "Estimated Time Remaining: 4 m\n",
      "Estimated Time Remaining: 4 m\n",
      "Estimated Time Remaining: 3 m\n",
      "Estimated Time Remaining: 3 m\n",
      "Estimated Time Remaining: 3 m\n",
      "Estimated Time Remaining: 2 m\n",
      "Estimated Time Remaining: 2 m\n",
      "Estimated Time Remaining: 2 m\n",
      "Estimated Time Remaining: 2 m\n",
      "Estimated Time Remaining: 1 m\n",
      "Estimated Time Remaining: 1 m\n",
      "Estimated Time Remaining: 1 m\n",
      "Estimated Time Remaining: 0 m\n",
      "Estimated Time Remaining: 0 m\n"
     ]
    },
    {
     "name": "stderr",
     "output_type": "stream",
     "text": [
      "<ipython-input-38-6e3985ef19b8>:97: SettingWithCopyWarning: \n",
      "A value is trying to be set on a copy of a slice from a DataFrame.\n",
      "Try using .loc[row_indexer,col_indexer] = value instead\n",
      "\n",
      "See the caveats in the documentation: https://pandas.pydata.org/pandas-docs/stable/user_guide/indexing.html#returning-a-view-versus-a-copy\n",
      "  df_1['sentiment'] = pd.Series(sentiment).values\n"
     ]
    },
    {
     "name": "stdout",
     "output_type": "stream",
     "text": [
      "thread only worker: Done with com.YoStarEN.Arknights.pkl\n",
      "thread only worker: loading file: com.square_enix.android_googleplay.WOTVffbeww.pkl\n",
      "thread only worker: encoding text for analysis...\n",
      "thread only worker: performing sentiment analysis on: FFBE WAR OF THE VISIONS\n"
     ]
    },
    {
     "name": "stderr",
     "output_type": "stream",
     "text": [
      "<ipython-input-38-6e3985ef19b8>:56: SettingWithCopyWarning: \n",
      "A value is trying to be set on a copy of a slice from a DataFrame.\n",
      "Try using .loc[row_indexer,col_indexer] = value instead\n",
      "\n",
      "See the caveats in the documentation: https://pandas.pydata.org/pandas-docs/stable/user_guide/indexing.html#returning-a-view-versus-a-copy\n",
      "  df_1['sentiment'] = pd.Series(sentiment).values\n"
     ]
    },
    {
     "name": "stdout",
     "output_type": "stream",
     "text": [
      "Estimated Time Remaining: 3 m\n",
      "Estimated Time Remaining: 3 m\n",
      "Estimated Time Remaining: 3 m\n",
      "Estimated Time Remaining: 2 m\n",
      "Estimated Time Remaining: 2 m\n",
      "Estimated Time Remaining: 2 m\n",
      "Estimated Time Remaining: 2 m\n",
      "Estimated Time Remaining: 1 m\n",
      "Estimated Time Remaining: 1 m\n",
      "Estimated Time Remaining: 1 m\n",
      "Estimated Time Remaining: 0 m\n",
      "Estimated Time Remaining: 0 m\n"
     ]
    },
    {
     "name": "stderr",
     "output_type": "stream",
     "text": [
      "<ipython-input-38-6e3985ef19b8>:97: SettingWithCopyWarning: \n",
      "A value is trying to be set on a copy of a slice from a DataFrame.\n",
      "Try using .loc[row_indexer,col_indexer] = value instead\n",
      "\n",
      "See the caveats in the documentation: https://pandas.pydata.org/pandas-docs/stable/user_guide/indexing.html#returning-a-view-versus-a-copy\n",
      "  df_1['sentiment'] = pd.Series(sentiment).values\n"
     ]
    },
    {
     "name": "stdout",
     "output_type": "stream",
     "text": [
      "thread only worker: Done with com.square_enix.android_googleplay.WOTVffbeww.pkl\n",
      "thread only worker: loading file: com.miHoYo.bh3global.pkl\n",
      "thread only worker: encoding text for analysis...\n",
      "thread only worker: performing sentiment analysis on: Honkai Impact 3rd\n"
     ]
    },
    {
     "name": "stderr",
     "output_type": "stream",
     "text": [
      "<ipython-input-38-6e3985ef19b8>:56: SettingWithCopyWarning: \n",
      "A value is trying to be set on a copy of a slice from a DataFrame.\n",
      "Try using .loc[row_indexer,col_indexer] = value instead\n",
      "\n",
      "See the caveats in the documentation: https://pandas.pydata.org/pandas-docs/stable/user_guide/indexing.html#returning-a-view-versus-a-copy\n",
      "  df_1['sentiment'] = pd.Series(sentiment).values\n"
     ]
    },
    {
     "name": "stdout",
     "output_type": "stream",
     "text": [
      "Estimated Time Remaining: 8 m\n",
      "Estimated Time Remaining: 7 m\n",
      "Estimated Time Remaining: 7 m\n",
      "Estimated Time Remaining: 7 m\n",
      "Estimated Time Remaining: 6 m\n",
      "Estimated Time Remaining: 6 m\n",
      "Estimated Time Remaining: 6 m\n",
      "Estimated Time Remaining: 5 m\n",
      "Estimated Time Remaining: 5 m\n",
      "Estimated Time Remaining: 5 m\n",
      "Estimated Time Remaining: 5 m\n",
      "Estimated Time Remaining: 4 m\n",
      "Estimated Time Remaining: 4 m\n",
      "Estimated Time Remaining: 4 m\n",
      "Estimated Time Remaining: 3 m\n",
      "Estimated Time Remaining: 3 m\n",
      "Estimated Time Remaining: 3 m\n",
      "Estimated Time Remaining: 3 m\n",
      "Estimated Time Remaining: 2 m\n",
      "Estimated Time Remaining: 2 m\n",
      "Estimated Time Remaining: 2 m\n",
      "Estimated Time Remaining: 1 m\n",
      "Estimated Time Remaining: 1 m\n",
      "Estimated Time Remaining: 1 m\n",
      "Estimated Time Remaining: 0 m\n",
      "Estimated Time Remaining: 0 m\n"
     ]
    },
    {
     "name": "stderr",
     "output_type": "stream",
     "text": [
      "<ipython-input-38-6e3985ef19b8>:97: SettingWithCopyWarning: \n",
      "A value is trying to be set on a copy of a slice from a DataFrame.\n",
      "Try using .loc[row_indexer,col_indexer] = value instead\n",
      "\n",
      "See the caveats in the documentation: https://pandas.pydata.org/pandas-docs/stable/user_guide/indexing.html#returning-a-view-versus-a-copy\n",
      "  df_1['sentiment'] = pd.Series(sentiment).values\n"
     ]
    },
    {
     "name": "stdout",
     "output_type": "stream",
     "text": [
      "thread only worker: Done with com.miHoYo.bh3global.pkl\n",
      "thread only worker: loading file: com.bandainamcoent.opbrww.pkl\n",
      "thread only worker: encoding text for analysis...\n",
      "thread only worker: performing sentiment analysis on: ONE PIECE Bounty Rush\n"
     ]
    },
    {
     "name": "stderr",
     "output_type": "stream",
     "text": [
      "<ipython-input-38-6e3985ef19b8>:56: SettingWithCopyWarning: \n",
      "A value is trying to be set on a copy of a slice from a DataFrame.\n",
      "Try using .loc[row_indexer,col_indexer] = value instead\n",
      "\n",
      "See the caveats in the documentation: https://pandas.pydata.org/pandas-docs/stable/user_guide/indexing.html#returning-a-view-versus-a-copy\n",
      "  df_1['sentiment'] = pd.Series(sentiment).values\n"
     ]
    },
    {
     "name": "stdout",
     "output_type": "stream",
     "text": [
      "Estimated Time Remaining: 6 m\n",
      "Estimated Time Remaining: 6 m\n",
      "Estimated Time Remaining: 6 m\n",
      "Estimated Time Remaining: 5 m\n",
      "Estimated Time Remaining: 5 m\n",
      "Estimated Time Remaining: 5 m\n",
      "Estimated Time Remaining: 4 m\n",
      "Estimated Time Remaining: 4 m\n",
      "Estimated Time Remaining: 4 m\n",
      "Estimated Time Remaining: 4 m\n",
      "Estimated Time Remaining: 3 m\n",
      "Estimated Time Remaining: 3 m\n",
      "Estimated Time Remaining: 3 m\n",
      "Estimated Time Remaining: 2 m\n",
      "Estimated Time Remaining: 2 m\n",
      "Estimated Time Remaining: 2 m\n",
      "Estimated Time Remaining: 2 m\n",
      "Estimated Time Remaining: 1 m\n",
      "Estimated Time Remaining: 1 m\n",
      "Estimated Time Remaining: 1 m\n",
      "Estimated Time Remaining: 0 m\n",
      "Estimated Time Remaining: 0 m\n"
     ]
    },
    {
     "name": "stderr",
     "output_type": "stream",
     "text": [
      "<ipython-input-38-6e3985ef19b8>:97: SettingWithCopyWarning: \n",
      "A value is trying to be set on a copy of a slice from a DataFrame.\n",
      "Try using .loc[row_indexer,col_indexer] = value instead\n",
      "\n",
      "See the caveats in the documentation: https://pandas.pydata.org/pandas-docs/stable/user_guide/indexing.html#returning-a-view-versus-a-copy\n",
      "  df_1['sentiment'] = pd.Series(sentiment).values\n"
     ]
    },
    {
     "name": "stdout",
     "output_type": "stream",
     "text": [
      "thread only worker: Done with com.bandainamcoent.opbrww.pkl\n",
      "thread only worker: loading file: com.bandainamcoent.tensuramrkww.pkl\n",
      "thread only worker: encoding text for analysis...\n",
      "thread only worker: performing sentiment analysis on: SLIME - ISEKAI Memories\n"
     ]
    },
    {
     "name": "stderr",
     "output_type": "stream",
     "text": [
      "<ipython-input-38-6e3985ef19b8>:56: SettingWithCopyWarning: \n",
      "A value is trying to be set on a copy of a slice from a DataFrame.\n",
      "Try using .loc[row_indexer,col_indexer] = value instead\n",
      "\n",
      "See the caveats in the documentation: https://pandas.pydata.org/pandas-docs/stable/user_guide/indexing.html#returning-a-view-versus-a-copy\n",
      "  df_1['sentiment'] = pd.Series(sentiment).values\n"
     ]
    },
    {
     "name": "stdout",
     "output_type": "stream",
     "text": [
      "Estimated Time Remaining: 2 m\n",
      "Estimated Time Remaining: 2 m\n",
      "Estimated Time Remaining: 2 m\n",
      "Estimated Time Remaining: 1 m\n",
      "Estimated Time Remaining: 1 m\n",
      "Estimated Time Remaining: 1 m\n",
      "Estimated Time Remaining: 0 m\n",
      "Estimated Time Remaining: 0 m\n"
     ]
    },
    {
     "name": "stderr",
     "output_type": "stream",
     "text": [
      "<ipython-input-38-6e3985ef19b8>:97: SettingWithCopyWarning: \n",
      "A value is trying to be set on a copy of a slice from a DataFrame.\n",
      "Try using .loc[row_indexer,col_indexer] = value instead\n",
      "\n",
      "See the caveats in the documentation: https://pandas.pydata.org/pandas-docs/stable/user_guide/indexing.html#returning-a-view-versus-a-copy\n",
      "  df_1['sentiment'] = pd.Series(sentiment).values\n"
     ]
    },
    {
     "name": "stdout",
     "output_type": "stream",
     "text": [
      "thread only worker: Done with com.bandainamcoent.tensuramrkww.pkl\n",
      "thread only worker: loading file: jp.co.ponos.battlecatsen.pkl\n",
      "thread only worker: encoding text for analysis...\n",
      "thread only worker: performing sentiment analysis on: The Battle Cats\n"
     ]
    },
    {
     "name": "stderr",
     "output_type": "stream",
     "text": [
      "<ipython-input-38-6e3985ef19b8>:56: SettingWithCopyWarning: \n",
      "A value is trying to be set on a copy of a slice from a DataFrame.\n",
      "Try using .loc[row_indexer,col_indexer] = value instead\n",
      "\n",
      "See the caveats in the documentation: https://pandas.pydata.org/pandas-docs/stable/user_guide/indexing.html#returning-a-view-versus-a-copy\n",
      "  df_1['sentiment'] = pd.Series(sentiment).values\n"
     ]
    },
    {
     "name": "stdout",
     "output_type": "stream",
     "text": [
      "Estimated Time Remaining: 13 m\n",
      "Estimated Time Remaining: 13 m\n",
      "Estimated Time Remaining: 12 m\n",
      "Estimated Time Remaining: 12 m\n",
      "Estimated Time Remaining: 12 m\n",
      "Estimated Time Remaining: 11 m\n",
      "Estimated Time Remaining: 11 m\n",
      "Estimated Time Remaining: 11 m\n",
      "Estimated Time Remaining: 11 m\n",
      "Estimated Time Remaining: 10 m\n",
      "Estimated Time Remaining: 10 m\n",
      "Estimated Time Remaining: 10 m\n",
      "Estimated Time Remaining: 9 m\n",
      "Estimated Time Remaining: 9 m\n",
      "Estimated Time Remaining: 9 m\n",
      "Estimated Time Remaining: 9 m\n",
      "Estimated Time Remaining: 8 m\n",
      "Estimated Time Remaining: 8 m\n",
      "Estimated Time Remaining: 8 m\n",
      "Estimated Time Remaining: 7 m\n",
      "Estimated Time Remaining: 7 m\n",
      "Estimated Time Remaining: 7 m\n",
      "Estimated Time Remaining: 6 m\n",
      "Estimated Time Remaining: 6 m\n",
      "Estimated Time Remaining: 6 m\n",
      "Estimated Time Remaining: 6 m\n",
      "Estimated Time Remaining: 5 m\n",
      "Estimated Time Remaining: 5 m\n",
      "Estimated Time Remaining: 5 m\n",
      "Estimated Time Remaining: 4 m\n",
      "Estimated Time Remaining: 4 m\n",
      "Estimated Time Remaining: 4 m\n",
      "Estimated Time Remaining: 3 m\n",
      "Estimated Time Remaining: 3 m\n",
      "Estimated Time Remaining: 3 m\n",
      "Estimated Time Remaining: 3 m\n",
      "Estimated Time Remaining: 2 m\n",
      "Estimated Time Remaining: 2 m\n",
      "Estimated Time Remaining: 2 m\n",
      "Estimated Time Remaining: 1 m\n",
      "Estimated Time Remaining: 1 m\n",
      "Estimated Time Remaining: 1 m\n",
      "Estimated Time Remaining: 0 m\n",
      "Estimated Time Remaining: 0 m\n"
     ]
    },
    {
     "name": "stderr",
     "output_type": "stream",
     "text": [
      "<ipython-input-38-6e3985ef19b8>:97: SettingWithCopyWarning: \n",
      "A value is trying to be set on a copy of a slice from a DataFrame.\n",
      "Try using .loc[row_indexer,col_indexer] = value instead\n",
      "\n",
      "See the caveats in the documentation: https://pandas.pydata.org/pandas-docs/stable/user_guide/indexing.html#returning-a-view-versus-a-copy\n",
      "  df_1['sentiment'] = pd.Series(sentiment).values\n"
     ]
    },
    {
     "name": "stdout",
     "output_type": "stream",
     "text": [
      "thread only worker: Done with jp.co.ponos.battlecatsen.pkl\n",
      "thread only worker: loading file: games.wfs.anothereden.pkl\n",
      "thread only worker: encoding text for analysis...\n",
      "thread only worker: performing sentiment analysis on: ANOTHER EDEN Global\n"
     ]
    },
    {
     "name": "stderr",
     "output_type": "stream",
     "text": [
      "<ipython-input-38-6e3985ef19b8>:56: SettingWithCopyWarning: \n",
      "A value is trying to be set on a copy of a slice from a DataFrame.\n",
      "Try using .loc[row_indexer,col_indexer] = value instead\n",
      "\n",
      "See the caveats in the documentation: https://pandas.pydata.org/pandas-docs/stable/user_guide/indexing.html#returning-a-view-versus-a-copy\n",
      "  df_1['sentiment'] = pd.Series(sentiment).values\n"
     ]
    },
    {
     "name": "stdout",
     "output_type": "stream",
     "text": [
      "Estimated Time Remaining: 4 m\n",
      "Estimated Time Remaining: 4 m\n",
      "Estimated Time Remaining: 4 m\n",
      "Estimated Time Remaining: 4 m\n",
      "Estimated Time Remaining: 3 m\n",
      "Estimated Time Remaining: 3 m\n",
      "Estimated Time Remaining: 3 m\n",
      "Estimated Time Remaining: 2 m\n",
      "Estimated Time Remaining: 2 m\n",
      "Estimated Time Remaining: 2 m\n",
      "Estimated Time Remaining: 2 m\n",
      "Estimated Time Remaining: 1 m\n",
      "Estimated Time Remaining: 1 m\n",
      "Estimated Time Remaining: 1 m\n",
      "Estimated Time Remaining: 0 m\n",
      "Estimated Time Remaining: 0 m\n"
     ]
    },
    {
     "name": "stderr",
     "output_type": "stream",
     "text": [
      "<ipython-input-38-6e3985ef19b8>:97: SettingWithCopyWarning: \n",
      "A value is trying to be set on a copy of a slice from a DataFrame.\n",
      "Try using .loc[row_indexer,col_indexer] = value instead\n",
      "\n",
      "See the caveats in the documentation: https://pandas.pydata.org/pandas-docs/stable/user_guide/indexing.html#returning-a-view-versus-a-copy\n",
      "  df_1['sentiment'] = pd.Series(sentiment).values\n"
     ]
    },
    {
     "name": "stdout",
     "output_type": "stream",
     "text": [
      "thread only worker: Done with games.wfs.anothereden.pkl\n",
      "thread only worker: loading file: com.namcobandaigames.spmoja010E.pkl\n",
      "thread only worker: encoding text for analysis...\n",
      "thread only worker: performing sentiment analysis on: ONE PIECE TREASURE CRUISE\n"
     ]
    },
    {
     "name": "stderr",
     "output_type": "stream",
     "text": [
      "<ipython-input-38-6e3985ef19b8>:56: SettingWithCopyWarning: \n",
      "A value is trying to be set on a copy of a slice from a DataFrame.\n",
      "Try using .loc[row_indexer,col_indexer] = value instead\n",
      "\n",
      "See the caveats in the documentation: https://pandas.pydata.org/pandas-docs/stable/user_guide/indexing.html#returning-a-view-versus-a-copy\n",
      "  df_1['sentiment'] = pd.Series(sentiment).values\n"
     ]
    },
    {
     "name": "stdout",
     "output_type": "stream",
     "text": [
      "Estimated Time Remaining: 23 m\n",
      "Estimated Time Remaining: 23 m\n",
      "Estimated Time Remaining: 22 m\n",
      "Estimated Time Remaining: 22 m\n",
      "Estimated Time Remaining: 22 m\n",
      "Estimated Time Remaining: 22 m\n",
      "Estimated Time Remaining: 21 m\n",
      "Estimated Time Remaining: 21 m\n",
      "Estimated Time Remaining: 21 m\n",
      "Estimated Time Remaining: 20 m\n",
      "Estimated Time Remaining: 20 m\n",
      "Estimated Time Remaining: 20 m\n",
      "Estimated Time Remaining: 20 m\n",
      "Estimated Time Remaining: 19 m\n",
      "Estimated Time Remaining: 19 m\n",
      "Estimated Time Remaining: 19 m\n",
      "Estimated Time Remaining: 18 m\n",
      "Estimated Time Remaining: 18 m\n",
      "Estimated Time Remaining: 18 m\n",
      "Estimated Time Remaining: 18 m\n",
      "Estimated Time Remaining: 17 m\n",
      "Estimated Time Remaining: 17 m\n",
      "Estimated Time Remaining: 17 m\n",
      "Estimated Time Remaining: 16 m\n",
      "Estimated Time Remaining: 16 m\n",
      "Estimated Time Remaining: 16 m\n",
      "Estimated Time Remaining: 16 m\n",
      "Estimated Time Remaining: 15 m\n",
      "Estimated Time Remaining: 15 m\n",
      "Estimated Time Remaining: 15 m\n",
      "Estimated Time Remaining: 14 m\n",
      "Estimated Time Remaining: 14 m\n",
      "Estimated Time Remaining: 14 m\n",
      "Estimated Time Remaining: 14 m\n",
      "Estimated Time Remaining: 13 m\n",
      "Estimated Time Remaining: 13 m\n",
      "Estimated Time Remaining: 13 m\n",
      "Estimated Time Remaining: 12 m\n",
      "Estimated Time Remaining: 12 m\n",
      "Estimated Time Remaining: 12 m\n",
      "Estimated Time Remaining: 11 m\n",
      "Estimated Time Remaining: 11 m\n",
      "Estimated Time Remaining: 11 m\n",
      "Estimated Time Remaining: 11 m\n",
      "Estimated Time Remaining: 10 m\n",
      "Estimated Time Remaining: 10 m\n",
      "Estimated Time Remaining: 10 m\n",
      "Estimated Time Remaining: 9 m\n",
      "Estimated Time Remaining: 9 m\n",
      "Estimated Time Remaining: 9 m\n",
      "Estimated Time Remaining: 9 m\n",
      "Estimated Time Remaining: 8 m\n",
      "Estimated Time Remaining: 8 m\n",
      "Estimated Time Remaining: 8 m\n",
      "Estimated Time Remaining: 7 m\n",
      "Estimated Time Remaining: 7 m\n",
      "Estimated Time Remaining: 7 m\n",
      "Estimated Time Remaining: 6 m\n",
      "Estimated Time Remaining: 6 m\n",
      "Estimated Time Remaining: 6 m\n",
      "Estimated Time Remaining: 6 m\n",
      "Estimated Time Remaining: 5 m\n",
      "Estimated Time Remaining: 5 m\n",
      "Estimated Time Remaining: 5 m\n",
      "Estimated Time Remaining: 4 m\n",
      "Estimated Time Remaining: 4 m\n",
      "Estimated Time Remaining: 4 m\n",
      "Estimated Time Remaining: 3 m\n",
      "Estimated Time Remaining: 3 m\n",
      "Estimated Time Remaining: 3 m\n",
      "Estimated Time Remaining: 2 m\n",
      "Estimated Time Remaining: 2 m\n",
      "Estimated Time Remaining: 2 m\n",
      "Estimated Time Remaining: 2 m\n",
      "Estimated Time Remaining: 1 m\n",
      "Estimated Time Remaining: 1 m\n",
      "Estimated Time Remaining: 1 m\n",
      "Estimated Time Remaining: 0 m\n"
     ]
    },
    {
     "name": "stderr",
     "output_type": "stream",
     "text": [
      "<ipython-input-38-6e3985ef19b8>:97: SettingWithCopyWarning: \n",
      "A value is trying to be set on a copy of a slice from a DataFrame.\n",
      "Try using .loc[row_indexer,col_indexer] = value instead\n",
      "\n",
      "See the caveats in the documentation: https://pandas.pydata.org/pandas-docs/stable/user_guide/indexing.html#returning-a-view-versus-a-copy\n",
      "  df_1['sentiment'] = pd.Series(sentiment).values\n"
     ]
    },
    {
     "name": "stdout",
     "output_type": "stream",
     "text": [
      "thread only worker: Done with com.namcobandaigames.spmoja010E.pkl\n",
      "thread only worker: loading file: com.zigzagame.evertale.pkl\n",
      "thread only worker: encoding text for analysis...\n",
      "thread only worker: performing sentiment analysis on: Evertale\n"
     ]
    },
    {
     "name": "stderr",
     "output_type": "stream",
     "text": [
      "<ipython-input-38-6e3985ef19b8>:56: SettingWithCopyWarning: \n",
      "A value is trying to be set on a copy of a slice from a DataFrame.\n",
      "Try using .loc[row_indexer,col_indexer] = value instead\n",
      "\n",
      "See the caveats in the documentation: https://pandas.pydata.org/pandas-docs/stable/user_guide/indexing.html#returning-a-view-versus-a-copy\n",
      "  df_1['sentiment'] = pd.Series(sentiment).values\n"
     ]
    },
    {
     "name": "stdout",
     "output_type": "stream",
     "text": [
      "Estimated Time Remaining: 6 m\n",
      "Estimated Time Remaining: 6 m\n",
      "Estimated Time Remaining: 6 m\n",
      "Estimated Time Remaining: 5 m\n",
      "Estimated Time Remaining: 5 m\n",
      "Estimated Time Remaining: 5 m\n",
      "Estimated Time Remaining: 5 m\n",
      "Estimated Time Remaining: 4 m\n",
      "Estimated Time Remaining: 4 m\n",
      "Estimated Time Remaining: 4 m\n",
      "Estimated Time Remaining: 3 m\n",
      "Estimated Time Remaining: 3 m\n",
      "Estimated Time Remaining: 3 m\n",
      "Estimated Time Remaining: 2 m\n",
      "Estimated Time Remaining: 2 m\n",
      "Estimated Time Remaining: 2 m\n",
      "Estimated Time Remaining: 2 m\n",
      "Estimated Time Remaining: 1 m\n",
      "Estimated Time Remaining: 1 m\n",
      "Estimated Time Remaining: 1 m\n",
      "Estimated Time Remaining: 0 m\n",
      "Estimated Time Remaining: 0 m\n",
      "thread only worker: Done with com.zigzagame.evertale.pkl\n",
      "thread only worker: loading file: com.square_enix.android_googleplay.FFBEWW.pkl\n",
      "thread only worker: encoding text for analysis...\n",
      "thread only worker: performing sentiment analysis on: FINAL FANTASY  BRAVE EXVIUS\n"
     ]
    },
    {
     "name": "stderr",
     "output_type": "stream",
     "text": [
      "<ipython-input-38-6e3985ef19b8>:56: SettingWithCopyWarning: \n",
      "A value is trying to be set on a copy of a slice from a DataFrame.\n",
      "Try using .loc[row_indexer,col_indexer] = value instead\n",
      "\n",
      "See the caveats in the documentation: https://pandas.pydata.org/pandas-docs/stable/user_guide/indexing.html#returning-a-view-versus-a-copy\n",
      "  df_1['sentiment'] = pd.Series(sentiment).values\n"
     ]
    },
    {
     "name": "stdout",
     "output_type": "stream",
     "text": [
      "Estimated Time Remaining: 24 m\n",
      "Estimated Time Remaining: 24 m\n",
      "Estimated Time Remaining: 23 m\n",
      "Estimated Time Remaining: 23 m\n",
      "Estimated Time Remaining: 23 m\n",
      "Estimated Time Remaining: 23 m\n",
      "Estimated Time Remaining: 22 m\n",
      "Estimated Time Remaining: 22 m\n",
      "Estimated Time Remaining: 22 m\n",
      "Estimated Time Remaining: 21 m\n",
      "Estimated Time Remaining: 21 m\n",
      "Estimated Time Remaining: 21 m\n",
      "Estimated Time Remaining: 21 m\n",
      "Estimated Time Remaining: 20 m\n",
      "Estimated Time Remaining: 20 m\n",
      "Estimated Time Remaining: 20 m\n",
      "Estimated Time Remaining: 20 m\n",
      "Estimated Time Remaining: 19 m\n",
      "Estimated Time Remaining: 19 m\n",
      "Estimated Time Remaining: 19 m\n",
      "Estimated Time Remaining: 18 m\n",
      "Estimated Time Remaining: 18 m\n",
      "Estimated Time Remaining: 18 m\n",
      "Estimated Time Remaining: 18 m\n",
      "Estimated Time Remaining: 17 m\n",
      "Estimated Time Remaining: 17 m\n",
      "Estimated Time Remaining: 17 m\n",
      "Estimated Time Remaining: 16 m\n",
      "Estimated Time Remaining: 16 m\n",
      "Estimated Time Remaining: 16 m\n",
      "Estimated Time Remaining: 16 m\n",
      "Estimated Time Remaining: 15 m\n",
      "Estimated Time Remaining: 15 m\n",
      "Estimated Time Remaining: 15 m\n",
      "Estimated Time Remaining: 14 m\n",
      "Estimated Time Remaining: 14 m\n",
      "Estimated Time Remaining: 14 m\n",
      "Estimated Time Remaining: 13 m\n",
      "Estimated Time Remaining: 13 m\n",
      "Estimated Time Remaining: 13 m\n",
      "Estimated Time Remaining: 13 m\n",
      "Estimated Time Remaining: 12 m\n",
      "Estimated Time Remaining: 12 m\n",
      "Estimated Time Remaining: 12 m\n",
      "Estimated Time Remaining: 11 m\n",
      "Estimated Time Remaining: 11 m\n",
      "Estimated Time Remaining: 11 m\n",
      "Estimated Time Remaining: 11 m\n",
      "Estimated Time Remaining: 10 m\n",
      "Estimated Time Remaining: 10 m\n",
      "Estimated Time Remaining: 10 m\n",
      "Estimated Time Remaining: 9 m\n",
      "Estimated Time Remaining: 9 m\n",
      "Estimated Time Remaining: 9 m\n",
      "Estimated Time Remaining: 8 m\n",
      "Estimated Time Remaining: 8 m\n",
      "Estimated Time Remaining: 8 m\n",
      "Estimated Time Remaining: 8 m\n",
      "Estimated Time Remaining: 7 m\n",
      "Estimated Time Remaining: 7 m\n",
      "Estimated Time Remaining: 7 m\n",
      "Estimated Time Remaining: 6 m\n",
      "Estimated Time Remaining: 6 m\n",
      "Estimated Time Remaining: 6 m\n",
      "Estimated Time Remaining: 5 m\n",
      "Estimated Time Remaining: 5 m\n",
      "Estimated Time Remaining: 5 m\n",
      "Estimated Time Remaining: 4 m\n",
      "Estimated Time Remaining: 4 m\n",
      "Estimated Time Remaining: 4 m\n",
      "Estimated Time Remaining: 4 m\n",
      "Estimated Time Remaining: 3 m\n",
      "Estimated Time Remaining: 3 m\n",
      "Estimated Time Remaining: 3 m\n",
      "Estimated Time Remaining: 2 m\n",
      "Estimated Time Remaining: 2 m\n",
      "Estimated Time Remaining: 2 m\n",
      "Estimated Time Remaining: 1 m\n",
      "Estimated Time Remaining: 1 m\n",
      "Estimated Time Remaining: 1 m\n",
      "Estimated Time Remaining: 0 m\n",
      "Estimated Time Remaining: 0 m\n",
      "thread only worker: Done with com.square_enix.android_googleplay.FFBEWW.pkl\n",
      "thread only worker: loading file: com.aniplex.twst.en.pkl\n",
      "thread only worker: encoding text for analysis...\n",
      "thread only worker: performing sentiment analysis on: Disney Twisted-Wonderland\n"
     ]
    },
    {
     "name": "stderr",
     "output_type": "stream",
     "text": [
      "<ipython-input-38-6e3985ef19b8>:56: SettingWithCopyWarning: \n",
      "A value is trying to be set on a copy of a slice from a DataFrame.\n",
      "Try using .loc[row_indexer,col_indexer] = value instead\n",
      "\n",
      "See the caveats in the documentation: https://pandas.pydata.org/pandas-docs/stable/user_guide/indexing.html#returning-a-view-versus-a-copy\n",
      "  df_1['sentiment'] = pd.Series(sentiment).values\n"
     ]
    },
    {
     "name": "stdout",
     "output_type": "stream",
     "text": [
      "Estimated Time Remaining: 0 m\n",
      "Estimated Time Remaining: 0 m\n"
     ]
    },
    {
     "name": "stderr",
     "output_type": "stream",
     "text": [
      "<ipython-input-38-6e3985ef19b8>:97: SettingWithCopyWarning: \n",
      "A value is trying to be set on a copy of a slice from a DataFrame.\n",
      "Try using .loc[row_indexer,col_indexer] = value instead\n",
      "\n",
      "See the caveats in the documentation: https://pandas.pydata.org/pandas-docs/stable/user_guide/indexing.html#returning-a-view-versus-a-copy\n",
      "  df_1['sentiment'] = pd.Series(sentiment).values\n"
     ]
    },
    {
     "name": "stdout",
     "output_type": "stream",
     "text": [
      "thread only worker: Done with com.aniplex.twst.en.pkl\n",
      "thread only worker: loading file: com.square_enix.android_googleplay.DFFOperaOmnian.pkl\n",
      "thread only worker: encoding text for analysis...\n",
      "thread only worker: performing sentiment analysis on: DISSIDIA FINAL FANTASY OO\n"
     ]
    },
    {
     "name": "stderr",
     "output_type": "stream",
     "text": [
      "<ipython-input-38-6e3985ef19b8>:56: SettingWithCopyWarning: \n",
      "A value is trying to be set on a copy of a slice from a DataFrame.\n",
      "Try using .loc[row_indexer,col_indexer] = value instead\n",
      "\n",
      "See the caveats in the documentation: https://pandas.pydata.org/pandas-docs/stable/user_guide/indexing.html#returning-a-view-versus-a-copy\n",
      "  df_1['sentiment'] = pd.Series(sentiment).values\n"
     ]
    },
    {
     "name": "stdout",
     "output_type": "stream",
     "text": [
      "Estimated Time Remaining: 2 m\n",
      "Estimated Time Remaining: 2 m\n",
      "Estimated Time Remaining: 2 m\n",
      "Estimated Time Remaining: 2 m\n",
      "Estimated Time Remaining: 1 m\n",
      "Estimated Time Remaining: 1 m\n",
      "Estimated Time Remaining: 1 m\n",
      "Estimated Time Remaining: 0 m\n",
      "Estimated Time Remaining: 0 m\n"
     ]
    },
    {
     "name": "stderr",
     "output_type": "stream",
     "text": [
      "<ipython-input-38-6e3985ef19b8>:97: SettingWithCopyWarning: \n",
      "A value is trying to be set on a copy of a slice from a DataFrame.\n",
      "Try using .loc[row_indexer,col_indexer] = value instead\n",
      "\n",
      "See the caveats in the documentation: https://pandas.pydata.org/pandas-docs/stable/user_guide/indexing.html#returning-a-view-versus-a-copy\n",
      "  df_1['sentiment'] = pd.Series(sentiment).values\n"
     ]
    },
    {
     "name": "stdout",
     "output_type": "stream",
     "text": [
      "thread only worker: Done with com.square_enix.android_googleplay.DFFOperaOmnian.pkl\n",
      "thread only worker: loading file: com.netease.idv.googleplay.pkl\n",
      "thread only worker: encoding text for analysis...\n",
      "thread only worker: performing sentiment analysis on: Identity V\n"
     ]
    },
    {
     "name": "stderr",
     "output_type": "stream",
     "text": [
      "<ipython-input-38-6e3985ef19b8>:56: SettingWithCopyWarning: \n",
      "A value is trying to be set on a copy of a slice from a DataFrame.\n",
      "Try using .loc[row_indexer,col_indexer] = value instead\n",
      "\n",
      "See the caveats in the documentation: https://pandas.pydata.org/pandas-docs/stable/user_guide/indexing.html#returning-a-view-versus-a-copy\n",
      "  df_1['sentiment'] = pd.Series(sentiment).values\n"
     ]
    },
    {
     "name": "stdout",
     "output_type": "stream",
     "text": [
      "Estimated Time Remaining: 9 m\n",
      "Estimated Time Remaining: 8 m\n",
      "Estimated Time Remaining: 8 m\n",
      "Estimated Time Remaining: 8 m\n",
      "Estimated Time Remaining: 7 m\n",
      "Estimated Time Remaining: 7 m\n",
      "Estimated Time Remaining: 7 m\n",
      "Estimated Time Remaining: 7 m\n",
      "Estimated Time Remaining: 6 m\n",
      "Estimated Time Remaining: 6 m\n",
      "Estimated Time Remaining: 6 m\n",
      "Estimated Time Remaining: 5 m\n",
      "Estimated Time Remaining: 5 m\n",
      "Estimated Time Remaining: 5 m\n",
      "Estimated Time Remaining: 4 m\n",
      "Estimated Time Remaining: 4 m\n",
      "Estimated Time Remaining: 4 m\n",
      "Estimated Time Remaining: 4 m\n",
      "Estimated Time Remaining: 3 m\n",
      "Estimated Time Remaining: 3 m\n",
      "Estimated Time Remaining: 3 m\n",
      "Estimated Time Remaining: 2 m\n",
      "Estimated Time Remaining: 2 m\n",
      "Estimated Time Remaining: 2 m\n",
      "Estimated Time Remaining: 1 m\n",
      "Estimated Time Remaining: 1 m\n",
      "Estimated Time Remaining: 1 m\n",
      "Estimated Time Remaining: 1 m\n",
      "Estimated Time Remaining: 0 m\n"
     ]
    },
    {
     "name": "stderr",
     "output_type": "stream",
     "text": [
      "<ipython-input-38-6e3985ef19b8>:97: SettingWithCopyWarning: \n",
      "A value is trying to be set on a copy of a slice from a DataFrame.\n",
      "Try using .loc[row_indexer,col_indexer] = value instead\n",
      "\n",
      "See the caveats in the documentation: https://pandas.pydata.org/pandas-docs/stable/user_guide/indexing.html#returning-a-view-versus-a-copy\n",
      "  df_1['sentiment'] = pd.Series(sentiment).values\n"
     ]
    },
    {
     "name": "stdout",
     "output_type": "stream",
     "text": [
      "thread only worker: Done with com.netease.idv.googleplay.pkl\n",
      "thread only worker: loading file: com.netmarble.mherosgb.pkl\n",
      "thread only worker: encoding text for analysis...\n",
      "thread only worker: performing sentiment analysis on: MARVEL Future Fight\n"
     ]
    },
    {
     "name": "stderr",
     "output_type": "stream",
     "text": [
      "<ipython-input-38-6e3985ef19b8>:56: SettingWithCopyWarning: \n",
      "A value is trying to be set on a copy of a slice from a DataFrame.\n",
      "Try using .loc[row_indexer,col_indexer] = value instead\n",
      "\n",
      "See the caveats in the documentation: https://pandas.pydata.org/pandas-docs/stable/user_guide/indexing.html#returning-a-view-versus-a-copy\n",
      "  df_1['sentiment'] = pd.Series(sentiment).values\n"
     ]
    },
    {
     "name": "stdout",
     "output_type": "stream",
     "text": [
      "Estimated Time Remaining: 3 m\n",
      "Estimated Time Remaining: 3 m\n",
      "Estimated Time Remaining: 3 m\n",
      "Estimated Time Remaining: 2 m\n",
      "Estimated Time Remaining: 2 m\n",
      "Estimated Time Remaining: 2 m\n",
      "Estimated Time Remaining: 2 m\n",
      "Estimated Time Remaining: 1 m\n",
      "Estimated Time Remaining: 1 m\n",
      "Estimated Time Remaining: 1 m\n",
      "Estimated Time Remaining: 0 m\n",
      "Estimated Time Remaining: 0 m\n"
     ]
    },
    {
     "name": "stderr",
     "output_type": "stream",
     "text": [
      "<ipython-input-38-6e3985ef19b8>:97: SettingWithCopyWarning: \n",
      "A value is trying to be set on a copy of a slice from a DataFrame.\n",
      "Try using .loc[row_indexer,col_indexer] = value instead\n",
      "\n",
      "See the caveats in the documentation: https://pandas.pydata.org/pandas-docs/stable/user_guide/indexing.html#returning-a-view-versus-a-copy\n",
      "  df_1['sentiment'] = pd.Series(sentiment).values\n"
     ]
    },
    {
     "name": "stdout",
     "output_type": "stream",
     "text": [
      "thread only worker: Done with com.netmarble.mherosgb.pkl\n",
      "thread only worker: loading file: com.bandainamcoent.hiroacawwus.pkl\n",
      "thread only worker: encoding text for analysis...\n",
      "thread only worker: performing sentiment analysis on: MY HERO ULTRA IMPACT\n"
     ]
    },
    {
     "name": "stderr",
     "output_type": "stream",
     "text": [
      "<ipython-input-38-6e3985ef19b8>:56: SettingWithCopyWarning: \n",
      "A value is trying to be set on a copy of a slice from a DataFrame.\n",
      "Try using .loc[row_indexer,col_indexer] = value instead\n",
      "\n",
      "See the caveats in the documentation: https://pandas.pydata.org/pandas-docs/stable/user_guide/indexing.html#returning-a-view-versus-a-copy\n",
      "  df_1['sentiment'] = pd.Series(sentiment).values\n"
     ]
    },
    {
     "name": "stdout",
     "output_type": "stream",
     "text": [
      "Estimated Time Remaining: 0 m\n",
      "thread only worker: Done with com.bandainamcoent.hiroacawwus.pkl\n"
     ]
    },
    {
     "name": "stderr",
     "output_type": "stream",
     "text": [
      "<ipython-input-38-6e3985ef19b8>:97: SettingWithCopyWarning: \n",
      "A value is trying to be set on a copy of a slice from a DataFrame.\n",
      "Try using .loc[row_indexer,col_indexer] = value instead\n",
      "\n",
      "See the caveats in the documentation: https://pandas.pydata.org/pandas-docs/stable/user_guide/indexing.html#returning-a-view-versus-a-copy\n",
      "  df_1['sentiment'] = pd.Series(sentiment).values\n"
     ]
    }
   ],
   "source": [
    "WorkerJob(onlyfiles, 'only worker')"
   ]
  },
  {
   "cell_type": "code",
   "execution_count": null,
   "metadata": {},
   "outputs": [],
   "source": [
    "# countSplit =(int)(len(onlyfiles) / 4)\n",
    "\n",
    "# print( countSplit)\n",
    "# # desiredTickers.ticker.unique()[2492]\n",
    "# tickersArray=[]\n",
    "# mylist=onlyfiles\n",
    "# tickersArray.append(mylist[:countSplit*1])\n",
    "# # print(desiredTickers.ticker.unique()[countSplit])\n",
    "# tickersArray.append(mylist[countSplit*1:countSplit*2])\n",
    "# tickersArray.append(mylist[countSplit*2:countSplit*3])\n",
    "# tickersArray.append(mylist[countSplit*3:])\n",
    "\n",
    "# tickers0 = tickersArray[0]\n",
    "# tickers1 = tickersArray[1]\n",
    "# tickers2 = tickersArray[2]\n",
    "# tickers3 = tickersArray[3]\n",
    "\n",
    "# yearsData = 9\n",
    "# def worker0():\n",
    "#     WorkerJob(tickers0, threading.current_thread().getName())\n",
    "\n",
    "# def worker1():\n",
    "#     WorkerJob(tickers1, threading.current_thread().getName())\n",
    "\n",
    "# def worker2():\n",
    "#     WorkerJob(tickers2, threading.current_thread().getName())\n",
    "\n",
    "# def worker3():\n",
    "#     WorkerJob(tickers3, threading.current_thread().getName())\n",
    "\n",
    "\n",
    "# # t = threading.Thread(name='my_service', target=my_service)\n",
    "# w1 = threading.Thread(name='worker0', target=worker0)\n",
    "# w2 = threading.Thread(name='worker1', target=worker1)\n",
    "# w3 = threading.Thread(name='worker2', target=worker2)\n",
    "# w4 = threading.Thread(name='worker3', target=worker3)\n",
    "# #     w2 = threading.Thread(target=worker)  # use default name\n",
    "\n",
    "# w1.start()\n",
    "# w2.start()\n",
    "# w3.start()\n",
    "# w4.start()"
   ]
  },
  {
   "cell_type": "code",
   "execution_count": null,
   "metadata": {},
   "outputs": [],
   "source": []
  },
  {
   "cell_type": "code",
   "execution_count": null,
   "metadata": {},
   "outputs": [],
   "source": [
    "\n",
    "# display(reviews_df.dtypes)"
   ]
  },
  {
   "cell_type": "code",
   "execution_count": null,
   "metadata": {},
   "outputs": [],
   "source": []
  },
  {
   "cell_type": "code",
   "execution_count": null,
   "metadata": {},
   "outputs": [],
   "source": [
    "## Checkout all the apps we have"
   ]
  },
  {
   "cell_type": "code",
   "execution_count": null,
   "metadata": {},
   "outputs": [],
   "source": []
  },
  {
   "cell_type": "code",
   "execution_count": null,
   "metadata": {},
   "outputs": [],
   "source": []
  },
  {
   "cell_type": "code",
   "execution_count": null,
   "metadata": {},
   "outputs": [],
   "source": []
  },
  {
   "cell_type": "code",
   "execution_count": null,
   "metadata": {},
   "outputs": [],
   "source": []
  },
  {
   "cell_type": "code",
   "execution_count": null,
   "metadata": {},
   "outputs": [],
   "source": [
    "# TODO: use a topic model to rate positive/neutral/negative and see how that score changes over time.\n",
    "# !pip install transformers\n",
    "# !pip install transformers\n",
    "# !pip install torch\n",
    "\n",
    "# %env SENTENCE_TRANSFORMERS_HOME=./.config\n",
    "# # %env TRANSFORMERS_CACHE=./transformers\n",
    "# # %env PYTORCH_TRANSFORMERS_CACHE=./.config\n",
    "# # %env PYTORCH_PRETRAINED_BERT_CACHE=./.config\n",
    "# %env HF_DATASETS_OFFLINE=1 \n",
    "# %env TRANSFORMERS_OFFLINE=1\n",
    "# !wget 'https://huggingface.co/cardiffnlp/twitter-roberta-base-sentiment/resolve/main/config.json'\n",
    "# import sys\n",
    "\n",
    "# import os\n",
    "# import os.path\n",
    "# os.environ[\"SENTENCE_TRANSFORMERS_HOME\"] = \"./.config\"\n",
    "# # sys.path.append(\"./.config\")\n",
    "# # !wget 'https://huggingface.co/cardiffnlp/twitter-roberta-base-sentiment/resolve/main/tf_model.h5'\n",
    "# !printenv"
   ]
  },
  {
   "cell_type": "code",
   "execution_count": null,
   "metadata": {},
   "outputs": [],
   "source": [
    "# !cat 'config.json'\n",
    "# !wget 'https://huggingface.co/cardiffnlp/twitter-roberta-base-sentiment/resolve/main/special_tokens_map.json'\n",
    "# !wget 'https://huggingface.co/cardiffnlp/twitter-roberta-base-sentiment/resolve/main/vocab.json'\n",
    "# !cat 'tweeteval_new/roberta-base-rt-sentiment/config.json.1' > 'tweeteval_new/roberta-base-rt-sentiment/config.json'\n",
    "\n",
    "# !cat 'tweeteval_new/roberta-base-rt-sentiment/vocab.json.1' > 'tweeteval_new/roberta-base-rt-sentiment/vocab.json'\n",
    "# !mkdir 'tweeteval_new'\n",
    "# !mkdir 'tweeteval_new/roberta-base-rt-sentiment/'"
   ]
  },
  {
   "cell_type": "code",
   "execution_count": null,
   "metadata": {},
   "outputs": [],
   "source": [
    "# # from transformers import AutoModelForSequenceClassification\n",
    "# from transformers import TFAutoModelForSequenceClassification\n",
    "# from transformers import AutoTokenizer,TFAutoModel, TFAutoModelWithLMHead\n",
    "# import numpy as np\n",
    "# from scipy.special import softmax\n",
    "# import csv\n",
    "# import urllib.request\n",
    "\n",
    "# %env SENTENCE_TRANSFORMERS_HOME=./.config\n",
    "# %env TRANSFORMERS_CACHE=./transformers\n",
    "# # Preprocess text (username and link placeholders)\n",
    "# def preprocess(text):\n",
    "#     new_text = []\n",
    "#     if text is None or text == '':\n",
    "#         return ''\n",
    "    \n",
    "#     for t in text.split(\" \"):\n",
    "#         t = '@user' if t.startswith('@') and len(t) > 1 else t\n",
    "#         t = 'http' if t.startswith('http') else t\n",
    "#         new_text.append(t)\n",
    "#     return \" \".join(new_text)\n",
    "\n",
    "\n",
    "\n",
    "# task='sentiment'\n",
    "# MODEL = f\"cardiffnlp/twitter-roberta-base-sentiment\"\n",
    "# # !rm -r ./cardiffnlp\n",
    "# MODEL = '/tf/school/UofM_School/Capstone/tweeteval_new/roberta-base-rt-sentiment'#tf_model.h5'\n",
    "\n",
    "# tokenizer = AutoTokenizer.from_pretrained(MODEL, local_files_only=True)#'tf_model.h5')\n",
    "# # tokenizer = AutoTokenizer.from_pretrained('./local_model_directory/')\n",
    "# model = TFAutoModelForSequenceClassification.from_pretrained(MODEL)\n",
    "# labels = ['negative','neutral','positive']\n",
    "\n",
    "# model.save_pretrained(MODEL)\n",
    "# tokenizer.save_pretrained(MODEL)"
   ]
  },
  {
   "cell_type": "code",
   "execution_count": null,
   "metadata": {},
   "outputs": [],
   "source": [
    "# # Tasks:\n",
    "# # emoji, emotion, hate, irony, offensive, sentiment\n",
    "# # stance/abortion, stance/atheism, stance/climate, stance/feminist, stance/hillary\n",
    "\n",
    "# task='sentiment'\n",
    "# MODEL = f\"cardiffnlp/twitter-roberta-base-sentiment\"\n",
    "# # !rm -r ./cardiffnlp\n",
    "# MODEL = '/tf/school/UofM_School/Capstone/tweeteval_new/roberta-base-rt-sentiment'#tf_model.h5'\n",
    "\n",
    "# tokenizer = AutoTokenizer.from_pretrained(MODEL, local_files_only=True)#'tf_model.h5')\n",
    "# # tokenizer = AutoTokenizer.from_pretrained('./local_model_directory/')\n",
    "# model = TFAutoModelForSequenceClassification.from_pretrained(MODEL)\n",
    "\n",
    "\n",
    "# # https://huggingface.co/cardiffnlp/twitter-roberta-base-sentiment\n",
    "# # https://github.com/cardiffnlp/tweeteval/blob/main/datasets/sentiment/mapping.txt\n",
    "# labels = ['negative','neutral','positive']\n",
    "# # # download label mapping\n",
    "# # labels=[]\n",
    "# # mapping_link = f\"https://raw.githubusercontent.com/cardiffnlp/tweeteval/main/datasets/sentiment/mapping.txt\"\n",
    "# # with urllib.request.urlopen(mapping_link) as f:\n",
    "# #     html = f.read().decode('utf-8').split(\"\\n\")\n",
    "# #     csvreader = csv.reader(html, delimiter='\\t')\n",
    "# # labels = [row[1] for row in csvreader if len(row) > 1]\n",
    "\n",
    "\n",
    "# # # PT\n",
    "# # model = AutoModelForSequenceClassification.from_pretrained(MODEL)\n",
    "# # model.save_pretrained(MODEL)\n",
    "# model.save_pretrained(MODEL)\n",
    "# tokenizer.save_pretrained(MODEL)  # adding this line\n",
    "\n",
    "# text = \"Good night 😊\"\n",
    "# # text = \"hate it\"\n",
    "# text = preprocess(text)\n",
    "\n",
    "# #return tensors:\n",
    "# # 'tf': Return TensorFlow tf.constant objects.\n",
    "# # 'pt': Return PyTorch torch.Tensor objects.\n",
    "# # 'np': Return Numpy np.ndarray objects.\n",
    "# encoded_input = tokenizer(text, return_tensors='tf')\n",
    "# output = model(**encoded_input)\n",
    "# scores = output[0][0].numpy()\n",
    "# scores = softmax(scores)\n",
    "\n",
    "# # # TF\n",
    "# # model = TFAutoModelForSequenceClassification.from_pretrained(MODEL)\n",
    "# # model.save_pretrained(MODEL)\n",
    "\n",
    "# # text = \"Good night 😊\"\n",
    "# # encoded_input = tokenizer(text, return_tensors='tf')\n",
    "# # output = model(encoded_input)\n",
    "# # scores = output[0][0].numpy()\n",
    "# # scores = softmax(scores)\n",
    "\n",
    "# ranking = np.argsort(scores)\n",
    "# ranking = ranking[::-1]\n",
    "# for i in range(scores.shape[0]):\n",
    "#     l = labels[ranking[i]]\n",
    "#     s = scores[ranking[i]]\n",
    "#     print(f\"{i+1}) {l} {np.round(float(s), 4)}\")"
   ]
  },
  {
   "cell_type": "code",
   "execution_count": null,
   "metadata": {},
   "outputs": [],
   "source": [
    "# labels[ranking[0]]"
   ]
  },
  {
   "cell_type": "code",
   "execution_count": null,
   "metadata": {},
   "outputs": [],
   "source": [
    "# print(scores.shape)"
   ]
  },
  {
   "cell_type": "markdown",
   "metadata": {},
   "source": [
    "## Getting back to review data"
   ]
  },
  {
   "cell_type": "code",
   "execution_count": null,
   "metadata": {},
   "outputs": [],
   "source": [
    "# def GetReviewSentiment(text):\n",
    "#     if text is None or text == '':\n",
    "#         return ''\n",
    "#     text = preprocess(text)\n",
    "#     if text is None or text =='':\n",
    "#         return\n",
    "#     encoded_input = tokenizer(text, return_tensors='tf')\n",
    "#     output = model(**encoded_input)\n",
    "#     scores = output[0][0].numpy()\n",
    "#     scores = softmax(scores)\n",
    "\n",
    "#     ranking = np.argsort(scores)\n",
    "#     ranking = ranking[::-1]\n",
    "#     return labels[ranking[0]]\n",
    "\n",
    "# display(reviews_df.columns)\n",
    "# reviews_df['sentiment'] = reviews_df['content'].apply(lambda x: GetReviewSentiment(x))"
   ]
  },
  {
   "cell_type": "code",
   "execution_count": null,
   "metadata": {},
   "outputs": [],
   "source": [
    "# reviews_df.head()"
   ]
  },
  {
   "cell_type": "code",
   "execution_count": 42,
   "metadata": {},
   "outputs": [
    {
     "name": "stdout",
     "output_type": "stream",
     "text": [
      "\u001b[33mWARNING: The directory '/.cache/pip' or its parent directory is not owned or is not writable by the current user. The cache has been disabled. Check the permissions and owner of that directory. If executing pip with sudo, you may want sudo's -H flag.\u001b[0m\n",
      "Defaulting to user installation because normal site-packages is not writeable\n",
      "Collecting datasets\n",
      "  Downloading datasets-2.0.0-py3-none-any.whl (325 kB)\n",
      "\u001b[K     |████████████████████████████████| 325 kB 664 kB/s eta 0:00:01\n",
      "\u001b[?25hCollecting aiohttp\n",
      "  Downloading aiohttp-3.8.1-cp38-cp38-manylinux_2_5_x86_64.manylinux1_x86_64.manylinux_2_12_x86_64.manylinux2010_x86_64.whl (1.3 MB)\n",
      "\u001b[K     |████████████████████████████████| 1.3 MB 3.8 MB/s eta 0:00:01\n",
      "\u001b[?25hCollecting responses<0.19\n",
      "  Downloading responses-0.18.0-py3-none-any.whl (38 kB)\n",
      "Requirement already satisfied: requests>=2.19.0 in /usr/lib/python3/dist-packages (from datasets) (2.22.0)\n",
      "Collecting fsspec[http]>=2021.05.0\n",
      "  Downloading fsspec-2022.2.0-py3-none-any.whl (134 kB)\n",
      "\u001b[K     |████████████████████████████████| 134 kB 4.1 MB/s eta 0:00:01\n",
      "\u001b[?25hRequirement already satisfied: numpy>=1.17 in /usr/local/lib/python3.8/dist-packages (from datasets) (1.22.1)\n",
      "Requirement already satisfied: tqdm>=4.62.1 in /.local/lib/python3.8/site-packages (from datasets) (4.63.0)\n",
      "Requirement already satisfied: packaging in /usr/local/lib/python3.8/dist-packages (from datasets) (21.3)\n",
      "Collecting multiprocess\n",
      "  Downloading multiprocess-0.70.12.2-py38-none-any.whl (128 kB)\n",
      "\u001b[K     |████████████████████████████████| 128 kB 1.9 MB/s eta 0:00:01\n",
      "\u001b[?25hRequirement already satisfied: huggingface-hub<1.0.0,>=0.1.0 in /.local/lib/python3.8/site-packages (from datasets) (0.4.0)\n",
      "Collecting xxhash\n",
      "  Downloading xxhash-3.0.0-cp38-cp38-manylinux_2_17_x86_64.manylinux2014_x86_64.whl (212 kB)\n",
      "\u001b[K     |████████████████████████████████| 212 kB 1.7 MB/s eta 0:00:01\n",
      "\u001b[?25hRequirement already satisfied: pandas in /usr/local/lib/python3.8/dist-packages (from datasets) (1.4.1)\n",
      "Collecting pyarrow>=5.0.0\n",
      "  Downloading pyarrow-7.0.0-cp38-cp38-manylinux_2_17_x86_64.manylinux2014_x86_64.whl (26.7 MB)\n",
      "\u001b[K     |████████████████████████████████| 26.7 MB 1.4 MB/s eta 0:00:01\n",
      "\u001b[?25hCollecting dill\n",
      "  Downloading dill-0.3.4-py2.py3-none-any.whl (86 kB)\n",
      "\u001b[K     |████████████████████████████████| 86 kB 801 kB/s eta 0:00:01\n",
      "\u001b[?25hCollecting yarl<2.0,>=1.0\n",
      "  Downloading yarl-1.7.2-cp38-cp38-manylinux_2_5_x86_64.manylinux1_x86_64.manylinux_2_12_x86_64.manylinux2010_x86_64.whl (308 kB)\n",
      "\u001b[K     |████████████████████████████████| 308 kB 1.0 MB/s eta 0:00:01\n",
      "\u001b[?25hCollecting multidict<7.0,>=4.5\n",
      "  Downloading multidict-6.0.2-cp38-cp38-manylinux_2_17_x86_64.manylinux2014_x86_64.whl (121 kB)\n",
      "\u001b[K     |████████████████████████████████| 121 kB 1.4 MB/s eta 0:00:01\n",
      "\u001b[?25hCollecting frozenlist>=1.1.1\n",
      "  Downloading frozenlist-1.3.0-cp38-cp38-manylinux_2_5_x86_64.manylinux1_x86_64.manylinux_2_17_x86_64.manylinux2014_x86_64.whl (158 kB)\n",
      "\u001b[K     |████████████████████████████████| 158 kB 1.6 MB/s eta 0:00:01\n",
      "\u001b[?25hRequirement already satisfied: attrs>=17.3.0 in /usr/local/lib/python3.8/dist-packages (from aiohttp->datasets) (21.4.0)\n",
      "Collecting charset-normalizer<3.0,>=2.0\n",
      "  Downloading charset_normalizer-2.0.12-py3-none-any.whl (39 kB)\n",
      "Collecting async-timeout<5.0,>=4.0.0a3\n",
      "  Downloading async_timeout-4.0.2-py3-none-any.whl (5.8 kB)\n",
      "Collecting aiosignal>=1.1.2\n",
      "  Downloading aiosignal-1.2.0-py3-none-any.whl (8.2 kB)\n",
      "Collecting urllib3>=1.25.10\n",
      "  Downloading urllib3-1.26.9-py2.py3-none-any.whl (138 kB)\n",
      "\u001b[K     |████████████████████████████████| 138 kB 1.5 MB/s eta 0:00:01\n",
      "\u001b[?25hRequirement already satisfied: pyparsing!=3.0.5,>=2.0.2 in /usr/local/lib/python3.8/dist-packages (from packaging->datasets) (3.0.7)\n",
      "Requirement already satisfied: typing-extensions>=3.7.4.3 in /usr/local/lib/python3.8/dist-packages (from huggingface-hub<1.0.0,>=0.1.0->datasets) (4.0.1)\n",
      "Requirement already satisfied: filelock in /.local/lib/python3.8/site-packages (from huggingface-hub<1.0.0,>=0.1.0->datasets) (3.6.0)\n",
      "Requirement already satisfied: pyyaml in /.local/lib/python3.8/site-packages (from huggingface-hub<1.0.0,>=0.1.0->datasets) (6.0)\n",
      "Requirement already satisfied: python-dateutil>=2.8.1 in /usr/local/lib/python3.8/dist-packages (from pandas->datasets) (2.8.2)\n",
      "Requirement already satisfied: pytz>=2020.1 in /usr/local/lib/python3.8/dist-packages (from pandas->datasets) (2021.3)\n",
      "Requirement already satisfied: idna>=2.0 in /usr/lib/python3/dist-packages (from yarl<2.0,>=1.0->aiohttp->datasets) (2.8)\n",
      "Requirement already satisfied: six>=1.5 in /usr/lib/python3/dist-packages (from python-dateutil>=2.8.1->pandas->datasets) (1.14.0)\n",
      "Installing collected packages: multidict, yarl, frozenlist, charset-normalizer, async-timeout, aiosignal, aiohttp, urllib3, responses, fsspec, dill, multiprocess, xxhash, pyarrow, datasets\n",
      "\u001b[33m  WARNING: The script normalizer is installed in '/.local/bin' which is not on PATH.\n",
      "  Consider adding this directory to PATH or, if you prefer to suppress this warning, use --no-warn-script-location.\u001b[0m\n",
      "\u001b[33m  WARNING: The script plasma_store is installed in '/.local/bin' which is not on PATH.\n",
      "  Consider adding this directory to PATH or, if you prefer to suppress this warning, use --no-warn-script-location.\u001b[0m\n",
      "\u001b[33m  WARNING: The script datasets-cli is installed in '/.local/bin' which is not on PATH.\n",
      "  Consider adding this directory to PATH or, if you prefer to suppress this warning, use --no-warn-script-location.\u001b[0m\n",
      "Successfully installed aiohttp-3.8.1 aiosignal-1.2.0 async-timeout-4.0.2 charset-normalizer-2.0.12 datasets-2.0.0 dill-0.3.4 frozenlist-1.3.0 fsspec-2022.2.0 multidict-6.0.2 multiprocess-0.70.12.2 pyarrow-7.0.0 responses-0.18.0 urllib3-1.26.9 xxhash-3.0.0 yarl-1.7.2\n",
      "\u001b[33mWARNING: You are using pip version 20.2.4; however, version 22.0.4 is available.\n",
      "You should consider upgrading via the '/usr/bin/python3 -m pip install --upgrade pip' command.\u001b[0m\n"
     ]
    }
   ],
   "source": [
    "!pip install datasets"
   ]
  },
  {
   "cell_type": "code",
   "execution_count": null,
   "metadata": {},
   "outputs": [],
   "source": [
    "## Let's try summarizing:\n",
    "# !pip install datasets\n",
    "\n",
    "import pandas as pd\n",
    "import datasets\n",
    "from transformers import pipeline\n",
    "from transformers.pipelines.pt_utils import KeyDataset\n",
    "from tqdm.auto import tqdm\n",
    "\n",
    "\n",
    "model = \"bart-large-cnn\"\n",
    "# summarizer = pipeline(\"summarization\", model=\"knkarthick/MEETING_SUMMARY\")\n",
    "summarizer = pipeline(\"summarization\", model=model, local_files_only=True)\n",
    "\n",
    "\n",
    "df = pd.read_pickle('sentReviews/com.miHoYo.GenshinImpact.pkl')"
   ]
  },
  {
   "cell_type": "code",
   "execution_count": 7,
   "metadata": {},
   "outputs": [
    {
     "data": {
      "text/plain": [
       "[{'summary_text': \"The game is too good to be free... one of the BEST rpg games I've ever played... keep up the great work!! After this recent fiasco I can't support this game anymore, tons of unfixed bugs that hinder the player while fun glitches are fixed immediatly. I will rate you a 5 star if you give me Ei. A great Game and super good lore but the creators of this game is so gready that even can make the whole world turn against them. The game has insane graphics best RPG game ever.\"}]"
      ]
     },
     "execution_count": 7,
     "metadata": {},
     "output_type": "execute_result"
    }
   ],
   "source": [
    "# df_dataset = Dataset.from_pandas(df)\n",
    "from datasets import load_dataset, load_metric, Audio\n",
    "\n",
    "\n",
    "summarizer(' '.join(df['content'].values[0:100]))\n",
    "\n",
    "# # pipe = pipeline(\"automatic-speech-recognition\", model=\"facebook/wav2vec2-base-960h\", device=0)\n",
    "# # dataset = datasets.load_dataset(\"superb\", name=\"asr\", split=\"test\")\n",
    "\n",
    "# # KeyDataset (only *pt*) will simply return the item in the dict returned by the dataset item\n",
    "# # as we're not interested in the *target* part of the dataset.\n",
    "# for out in tqdm(summarizer(KeyDataset(dataset, \"file\"))):\n",
    "#     print(out)\n",
    "#     break\n",
    "#     # {\"text\": \"NUMBER TEN FRESH NELLY IS WAITING ON YOU GOOD NIGHT HUSBAND\"}\n",
    "#     # {\"text\": ....}\n",
    "#     # ...."
   ]
  },
  {
   "cell_type": "code",
   "execution_count": 4,
   "metadata": {},
   "outputs": [
    {
     "data": {
      "text/plain": [
       "\"𝙿𝚕𝚊𝚢𝚎𝚍 𝚝𝚑𝚒𝚜 𝚐𝚊𝚖𝚎 𝚊𝚋𝚘𝚞𝚝 5 𝚖𝚘𝚗𝚝𝚑𝚜 𝚊𝚐𝚘 𝚋𝚞𝚝 𝚖𝚢 𝚏𝚛𝚒𝚎𝚗𝚍 𝚍𝚎𝚕𝚎𝚝𝚎𝚍 𝚒𝚝 𝚊𝚗𝚍 𝙸 𝚓𝚞𝚜𝚝 𝚍𝚘𝚠𝚗𝚕𝚘𝚊𝚍𝚎𝚍 𝚊𝚐𝚊𝚒𝚗 𝙸 𝚍𝚒𝚍𝚗'𝚝 𝚎𝚊𝚛𝚕𝚒𝚎𝚛 𝙲𝚞𝚣 𝙸 𝚑𝚊𝚟𝚎 𝚜𝚌𝚑𝚘𝚘𝚕 𝚋𝚞𝚝 𝚗𝚘𝚠 𝙸 𝚑𝚊𝚟𝚎 𝚖𝚘𝚛𝚎 𝚝𝚒𝚖𝚎 𝚘𝚗 𝚖𝚢 𝚑𝚊𝚗𝚍𝚜 𝚊𝚗𝚍 𝚐𝚊𝚗𝚗𝚊 𝚙𝚕𝚊𝚢 𝚒𝚝 𝚊𝚜 𝚖𝚞𝚌𝚑 𝙰𝚜 𝙸 𝚠𝚊𝚗𝚝𝚎𝚍 𝚝𝚘 𝚋𝚊𝚌𝚔 𝚝𝚑𝚎𝚗\""
      ]
     },
     "execution_count": 4,
     "metadata": {},
     "output_type": "execute_result"
    }
   ],
   "source": [
    "df['content'].values[0]"
   ]
  },
  {
   "cell_type": "code",
   "execution_count": 15,
   "metadata": {},
   "outputs": [
    {
     "data": {
      "text/plain": [
       "\"𝙿𝚕𝚊𝚢𝚎𝚍 𝚝𝚑𝚒𝚜 𝚐𝚊𝚖𝚎 𝚊𝚋𝚘𝚞𝚝 5 𝚖𝚘𝚗𝚝𝚑𝚜 𝚊𝚐𝚘 𝚋𝚞𝚝 𝚖𝚢 𝚏𝚛𝚒𝚎𝚗𝚍 𝚍𝚎𝚕𝚎𝚝𝚎𝚍 𝚒𝚝 𝚊𝚗𝚍 𝙸 𝚓𝚞𝚜𝚝 𝚍𝚘𝚠𝚗𝚕𝚘𝚊𝚍𝚎𝚍 𝚊𝚐𝚊𝚒𝚗 𝙸 𝚍𝚒𝚍𝚗'𝚝 𝚎𝚊𝚛𝚕𝚒𝚎𝚛 𝙲𝚞𝚣 𝙸 𝚑𝚊𝚟𝚎 𝚜𝚌𝚑𝚘𝚘𝚕 𝚋𝚞𝚝 𝚗𝚘𝚠 𝙸 𝚑𝚊𝚟𝚎 𝚖𝚘𝚛𝚎 𝚝𝚒𝚖𝚎 𝚘𝚗 𝚖𝚢 𝚑𝚊𝚗𝚍𝚜 𝚊𝚗𝚍 𝚐𝚊𝚗𝚗𝚊 𝚙𝚕𝚊𝚢 𝚒𝚝 𝚊𝚜 𝚖𝚞𝚌𝚑 𝙰𝚜 𝙸 𝚠𝚊𝚗𝚝𝚎𝚍 𝚝𝚘 𝚋𝚊𝚌𝚔 𝚝𝚑𝚎𝚗\""
      ]
     },
     "metadata": {},
     "output_type": "display_data"
    },
    {
     "data": {
      "text/plain": [
       "'Best game I have ever play, AFTER I PLAYED THIS GAME I FINALLY GOT A GIRL, CAUSE NOW IM AWESOME👌'"
      ]
     },
     "metadata": {},
     "output_type": "display_data"
    },
    {
     "data": {
      "text/plain": [
       "'I will rate you a 5 star if you give me Ei.'"
      ]
     },
     "metadata": {},
     "output_type": "display_data"
    },
    {
     "data": {
      "text/plain": [
       "'I like it'"
      ]
     },
     "metadata": {},
     "output_type": "display_data"
    },
    {
     "data": {
      "text/plain": [
       "'A great Game and super good lore but the creators of this game is so gready that even can make the whole world turn against them'"
      ]
     },
     "metadata": {},
     "output_type": "display_data"
    },
    {
     "data": {
      "text/plain": [
       "\"Ok so what's the catch? This game is too good to be free... one of the BEST rpg games I've ever played... keep up the great work!!\""
      ]
     },
     "metadata": {},
     "output_type": "display_data"
    },
    {
     "data": {
      "text/plain": [
       "\"After this recent fiasco I can't support this game anymore, tons of unfixed bugs that hinder the player while fun glitches are fixed immediatly. Their solution ? Censor everything from chat to profile message and their mods on all websites and discord are working overtime. There is also the fact that artifact rng is fixed. I had fun with this game but the more you play it the more you realise how many things are wrong with it\""
      ]
     },
     "metadata": {},
     "output_type": "display_data"
    },
    {
     "data": {
      "text/plain": [
       "'This game has insane graphics best RPG game ever🥰'"
      ]
     },
     "metadata": {},
     "output_type": "display_data"
    },
    {
     "data": {
      "text/plain": [
       "'I really love it'"
      ]
     },
     "metadata": {},
     "output_type": "display_data"
    },
    {
     "data": {
      "text/plain": [
       "\"Hello I'm sorry but when I came back for my account I was adventure rank 55 but why did I went back the beginning I need my account back.\""
      ]
     },
     "metadata": {},
     "output_type": "display_data"
    },
    {
     "data": {
      "text/plain": [
       "'Best rpg game ever hoyoverse keep up the good work!!!'"
      ]
     },
     "metadata": {},
     "output_type": "display_data"
    },
    {
     "data": {
      "text/plain": [
       "'ok ik everyone got good rates but hear me out for me the download is ok but i was 61 in downloading it reset me all the way back and i was mad cause i did all that waiting for nothing so with being said i gave it a 1 star thats thx for reading now this me be me idk .edit- ima see how it do now then the last doing it to see if i will change my rateing'"
      ]
     },
     "metadata": {},
     "output_type": "display_data"
    },
    {
     "data": {
      "text/plain": [
       "'The start is soooooooooooooooooooooooooooooooooooooooooooooooooooooooooooooooooooooooooooooooooooooooooooooooooooooooooooooooooooooooooooooooooooooooooooooooooooooooooooo LONGG. Gotta wait till next month, but I actually like the game tbh😃'"
      ]
     },
     "metadata": {},
     "output_type": "display_data"
    },
    {
     "data": {
      "text/plain": [
       "'لو خسرت الففتي بيصير فيكم هك👌👉'"
      ]
     },
     "metadata": {},
     "output_type": "display_data"
    },
    {
     "data": {
      "text/plain": [
       "'Best game ever.'"
      ]
     },
     "metadata": {},
     "output_type": "display_data"
    },
    {
     "data": {
      "text/plain": [
       "'Please make an option where u can have a higher chance in getting an artifact of choice when we do the domain alone. I was building Ayaka and out of 9 artifacts, only 2 were blizzard strayer with Def% and healing bonus stats if it goes like that everyday its gonna take more than a month to build her'"
      ]
     },
     "metadata": {},
     "output_type": "display_data"
    },
    {
     "data": {
      "text/plain": [
       "'👍 good game gamepad support for Android would be nice tho'"
      ]
     },
     "metadata": {},
     "output_type": "display_data"
    },
    {
     "data": {
      "text/plain": [
       "'i can,t play kicking me of'"
      ]
     },
     "metadata": {},
     "output_type": "display_data"
    },
    {
     "data": {
      "text/plain": [
       "\"I'm glitching can you help me\""
      ]
     },
     "metadata": {},
     "output_type": "display_data"
    },
    {
     "data": {
      "text/plain": [
       "'Real fun'"
      ]
     },
     "metadata": {},
     "output_type": "display_data"
    },
    {
     "data": {
      "text/plain": [
       "'A really immersive, action packed, thrilling RPG game with a fun twist with it having anime like characters and gacha. While the game does take up a lot of data and needs a lot of grinding, it personally feels better when you finally get a character or weapon that you have been pulling and skipping banners for. The game has cute designs and has combat in it too. Overall one of my favorite games that is free to play.'"
      ]
     },
     "metadata": {},
     "output_type": "display_data"
    },
    {
     "data": {
      "text/plain": [
       "'id give it a 0 because it never lets me play it always says error code 9907 and never lets me play so I always get mad at it so I play (try to play) on computer but always the same thing error code 9907 it is incuffitiant storage or somthing'"
      ]
     },
     "metadata": {},
     "output_type": "display_data"
    },
    {
     "data": {
      "text/plain": [
       "'Best game'"
      ]
     },
     "metadata": {},
     "output_type": "display_data"
    },
    {
     "data": {
      "text/plain": [
       "'Not bad'"
      ]
     },
     "metadata": {},
     "output_type": "display_data"
    },
    {
     "data": {
      "text/plain": [
       "\"It's asks for to much storage I can't even play it so it's a 0 star\""
      ]
     },
     "metadata": {},
     "output_type": "display_data"
    },
    {
     "data": {
      "text/plain": [
       "'The Artifacts Grinding is so ...... Not good... Is this really RPG or just giving us bad artifacts until we spend real money?...'"
      ]
     },
     "metadata": {},
     "output_type": "display_data"
    },
    {
     "data": {
      "text/plain": [
       "\"I haven't even got a chance to play the game! (P.S. the game is the worst\""
      ]
     },
     "metadata": {},
     "output_type": "display_data"
    },
    {
     "data": {
      "text/plain": [
       "'Good game with interesting content though late game (ar55 onwards) pretty repetitive. Look forward to new content in the future.'"
      ]
     },
     "metadata": {},
     "output_type": "display_data"
    },
    {
     "data": {
      "text/plain": [
       "\"I love it but there is just one bug that is annoying me. The bug happened to only the mobile users and it's a bunch of colours blocking the screen when you see the dragon. ISN'T THAT ANNOYING!? If that bug gets removed I'll give it a 5 star\""
      ]
     },
     "metadata": {},
     "output_type": "display_data"
    },
    {
     "data": {
      "text/plain": [
       "'Perfect 💕💕'"
      ]
     },
     "metadata": {},
     "output_type": "display_data"
    },
    {
     "data": {
      "text/plain": [
       "'Cool and nice to play'"
      ]
     },
     "metadata": {},
     "output_type": "display_data"
    },
    {
     "data": {
      "text/plain": [
       "'Waifu for laifu'"
      ]
     },
     "metadata": {},
     "output_type": "display_data"
    },
    {
     "data": {
      "text/plain": [
       "'Fun!'"
      ]
     },
     "metadata": {},
     "output_type": "display_data"
    },
    {
     "data": {
      "text/plain": [
       "'I really like this game to much I found it on the first pop up page of Google Play store'"
      ]
     },
     "metadata": {},
     "output_type": "display_data"
    },
    {
     "data": {
      "text/plain": [
       "\"Its a good app and would and have recommended it to many people. Its literally so addictive and ive played it for over a year now and I've never been bored!!\""
      ]
     },
     "metadata": {},
     "output_type": "display_data"
    },
    {
     "data": {
      "text/plain": [
       "\"Good game, it has lots of potential but the developers just ruins it. Good lore, nice character designs and cool open world but... you can easily get burned out. The resin system, artifact system, weapon banner, 50/50, how they treat their own mc lumine and their only black char xinyan. Lots of filler updates.. let's not even talk about primogems and how 100 dollars isn't even enough to get you to pity LMAO. Do better...\""
      ]
     },
     "metadata": {},
     "output_type": "display_data"
    },
    {
     "data": {
      "text/plain": [
       "\"It could have been 5 stars if you could summon a 5 star at the beginning as I have been playing for weeks and I don't even have one 5 star\""
      ]
     },
     "metadata": {},
     "output_type": "display_data"
    },
    {
     "data": {
      "text/plain": [
       "'Grape'"
      ]
     },
     "metadata": {},
     "output_type": "display_data"
    },
    {
     "data": {
      "text/plain": [
       "'Love it :)'"
      ]
     },
     "metadata": {},
     "output_type": "display_data"
    },
    {
     "data": {
      "text/plain": [
       "\"I couldn't move it right so I give it one story\""
      ]
     },
     "metadata": {},
     "output_type": "display_data"
    },
    {
     "data": {
      "text/plain": [
       "'Some bugs were addressed however there has been no updates on issues regarding the electro element. Lack of synergy and power when compared to other elements makes it almost useless in the endgame bosses/content we have now. Game is fun but a huge lack of communication with the community still exists. Will change update once again when the game receives more permanent endgame content and electro is buffed.'"
      ]
     },
     "metadata": {},
     "output_type": "display_data"
    },
    {
     "data": {
      "text/plain": [
       "\"The animation nice, characters power purfect, sujet amazing, I wish play again in this ! :3 (For parents : It's for kids and there not censored or blood)\""
      ]
     },
     "metadata": {},
     "output_type": "display_data"
    },
    {
     "data": {
      "text/plain": [
       "'I love this game but it said you have no storage and I did it and I deleted all of my games and it said sorry you have no storage,so can you guys please fix it'"
      ]
     },
     "metadata": {},
     "output_type": "display_data"
    },
    {
     "data": {
      "text/plain": [
       "'The gane is gorgeous and so much fun!'"
      ]
     },
     "metadata": {},
     "output_type": "display_data"
    },
    {
     "data": {
      "text/plain": [
       "'Good game ngl'"
      ]
     },
     "metadata": {},
     "output_type": "display_data"
    },
    {
     "data": {
      "text/plain": [
       "'My game has gotten extremely leggy lately and has crashed multiple times even after I lowered down the visuals to low.'"
      ]
     },
     "metadata": {},
     "output_type": "display_data"
    },
    {
     "data": {
      "text/plain": [
       "\"It's fun to play and explore the world and I haven't really experienced problems\""
      ]
     },
     "metadata": {},
     "output_type": "display_data"
    },
    {
     "data": {
      "text/plain": [
       "\"This would be a 5 star game only if it was available on levnovo ipads but other than that it's great and really fun keep up the good work Mihoyo.\""
      ]
     },
     "metadata": {},
     "output_type": "display_data"
    },
    {
     "data": {
      "text/plain": [
       "\"Fun and Beautiful...Best RPG game played ever so far..❤️ There's some issues with low spec devices where it always crashes tho...plz fix 😓\""
      ]
     },
     "metadata": {},
     "output_type": "display_data"
    },
    {
     "data": {
      "text/plain": [
       "\"It's a good game its fun and it has no bugs too\""
      ]
     },
     "metadata": {},
     "output_type": "display_data"
    },
    {
     "data": {
      "text/plain": [
       "'It is very fun Just wishing that the prices for primogems will decrease And that the stock of exchanging masterless stardust for intertwined and acquaint fate will increase'"
      ]
     },
     "metadata": {},
     "output_type": "display_data"
    },
    {
     "data": {
      "text/plain": [
       "'Yas'"
      ]
     },
     "metadata": {},
     "output_type": "display_data"
    },
    {
     "data": {
      "text/plain": [
       "'Very high PING in INDIA , takes much time to generated particals to get to same character ☹️'"
      ]
     },
     "metadata": {},
     "output_type": "display_data"
    },
    {
     "data": {
      "text/plain": [
       "'It is fun and all but ever time I try to play on my android phone I have to wait 1h before beginning and some times it stops loading so I have to restart the loading. Plz fix this issue so I can play. Thank you'"
      ]
     },
     "metadata": {},
     "output_type": "display_data"
    },
    {
     "data": {
      "text/plain": [
       "\"I love this but when there's no event, i feel so bored to play genshin, and worst part there's no content to play beside artifact grind. gift us content same as honkai,like memorial arena, elysian realm, coop weekly event\""
      ]
     },
     "metadata": {},
     "output_type": "display_data"
    },
    {
     "data": {
      "text/plain": [
       "'سوووووو'"
      ]
     },
     "metadata": {},
     "output_type": "display_data"
    },
    {
     "data": {
      "text/plain": [
       "'Omg'"
      ]
     },
     "metadata": {},
     "output_type": "display_data"
    },
    {
     "data": {
      "text/plain": [
       "'very interactive!'"
      ]
     },
     "metadata": {},
     "output_type": "display_data"
    },
    {
     "data": {
      "text/plain": [
       "'NOT SAFE FOR CHILDREN. After you located the last chest, nothing to do. Stamina slow down to a dead stop. AVOID AT ALL COST!!!'"
      ]
     },
     "metadata": {},
     "output_type": "display_data"
    },
    {
     "data": {
      "text/plain": [
       "'Great story .. bad farming experience'"
      ]
     },
     "metadata": {},
     "output_type": "display_data"
    },
    {
     "data": {
      "text/plain": [
       "'Great game'"
      ]
     },
     "metadata": {},
     "output_type": "display_data"
    },
    {
     "data": {
      "text/plain": [
       "\"It's just epic.\""
      ]
     },
     "metadata": {},
     "output_type": "display_data"
    },
    {
     "data": {
      "text/plain": [
       "\"You guys have made SOOO MUCH MONEY from this game that you guys could give 2 craps about Android controller support! Like it's clear as day to see! There's NO WAY that this game has been out this long yet no controller support for Android. Not even a recent mention????\""
      ]
     },
     "metadata": {},
     "output_type": "display_data"
    },
    {
     "data": {
      "text/plain": [
       "\"I love this game because I've played it before but sadly I can't play it at the moment because of 'insufficient storage space.'\""
      ]
     },
     "metadata": {},
     "output_type": "display_data"
    },
    {
     "data": {
      "text/plain": [
       "'This game is absolute perfection I love ot so so much i play it all day keep up the good work hoyoverse❤️✨'"
      ]
     },
     "metadata": {},
     "output_type": "display_data"
    },
    {
     "data": {
      "text/plain": [
       "'I love this game it has genuinely changed my life'"
      ]
     },
     "metadata": {},
     "output_type": "display_data"
    },
    {
     "data": {
      "text/plain": [
       "\"HOYOVERSE please fix genshin impact it has a lot of buggs 1. I haven't got a single dream solvent since the last 6 weeks including this week I waited so confirm that this is a bugg 2. When ever I go to the statue of the seven it doesn't heal me full it leaves approx 2000hp then I have to manually heal my self I hope yall get it the dream solvent bugg is pretty bad cause it just doesn't let me updrade my Arataki itto and I am pre-farming for Ayato and as I don't get the drops which I need it\""
      ]
     },
     "metadata": {},
     "output_type": "display_data"
    },
    {
     "data": {
      "text/plain": [
       "'Venti Venti Venti Venti Venti'"
      ]
     },
     "metadata": {},
     "output_type": "display_data"
    },
    {
     "data": {
      "text/plain": [
       "'If have zero star i will give zero star this game so stupid lol i hope this play store ban this stupid game.....stop download when 55.36% lmao i have many space lol stupid game ever.'"
      ]
     },
     "metadata": {},
     "output_type": "display_data"
    },
    {
     "data": {
      "text/plain": [
       "'WOW'"
      ]
     },
     "metadata": {},
     "output_type": "display_data"
    },
    {
     "data": {
      "text/plain": [
       "'The best game ever!'"
      ]
     },
     "metadata": {},
     "output_type": "display_data"
    },
    {
     "data": {
      "text/plain": [
       "\"Please bless my gacha luck, I've reformed\""
      ]
     },
     "metadata": {},
     "output_type": "display_data"
    },
    {
     "data": {
      "text/plain": [
       "'More resin.'"
      ]
     },
     "metadata": {},
     "output_type": "display_data"
    },
    {
     "data": {
      "text/plain": [
       "'👍👍👍👍👍'"
      ]
     },
     "metadata": {},
     "output_type": "display_data"
    },
    {
     "data": {
      "text/plain": [
       "'Best Asyraf Noob'"
      ]
     },
     "metadata": {},
     "output_type": "display_data"
    },
    {
     "data": {
      "text/plain": [
       "\"gimme kazuha, raiden shogun, ganyu, xiao and staff of homa please hoyoverse. im beggin'\""
      ]
     },
     "metadata": {},
     "output_type": "display_data"
    },
    {
     "data": {
      "text/plain": [
       "'Pauses a bit but amazing'"
      ]
     },
     "metadata": {},
     "output_type": "display_data"
    },
    {
     "data": {
      "text/plain": [
       "'Love this game The graphics are nice'"
      ]
     },
     "metadata": {},
     "output_type": "display_data"
    },
    {
     "data": {
      "text/plain": [
       "\"Genshin Impact Anime game soooo cooolll plc. Fix More smooth but I'm uninstall this game ,game size 15 to 16GB daamit\""
      ]
     },
     "metadata": {},
     "output_type": "display_data"
    },
    {
     "data": {
      "text/plain": [
       "'Amazing'"
      ]
     },
     "metadata": {},
     "output_type": "display_data"
    },
    {
     "data": {
      "text/plain": [
       "'Good game'"
      ]
     },
     "metadata": {},
     "output_type": "display_data"
    },
    {
     "data": {
      "text/plain": [
       "'Five stars! I appreciate Superb Music of Genshin.. High quality graphics and very good storyline 👍'"
      ]
     },
     "metadata": {},
     "output_type": "display_data"
    },
    {
     "data": {
      "text/plain": [
       "'Pls make the initial download, download all the stuff pls idc how long the initial download takes'"
      ]
     },
     "metadata": {},
     "output_type": "display_data"
    },
    {
     "data": {
      "text/plain": [
       "'bad whet 10 gb'"
      ]
     },
     "metadata": {},
     "output_type": "display_data"
    },
    {
     "data": {
      "text/plain": [
       "'Osm'"
      ]
     },
     "metadata": {},
     "output_type": "display_data"
    },
    {
     "data": {
      "text/plain": [
       "'Its quite fun'"
      ]
     },
     "metadata": {},
     "output_type": "display_data"
    },
    {
     "data": {
      "text/plain": [
       "\"To future me: dont even change this, mihoyo doesn't care and will never\""
      ]
     },
     "metadata": {},
     "output_type": "display_data"
    },
    {
     "data": {
      "text/plain": [
       "\"It's my favourite game ever! The graphics are awesome and i love the fact that you cant look up girls skirts 😂 creeps are not allowed on this game! Nope!\""
      ]
     },
     "metadata": {},
     "output_type": "display_data"
    },
    {
     "data": {
      "text/plain": [
       "'Nice'"
      ]
     },
     "metadata": {},
     "output_type": "display_data"
    },
    {
     "data": {
      "text/plain": [
       "'Everything about this game, is ambitious, relaxing & gorgeous. Outside from Gatcha system.'"
      ]
     },
     "metadata": {},
     "output_type": "display_data"
    },
    {
     "data": {
      "text/plain": [
       "'Very good game 🎮 👏 👍 👌 💪 😎'"
      ]
     },
     "metadata": {},
     "output_type": "display_data"
    },
    {
     "data": {
      "text/plain": [
       "'Fantastic'"
      ]
     },
     "metadata": {},
     "output_type": "display_data"
    },
    {
     "data": {
      "text/plain": [
       "'Gensin is probably the best open world game ever recommended to me. You can never really get bored because there are different quests you can do you dont have to focus on just one quest. My favorite part of the app is that their is voice acting.'"
      ]
     },
     "metadata": {},
     "output_type": "display_data"
    },
    {
     "data": {
      "text/plain": [
       "'Nice but not very f2p (free to play) friendly kinda hard to get primos for late game players.The resin system also quite unpleasing,maybe make it refresh every 5/4 minit(?).The story and graphics are amazing though.Some char kit/skill need to be buff/rework though.'"
      ]
     },
     "metadata": {},
     "output_type": "display_data"
    },
    {
     "data": {
      "text/plain": [
       "\"My friend couldn't download Genshin Impact because android doesn't support it or vice versa, but overall Incredible for a free game! Love it.\""
      ]
     },
     "metadata": {},
     "output_type": "display_data"
    },
    {
     "data": {
      "text/plain": [
       "'Genshin ilysm km sgt baik hati kan berikan sy yoimiya, ayaka donk pwis 😥😥😥 <3333 btw makasih kokominya di pity 8‼️'"
      ]
     },
     "metadata": {},
     "output_type": "display_data"
    },
    {
     "data": {
      "text/plain": [
       "\"Yo i got raiden's weapon in 20 pity\""
      ]
     },
     "metadata": {},
     "output_type": "display_data"
    },
    {
     "data": {
      "text/plain": [
       "\"Mihoyo let me a win 50/50 on ayato's banner\""
      ]
     },
     "metadata": {},
     "output_type": "display_data"
    },
    {
     "data": {
      "text/plain": [
       "\"Sometimes I wonder if I'm even playing the same game as my friends. They keep winning 50/50 and at really low pull counts while I'm stuck with hard pity and losing 50/50. Even the weapon banner thats absolute trash lets them win. Is this a matter of account or I'm just a really unlucky human being.\""
      ]
     },
     "metadata": {},
     "output_type": "display_data"
    },
    {
     "data": {
      "text/plain": [
       "'good'"
      ]
     },
     "metadata": {},
     "output_type": "display_data"
    }
   ],
   "source": [
    "# display('\\n'.join(df['content'].values[0:100]))\n",
    "for rev in df['content'].values[0:100]:\n",
    "    display(rev)"
   ]
  },
  {
   "cell_type": "code",
   "execution_count": 16,
   "metadata": {},
   "outputs": [
    {
     "data": {
      "text/plain": [
       "[{'summary_text': \"Gensin is probably the best open world game ever recommended to me. The animation nice, characters power purfect, sujet amazing, I wish play again in this ! :3 (For parents : It's for kids and there not censored or blood) The gane is gorgeous and so much fun! Good game ngl It's fun to play and explore the world and I haven't really experienced problems.\"}]"
      ]
     },
     "execution_count": 16,
     "metadata": {},
     "output_type": "execute_result"
    }
   ],
   "source": [
    "## Try summary on positive only data\n",
    "temp_df = df[df['sentiment'] == 'positive']\n",
    "summarizer(' '.join(temp_df['content'].values[0:100]))"
   ]
  },
  {
   "cell_type": "code",
   "execution_count": 19,
   "metadata": {},
   "outputs": [
    {
     "data": {
      "text/plain": [
       "[{'summary_text': \"I love this game but when there's no event, i feel so bored to play genshin, and worst part there is no content to play beside artifact grind. Lack of synergy and power when compared to other elements makes it almost useless in the endgame bosses/content we have now. Good lore, nice character designs and cool open world but... you can easily get burned out. Game is fun but a huge lack of communication with the community still exists.\"}]"
      ]
     },
     "execution_count": 19,
     "metadata": {},
     "output_type": "execute_result"
    }
   ],
   "source": [
    "\n",
    "temp_df = df[df['sentiment'] == 'negative']\n",
    "summarizer(' '.join(temp_df['content'].values[0:100]))"
   ]
  },
  {
   "cell_type": "code",
   "execution_count": 18,
   "metadata": {},
   "outputs": [
    {
     "data": {
      "text/plain": [
       "[{'summary_text': \"The game is fun and all but ever time I try to play on my android phone I have to wait 1h before beginning and some times it stops loading. Plz fix this issue so I can play. I was building Ayaka and out of 9 artifacts, only 2 were blizzard strayer with Def% and healing bonus stats. It could have been 5 stars if you could summon a 5 star at the beginning as I have been playing for weeks and I don't even have one 5 star Grape. Please make an option where u can have a higher chance in getting an artifact of choice when we do the domain alone. The game is not a game, it's a tool.\"}]"
      ]
     },
     "execution_count": 18,
     "metadata": {},
     "output_type": "execute_result"
    }
   ],
   "source": [
    "\n",
    "temp_df = df[df['sentiment'] == 'neutral']\n",
    "summarizer(' '.join(temp_df['content'].values[0:100]))"
   ]
  },
  {
   "cell_type": "code",
   "execution_count": null,
   "metadata": {},
   "outputs": [],
   "source": []
  }
 ],
 "metadata": {
  "kernelspec": {
   "display_name": "Python 3",
   "language": "python",
   "name": "python3"
  },
  "language_info": {
   "codemirror_mode": {
    "name": "ipython",
    "version": 3
   },
   "file_extension": ".py",
   "mimetype": "text/x-python",
   "name": "python",
   "nbconvert_exporter": "python",
   "pygments_lexer": "ipython3",
   "version": "3.8.10"
  }
 },
 "nbformat": 4,
 "nbformat_minor": 2
}
