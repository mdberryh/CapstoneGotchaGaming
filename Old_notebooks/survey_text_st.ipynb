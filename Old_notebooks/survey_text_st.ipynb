{
 "cells": [
  {
   "cell_type": "markdown",
   "metadata": {
    "id": "ZvOdqFeX5Spf"
   },
   "source": [
    "# Importing packages and simplfying questions"
   ]
  },
  {
   "cell_type": "code",
   "execution_count": null,
   "metadata": {
    "colab": {
     "base_uri": "https://localhost:8080/"
    },
    "executionInfo": {
     "elapsed": 18577,
     "status": "ok",
     "timestamp": 1649943076277,
     "user": {
      "displayName": "Sophia Tang",
      "userId": "01214725123456231622"
     },
     "user_tz": 300
    },
    "id": "vQSxs3rU_C-h",
    "outputId": "b5e59dd2-f7e2-4185-c0e1-c07f932c5114"
   },
   "outputs": [
    {
     "name": "stdout",
     "output_type": "stream",
     "text": [
      "Mounted at /content/drive\n"
     ]
    }
   ],
   "source": [
    "#mount to drive\n",
    "from google.colab import drive\n",
    "drive.mount('/content/drive')"
   ]
  },
  {
   "cell_type": "code",
   "execution_count": null,
   "metadata": {
    "colab": {
     "base_uri": "https://localhost:8080/"
    },
    "executionInfo": {
     "elapsed": 10393,
     "status": "ok",
     "timestamp": 1649943088528,
     "user": {
      "displayName": "Sophia Tang",
      "userId": "01214725123456231622"
     },
     "user_tz": 300
    },
    "id": "XEFPlyHD_VzN",
    "outputId": "ca26b558-e961-49e3-e5b5-44a2a19ecbf1"
   },
   "outputs": [
    {
     "name": "stdout",
     "output_type": "stream",
     "text": [
      "Collecting kmodes\n",
      "  Downloading kmodes-0.12.0-py2.py3-none-any.whl (20 kB)\n",
      "Requirement already satisfied: numpy>=1.10.4 in /usr/local/lib/python3.7/dist-packages (from kmodes) (1.21.5)\n",
      "Requirement already satisfied: scikit-learn>=0.22.0 in /usr/local/lib/python3.7/dist-packages (from kmodes) (1.0.2)\n",
      "Requirement already satisfied: joblib>=0.11 in /usr/local/lib/python3.7/dist-packages (from kmodes) (1.1.0)\n",
      "Requirement already satisfied: scipy>=0.13.3 in /usr/local/lib/python3.7/dist-packages (from kmodes) (1.4.1)\n",
      "Requirement already satisfied: threadpoolctl>=2.0.0 in /usr/local/lib/python3.7/dist-packages (from scikit-learn>=0.22.0->kmodes) (3.1.0)\n",
      "Installing collected packages: kmodes\n",
      "Successfully installed kmodes-0.12.0\n",
      "Collecting prince\n",
      "  Downloading prince-0.7.1-py3-none-any.whl (21 kB)\n",
      "Requirement already satisfied: numpy>=1.17.1 in /usr/local/lib/python3.7/dist-packages (from prince) (1.21.5)\n",
      "Requirement already satisfied: scipy>=1.3.0 in /usr/local/lib/python3.7/dist-packages (from prince) (1.4.1)\n",
      "Requirement already satisfied: scikit-learn>=0.22.1 in /usr/local/lib/python3.7/dist-packages (from prince) (1.0.2)\n",
      "Requirement already satisfied: pandas>=1.0.3 in /usr/local/lib/python3.7/dist-packages (from prince) (1.3.5)\n",
      "Requirement already satisfied: matplotlib>=3.0.2 in /usr/local/lib/python3.7/dist-packages (from prince) (3.2.2)\n",
      "Requirement already satisfied: pyparsing!=2.0.4,!=2.1.2,!=2.1.6,>=2.0.1 in /usr/local/lib/python3.7/dist-packages (from matplotlib>=3.0.2->prince) (3.0.8)\n",
      "Requirement already satisfied: python-dateutil>=2.1 in /usr/local/lib/python3.7/dist-packages (from matplotlib>=3.0.2->prince) (2.8.2)\n",
      "Requirement already satisfied: cycler>=0.10 in /usr/local/lib/python3.7/dist-packages (from matplotlib>=3.0.2->prince) (0.11.0)\n",
      "Requirement already satisfied: kiwisolver>=1.0.1 in /usr/local/lib/python3.7/dist-packages (from matplotlib>=3.0.2->prince) (1.4.2)\n",
      "Requirement already satisfied: typing-extensions in /usr/local/lib/python3.7/dist-packages (from kiwisolver>=1.0.1->matplotlib>=3.0.2->prince) (4.1.1)\n",
      "Requirement already satisfied: pytz>=2017.3 in /usr/local/lib/python3.7/dist-packages (from pandas>=1.0.3->prince) (2018.9)\n",
      "Requirement already satisfied: six>=1.5 in /usr/local/lib/python3.7/dist-packages (from python-dateutil>=2.1->matplotlib>=3.0.2->prince) (1.15.0)\n",
      "Requirement already satisfied: joblib>=0.11 in /usr/local/lib/python3.7/dist-packages (from scikit-learn>=0.22.1->prince) (1.1.0)\n",
      "Requirement already satisfied: threadpoolctl>=2.0.0 in /usr/local/lib/python3.7/dist-packages (from scikit-learn>=0.22.1->prince) (3.1.0)\n",
      "Installing collected packages: prince\n",
      "Successfully installed prince-0.7.1\n",
      "[nltk_data] Downloading package wordnet to /root/nltk_data...\n",
      "[nltk_data]   Unzipping corpora/wordnet.zip.\n"
     ]
    }
   ],
   "source": [
    "#import packages\n",
    "import pandas as pd\n",
    "import numpy as np\n",
    "import matplotlib.pyplot as plt\n",
    "import warnings\n",
    "from google.colab.data_table import DataTable\n",
    "!pip install kmodes\n",
    "from kmodes.kmodes import KModes\n",
    "from sklearn.decomposition import PCA\n",
    "!pip install prince\n",
    "from prince import MCA\n",
    "DataTable.max_columns = 50\n",
    "warnings.filterwarnings(\"ignore\")\n",
    "import json\n",
    "import nltk\n",
    "nltk.download('wordnet')\n",
    "from nltk.stem import WordNetLemmatizer\n",
    "import re\n",
    "from re import match\n",
    "from sklearn.model_selection import train_test_split\n",
    "import matplotlib.pyplot as plt\n",
    "import scipy.stats as stats\n",
    "from scipy import sparse\n",
    "from sklearn.feature_extraction.text import CountVectorizer\n",
    "import pickle\n",
    "from nltk.stem import PorterStemmer\n",
    "from nltk.tokenize import word_tokenize"
   ]
  },
  {
   "cell_type": "code",
   "execution_count": null,
   "metadata": {
    "id": "SCdaI8BeV_GU"
   },
   "outputs": [],
   "source": [
    "from sklearn.feature_extraction.text import TfidfVectorizer,CountVectorizer\n",
    "from nltk.stem.snowball import SnowballStemmer\n",
    "from collections import Counter"
   ]
  },
  {
   "cell_type": "code",
   "execution_count": null,
   "metadata": {
    "colab": {
     "base_uri": "https://localhost:8080/"
    },
    "executionInfo": {
     "elapsed": 1257,
     "status": "ok",
     "timestamp": 1649943089780,
     "user": {
      "displayName": "Sophia Tang",
      "userId": "01214725123456231622"
     },
     "user_tz": 300
    },
    "id": "jU-dYZCvXR0h",
    "outputId": "8176b6db-1b39-41d2-a0d0-e775da1521bb"
   },
   "outputs": [
    {
     "data": {
      "text/plain": [
       "Index(['user_id', 'timestamp', 'user_game_status', 'user_game_duration',\n",
       "       'game_title_new', 'game_os_new', 'game_version_new', 'game_intro_new',\n",
       "       'game_play_consistency_new', 'new_feel', 'new_like', 'new_dislike',\n",
       "       'game_transaction_new', 'game_f2p_new', 'game_fishchart_new',\n",
       "       'game_spender_new', 'game_spending_new', 'game_spending_event_new',\n",
       "       'game_title', 'game_os', 'game_version', 'game_intro',\n",
       "       'game_play_consistency', 'loyal_feel', 'loyal_like', 'loyal_dislike',\n",
       "       'game_transaction', 'game_f2p', 'game_fishchart', 'game_spender',\n",
       "       'game_spending', 'game_spending_event', 'user_status_past',\n",
       "       'game_title_past', 'game_stop_past', 'previous_feel',\n",
       "       'previous_dislike', 'game_duration_past', 'game_transaction_past',\n",
       "       'game_spending_past', 'user_notplay', 'user_notplay_othergame_status',\n",
       "       'user_notplay_othergame', 'user_othergame_status', 'user_othergame',\n",
       "       'age', 'gender', 'content', 'continent'],\n",
       "      dtype='object')"
      ]
     },
     "execution_count": 4,
     "metadata": {},
     "output_type": "execute_result"
    }
   ],
   "source": [
    "#load data\n",
    "path = 'drive/Shareddrives/SIADS 697 Capstone Gacha/Gacha Survey/'\n",
    "master_df = pd.read_csv(path+'survey_response_mc.csv')\n",
    "\n",
    "#add user id and rename columns\n",
    "master_df = master_df.reset_index().rename(columns = {\n",
    "    'index': 'user_id',\n",
    "    'Timestamp': 'timestamp',\n",
    "    'Have you, at any point in time, played gacha games?': 'user_game_status',\n",
    "    'How long have you been playing gacha games?': 'user_game_duration',\n",
    "    'What is your current favorite gacha game?': 'game_title_new',\n",
    "    'What mobile operating system do you use to play this game?': 'game_os_new',\n",
    "    'Which version of the game do you play?': 'game_version_new',\n",
    "    'How did you first hear about/start playing this game?': 'game_intro_new',\n",
    "    'Estimate how much time you spend on this game per week.': 'game_play_consistency_new',\n",
    "    \"How does this game make you feel when you're playing it?\": 'new_feel',\n",
    "    'What do you like the most about this game? What motivates you to continue playing this game?': 'new_like',\n",
    "    'What do you like the least about this game? Is there any area you think this game should be improved in?': 'new_dislike',\n",
    "    'Have you completed any in-app transactions (using real world currency)?': 'game_transaction_new',\n",
    "    'What is the reason you chose to be Free-to-Play (F2P) for this game?': 'game_f2p_new',\n",
    "    'Based on your level of spending in this game, What type of paying gamer would you categorize yourself?': 'game_fishchart_new',\n",
    "    'What would you say is the biggest difference for your in-game experience in comparison to a F2P (free-to-play) player?': 'game_spender_new',\n",
    "    'TO THE BEST OF YOUR KNOWLEDGE, how much have you spent in total on this gacha game? (in US Dollars)': 'game_spending_new',\n",
    "    'TO THE BEST OF YOUR KNOWLEDGE, how much do you spend on this gacha game during a month with a high-profile event (anniversary, new years, etc.) (in US Dollars)': 'game_spending_event_new',\n",
    "    'Name your current favorite gacha game.': 'game_title',\n",
    "    'What mobile operating system do you use to play this game?.1': 'game_os',\n",
    "    'Which version of the game do you play?.1': 'game_version',\n",
    "    'How did you first hear about/start playing this game?.1': 'game_intro',\n",
    "    'Estimate how much time you spend on this game per week..1': 'game_play_consistency',\n",
    "    \"How does this game make you feel when you're playing it?.1\": 'loyal_feel',\n",
    "    'What do you like the most about this game? What motivates you to continue playing this game?.1': 'loyal_like',\n",
    "    'What do you like the least about this game? Is there any area you think this game should be improved in?.1': 'loyal_dislike',\n",
    "    'Have you completed any in-app transactions (using real world currency)?.1': 'game_transaction',\n",
    "    'What is the reason you chose to be Free-to-Play (F2P) for this game?.1': 'game_f2p',\n",
    "    'Based on your level of spending in this game, What type of paying gamer would you categorize yourself?.1': 'game_fishchart',\n",
    "    'What would you say is the biggest difference for your in-game experience in comparison to a F2P (free-to-play) player?.1': 'game_spender',\n",
    "    'TO THE BEST OF YOUR KNOWLEDGE, how much have you spent on this gacha game in total? (in US Dollars)': 'game_spending',\n",
    "    'TO THE BEST OF YOUR KNOWLEDGE, how much do you spend on this gacha game during a month with a high-profile event (anniversary, new years, etc.) (in US Dollars).1': 'game_spending_event',\n",
    "    'Do you have a once-favorite gacha game that you decided to stop playing?': 'user_status_past',\n",
    "    'What was your once-favorite gacha game that you decided to stop playing?': 'game_title_past',\n",
    "    'You decided to stop playing this game due to the following factors:': 'game_stop_past',\n",
    "    'What did you miss the most about your once-favorite gacha game? How did make you feel when you were playing it? ': 'previous_feel',\n",
    "    'What did you like the least about this game? How did that make you feel?': 'previous_dislike',\n",
    "    'How long had you been playing this once-favorite gacha game before you stopped?': 'game_duration_past',\n",
    "    'Have you completed any in-app transactions (using real world currency)?.2': 'game_transaction_past',\n",
    "    'TO THE BEST OF YOUR KNOWLEDGE, how much have you spent in this game in total? (in US Dollar)': 'game_spending_past',\n",
    "    'Is there a particular reason why you have not played gacha games?': 'user_notplay',\n",
    "    'Have you played other types and formats of games?': 'user_notplay_othergame_status',\n",
    "    'If you answered yes above, list some of the game types you play or have played before.': 'user_notplay_othergame',\n",
    "    'Have you played other types and formats of games besides gacha?': 'user_othergame_status',\n",
    "    'If you answered yes above, list some of the game types you play or have played before..1': 'user_othergame',\n",
    "    'What is your age range?': 'age', \n",
    "    'What is your gender?': 'gender',\n",
    "    'What is your PRIMARY content source (2D culture format)?': 'content',\n",
    "    'Which continent are you from?': 'continent'}\n",
    "    )\n",
    "master_df.columns"
   ]
  },
  {
   "cell_type": "markdown",
   "metadata": {
    "id": "LPzW7T8I5gpI"
   },
   "source": [
    "# Creating DataFrame Containing all text fields, type of answer, and user id"
   ]
  },
  {
   "cell_type": "code",
   "execution_count": null,
   "metadata": {
    "id": "MuZWqIGPWuM-"
   },
   "outputs": [],
   "source": [
    "emotion_df = master_df[['user_id','new_feel', 'new_like', 'new_dislike','loyal_feel','loyal_like','loyal_dislike','previous_feel','previous_dislike']].copy()"
   ]
  },
  {
   "cell_type": "code",
   "execution_count": null,
   "metadata": {
    "colab": {
     "base_uri": "https://localhost:8080/"
    },
    "executionInfo": {
     "elapsed": 117,
     "status": "ok",
     "timestamp": 1649943101479,
     "user": {
      "displayName": "Sophia Tang",
      "userId": "01214725123456231622"
     },
     "user_tz": 300
    },
    "id": "42iQXJ2I6yuQ",
    "outputId": "69354ab5-90ba-441e-c422-b96de78d3cef"
   },
   "outputs": [
    {
     "data": {
      "text/plain": [
       "Index(['user_id', 'new_feel', 'new_like', 'new_dislike', 'loyal_feel',\n",
       "       'loyal_like', 'loyal_dislike', 'previous_feel', 'previous_dislike'],\n",
       "      dtype='object')"
      ]
     },
     "execution_count": 6,
     "metadata": {},
     "output_type": "execute_result"
    }
   ],
   "source": [
    "emotion_df.columns"
   ]
  },
  {
   "cell_type": "code",
   "execution_count": null,
   "metadata": {
    "id": "yLgW7UdkZmyC"
   },
   "outputs": [],
   "source": [
    "users_with_text = []\n",
    "answer_type = []\n",
    "answers = []"
   ]
  },
  {
   "cell_type": "code",
   "execution_count": null,
   "metadata": {
    "id": "Hx1BY1tHHcrG"
   },
   "outputs": [],
   "source": [
    "for col in emotion_df.columns[1:]:\n",
    "  users_with_text.extend(emotion_df[col].dropna().index.tolist())\n",
    "  answer_type.extend([col]*len(emotion_df[col].dropna()))\n",
    "  answers.extend(emotion_df[col].dropna().tolist())"
   ]
  },
  {
   "cell_type": "code",
   "execution_count": null,
   "metadata": {
    "id": "2LmDvlBE_1-h"
   },
   "outputs": [],
   "source": [
    "all_text_df = pd.DataFrame(columns = ['user_id','answer_type','repo'])"
   ]
  },
  {
   "cell_type": "code",
   "execution_count": null,
   "metadata": {
    "id": "GsMgQ7pnCQdI"
   },
   "outputs": [],
   "source": [
    "all_text_df['user_id'] = users_with_text\n",
    "all_text_df['answer_type'] = answer_type\n",
    "all_text_df['repo'] = answers"
   ]
  },
  {
   "cell_type": "code",
   "execution_count": null,
   "metadata": {
    "colab": {
     "base_uri": "https://localhost:8080/"
    },
    "executionInfo": {
     "elapsed": 106,
     "status": "ok",
     "timestamp": 1649943111987,
     "user": {
      "displayName": "Sophia Tang",
      "userId": "01214725123456231622"
     },
     "user_tz": 300
    },
    "id": "rKm6T9YcC8HH",
    "outputId": "56cc4562-7888-4eea-de67-98c98321375c"
   },
   "outputs": [
    {
     "data": {
      "text/plain": [
       "4866"
      ]
     },
     "execution_count": 11,
     "metadata": {},
     "output_type": "execute_result"
    }
   ],
   "source": [
    "len(all_text_df)"
   ]
  },
  {
   "cell_type": "code",
   "execution_count": null,
   "metadata": {
    "colab": {
     "base_uri": "https://localhost:8080/",
     "height": 677
    },
    "executionInfo": {
     "elapsed": 168,
     "status": "ok",
     "timestamp": 1649947327106,
     "user": {
      "displayName": "Sophia Tang",
      "userId": "01214725123456231622"
     },
     "user_tz": 300
    },
    "id": "v3nMChACffGa",
    "outputId": "e96298c7-f6a9-4927-9668-b369d7d1d37c"
   },
   "outputs": [
    {
     "data": {
      "text/html": [
       "\n",
       "  <div id=\"df-070e93e8-ab6c-4d1d-9c83-35af1e6cf9c4\">\n",
       "    <div class=\"colab-df-container\">\n",
       "      <div>\n",
       "<style scoped>\n",
       "    .dataframe tbody tr th:only-of-type {\n",
       "        vertical-align: middle;\n",
       "    }\n",
       "\n",
       "    .dataframe tbody tr th {\n",
       "        vertical-align: top;\n",
       "    }\n",
       "\n",
       "    .dataframe thead th {\n",
       "        text-align: right;\n",
       "    }\n",
       "</style>\n",
       "<table border=\"1\" class=\"dataframe\">\n",
       "  <thead>\n",
       "    <tr style=\"text-align: right;\">\n",
       "      <th></th>\n",
       "      <th>user_id</th>\n",
       "      <th>answer_type</th>\n",
       "      <th>repo</th>\n",
       "    </tr>\n",
       "  </thead>\n",
       "  <tbody>\n",
       "    <tr>\n",
       "      <th>176</th>\n",
       "      <td>70</td>\n",
       "      <td>loyal_feel</td>\n",
       "      <td>Happy</td>\n",
       "    </tr>\n",
       "    <tr>\n",
       "      <th>4630</th>\n",
       "      <td>824</td>\n",
       "      <td>previous_dislike</td>\n",
       "      <td>The farming</td>\n",
       "    </tr>\n",
       "    <tr>\n",
       "      <th>846</th>\n",
       "      <td>781</td>\n",
       "      <td>loyal_feel</td>\n",
       "      <td>Fun</td>\n",
       "    </tr>\n",
       "    <tr>\n",
       "      <th>1552</th>\n",
       "      <td>331</td>\n",
       "      <td>loyal_like</td>\n",
       "      <td>Reading the story and building characters</td>\n",
       "    </tr>\n",
       "    <tr>\n",
       "      <th>4430</th>\n",
       "      <td>493</td>\n",
       "      <td>previous_dislike</td>\n",
       "      <td>I SAID I forgot. Probably playing it in the fi...</td>\n",
       "    </tr>\n",
       "    <tr>\n",
       "      <th>2675</th>\n",
       "      <td>321</td>\n",
       "      <td>loyal_dislike</td>\n",
       "      <td>Going through stages tends to be repetitive an...</td>\n",
       "    </tr>\n",
       "    <tr>\n",
       "      <th>75</th>\n",
       "      <td>31</td>\n",
       "      <td>new_dislike</td>\n",
       "      <td>I dislike that the global server gets reduced ...</td>\n",
       "    </tr>\n",
       "    <tr>\n",
       "      <th>4306</th>\n",
       "      <td>246</td>\n",
       "      <td>previous_dislike</td>\n",
       "      <td>Gameplay, i really get bored with the gameplay</td>\n",
       "    </tr>\n",
       "    <tr>\n",
       "      <th>376</th>\n",
       "      <td>286</td>\n",
       "      <td>loyal_feel</td>\n",
       "      <td>Happy and deppresed</td>\n",
       "    </tr>\n",
       "    <tr>\n",
       "      <th>2259</th>\n",
       "      <td>1079</td>\n",
       "      <td>loyal_like</td>\n",
       "      <td>Gameplay isn't RNG</td>\n",
       "    </tr>\n",
       "    <tr>\n",
       "      <th>1500</th>\n",
       "      <td>276</td>\n",
       "      <td>loyal_like</td>\n",
       "      <td>getting stronger characters</td>\n",
       "    </tr>\n",
       "    <tr>\n",
       "      <th>4070</th>\n",
       "      <td>1031</td>\n",
       "      <td>previous_feel</td>\n",
       "      <td>I miss the strategy to build a team to win PvE...</td>\n",
       "    </tr>\n",
       "    <tr>\n",
       "      <th>3476</th>\n",
       "      <td>1189</td>\n",
       "      <td>loyal_dislike</td>\n",
       "      <td>I don’t dislike anything as the things I have ...</td>\n",
       "    </tr>\n",
       "    <tr>\n",
       "      <th>1540</th>\n",
       "      <td>318</td>\n",
       "      <td>loyal_like</td>\n",
       "      <td>hz</td>\n",
       "    </tr>\n",
       "    <tr>\n",
       "      <th>4684</th>\n",
       "      <td>911</td>\n",
       "      <td>previous_dislike</td>\n",
       "      <td>Lack of things to do after reaching a certain ...</td>\n",
       "    </tr>\n",
       "    <tr>\n",
       "      <th>844</th>\n",
       "      <td>779</td>\n",
       "      <td>loyal_feel</td>\n",
       "      <td>Sometimes excited, most of the obliged</td>\n",
       "    </tr>\n",
       "    <tr>\n",
       "      <th>3384</th>\n",
       "      <td>1074</td>\n",
       "      <td>loyal_dislike</td>\n",
       "      <td>Hypersexualization of characters in general (e...</td>\n",
       "    </tr>\n",
       "    <tr>\n",
       "      <th>2372</th>\n",
       "      <td>1220</td>\n",
       "      <td>loyal_like</td>\n",
       "      <td>Ozymandiass</td>\n",
       "    </tr>\n",
       "    <tr>\n",
       "      <th>681</th>\n",
       "      <td>606</td>\n",
       "      <td>loyal_feel</td>\n",
       "      <td>It's a bit of a chore to farm materials but wh...</td>\n",
       "    </tr>\n",
       "    <tr>\n",
       "      <th>948</th>\n",
       "      <td>887</td>\n",
       "      <td>loyal_feel</td>\n",
       "      <td>idk</td>\n",
       "    </tr>\n",
       "  </tbody>\n",
       "</table>\n",
       "</div>\n",
       "      <button class=\"colab-df-convert\" onclick=\"convertToInteractive('df-070e93e8-ab6c-4d1d-9c83-35af1e6cf9c4')\"\n",
       "              title=\"Convert this dataframe to an interactive table.\"\n",
       "              style=\"display:none;\">\n",
       "        \n",
       "  <svg xmlns=\"http://www.w3.org/2000/svg\" height=\"24px\"viewBox=\"0 0 24 24\"\n",
       "       width=\"24px\">\n",
       "    <path d=\"M0 0h24v24H0V0z\" fill=\"none\"/>\n",
       "    <path d=\"M18.56 5.44l.94 2.06.94-2.06 2.06-.94-2.06-.94-.94-2.06-.94 2.06-2.06.94zm-11 1L8.5 8.5l.94-2.06 2.06-.94-2.06-.94L8.5 2.5l-.94 2.06-2.06.94zm10 10l.94 2.06.94-2.06 2.06-.94-2.06-.94-.94-2.06-.94 2.06-2.06.94z\"/><path d=\"M17.41 7.96l-1.37-1.37c-.4-.4-.92-.59-1.43-.59-.52 0-1.04.2-1.43.59L10.3 9.45l-7.72 7.72c-.78.78-.78 2.05 0 2.83L4 21.41c.39.39.9.59 1.41.59.51 0 1.02-.2 1.41-.59l7.78-7.78 2.81-2.81c.8-.78.8-2.07 0-2.86zM5.41 20L4 18.59l7.72-7.72 1.47 1.35L5.41 20z\"/>\n",
       "  </svg>\n",
       "      </button>\n",
       "      \n",
       "  <style>\n",
       "    .colab-df-container {\n",
       "      display:flex;\n",
       "      flex-wrap:wrap;\n",
       "      gap: 12px;\n",
       "    }\n",
       "\n",
       "    .colab-df-convert {\n",
       "      background-color: #E8F0FE;\n",
       "      border: none;\n",
       "      border-radius: 50%;\n",
       "      cursor: pointer;\n",
       "      display: none;\n",
       "      fill: #1967D2;\n",
       "      height: 32px;\n",
       "      padding: 0 0 0 0;\n",
       "      width: 32px;\n",
       "    }\n",
       "\n",
       "    .colab-df-convert:hover {\n",
       "      background-color: #E2EBFA;\n",
       "      box-shadow: 0px 1px 2px rgba(60, 64, 67, 0.3), 0px 1px 3px 1px rgba(60, 64, 67, 0.15);\n",
       "      fill: #174EA6;\n",
       "    }\n",
       "\n",
       "    [theme=dark] .colab-df-convert {\n",
       "      background-color: #3B4455;\n",
       "      fill: #D2E3FC;\n",
       "    }\n",
       "\n",
       "    [theme=dark] .colab-df-convert:hover {\n",
       "      background-color: #434B5C;\n",
       "      box-shadow: 0px 1px 3px 1px rgba(0, 0, 0, 0.15);\n",
       "      filter: drop-shadow(0px 1px 2px rgba(0, 0, 0, 0.3));\n",
       "      fill: #FFFFFF;\n",
       "    }\n",
       "  </style>\n",
       "\n",
       "      <script>\n",
       "        const buttonEl =\n",
       "          document.querySelector('#df-070e93e8-ab6c-4d1d-9c83-35af1e6cf9c4 button.colab-df-convert');\n",
       "        buttonEl.style.display =\n",
       "          google.colab.kernel.accessAllowed ? 'block' : 'none';\n",
       "\n",
       "        async function convertToInteractive(key) {\n",
       "          const element = document.querySelector('#df-070e93e8-ab6c-4d1d-9c83-35af1e6cf9c4');\n",
       "          const dataTable =\n",
       "            await google.colab.kernel.invokeFunction('convertToInteractive',\n",
       "                                                     [key], {});\n",
       "          if (!dataTable) return;\n",
       "\n",
       "          const docLinkHtml = 'Like what you see? Visit the ' +\n",
       "            '<a target=\"_blank\" href=https://colab.research.google.com/notebooks/data_table.ipynb>data table notebook</a>'\n",
       "            + ' to learn more about interactive tables.';\n",
       "          element.innerHTML = '';\n",
       "          dataTable['output_type'] = 'display_data';\n",
       "          await google.colab.output.renderOutput(dataTable, element);\n",
       "          const docLink = document.createElement('div');\n",
       "          docLink.innerHTML = docLinkHtml;\n",
       "          element.appendChild(docLink);\n",
       "        }\n",
       "      </script>\n",
       "    </div>\n",
       "  </div>\n",
       "  "
      ],
      "text/plain": [
       "      user_id       answer_type  \\\n",
       "176        70        loyal_feel   \n",
       "4630      824  previous_dislike   \n",
       "846       781        loyal_feel   \n",
       "1552      331        loyal_like   \n",
       "4430      493  previous_dislike   \n",
       "2675      321     loyal_dislike   \n",
       "75         31       new_dislike   \n",
       "4306      246  previous_dislike   \n",
       "376       286        loyal_feel   \n",
       "2259     1079        loyal_like   \n",
       "1500      276        loyal_like   \n",
       "4070     1031     previous_feel   \n",
       "3476     1189     loyal_dislike   \n",
       "1540      318        loyal_like   \n",
       "4684      911  previous_dislike   \n",
       "844       779        loyal_feel   \n",
       "3384     1074     loyal_dislike   \n",
       "2372     1220        loyal_like   \n",
       "681       606        loyal_feel   \n",
       "948       887        loyal_feel   \n",
       "\n",
       "                                                   repo  \n",
       "176                                               Happy  \n",
       "4630                                        The farming  \n",
       "846                                                 Fun  \n",
       "1552         Reading the story and building characters   \n",
       "4430  I SAID I forgot. Probably playing it in the fi...  \n",
       "2675  Going through stages tends to be repetitive an...  \n",
       "75    I dislike that the global server gets reduced ...  \n",
       "4306     Gameplay, i really get bored with the gameplay  \n",
       "376                                 Happy and deppresed  \n",
       "2259                                 Gameplay isn't RNG  \n",
       "1500                        getting stronger characters  \n",
       "4070  I miss the strategy to build a team to win PvE...  \n",
       "3476  I don’t dislike anything as the things I have ...  \n",
       "1540                                                 hz  \n",
       "4684  Lack of things to do after reaching a certain ...  \n",
       "844              Sometimes excited, most of the obliged  \n",
       "3384  Hypersexualization of characters in general (e...  \n",
       "2372                                        Ozymandiass  \n",
       "681   It's a bit of a chore to farm materials but wh...  \n",
       "948                                                 idk  "
      ]
     },
     "execution_count": 95,
     "metadata": {},
     "output_type": "execute_result"
    }
   ],
   "source": [
    "all_text_df.sample(20)"
   ]
  },
  {
   "cell_type": "code",
   "execution_count": null,
   "metadata": {
    "id": "cXLhKvz1KfBv"
   },
   "outputs": [],
   "source": [
    "# Regex for identifying words that don't have numbers.\n",
    "reg = re.compile(r'[a-zA-Z]+')"
   ]
  },
  {
   "cell_type": "markdown",
   "metadata": {
    "id": "lmWYaYKh-9b2"
   },
   "source": [
    "#**Word Count Vectorization**"
   ]
  },
  {
   "cell_type": "code",
   "execution_count": null,
   "metadata": {
    "id": "yxtmq_4_Kvdm"
   },
   "outputs": [],
   "source": [
    "#initializing the CountVectorizer\n",
    "wc_vect = CountVectorizer(ngram_range=(1, 2))\n",
    "\n",
    "#this is the matrix doc we get after applying fit_transform to the text repo. wc stands for word count\n",
    "wc_df = wc_vect.fit_transform(all_text_df['repo'])"
   ]
  },
  {
   "cell_type": "code",
   "execution_count": null,
   "metadata": {
    "id": "gced6oEBRYka"
   },
   "outputs": [],
   "source": [
    "wc_feature_names = wc_vect.get_feature_names_out()"
   ]
  },
  {
   "cell_type": "code",
   "execution_count": null,
   "metadata": {
    "id": "bs8657z_Qp6q"
   },
   "outputs": [],
   "source": [
    "#this is the list indices that are words only (no numbers) after filtered by the regex pattern and removed from stopwords\n",
    "wc_indices = [i for i,val in enumerate(wc_feature_names) if reg.fullmatch(val)]"
   ]
  },
  {
   "cell_type": "code",
   "execution_count": null,
   "metadata": {
    "colab": {
     "base_uri": "https://localhost:8080/"
    },
    "executionInfo": {
     "elapsed": 3,
     "status": "ok",
     "timestamp": 1649943138181,
     "user": {
      "displayName": "Sophia Tang",
      "userId": "01214725123456231622"
     },
     "user_tz": 300
    },
    "id": "1LgzE45jHcJS",
    "outputId": "787e4174-fc81-42cf-dd52-1f0a1695354f"
   },
   "outputs": [
    {
     "data": {
      "text/plain": [
       "212"
      ]
     },
     "execution_count": 16,
     "metadata": {},
     "output_type": "execute_result"
    }
   ],
   "source": [
    "wc_indices[0]"
   ]
  },
  {
   "cell_type": "code",
   "execution_count": null,
   "metadata": {
    "colab": {
     "base_uri": "https://localhost:8080/"
    },
    "executionInfo": {
     "elapsed": 127,
     "status": "ok",
     "timestamp": 1649943139636,
     "user": {
      "displayName": "Sophia Tang",
      "userId": "01214725123456231622"
     },
     "user_tz": 300
    },
    "id": "CMPwpi5GG9-K",
    "outputId": "8503ec44-b4e0-49e6-dc02-92335dd9b69f"
   },
   "outputs": [
    {
     "data": {
      "text/plain": [
       "(4651, 33292)"
      ]
     },
     "execution_count": 17,
     "metadata": {},
     "output_type": "execute_result"
    }
   ],
   "source": [
    "len(wc_indices), len(wc_feature_names)"
   ]
  },
  {
   "cell_type": "code",
   "execution_count": null,
   "metadata": {
    "colab": {
     "base_uri": "https://localhost:8080/"
    },
    "executionInfo": {
     "elapsed": 129,
     "status": "ok",
     "timestamp": 1649943140367,
     "user": {
      "displayName": "Sophia Tang",
      "userId": "01214725123456231622"
     },
     "user_tz": 300
    },
    "id": "VyU5fXoBHWGm",
    "outputId": "00a6326e-7992-457b-ab91-e044f8437fd8"
   },
   "outputs": [
    {
     "data": {
      "text/plain": [
       "(array(['abandon', 'abhorrently', 'abilities', ..., 'zombie', 'zone',\n",
       "        'zones'], dtype=object), 4651)"
      ]
     },
     "execution_count": 18,
     "metadata": {},
     "output_type": "execute_result"
    }
   ],
   "source": [
    "wc_feature_names[wc_indices], len(wc_feature_names[wc_indices])"
   ]
  },
  {
   "cell_type": "code",
   "execution_count": null,
   "metadata": {
    "id": "QSKuNxNCRSeE"
   },
   "outputs": [],
   "source": [
    "all_words = wc_df[:,wc_indices] # all_words is a matrix that contain only words that qualify the regex match which is words only (no numbers)"
   ]
  },
  {
   "cell_type": "code",
   "execution_count": null,
   "metadata": {
    "colab": {
     "base_uri": "https://localhost:8080/"
    },
    "executionInfo": {
     "elapsed": 122,
     "status": "ok",
     "timestamp": 1649943142203,
     "user": {
      "displayName": "Sophia Tang",
      "userId": "01214725123456231622"
     },
     "user_tz": 300
    },
    "id": "R8gFmvCqGz5A",
    "outputId": "7b45ad11-d37f-4f75-c125-4a6157ef889b"
   },
   "outputs": [
    {
     "data": {
      "text/plain": [
       "(4866, 4651)"
      ]
     },
     "execution_count": 20,
     "metadata": {},
     "output_type": "execute_result"
    }
   ],
   "source": [
    "all_words.shape"
   ]
  },
  {
   "cell_type": "code",
   "execution_count": null,
   "metadata": {
    "id": "UIpZ8liQ5O08"
   },
   "outputs": [],
   "source": [
    "with open(\"drive/Shareddrives/SIADS 697 Capstone Gacha/emotions_dictionary.plk\", 'rb') as f:\n",
    "    emotions_vocab = pickle.load(f)"
   ]
  },
  {
   "cell_type": "code",
   "execution_count": null,
   "metadata": {
    "id": "WgnjfMnOOcKv"
   },
   "outputs": [],
   "source": [
    "#list(emotions_vocab.keys())"
   ]
  },
  {
   "cell_type": "code",
   "execution_count": null,
   "metadata": {
    "id": "JNd_gTw4PYx-"
   },
   "outputs": [],
   "source": [
    "emo_vocab_df = pd.DataFrame(columns=['emo_type','emo_syn','emo_stem'])"
   ]
  },
  {
   "cell_type": "code",
   "execution_count": null,
   "metadata": {
    "id": "QfYyhsv_OfCH"
   },
   "outputs": [],
   "source": [
    "emo_types = []\n",
    "emo_syns = []\n",
    "emo_stem = []"
   ]
  },
  {
   "cell_type": "code",
   "execution_count": null,
   "metadata": {
    "id": "-hZEgVGWO2xH"
   },
   "outputs": [],
   "source": [
    "for em in emotions_vocab.keys():\n",
    "  emo_types.extend([em]*len(emotions_vocab[em]))\n",
    "  emo_syns.extend(emotions_vocab[em])"
   ]
  },
  {
   "cell_type": "code",
   "execution_count": null,
   "metadata": {
    "colab": {
     "base_uri": "https://localhost:8080/"
    },
    "executionInfo": {
     "elapsed": 141,
     "status": "ok",
     "timestamp": 1649943239891,
     "user": {
      "displayName": "Sophia Tang",
      "userId": "01214725123456231622"
     },
     "user_tz": 300
    },
    "id": "S_V5Q2BNPVU-",
    "outputId": "c83023e7-dd3d-459e-ee59-272a374663c2"
   },
   "outputs": [
    {
     "data": {
      "text/plain": [
       "(862, 862)"
      ]
     },
     "execution_count": 28,
     "metadata": {},
     "output_type": "execute_result"
    }
   ],
   "source": [
    "len(emo_types), len(emo_syns)"
   ]
  },
  {
   "cell_type": "code",
   "execution_count": null,
   "metadata": {
    "colab": {
     "base_uri": "https://localhost:8080/",
     "height": 49
    },
    "executionInfo": {
     "elapsed": 173,
     "status": "ok",
     "timestamp": 1649943241176,
     "user": {
      "displayName": "Sophia Tang",
      "userId": "01214725123456231622"
     },
     "user_tz": 300
    },
    "id": "Oin7qdCiPmz6",
    "outputId": "399e47fa-2a08-4f04-c516-48a8202d2f98"
   },
   "outputs": [
    {
     "data": {
      "text/html": [
       "\n",
       "  <div id=\"df-89b81213-546b-42aa-83c7-536419d564a8\">\n",
       "    <div class=\"colab-df-container\">\n",
       "      <div>\n",
       "<style scoped>\n",
       "    .dataframe tbody tr th:only-of-type {\n",
       "        vertical-align: middle;\n",
       "    }\n",
       "\n",
       "    .dataframe tbody tr th {\n",
       "        vertical-align: top;\n",
       "    }\n",
       "\n",
       "    .dataframe thead th {\n",
       "        text-align: right;\n",
       "    }\n",
       "</style>\n",
       "<table border=\"1\" class=\"dataframe\">\n",
       "  <thead>\n",
       "    <tr style=\"text-align: right;\">\n",
       "      <th></th>\n",
       "      <th>emo_type</th>\n",
       "      <th>emo_syn</th>\n",
       "      <th>emo_stem</th>\n",
       "    </tr>\n",
       "  </thead>\n",
       "  <tbody>\n",
       "  </tbody>\n",
       "</table>\n",
       "</div>\n",
       "      <button class=\"colab-df-convert\" onclick=\"convertToInteractive('df-89b81213-546b-42aa-83c7-536419d564a8')\"\n",
       "              title=\"Convert this dataframe to an interactive table.\"\n",
       "              style=\"display:none;\">\n",
       "        \n",
       "  <svg xmlns=\"http://www.w3.org/2000/svg\" height=\"24px\"viewBox=\"0 0 24 24\"\n",
       "       width=\"24px\">\n",
       "    <path d=\"M0 0h24v24H0V0z\" fill=\"none\"/>\n",
       "    <path d=\"M18.56 5.44l.94 2.06.94-2.06 2.06-.94-2.06-.94-.94-2.06-.94 2.06-2.06.94zm-11 1L8.5 8.5l.94-2.06 2.06-.94-2.06-.94L8.5 2.5l-.94 2.06-2.06.94zm10 10l.94 2.06.94-2.06 2.06-.94-2.06-.94-.94-2.06-.94 2.06-2.06.94z\"/><path d=\"M17.41 7.96l-1.37-1.37c-.4-.4-.92-.59-1.43-.59-.52 0-1.04.2-1.43.59L10.3 9.45l-7.72 7.72c-.78.78-.78 2.05 0 2.83L4 21.41c.39.39.9.59 1.41.59.51 0 1.02-.2 1.41-.59l7.78-7.78 2.81-2.81c.8-.78.8-2.07 0-2.86zM5.41 20L4 18.59l7.72-7.72 1.47 1.35L5.41 20z\"/>\n",
       "  </svg>\n",
       "      </button>\n",
       "      \n",
       "  <style>\n",
       "    .colab-df-container {\n",
       "      display:flex;\n",
       "      flex-wrap:wrap;\n",
       "      gap: 12px;\n",
       "    }\n",
       "\n",
       "    .colab-df-convert {\n",
       "      background-color: #E8F0FE;\n",
       "      border: none;\n",
       "      border-radius: 50%;\n",
       "      cursor: pointer;\n",
       "      display: none;\n",
       "      fill: #1967D2;\n",
       "      height: 32px;\n",
       "      padding: 0 0 0 0;\n",
       "      width: 32px;\n",
       "    }\n",
       "\n",
       "    .colab-df-convert:hover {\n",
       "      background-color: #E2EBFA;\n",
       "      box-shadow: 0px 1px 2px rgba(60, 64, 67, 0.3), 0px 1px 3px 1px rgba(60, 64, 67, 0.15);\n",
       "      fill: #174EA6;\n",
       "    }\n",
       "\n",
       "    [theme=dark] .colab-df-convert {\n",
       "      background-color: #3B4455;\n",
       "      fill: #D2E3FC;\n",
       "    }\n",
       "\n",
       "    [theme=dark] .colab-df-convert:hover {\n",
       "      background-color: #434B5C;\n",
       "      box-shadow: 0px 1px 3px 1px rgba(0, 0, 0, 0.15);\n",
       "      filter: drop-shadow(0px 1px 2px rgba(0, 0, 0, 0.3));\n",
       "      fill: #FFFFFF;\n",
       "    }\n",
       "  </style>\n",
       "\n",
       "      <script>\n",
       "        const buttonEl =\n",
       "          document.querySelector('#df-89b81213-546b-42aa-83c7-536419d564a8 button.colab-df-convert');\n",
       "        buttonEl.style.display =\n",
       "          google.colab.kernel.accessAllowed ? 'block' : 'none';\n",
       "\n",
       "        async function convertToInteractive(key) {\n",
       "          const element = document.querySelector('#df-89b81213-546b-42aa-83c7-536419d564a8');\n",
       "          const dataTable =\n",
       "            await google.colab.kernel.invokeFunction('convertToInteractive',\n",
       "                                                     [key], {});\n",
       "          if (!dataTable) return;\n",
       "\n",
       "          const docLinkHtml = 'Like what you see? Visit the ' +\n",
       "            '<a target=\"_blank\" href=https://colab.research.google.com/notebooks/data_table.ipynb>data table notebook</a>'\n",
       "            + ' to learn more about interactive tables.';\n",
       "          element.innerHTML = '';\n",
       "          dataTable['output_type'] = 'display_data';\n",
       "          await google.colab.output.renderOutput(dataTable, element);\n",
       "          const docLink = document.createElement('div');\n",
       "          docLink.innerHTML = docLinkHtml;\n",
       "          element.appendChild(docLink);\n",
       "        }\n",
       "      </script>\n",
       "    </div>\n",
       "  </div>\n",
       "  "
      ],
      "text/plain": [
       "Empty DataFrame\n",
       "Columns: [emo_type, emo_syn, emo_stem]\n",
       "Index: []"
      ]
     },
     "execution_count": 29,
     "metadata": {},
     "output_type": "execute_result"
    }
   ],
   "source": [
    "emo_vocab_df"
   ]
  },
  {
   "cell_type": "code",
   "execution_count": null,
   "metadata": {
    "id": "x6XnjKiGPqMr"
   },
   "outputs": [],
   "source": [
    "emo_vocab_df['emo_type'] = emo_types\n",
    "emo_vocab_df['emo_syn'] = emo_syns"
   ]
  },
  {
   "cell_type": "markdown",
   "metadata": {
    "id": "xqnfUrzTGl4s"
   },
   "source": [
    "tried both porter stemmer and snowball stemmer, decided to go with snowball stemmer insce porterstemmer trimmed joyous into joyou"
   ]
  },
  {
   "cell_type": "code",
   "execution_count": null,
   "metadata": {
    "id": "s-WLkqzZPySM"
   },
   "outputs": [],
   "source": [
    "#ps = PorterStemmer()\n",
    "sb_stemmer = SnowballStemmer(\"english\")\n",
    "\n",
    "# words to be stemmed: emo_syns\n",
    "for w in emo_syns:\n",
    "    emo_stem.append(sb_stemmer.stem(w))"
   ]
  },
  {
   "cell_type": "code",
   "execution_count": null,
   "metadata": {
    "id": "V_hiduK2RAfg"
   },
   "outputs": [],
   "source": [
    "emo_vocab_df['emo_stem'] = emo_stem"
   ]
  },
  {
   "cell_type": "code",
   "execution_count": null,
   "metadata": {
    "colab": {
     "base_uri": "https://localhost:8080/",
     "height": 49
    },
    "executionInfo": {
     "elapsed": 104,
     "status": "ok",
     "timestamp": 1649943278897,
     "user": {
      "displayName": "Sophia Tang",
      "userId": "01214725123456231622"
     },
     "user_tz": 300
    },
    "id": "TtWBI06NRBtW",
    "outputId": "54b77b00-d553-4116-bda6-b5a56e3c7c80"
   },
   "outputs": [
    {
     "data": {
      "text/html": [
       "\n",
       "  <div id=\"df-1425fa70-25c3-4871-81d6-df95b72e0331\">\n",
       "    <div class=\"colab-df-container\">\n",
       "      <div>\n",
       "<style scoped>\n",
       "    .dataframe tbody tr th:only-of-type {\n",
       "        vertical-align: middle;\n",
       "    }\n",
       "\n",
       "    .dataframe tbody tr th {\n",
       "        vertical-align: top;\n",
       "    }\n",
       "\n",
       "    .dataframe thead th {\n",
       "        text-align: right;\n",
       "    }\n",
       "</style>\n",
       "<table border=\"1\" class=\"dataframe\">\n",
       "  <thead>\n",
       "    <tr style=\"text-align: right;\">\n",
       "      <th></th>\n",
       "      <th>emo_type</th>\n",
       "      <th>emo_syn</th>\n",
       "      <th>emo_stem</th>\n",
       "    </tr>\n",
       "  </thead>\n",
       "  <tbody>\n",
       "  </tbody>\n",
       "</table>\n",
       "</div>\n",
       "      <button class=\"colab-df-convert\" onclick=\"convertToInteractive('df-1425fa70-25c3-4871-81d6-df95b72e0331')\"\n",
       "              title=\"Convert this dataframe to an interactive table.\"\n",
       "              style=\"display:none;\">\n",
       "        \n",
       "  <svg xmlns=\"http://www.w3.org/2000/svg\" height=\"24px\"viewBox=\"0 0 24 24\"\n",
       "       width=\"24px\">\n",
       "    <path d=\"M0 0h24v24H0V0z\" fill=\"none\"/>\n",
       "    <path d=\"M18.56 5.44l.94 2.06.94-2.06 2.06-.94-2.06-.94-.94-2.06-.94 2.06-2.06.94zm-11 1L8.5 8.5l.94-2.06 2.06-.94-2.06-.94L8.5 2.5l-.94 2.06-2.06.94zm10 10l.94 2.06.94-2.06 2.06-.94-2.06-.94-.94-2.06-.94 2.06-2.06.94z\"/><path d=\"M17.41 7.96l-1.37-1.37c-.4-.4-.92-.59-1.43-.59-.52 0-1.04.2-1.43.59L10.3 9.45l-7.72 7.72c-.78.78-.78 2.05 0 2.83L4 21.41c.39.39.9.59 1.41.59.51 0 1.02-.2 1.41-.59l7.78-7.78 2.81-2.81c.8-.78.8-2.07 0-2.86zM5.41 20L4 18.59l7.72-7.72 1.47 1.35L5.41 20z\"/>\n",
       "  </svg>\n",
       "      </button>\n",
       "      \n",
       "  <style>\n",
       "    .colab-df-container {\n",
       "      display:flex;\n",
       "      flex-wrap:wrap;\n",
       "      gap: 12px;\n",
       "    }\n",
       "\n",
       "    .colab-df-convert {\n",
       "      background-color: #E8F0FE;\n",
       "      border: none;\n",
       "      border-radius: 50%;\n",
       "      cursor: pointer;\n",
       "      display: none;\n",
       "      fill: #1967D2;\n",
       "      height: 32px;\n",
       "      padding: 0 0 0 0;\n",
       "      width: 32px;\n",
       "    }\n",
       "\n",
       "    .colab-df-convert:hover {\n",
       "      background-color: #E2EBFA;\n",
       "      box-shadow: 0px 1px 2px rgba(60, 64, 67, 0.3), 0px 1px 3px 1px rgba(60, 64, 67, 0.15);\n",
       "      fill: #174EA6;\n",
       "    }\n",
       "\n",
       "    [theme=dark] .colab-df-convert {\n",
       "      background-color: #3B4455;\n",
       "      fill: #D2E3FC;\n",
       "    }\n",
       "\n",
       "    [theme=dark] .colab-df-convert:hover {\n",
       "      background-color: #434B5C;\n",
       "      box-shadow: 0px 1px 3px 1px rgba(0, 0, 0, 0.15);\n",
       "      filter: drop-shadow(0px 1px 2px rgba(0, 0, 0, 0.3));\n",
       "      fill: #FFFFFF;\n",
       "    }\n",
       "  </style>\n",
       "\n",
       "      <script>\n",
       "        const buttonEl =\n",
       "          document.querySelector('#df-1425fa70-25c3-4871-81d6-df95b72e0331 button.colab-df-convert');\n",
       "        buttonEl.style.display =\n",
       "          google.colab.kernel.accessAllowed ? 'block' : 'none';\n",
       "\n",
       "        async function convertToInteractive(key) {\n",
       "          const element = document.querySelector('#df-1425fa70-25c3-4871-81d6-df95b72e0331');\n",
       "          const dataTable =\n",
       "            await google.colab.kernel.invokeFunction('convertToInteractive',\n",
       "                                                     [key], {});\n",
       "          if (!dataTable) return;\n",
       "\n",
       "          const docLinkHtml = 'Like what you see? Visit the ' +\n",
       "            '<a target=\"_blank\" href=https://colab.research.google.com/notebooks/data_table.ipynb>data table notebook</a>'\n",
       "            + ' to learn more about interactive tables.';\n",
       "          element.innerHTML = '';\n",
       "          dataTable['output_type'] = 'display_data';\n",
       "          await google.colab.output.renderOutput(dataTable, element);\n",
       "          const docLink = document.createElement('div');\n",
       "          docLink.innerHTML = docLinkHtml;\n",
       "          element.appendChild(docLink);\n",
       "        }\n",
       "      </script>\n",
       "    </div>\n",
       "  </div>\n",
       "  "
      ],
      "text/plain": [
       "Empty DataFrame\n",
       "Columns: [emo_type, emo_syn, emo_stem]\n",
       "Index: []"
      ]
     },
     "execution_count": 33,
     "metadata": {},
     "output_type": "execute_result"
    }
   ],
   "source": [
    "emo_vocab_df[emo_vocab_df.emo_syn == 'joyous']"
   ]
  },
  {
   "cell_type": "code",
   "execution_count": null,
   "metadata": {
    "colab": {
     "base_uri": "https://localhost:8080/",
     "height": 35
    },
    "executionInfo": {
     "elapsed": 125,
     "status": "ok",
     "timestamp": 1649943280173,
     "user": {
      "displayName": "Sophia Tang",
      "userId": "01214725123456231622"
     },
     "user_tz": 300
    },
    "id": "hEDIc7UpQ939",
    "outputId": "7972e46e-4c24-41d6-fef4-71696f42c0fa"
   },
   "outputs": [
    {
     "data": {
      "application/vnd.google.colaboratory.intrinsic+json": {
       "type": "string"
      },
      "text/plain": [
       "'joyous'"
      ]
     },
     "execution_count": 34,
     "metadata": {},
     "output_type": "execute_result"
    }
   ],
   "source": [
    "sb_stemmer.stem('joyous')"
   ]
  },
  {
   "cell_type": "code",
   "execution_count": null,
   "metadata": {
    "id": "hIT75VAvIvMk"
   },
   "outputs": [],
   "source": [
    "#emo_vocab_df['emo_stem'].tolist()"
   ]
  },
  {
   "cell_type": "code",
   "execution_count": null,
   "metadata": {
    "id": "yYe6cMuBE-hy"
   },
   "outputs": [],
   "source": [
    "#lemmatizer = WordNetLemmatizer()"
   ]
  },
  {
   "cell_type": "code",
   "execution_count": null,
   "metadata": {
    "id": "HqB8GMExRtwy"
   },
   "outputs": [],
   "source": [
    "#this is the list of indices in the text dataset that overlap with the emotions list\n",
    "emo_indices = [i for i,val in enumerate(wc_feature_names) if val in emo_vocab_df['emo_syn'].tolist() or sb_stemmer.stem(val) in emo_vocab_df['emo_stem'].tolist()]"
   ]
  },
  {
   "cell_type": "code",
   "execution_count": null,
   "metadata": {
    "colab": {
     "base_uri": "https://localhost:8080/"
    },
    "executionInfo": {
     "elapsed": 3,
     "status": "ok",
     "timestamp": 1649943297177,
     "user": {
      "displayName": "Sophia Tang",
      "userId": "01214725123456231622"
     },
     "user_tz": 300
    },
    "id": "QU7jNe2oIXka",
    "outputId": "82c91dc9-e53c-4064-8a6e-c4418200a9bd"
   },
   "outputs": [
    {
     "data": {
      "text/plain": [
       "315"
      ]
     },
     "execution_count": 38,
     "metadata": {},
     "output_type": "execute_result"
    }
   ],
   "source": [
    "len(emo_indices) # 315 words we can recognize emotions"
   ]
  },
  {
   "cell_type": "code",
   "execution_count": null,
   "metadata": {
    "id": "EgaoWe70Q6EF"
   },
   "outputs": [],
   "source": [
    "emo_wc = wc_df[:,emo_indices] #looking at the matrix with columns referring to only recognizable emotions (315 of them)"
   ]
  },
  {
   "cell_type": "code",
   "execution_count": null,
   "metadata": {
    "colab": {
     "base_uri": "https://localhost:8080/"
    },
    "executionInfo": {
     "elapsed": 118,
     "status": "ok",
     "timestamp": 1649943300825,
     "user": {
      "displayName": "Sophia Tang",
      "userId": "01214725123456231622"
     },
     "user_tz": 300
    },
    "id": "oH6kD01sJh1t",
    "outputId": "c8fc7682-a11d-4a8f-86e4-ccbcdd704405"
   },
   "outputs": [
    {
     "data": {
      "text/plain": [
       "(4866, 315)"
      ]
     },
     "execution_count": 40,
     "metadata": {},
     "output_type": "execute_result"
    }
   ],
   "source": [
    "emo_wc.shape"
   ]
  },
  {
   "cell_type": "code",
   "execution_count": null,
   "metadata": {
    "colab": {
     "base_uri": "https://localhost:8080/"
    },
    "executionInfo": {
     "elapsed": 97,
     "status": "ok",
     "timestamp": 1649943303429,
     "user": {
      "displayName": "Sophia Tang",
      "userId": "01214725123456231622"
     },
     "user_tz": 300
    },
    "id": "vHhQXIfOKDOU",
    "outputId": "2edec732-31e4-4a50-c977-f52674901b8d"
   },
   "outputs": [
    {
     "data": {
      "text/plain": [
       "315"
      ]
     },
     "execution_count": 41,
     "metadata": {},
     "output_type": "execute_result"
    }
   ],
   "source": [
    "len(wc_feature_names[emo_indices].tolist())"
   ]
  },
  {
   "cell_type": "code",
   "execution_count": null,
   "metadata": {
    "id": "Uo7zFKC3L9G5"
   },
   "outputs": [],
   "source": [
    "existing_emo_types = []"
   ]
  },
  {
   "cell_type": "code",
   "execution_count": null,
   "metadata": {
    "colab": {
     "base_uri": "https://localhost:8080/"
    },
    "executionInfo": {
     "elapsed": 116,
     "status": "ok",
     "timestamp": 1649943405193,
     "user": {
      "displayName": "Sophia Tang",
      "userId": "01214725123456231622"
     },
     "user_tz": 300
    },
    "id": "z_IszdXHSXGj",
    "outputId": "2d666d20-2e69-449d-8692-b9039e967e9c"
   },
   "outputs": [
    {
     "data": {
      "text/plain": [
       "315"
      ]
     },
     "execution_count": 44,
     "metadata": {},
     "output_type": "execute_result"
    }
   ],
   "source": [
    "len(wc_feature_names[emo_indices])"
   ]
  },
  {
   "cell_type": "code",
   "execution_count": null,
   "metadata": {
    "id": "gUMMcQErKx1L"
   },
   "outputs": [],
   "source": [
    "for word in wc_feature_names[emo_indices]:\n",
    "  if word in emo_vocab_df['emo_syn'].tolist():\n",
    "    existing_emo_types.append(emo_vocab_df[emo_vocab_df['emo_syn'] == word]['emo_type'].tolist()[0]) #some words apply across similar emotion types. Since each smaller list of emotion types are ranked alphabetically, we just go ahead with the first one in the list. example: ['happy','joy']\n",
    "  elif sb_stemmer.stem(word) in emo_vocab_df['emo_stem'].tolist():\n",
    "    existing_emo_types.append(emo_vocab_df[emo_vocab_df['emo_stem'] == sb_stemmer.stem(word)]['emo_type'].tolist()[0])"
   ]
  },
  {
   "cell_type": "code",
   "execution_count": null,
   "metadata": {
    "colab": {
     "base_uri": "https://localhost:8080/"
    },
    "executionInfo": {
     "elapsed": 135,
     "status": "ok",
     "timestamp": 1649943422998,
     "user": {
      "displayName": "Sophia Tang",
      "userId": "01214725123456231622"
     },
     "user_tz": 300
    },
    "id": "aGtelB-eM1fm",
    "outputId": "ab653f2f-6b1d-45a2-ed08-c95f33ac9ab0"
   },
   "outputs": [
    {
     "data": {
      "text/plain": [
       "315"
      ]
     },
     "execution_count": 46,
     "metadata": {},
     "output_type": "execute_result"
    }
   ],
   "source": [
    "len(existing_emo_types)"
   ]
  },
  {
   "cell_type": "code",
   "execution_count": null,
   "metadata": {
    "colab": {
     "base_uri": "https://localhost:8080/",
     "height": 206
    },
    "executionInfo": {
     "elapsed": 112,
     "status": "ok",
     "timestamp": 1649943631475,
     "user": {
      "displayName": "Sophia Tang",
      "userId": "01214725123456231622"
     },
     "user_tz": 300
    },
    "id": "SWjEZ-r_StyZ",
    "outputId": "9b7c2f41-0ffc-42ec-ab27-14127f8bb81a"
   },
   "outputs": [
    {
     "data": {
      "text/html": [
       "\n",
       "  <div id=\"df-70fa3f96-148b-442b-ac70-cd182169f4cf\">\n",
       "    <div class=\"colab-df-container\">\n",
       "      <div>\n",
       "<style scoped>\n",
       "    .dataframe tbody tr th:only-of-type {\n",
       "        vertical-align: middle;\n",
       "    }\n",
       "\n",
       "    .dataframe tbody tr th {\n",
       "        vertical-align: top;\n",
       "    }\n",
       "\n",
       "    .dataframe thead th {\n",
       "        text-align: right;\n",
       "    }\n",
       "</style>\n",
       "<table border=\"1\" class=\"dataframe\">\n",
       "  <thead>\n",
       "    <tr style=\"text-align: right;\">\n",
       "      <th></th>\n",
       "      <th>emotion_type</th>\n",
       "      <th>emotion_word</th>\n",
       "    </tr>\n",
       "  </thead>\n",
       "  <tbody>\n",
       "    <tr>\n",
       "      <th>0</th>\n",
       "      <td>admiration</td>\n",
       "      <td>admire</td>\n",
       "    </tr>\n",
       "    <tr>\n",
       "      <th>1</th>\n",
       "      <td>affection</td>\n",
       "      <td>affect</td>\n",
       "    </tr>\n",
       "    <tr>\n",
       "      <th>2</th>\n",
       "      <td>affection</td>\n",
       "      <td>affected</td>\n",
       "    </tr>\n",
       "    <tr>\n",
       "      <th>3</th>\n",
       "      <td>affection</td>\n",
       "      <td>affection</td>\n",
       "    </tr>\n",
       "    <tr>\n",
       "      <th>4</th>\n",
       "      <td>affection</td>\n",
       "      <td>affects</td>\n",
       "    </tr>\n",
       "  </tbody>\n",
       "</table>\n",
       "</div>\n",
       "      <button class=\"colab-df-convert\" onclick=\"convertToInteractive('df-70fa3f96-148b-442b-ac70-cd182169f4cf')\"\n",
       "              title=\"Convert this dataframe to an interactive table.\"\n",
       "              style=\"display:none;\">\n",
       "        \n",
       "  <svg xmlns=\"http://www.w3.org/2000/svg\" height=\"24px\"viewBox=\"0 0 24 24\"\n",
       "       width=\"24px\">\n",
       "    <path d=\"M0 0h24v24H0V0z\" fill=\"none\"/>\n",
       "    <path d=\"M18.56 5.44l.94 2.06.94-2.06 2.06-.94-2.06-.94-.94-2.06-.94 2.06-2.06.94zm-11 1L8.5 8.5l.94-2.06 2.06-.94-2.06-.94L8.5 2.5l-.94 2.06-2.06.94zm10 10l.94 2.06.94-2.06 2.06-.94-2.06-.94-.94-2.06-.94 2.06-2.06.94z\"/><path d=\"M17.41 7.96l-1.37-1.37c-.4-.4-.92-.59-1.43-.59-.52 0-1.04.2-1.43.59L10.3 9.45l-7.72 7.72c-.78.78-.78 2.05 0 2.83L4 21.41c.39.39.9.59 1.41.59.51 0 1.02-.2 1.41-.59l7.78-7.78 2.81-2.81c.8-.78.8-2.07 0-2.86zM5.41 20L4 18.59l7.72-7.72 1.47 1.35L5.41 20z\"/>\n",
       "  </svg>\n",
       "      </button>\n",
       "      \n",
       "  <style>\n",
       "    .colab-df-container {\n",
       "      display:flex;\n",
       "      flex-wrap:wrap;\n",
       "      gap: 12px;\n",
       "    }\n",
       "\n",
       "    .colab-df-convert {\n",
       "      background-color: #E8F0FE;\n",
       "      border: none;\n",
       "      border-radius: 50%;\n",
       "      cursor: pointer;\n",
       "      display: none;\n",
       "      fill: #1967D2;\n",
       "      height: 32px;\n",
       "      padding: 0 0 0 0;\n",
       "      width: 32px;\n",
       "    }\n",
       "\n",
       "    .colab-df-convert:hover {\n",
       "      background-color: #E2EBFA;\n",
       "      box-shadow: 0px 1px 2px rgba(60, 64, 67, 0.3), 0px 1px 3px 1px rgba(60, 64, 67, 0.15);\n",
       "      fill: #174EA6;\n",
       "    }\n",
       "\n",
       "    [theme=dark] .colab-df-convert {\n",
       "      background-color: #3B4455;\n",
       "      fill: #D2E3FC;\n",
       "    }\n",
       "\n",
       "    [theme=dark] .colab-df-convert:hover {\n",
       "      background-color: #434B5C;\n",
       "      box-shadow: 0px 1px 3px 1px rgba(0, 0, 0, 0.15);\n",
       "      filter: drop-shadow(0px 1px 2px rgba(0, 0, 0, 0.3));\n",
       "      fill: #FFFFFF;\n",
       "    }\n",
       "  </style>\n",
       "\n",
       "      <script>\n",
       "        const buttonEl =\n",
       "          document.querySelector('#df-70fa3f96-148b-442b-ac70-cd182169f4cf button.colab-df-convert');\n",
       "        buttonEl.style.display =\n",
       "          google.colab.kernel.accessAllowed ? 'block' : 'none';\n",
       "\n",
       "        async function convertToInteractive(key) {\n",
       "          const element = document.querySelector('#df-70fa3f96-148b-442b-ac70-cd182169f4cf');\n",
       "          const dataTable =\n",
       "            await google.colab.kernel.invokeFunction('convertToInteractive',\n",
       "                                                     [key], {});\n",
       "          if (!dataTable) return;\n",
       "\n",
       "          const docLinkHtml = 'Like what you see? Visit the ' +\n",
       "            '<a target=\"_blank\" href=https://colab.research.google.com/notebooks/data_table.ipynb>data table notebook</a>'\n",
       "            + ' to learn more about interactive tables.';\n",
       "          element.innerHTML = '';\n",
       "          dataTable['output_type'] = 'display_data';\n",
       "          await google.colab.output.renderOutput(dataTable, element);\n",
       "          const docLink = document.createElement('div');\n",
       "          docLink.innerHTML = docLinkHtml;\n",
       "          element.appendChild(docLink);\n",
       "        }\n",
       "      </script>\n",
       "    </div>\n",
       "  </div>\n",
       "  "
      ],
      "text/plain": [
       "  emotion_type emotion_word\n",
       "0   admiration       admire\n",
       "1    affection       affect\n",
       "2    affection     affected\n",
       "3    affection    affection\n",
       "4    affection      affects"
      ]
     },
     "execution_count": 51,
     "metadata": {},
     "output_type": "execute_result"
    }
   ],
   "source": [
    "#creating a lookup dataframe for the actual words expressing emotions and their corresponding emotion types\n",
    "emo_type_lookup_df = pd.DataFrame(zip(existing_emo_types, wc_feature_names[emo_indices].tolist()),columns = [\"emotion_type\",\"emotion_word\"])\n",
    "emo_type_lookup_df.head()"
   ]
  },
  {
   "cell_type": "code",
   "execution_count": null,
   "metadata": {
    "colab": {
     "base_uri": "https://localhost:8080/"
    },
    "executionInfo": {
     "elapsed": 144,
     "status": "ok",
     "timestamp": 1649943861651,
     "user": {
      "displayName": "Sophia Tang",
      "userId": "01214725123456231622"
     },
     "user_tz": 300
    },
    "id": "NSUK-bIQTdSr",
    "outputId": "2bd2da58-4501-4019-ff15-f95fea8d0792"
   },
   "outputs": [
    {
     "data": {
      "text/plain": [
       "195      like\n",
       "196     liked\n",
       "197    likely\n",
       "198     likes\n",
       "199    liking\n",
       "Name: emotion_word, dtype: object"
      ]
     },
     "execution_count": 53,
     "metadata": {},
     "output_type": "execute_result"
    }
   ],
   "source": [
    "#the following example examines which words are rolled up under the \"liking\" type of emotion. This type actually has the dominating highest count of appearance in comparison to even the second most frequent emotion.\n",
    "# It makes sense to remove from the emotion wheel output, because at the end of the day we were asking about how the favorite games made the respondents feel, so the word \"like\" and its variations should come up a lot of times. \n",
    "emo_type_lookup_df[emo_type_lookup_df.emotion_type == 'liking']['emotion_word']"
   ]
  },
  {
   "cell_type": "code",
   "execution_count": null,
   "metadata": {
    "colab": {
     "base_uri": "https://localhost:8080/"
    },
    "executionInfo": {
     "elapsed": 141,
     "status": "ok",
     "timestamp": 1649944110998,
     "user": {
      "displayName": "Sophia Tang",
      "userId": "01214725123456231622"
     },
     "user_tz": 300
    },
    "id": "cKpmq3E7O_rN",
    "outputId": "7b64464e-5ac5-4a89-9ea6-6fe19131f112"
   },
   "outputs": [
    {
     "data": {
      "text/plain": [
       "138"
      ]
     },
     "execution_count": 57,
     "metadata": {},
     "output_type": "execute_result"
    }
   ],
   "source": [
    "len(emo_type_lookup_df.groupby('emotion_type').count()) # there are 138 emotion types in total covering all 315 variations of words expressing emotions."
   ]
  },
  {
   "cell_type": "code",
   "execution_count": null,
   "metadata": {
    "id": "lMkrqepdQ4Lt"
   },
   "outputs": [],
   "source": [
    "#the following Counter steps were doing the same thing as the grouby above\n",
    "#d = Counter(existing_emo_types)\n",
    "#len(Counter(existing_emo_types)) # there are 138 emotion types in total covering all 315 variations of words expressing emotions.\n",
    "#key = d.keys()\n",
    "\n",
    "#df = pd.DataFrame(d,index=key)\n",
    "#sample = df.T.iloc[:,0]\n",
    "#sample\n",
    "\n",
    "#sample.index.tolist()\n",
    "#fig = plt.figure(figsize=(8,8))\n",
    "#ax = fig.add_subplot(111,polar=True)\n",
    "\n",
    "#N = len(sample) \n",
    "\n",
    "#theta = np.arange(0, 2*np.pi, 2*np.pi/N) \n",
    "#bars = ax.bar(theta, sample, width=0.4)\n",
    "\n",
    "#ax.set_xticks(theta)\n",
    "#ax.set_xticklabels(sample.index.tolist())\n",
    "#ax.yaxis.grid(True)\n",
    "#plt.show()"
   ]
  },
  {
   "cell_type": "code",
   "execution_count": null,
   "metadata": {
    "id": "PlsXilFgPMvf"
   },
   "outputs": [],
   "source": [
    "#existing_emo_types -- this list will be column 'emoion_type' in the following dataframe"
   ]
  },
  {
   "cell_type": "code",
   "execution_count": null,
   "metadata": {
    "colab": {
     "base_uri": "https://localhost:8080/"
    },
    "executionInfo": {
     "elapsed": 100,
     "status": "ok",
     "timestamp": 1649944271753,
     "user": {
      "displayName": "Sophia Tang",
      "userId": "01214725123456231622"
     },
     "user_tz": 300
    },
    "id": "KE_KgB7T1vGA",
    "outputId": "c83be80c-13a1-404a-af93-403f536fd48a"
   },
   "outputs": [
    {
     "data": {
      "text/plain": [
       "(315, 4866)"
      ]
     },
     "execution_count": 60,
     "metadata": {},
     "output_type": "execute_result"
    }
   ],
   "source": [
    "emo_wc.T.todense().shape # converting the sparce matrix of 4866 rows of word count across 315 emotion words into a dense matrix, transposing the dense matrix so that the rows become emotion words"
   ]
  },
  {
   "cell_type": "code",
   "execution_count": null,
   "metadata": {
    "colab": {
     "base_uri": "https://localhost:8080/",
     "height": 206
    },
    "executionInfo": {
     "elapsed": 128,
     "status": "ok",
     "timestamp": 1649944278839,
     "user": {
      "displayName": "Sophia Tang",
      "userId": "01214725123456231622"
     },
     "user_tz": 300
    },
    "id": "TpbnfFtM2Gzz",
    "outputId": "0861275b-0ab8-415b-88fe-38405f35c4a0"
   },
   "outputs": [
    {
     "data": {
      "text/html": [
       "\n",
       "  <div id=\"df-ed303869-269d-4cc3-9519-18bb5cababc3\">\n",
       "    <div class=\"colab-df-container\">\n",
       "      <div>\n",
       "<style scoped>\n",
       "    .dataframe tbody tr th:only-of-type {\n",
       "        vertical-align: middle;\n",
       "    }\n",
       "\n",
       "    .dataframe tbody tr th {\n",
       "        vertical-align: top;\n",
       "    }\n",
       "\n",
       "    .dataframe thead th {\n",
       "        text-align: right;\n",
       "    }\n",
       "</style>\n",
       "<table border=\"1\" class=\"dataframe\">\n",
       "  <thead>\n",
       "    <tr style=\"text-align: right;\">\n",
       "      <th></th>\n",
       "      <th>user_id</th>\n",
       "      <th>answer_type</th>\n",
       "      <th>repo</th>\n",
       "    </tr>\n",
       "  </thead>\n",
       "  <tbody>\n",
       "    <tr>\n",
       "      <th>4861</th>\n",
       "      <td>1221</td>\n",
       "      <td>previous_dislike</td>\n",
       "      <td>Extremely bad rates. Festival units are requir...</td>\n",
       "    </tr>\n",
       "    <tr>\n",
       "      <th>4862</th>\n",
       "      <td>1222</td>\n",
       "      <td>previous_dislike</td>\n",
       "      <td>No new content; too repetitive</td>\n",
       "    </tr>\n",
       "    <tr>\n",
       "      <th>4863</th>\n",
       "      <td>1223</td>\n",
       "      <td>previous_dislike</td>\n",
       "      <td>Very low rates. Also a friend of mine stopped ...</td>\n",
       "    </tr>\n",
       "    <tr>\n",
       "      <th>4864</th>\n",
       "      <td>1226</td>\n",
       "      <td>previous_dislike</td>\n",
       "      <td>Lack of Auto-Farm (back then), makes gaming re...</td>\n",
       "    </tr>\n",
       "    <tr>\n",
       "      <th>4865</th>\n",
       "      <td>1227</td>\n",
       "      <td>previous_dislike</td>\n",
       "      <td>The PVP, fighting too many of the same meta teams</td>\n",
       "    </tr>\n",
       "  </tbody>\n",
       "</table>\n",
       "</div>\n",
       "      <button class=\"colab-df-convert\" onclick=\"convertToInteractive('df-ed303869-269d-4cc3-9519-18bb5cababc3')\"\n",
       "              title=\"Convert this dataframe to an interactive table.\"\n",
       "              style=\"display:none;\">\n",
       "        \n",
       "  <svg xmlns=\"http://www.w3.org/2000/svg\" height=\"24px\"viewBox=\"0 0 24 24\"\n",
       "       width=\"24px\">\n",
       "    <path d=\"M0 0h24v24H0V0z\" fill=\"none\"/>\n",
       "    <path d=\"M18.56 5.44l.94 2.06.94-2.06 2.06-.94-2.06-.94-.94-2.06-.94 2.06-2.06.94zm-11 1L8.5 8.5l.94-2.06 2.06-.94-2.06-.94L8.5 2.5l-.94 2.06-2.06.94zm10 10l.94 2.06.94-2.06 2.06-.94-2.06-.94-.94-2.06-.94 2.06-2.06.94z\"/><path d=\"M17.41 7.96l-1.37-1.37c-.4-.4-.92-.59-1.43-.59-.52 0-1.04.2-1.43.59L10.3 9.45l-7.72 7.72c-.78.78-.78 2.05 0 2.83L4 21.41c.39.39.9.59 1.41.59.51 0 1.02-.2 1.41-.59l7.78-7.78 2.81-2.81c.8-.78.8-2.07 0-2.86zM5.41 20L4 18.59l7.72-7.72 1.47 1.35L5.41 20z\"/>\n",
       "  </svg>\n",
       "      </button>\n",
       "      \n",
       "  <style>\n",
       "    .colab-df-container {\n",
       "      display:flex;\n",
       "      flex-wrap:wrap;\n",
       "      gap: 12px;\n",
       "    }\n",
       "\n",
       "    .colab-df-convert {\n",
       "      background-color: #E8F0FE;\n",
       "      border: none;\n",
       "      border-radius: 50%;\n",
       "      cursor: pointer;\n",
       "      display: none;\n",
       "      fill: #1967D2;\n",
       "      height: 32px;\n",
       "      padding: 0 0 0 0;\n",
       "      width: 32px;\n",
       "    }\n",
       "\n",
       "    .colab-df-convert:hover {\n",
       "      background-color: #E2EBFA;\n",
       "      box-shadow: 0px 1px 2px rgba(60, 64, 67, 0.3), 0px 1px 3px 1px rgba(60, 64, 67, 0.15);\n",
       "      fill: #174EA6;\n",
       "    }\n",
       "\n",
       "    [theme=dark] .colab-df-convert {\n",
       "      background-color: #3B4455;\n",
       "      fill: #D2E3FC;\n",
       "    }\n",
       "\n",
       "    [theme=dark] .colab-df-convert:hover {\n",
       "      background-color: #434B5C;\n",
       "      box-shadow: 0px 1px 3px 1px rgba(0, 0, 0, 0.15);\n",
       "      filter: drop-shadow(0px 1px 2px rgba(0, 0, 0, 0.3));\n",
       "      fill: #FFFFFF;\n",
       "    }\n",
       "  </style>\n",
       "\n",
       "      <script>\n",
       "        const buttonEl =\n",
       "          document.querySelector('#df-ed303869-269d-4cc3-9519-18bb5cababc3 button.colab-df-convert');\n",
       "        buttonEl.style.display =\n",
       "          google.colab.kernel.accessAllowed ? 'block' : 'none';\n",
       "\n",
       "        async function convertToInteractive(key) {\n",
       "          const element = document.querySelector('#df-ed303869-269d-4cc3-9519-18bb5cababc3');\n",
       "          const dataTable =\n",
       "            await google.colab.kernel.invokeFunction('convertToInteractive',\n",
       "                                                     [key], {});\n",
       "          if (!dataTable) return;\n",
       "\n",
       "          const docLinkHtml = 'Like what you see? Visit the ' +\n",
       "            '<a target=\"_blank\" href=https://colab.research.google.com/notebooks/data_table.ipynb>data table notebook</a>'\n",
       "            + ' to learn more about interactive tables.';\n",
       "          element.innerHTML = '';\n",
       "          dataTable['output_type'] = 'display_data';\n",
       "          await google.colab.output.renderOutput(dataTable, element);\n",
       "          const docLink = document.createElement('div');\n",
       "          docLink.innerHTML = docLinkHtml;\n",
       "          element.appendChild(docLink);\n",
       "        }\n",
       "      </script>\n",
       "    </div>\n",
       "  </div>\n",
       "  "
      ],
      "text/plain": [
       "      user_id       answer_type  \\\n",
       "4861     1221  previous_dislike   \n",
       "4862     1222  previous_dislike   \n",
       "4863     1223  previous_dislike   \n",
       "4864     1226  previous_dislike   \n",
       "4865     1227  previous_dislike   \n",
       "\n",
       "                                                   repo  \n",
       "4861  Extremely bad rates. Festival units are requir...  \n",
       "4862                    No new content; too repetitive   \n",
       "4863  Very low rates. Also a friend of mine stopped ...  \n",
       "4864  Lack of Auto-Farm (back then), makes gaming re...  \n",
       "4865  The PVP, fighting too many of the same meta teams  "
      ]
     },
     "execution_count": 61,
     "metadata": {},
     "output_type": "execute_result"
    }
   ],
   "source": [
    "all_text_df.tail() #again this df is the repository of all text fields"
   ]
  },
  {
   "cell_type": "code",
   "execution_count": null,
   "metadata": {
    "id": "d940jFHS2WZI"
   },
   "outputs": [],
   "source": [
    "emo_type_wc_df = pd.DataFrame(emo_wc.T.todense(), columns = list(range(4866))) #converting the dense matrix into a pandas df"
   ]
  },
  {
   "cell_type": "code",
   "execution_count": null,
   "metadata": {
    "colab": {
     "base_uri": "https://localhost:8080/",
     "height": 236
    },
    "executionInfo": {
     "elapsed": 118,
     "status": "ok",
     "timestamp": 1649944424921,
     "user": {
      "displayName": "Sophia Tang",
      "userId": "01214725123456231622"
     },
     "user_tz": 300
    },
    "id": "PzRK9QI03QmG",
    "outputId": "52ee264c-8e7d-45ce-8490-424d57ec1611"
   },
   "outputs": [
    {
     "data": {
      "text/html": [
       "\n",
       "  <div id=\"df-0f464dae-9844-49fd-af09-e86c26031904\">\n",
       "    <div class=\"colab-df-container\">\n",
       "      <div>\n",
       "<style scoped>\n",
       "    .dataframe tbody tr th:only-of-type {\n",
       "        vertical-align: middle;\n",
       "    }\n",
       "\n",
       "    .dataframe tbody tr th {\n",
       "        vertical-align: top;\n",
       "    }\n",
       "\n",
       "    .dataframe thead th {\n",
       "        text-align: right;\n",
       "    }\n",
       "</style>\n",
       "<table border=\"1\" class=\"dataframe\">\n",
       "  <thead>\n",
       "    <tr style=\"text-align: right;\">\n",
       "      <th></th>\n",
       "      <th>0</th>\n",
       "      <th>1</th>\n",
       "      <th>2</th>\n",
       "      <th>3</th>\n",
       "      <th>4</th>\n",
       "      <th>5</th>\n",
       "      <th>6</th>\n",
       "      <th>7</th>\n",
       "      <th>8</th>\n",
       "      <th>9</th>\n",
       "      <th>...</th>\n",
       "      <th>4856</th>\n",
       "      <th>4857</th>\n",
       "      <th>4858</th>\n",
       "      <th>4859</th>\n",
       "      <th>4860</th>\n",
       "      <th>4861</th>\n",
       "      <th>4862</th>\n",
       "      <th>4863</th>\n",
       "      <th>4864</th>\n",
       "      <th>4865</th>\n",
       "    </tr>\n",
       "  </thead>\n",
       "  <tbody>\n",
       "    <tr>\n",
       "      <th>310</th>\n",
       "      <td>0</td>\n",
       "      <td>0</td>\n",
       "      <td>0</td>\n",
       "      <td>0</td>\n",
       "      <td>0</td>\n",
       "      <td>0</td>\n",
       "      <td>0</td>\n",
       "      <td>0</td>\n",
       "      <td>0</td>\n",
       "      <td>0</td>\n",
       "      <td>...</td>\n",
       "      <td>0</td>\n",
       "      <td>0</td>\n",
       "      <td>0</td>\n",
       "      <td>0</td>\n",
       "      <td>0</td>\n",
       "      <td>0</td>\n",
       "      <td>0</td>\n",
       "      <td>0</td>\n",
       "      <td>0</td>\n",
       "      <td>0</td>\n",
       "    </tr>\n",
       "    <tr>\n",
       "      <th>311</th>\n",
       "      <td>0</td>\n",
       "      <td>0</td>\n",
       "      <td>0</td>\n",
       "      <td>0</td>\n",
       "      <td>0</td>\n",
       "      <td>0</td>\n",
       "      <td>0</td>\n",
       "      <td>0</td>\n",
       "      <td>0</td>\n",
       "      <td>0</td>\n",
       "      <td>...</td>\n",
       "      <td>0</td>\n",
       "      <td>0</td>\n",
       "      <td>0</td>\n",
       "      <td>0</td>\n",
       "      <td>0</td>\n",
       "      <td>0</td>\n",
       "      <td>0</td>\n",
       "      <td>0</td>\n",
       "      <td>0</td>\n",
       "      <td>0</td>\n",
       "    </tr>\n",
       "    <tr>\n",
       "      <th>312</th>\n",
       "      <td>0</td>\n",
       "      <td>0</td>\n",
       "      <td>0</td>\n",
       "      <td>0</td>\n",
       "      <td>0</td>\n",
       "      <td>0</td>\n",
       "      <td>0</td>\n",
       "      <td>0</td>\n",
       "      <td>0</td>\n",
       "      <td>0</td>\n",
       "      <td>...</td>\n",
       "      <td>0</td>\n",
       "      <td>0</td>\n",
       "      <td>0</td>\n",
       "      <td>0</td>\n",
       "      <td>0</td>\n",
       "      <td>0</td>\n",
       "      <td>0</td>\n",
       "      <td>0</td>\n",
       "      <td>0</td>\n",
       "      <td>0</td>\n",
       "    </tr>\n",
       "    <tr>\n",
       "      <th>313</th>\n",
       "      <td>0</td>\n",
       "      <td>0</td>\n",
       "      <td>0</td>\n",
       "      <td>0</td>\n",
       "      <td>0</td>\n",
       "      <td>0</td>\n",
       "      <td>0</td>\n",
       "      <td>0</td>\n",
       "      <td>0</td>\n",
       "      <td>0</td>\n",
       "      <td>...</td>\n",
       "      <td>0</td>\n",
       "      <td>0</td>\n",
       "      <td>0</td>\n",
       "      <td>0</td>\n",
       "      <td>0</td>\n",
       "      <td>0</td>\n",
       "      <td>0</td>\n",
       "      <td>0</td>\n",
       "      <td>0</td>\n",
       "      <td>0</td>\n",
       "    </tr>\n",
       "    <tr>\n",
       "      <th>314</th>\n",
       "      <td>0</td>\n",
       "      <td>0</td>\n",
       "      <td>0</td>\n",
       "      <td>0</td>\n",
       "      <td>0</td>\n",
       "      <td>0</td>\n",
       "      <td>0</td>\n",
       "      <td>0</td>\n",
       "      <td>0</td>\n",
       "      <td>0</td>\n",
       "      <td>...</td>\n",
       "      <td>0</td>\n",
       "      <td>0</td>\n",
       "      <td>0</td>\n",
       "      <td>0</td>\n",
       "      <td>0</td>\n",
       "      <td>0</td>\n",
       "      <td>0</td>\n",
       "      <td>0</td>\n",
       "      <td>0</td>\n",
       "      <td>0</td>\n",
       "    </tr>\n",
       "  </tbody>\n",
       "</table>\n",
       "<p>5 rows × 4866 columns</p>\n",
       "</div>\n",
       "      <button class=\"colab-df-convert\" onclick=\"convertToInteractive('df-0f464dae-9844-49fd-af09-e86c26031904')\"\n",
       "              title=\"Convert this dataframe to an interactive table.\"\n",
       "              style=\"display:none;\">\n",
       "        \n",
       "  <svg xmlns=\"http://www.w3.org/2000/svg\" height=\"24px\"viewBox=\"0 0 24 24\"\n",
       "       width=\"24px\">\n",
       "    <path d=\"M0 0h24v24H0V0z\" fill=\"none\"/>\n",
       "    <path d=\"M18.56 5.44l.94 2.06.94-2.06 2.06-.94-2.06-.94-.94-2.06-.94 2.06-2.06.94zm-11 1L8.5 8.5l.94-2.06 2.06-.94-2.06-.94L8.5 2.5l-.94 2.06-2.06.94zm10 10l.94 2.06.94-2.06 2.06-.94-2.06-.94-.94-2.06-.94 2.06-2.06.94z\"/><path d=\"M17.41 7.96l-1.37-1.37c-.4-.4-.92-.59-1.43-.59-.52 0-1.04.2-1.43.59L10.3 9.45l-7.72 7.72c-.78.78-.78 2.05 0 2.83L4 21.41c.39.39.9.59 1.41.59.51 0 1.02-.2 1.41-.59l7.78-7.78 2.81-2.81c.8-.78.8-2.07 0-2.86zM5.41 20L4 18.59l7.72-7.72 1.47 1.35L5.41 20z\"/>\n",
       "  </svg>\n",
       "      </button>\n",
       "      \n",
       "  <style>\n",
       "    .colab-df-container {\n",
       "      display:flex;\n",
       "      flex-wrap:wrap;\n",
       "      gap: 12px;\n",
       "    }\n",
       "\n",
       "    .colab-df-convert {\n",
       "      background-color: #E8F0FE;\n",
       "      border: none;\n",
       "      border-radius: 50%;\n",
       "      cursor: pointer;\n",
       "      display: none;\n",
       "      fill: #1967D2;\n",
       "      height: 32px;\n",
       "      padding: 0 0 0 0;\n",
       "      width: 32px;\n",
       "    }\n",
       "\n",
       "    .colab-df-convert:hover {\n",
       "      background-color: #E2EBFA;\n",
       "      box-shadow: 0px 1px 2px rgba(60, 64, 67, 0.3), 0px 1px 3px 1px rgba(60, 64, 67, 0.15);\n",
       "      fill: #174EA6;\n",
       "    }\n",
       "\n",
       "    [theme=dark] .colab-df-convert {\n",
       "      background-color: #3B4455;\n",
       "      fill: #D2E3FC;\n",
       "    }\n",
       "\n",
       "    [theme=dark] .colab-df-convert:hover {\n",
       "      background-color: #434B5C;\n",
       "      box-shadow: 0px 1px 3px 1px rgba(0, 0, 0, 0.15);\n",
       "      filter: drop-shadow(0px 1px 2px rgba(0, 0, 0, 0.3));\n",
       "      fill: #FFFFFF;\n",
       "    }\n",
       "  </style>\n",
       "\n",
       "      <script>\n",
       "        const buttonEl =\n",
       "          document.querySelector('#df-0f464dae-9844-49fd-af09-e86c26031904 button.colab-df-convert');\n",
       "        buttonEl.style.display =\n",
       "          google.colab.kernel.accessAllowed ? 'block' : 'none';\n",
       "\n",
       "        async function convertToInteractive(key) {\n",
       "          const element = document.querySelector('#df-0f464dae-9844-49fd-af09-e86c26031904');\n",
       "          const dataTable =\n",
       "            await google.colab.kernel.invokeFunction('convertToInteractive',\n",
       "                                                     [key], {});\n",
       "          if (!dataTable) return;\n",
       "\n",
       "          const docLinkHtml = 'Like what you see? Visit the ' +\n",
       "            '<a target=\"_blank\" href=https://colab.research.google.com/notebooks/data_table.ipynb>data table notebook</a>'\n",
       "            + ' to learn more about interactive tables.';\n",
       "          element.innerHTML = '';\n",
       "          dataTable['output_type'] = 'display_data';\n",
       "          await google.colab.output.renderOutput(dataTable, element);\n",
       "          const docLink = document.createElement('div');\n",
       "          docLink.innerHTML = docLinkHtml;\n",
       "          element.appendChild(docLink);\n",
       "        }\n",
       "      </script>\n",
       "    </div>\n",
       "  </div>\n",
       "  "
      ],
      "text/plain": [
       "     0     1     2     3     4     5     6     7     8     9     ...  4856  \\\n",
       "310     0     0     0     0     0     0     0     0     0     0  ...     0   \n",
       "311     0     0     0     0     0     0     0     0     0     0  ...     0   \n",
       "312     0     0     0     0     0     0     0     0     0     0  ...     0   \n",
       "313     0     0     0     0     0     0     0     0     0     0  ...     0   \n",
       "314     0     0     0     0     0     0     0     0     0     0  ...     0   \n",
       "\n",
       "     4857  4858  4859  4860  4861  4862  4863  4864  4865  \n",
       "310     0     0     0     0     0     0     0     0     0  \n",
       "311     0     0     0     0     0     0     0     0     0  \n",
       "312     0     0     0     0     0     0     0     0     0  \n",
       "313     0     0     0     0     0     0     0     0     0  \n",
       "314     0     0     0     0     0     0     0     0     0  \n",
       "\n",
       "[5 rows x 4866 columns]"
      ]
     },
     "execution_count": 63,
     "metadata": {},
     "output_type": "execute_result"
    }
   ],
   "source": [
    "emo_type_wc_df.tail()"
   ]
  },
  {
   "cell_type": "code",
   "execution_count": null,
   "metadata": {
    "id": "LfpG_qrj36Rs"
   },
   "outputs": [],
   "source": [
    "emo_type_wc_df['emotion_type'] = existing_emo_types #attaching column with the corresponding emotion type to the df\n",
    "#recall that this is a 1:1 reflection of emotion word vs emotion type"
   ]
  },
  {
   "cell_type": "code",
   "execution_count": null,
   "metadata": {
    "colab": {
     "base_uri": "https://localhost:8080/",
     "height": 236
    },
    "executionInfo": {
     "elapsed": 124,
     "status": "ok",
     "timestamp": 1649944452842,
     "user": {
      "displayName": "Sophia Tang",
      "userId": "01214725123456231622"
     },
     "user_tz": 300
    },
    "id": "5arWKgp04Lr_",
    "outputId": "1071fc74-5be7-4c31-bad0-48562ee56693"
   },
   "outputs": [
    {
     "data": {
      "text/html": [
       "\n",
       "  <div id=\"df-85bb6f6c-e934-4b37-a899-4abbca77b195\">\n",
       "    <div class=\"colab-df-container\">\n",
       "      <div>\n",
       "<style scoped>\n",
       "    .dataframe tbody tr th:only-of-type {\n",
       "        vertical-align: middle;\n",
       "    }\n",
       "\n",
       "    .dataframe tbody tr th {\n",
       "        vertical-align: top;\n",
       "    }\n",
       "\n",
       "    .dataframe thead th {\n",
       "        text-align: right;\n",
       "    }\n",
       "</style>\n",
       "<table border=\"1\" class=\"dataframe\">\n",
       "  <thead>\n",
       "    <tr style=\"text-align: right;\">\n",
       "      <th></th>\n",
       "      <th>0</th>\n",
       "      <th>1</th>\n",
       "      <th>2</th>\n",
       "      <th>3</th>\n",
       "      <th>4</th>\n",
       "      <th>5</th>\n",
       "      <th>6</th>\n",
       "      <th>7</th>\n",
       "      <th>8</th>\n",
       "      <th>9</th>\n",
       "      <th>...</th>\n",
       "      <th>4857</th>\n",
       "      <th>4858</th>\n",
       "      <th>4859</th>\n",
       "      <th>4860</th>\n",
       "      <th>4861</th>\n",
       "      <th>4862</th>\n",
       "      <th>4863</th>\n",
       "      <th>4864</th>\n",
       "      <th>4865</th>\n",
       "      <th>emotion_type</th>\n",
       "    </tr>\n",
       "  </thead>\n",
       "  <tbody>\n",
       "    <tr>\n",
       "      <th>0</th>\n",
       "      <td>0</td>\n",
       "      <td>0</td>\n",
       "      <td>0</td>\n",
       "      <td>0</td>\n",
       "      <td>0</td>\n",
       "      <td>0</td>\n",
       "      <td>0</td>\n",
       "      <td>0</td>\n",
       "      <td>0</td>\n",
       "      <td>0</td>\n",
       "      <td>...</td>\n",
       "      <td>0</td>\n",
       "      <td>0</td>\n",
       "      <td>0</td>\n",
       "      <td>0</td>\n",
       "      <td>0</td>\n",
       "      <td>0</td>\n",
       "      <td>0</td>\n",
       "      <td>0</td>\n",
       "      <td>0</td>\n",
       "      <td>admiration</td>\n",
       "    </tr>\n",
       "    <tr>\n",
       "      <th>1</th>\n",
       "      <td>0</td>\n",
       "      <td>0</td>\n",
       "      <td>0</td>\n",
       "      <td>0</td>\n",
       "      <td>0</td>\n",
       "      <td>0</td>\n",
       "      <td>0</td>\n",
       "      <td>0</td>\n",
       "      <td>0</td>\n",
       "      <td>0</td>\n",
       "      <td>...</td>\n",
       "      <td>0</td>\n",
       "      <td>0</td>\n",
       "      <td>0</td>\n",
       "      <td>0</td>\n",
       "      <td>0</td>\n",
       "      <td>0</td>\n",
       "      <td>0</td>\n",
       "      <td>0</td>\n",
       "      <td>0</td>\n",
       "      <td>affection</td>\n",
       "    </tr>\n",
       "    <tr>\n",
       "      <th>2</th>\n",
       "      <td>0</td>\n",
       "      <td>0</td>\n",
       "      <td>0</td>\n",
       "      <td>0</td>\n",
       "      <td>0</td>\n",
       "      <td>0</td>\n",
       "      <td>0</td>\n",
       "      <td>0</td>\n",
       "      <td>0</td>\n",
       "      <td>0</td>\n",
       "      <td>...</td>\n",
       "      <td>0</td>\n",
       "      <td>0</td>\n",
       "      <td>0</td>\n",
       "      <td>0</td>\n",
       "      <td>0</td>\n",
       "      <td>0</td>\n",
       "      <td>0</td>\n",
       "      <td>0</td>\n",
       "      <td>0</td>\n",
       "      <td>affection</td>\n",
       "    </tr>\n",
       "    <tr>\n",
       "      <th>3</th>\n",
       "      <td>0</td>\n",
       "      <td>0</td>\n",
       "      <td>0</td>\n",
       "      <td>0</td>\n",
       "      <td>0</td>\n",
       "      <td>0</td>\n",
       "      <td>0</td>\n",
       "      <td>0</td>\n",
       "      <td>0</td>\n",
       "      <td>0</td>\n",
       "      <td>...</td>\n",
       "      <td>0</td>\n",
       "      <td>0</td>\n",
       "      <td>0</td>\n",
       "      <td>0</td>\n",
       "      <td>0</td>\n",
       "      <td>0</td>\n",
       "      <td>0</td>\n",
       "      <td>0</td>\n",
       "      <td>0</td>\n",
       "      <td>affection</td>\n",
       "    </tr>\n",
       "    <tr>\n",
       "      <th>4</th>\n",
       "      <td>0</td>\n",
       "      <td>0</td>\n",
       "      <td>0</td>\n",
       "      <td>0</td>\n",
       "      <td>0</td>\n",
       "      <td>0</td>\n",
       "      <td>0</td>\n",
       "      <td>0</td>\n",
       "      <td>0</td>\n",
       "      <td>0</td>\n",
       "      <td>...</td>\n",
       "      <td>0</td>\n",
       "      <td>0</td>\n",
       "      <td>0</td>\n",
       "      <td>0</td>\n",
       "      <td>0</td>\n",
       "      <td>0</td>\n",
       "      <td>0</td>\n",
       "      <td>0</td>\n",
       "      <td>0</td>\n",
       "      <td>affection</td>\n",
       "    </tr>\n",
       "  </tbody>\n",
       "</table>\n",
       "<p>5 rows × 4867 columns</p>\n",
       "</div>\n",
       "      <button class=\"colab-df-convert\" onclick=\"convertToInteractive('df-85bb6f6c-e934-4b37-a899-4abbca77b195')\"\n",
       "              title=\"Convert this dataframe to an interactive table.\"\n",
       "              style=\"display:none;\">\n",
       "        \n",
       "  <svg xmlns=\"http://www.w3.org/2000/svg\" height=\"24px\"viewBox=\"0 0 24 24\"\n",
       "       width=\"24px\">\n",
       "    <path d=\"M0 0h24v24H0V0z\" fill=\"none\"/>\n",
       "    <path d=\"M18.56 5.44l.94 2.06.94-2.06 2.06-.94-2.06-.94-.94-2.06-.94 2.06-2.06.94zm-11 1L8.5 8.5l.94-2.06 2.06-.94-2.06-.94L8.5 2.5l-.94 2.06-2.06.94zm10 10l.94 2.06.94-2.06 2.06-.94-2.06-.94-.94-2.06-.94 2.06-2.06.94z\"/><path d=\"M17.41 7.96l-1.37-1.37c-.4-.4-.92-.59-1.43-.59-.52 0-1.04.2-1.43.59L10.3 9.45l-7.72 7.72c-.78.78-.78 2.05 0 2.83L4 21.41c.39.39.9.59 1.41.59.51 0 1.02-.2 1.41-.59l7.78-7.78 2.81-2.81c.8-.78.8-2.07 0-2.86zM5.41 20L4 18.59l7.72-7.72 1.47 1.35L5.41 20z\"/>\n",
       "  </svg>\n",
       "      </button>\n",
       "      \n",
       "  <style>\n",
       "    .colab-df-container {\n",
       "      display:flex;\n",
       "      flex-wrap:wrap;\n",
       "      gap: 12px;\n",
       "    }\n",
       "\n",
       "    .colab-df-convert {\n",
       "      background-color: #E8F0FE;\n",
       "      border: none;\n",
       "      border-radius: 50%;\n",
       "      cursor: pointer;\n",
       "      display: none;\n",
       "      fill: #1967D2;\n",
       "      height: 32px;\n",
       "      padding: 0 0 0 0;\n",
       "      width: 32px;\n",
       "    }\n",
       "\n",
       "    .colab-df-convert:hover {\n",
       "      background-color: #E2EBFA;\n",
       "      box-shadow: 0px 1px 2px rgba(60, 64, 67, 0.3), 0px 1px 3px 1px rgba(60, 64, 67, 0.15);\n",
       "      fill: #174EA6;\n",
       "    }\n",
       "\n",
       "    [theme=dark] .colab-df-convert {\n",
       "      background-color: #3B4455;\n",
       "      fill: #D2E3FC;\n",
       "    }\n",
       "\n",
       "    [theme=dark] .colab-df-convert:hover {\n",
       "      background-color: #434B5C;\n",
       "      box-shadow: 0px 1px 3px 1px rgba(0, 0, 0, 0.15);\n",
       "      filter: drop-shadow(0px 1px 2px rgba(0, 0, 0, 0.3));\n",
       "      fill: #FFFFFF;\n",
       "    }\n",
       "  </style>\n",
       "\n",
       "      <script>\n",
       "        const buttonEl =\n",
       "          document.querySelector('#df-85bb6f6c-e934-4b37-a899-4abbca77b195 button.colab-df-convert');\n",
       "        buttonEl.style.display =\n",
       "          google.colab.kernel.accessAllowed ? 'block' : 'none';\n",
       "\n",
       "        async function convertToInteractive(key) {\n",
       "          const element = document.querySelector('#df-85bb6f6c-e934-4b37-a899-4abbca77b195');\n",
       "          const dataTable =\n",
       "            await google.colab.kernel.invokeFunction('convertToInteractive',\n",
       "                                                     [key], {});\n",
       "          if (!dataTable) return;\n",
       "\n",
       "          const docLinkHtml = 'Like what you see? Visit the ' +\n",
       "            '<a target=\"_blank\" href=https://colab.research.google.com/notebooks/data_table.ipynb>data table notebook</a>'\n",
       "            + ' to learn more about interactive tables.';\n",
       "          element.innerHTML = '';\n",
       "          dataTable['output_type'] = 'display_data';\n",
       "          await google.colab.output.renderOutput(dataTable, element);\n",
       "          const docLink = document.createElement('div');\n",
       "          docLink.innerHTML = docLinkHtml;\n",
       "          element.appendChild(docLink);\n",
       "        }\n",
       "      </script>\n",
       "    </div>\n",
       "  </div>\n",
       "  "
      ],
      "text/plain": [
       "   0  1  2  3  4  5  6  7  8  9  ...  4857  4858  4859  4860  4861  4862  \\\n",
       "0  0  0  0  0  0  0  0  0  0  0  ...     0     0     0     0     0     0   \n",
       "1  0  0  0  0  0  0  0  0  0  0  ...     0     0     0     0     0     0   \n",
       "2  0  0  0  0  0  0  0  0  0  0  ...     0     0     0     0     0     0   \n",
       "3  0  0  0  0  0  0  0  0  0  0  ...     0     0     0     0     0     0   \n",
       "4  0  0  0  0  0  0  0  0  0  0  ...     0     0     0     0     0     0   \n",
       "\n",
       "   4863  4864  4865  emotion_type  \n",
       "0     0     0     0    admiration  \n",
       "1     0     0     0     affection  \n",
       "2     0     0     0     affection  \n",
       "3     0     0     0     affection  \n",
       "4     0     0     0     affection  \n",
       "\n",
       "[5 rows x 4867 columns]"
      ]
     },
     "execution_count": 65,
     "metadata": {},
     "output_type": "execute_result"
    }
   ],
   "source": [
    "emo_type_wc_df.head()"
   ]
  },
  {
   "cell_type": "code",
   "execution_count": null,
   "metadata": {
    "id": "Qwb1RfPV4N5G"
   },
   "outputs": [],
   "source": [
    "#summing up word counts per unique emotion type with the help of groupby and some reindexing actions\n",
    "emo_wc_sum_df = emo_type_wc_df.groupby(by=['emotion_type']).sum().reset_index().T.reset_index().iloc[1:,1:]\n",
    "unique_emotion_types = emo_type_wc_df.groupby(by=['emotion_type']).sum().index.tolist()\n",
    "emo_wc_sum_df.columns = unique_emotion_types\n",
    "emo_wc_sum_df = emo_wc_sum_df.reset_index().iloc[:,1:]"
   ]
  },
  {
   "cell_type": "code",
   "execution_count": null,
   "metadata": {
    "id": "SPbvz-8N6Qcd"
   },
   "outputs": [],
   "source": [
    "#now we can examine the strength of each emotion type's presence, expressed by each emotion type's total sum of appearences across the entire corpa.\n",
    "emotion_strength = emo_wc_sum_df.sum()"
   ]
  },
  {
   "cell_type": "code",
   "execution_count": null,
   "metadata": {
    "id": "Wp4MdADP7vRp"
   },
   "outputs": [],
   "source": [
    "#emotion_strength.index.tolist()"
   ]
  },
  {
   "cell_type": "code",
   "execution_count": null,
   "metadata": {
    "colab": {
     "base_uri": "https://localhost:8080/",
     "height": 504
    },
    "executionInfo": {
     "elapsed": 3221,
     "status": "ok",
     "timestamp": 1649944660565,
     "user": {
      "displayName": "Sophia Tang",
      "userId": "01214725123456231622"
     },
     "user_tz": 300
    },
    "id": "4-BbDkCl5Irc",
    "outputId": "3f4d9106-4916-4e39-e571-cccc3367d01a"
   },
   "outputs": [
    {
     "data": {
      "image/png": "[encoded data removed]",
      "text/plain": [
       "<Figure size 576x576 with 1 Axes>"
      ]
     },
     "metadata": {
      "needs_background": "light"
     },
     "output_type": "display_data"
    }
   ],
   "source": [
    "#visualizing the strengths of all emotions described by wordcount across all text\n",
    "fig = plt.figure(figsize=(8,8))\n",
    "ax = fig.add_subplot(111,polar=True)\n",
    "\n",
    "N = len(emotion_strength) \n",
    "\n",
    "theta = np.arange(0, 2*np.pi, 2*np.pi/N) \n",
    "bars = ax.bar(theta, emotion_strength, width=0.4)\n",
    "\n",
    "ax.set_xticks(theta)\n",
    "ax.set_xticklabels(emotion_strength.index.tolist())\n",
    "ax.yaxis.grid(True)\n",
    "ax.xaxis.grid(False)\n",
    "plt.show()\n",
    "\n",
    "#too crowded as the radar chart below shows"
   ]
  },
  {
   "cell_type": "code",
   "execution_count": null,
   "metadata": {
    "colab": {
     "base_uri": "https://localhost:8080/",
     "height": 265
    },
    "executionInfo": {
     "elapsed": 249,
     "status": "ok",
     "timestamp": 1649944740844,
     "user": {
      "displayName": "Sophia Tang",
      "userId": "01214725123456231622"
     },
     "user_tz": 300
    },
    "id": "BO3I8fNu_7s9",
    "outputId": "5e798d14-c001-4ae5-fdd9-e55da6292692"
   },
   "outputs": [
    {
     "data": {
      "image/png": "[encoded data removed]",
      "text/plain": [
       "<Figure size 432x288 with 1 Axes>"
      ]
     },
     "metadata": {
      "needs_background": "light"
     },
     "output_type": "display_data"
    }
   ],
   "source": [
    "#taking a quick look at the distribution of emotion type appearences in all text\n",
    "plt.hist(emotion_strength)\n",
    "plt.show()"
   ]
  },
  {
   "cell_type": "code",
   "execution_count": null,
   "metadata": {
    "id": "drAZ538-XuSE"
   },
   "outputs": [],
   "source": [
    "#worth looking closer at emotions in each appearence frequency tier separately"
   ]
  },
  {
   "cell_type": "code",
   "execution_count": null,
   "metadata": {
    "id": "YTO40Bhu9_bC"
   },
   "outputs": [],
   "source": [
    "#looking at high frequency first with occurences above 50\n",
    "greater_than_50_df = pd.DataFrame(emotion_strength, columns=['larger'])\n",
    "greater_than_50_df = greater_than_50_df[(greater_than_50_df.larger >=50) & (greater_than_50_df.larger <greater_than_50_df.larger.max())]\n",
    "#as mentioned earlier, the \"liking category\" is the only one above 500 appearances, so this outlier should be removed in order to examine other high frequency emotions"
   ]
  },
  {
   "cell_type": "code",
   "execution_count": null,
   "metadata": {
    "colab": {
     "base_uri": "https://localhost:8080/",
     "height": 492
    },
    "executionInfo": {
     "elapsed": 511,
     "status": "ok",
     "timestamp": 1649944943749,
     "user": {
      "displayName": "Sophia Tang",
      "userId": "01214725123456231622"
     },
     "user_tz": 300
    },
    "id": "X33P2x0iBWDO",
    "outputId": "45e41364-2ac0-40a3-823d-79c6b5533b80"
   },
   "outputs": [
    {
     "data": {
      "image/png": "[encoded data removed]",
      "text/plain": [
       "<Figure size 576x576 with 1 Axes>"
      ]
     },
     "metadata": {
      "needs_background": "light"
     },
     "output_type": "display_data"
    }
   ],
   "source": [
    "fig = plt.figure(figsize=(8,8))\n",
    "ax = fig.add_subplot(111,polar=True)\n",
    "\n",
    "N = len(greater_than_50_df.larger) \n",
    "\n",
    "theta = np.arange(0, 2*np.pi, 2*np.pi/N) \n",
    "bars = ax.bar(theta, greater_than_50_df.larger, width=0.4)\n",
    "\n",
    "ax.set_xticks(theta)\n",
    "ax.set_xticklabels(greater_than_50_df.index.tolist())\n",
    "ax.yaxis.grid(True)\n",
    "ax.xaxis.grid(True)\n",
    "plt.show()"
   ]
  },
  {
   "cell_type": "code",
   "execution_count": null,
   "metadata": {
    "colab": {
     "base_uri": "https://localhost:8080/"
    },
    "executionInfo": {
     "elapsed": 119,
     "status": "ok",
     "timestamp": 1649945043861,
     "user": {
      "displayName": "Sophia Tang",
      "userId": "01214725123456231622"
     },
     "user_tz": 300
    },
    "id": "vWW9oVYEYvZI",
    "outputId": "14cfeb87-b46d-49c5-d9ec-928b76eb9b12"
   },
   "outputs": [
    {
     "data": {
      "text/plain": [
       "14"
      ]
     },
     "execution_count": 80,
     "metadata": {},
     "output_type": "execute_result"
    }
   ],
   "source": [
    "len(greater_than_50_df.larger)#we have 14 kinds of high frequency emotions. these emotions occur most frequently when people are talkinag about their current favorite games or their once favorite games. \n",
    "#apparently this is a mix of emotions when they describe what they liked and disliked about those games, so it contains a mix of positive and negative sentiments."
   ]
  },
  {
   "cell_type": "code",
   "execution_count": null,
   "metadata": {
    "colab": {
     "base_uri": "https://localhost:8080/"
    },
    "executionInfo": {
     "elapsed": 115,
     "status": "ok",
     "timestamp": 1649945252061,
     "user": {
      "displayName": "Sophia Tang",
      "userId": "01214725123456231622"
     },
     "user_tz": 300
    },
    "id": "JRaWpx5RZSg-",
    "outputId": "9d73fc9b-0c4f-4432-c422-107d3d30ccba"
   },
   "outputs": [
    {
     "name": "stdout",
     "output_type": "stream",
     "text": [
      "amusement :  ['amused', 'amusement', 'amusing', 'entertain', 'entertained', 'entertaining', 'entertainment', 'entertains']\n",
      "bored :  ['bore', 'bored', 'boring']\n",
      "content :  ['content', 'contention', 'contents']\n",
      "depressed :  ['blue', 'depressed', 'depression', 'down', 'downs', 'low']\n",
      "ecstasy :  ['go', 'going']\n",
      "enjoyment :  ['enjoy', 'enjoyable', 'enjoyed', 'enjoying', 'enjoyment', 'use', 'used', 'useful', 'usefulness', 'uses', 'using']\n",
      "excitement :  ['excite', 'excited', 'excitement', 'exciting', 'excitted']\n",
      "frustrated :  ['defeat', 'disappointed', 'frustrate', 'frustrated', 'frustrates', 'frustrating', 'frustration']\n",
      "happiness :  ['happiness', 'happy']\n",
      "interest :  ['interest', 'interested', 'interesting', 'interests']\n",
      "longing :  ['long']\n",
      "love :  ['bang', 'eff', 'fucked', 'fucking', 'know', 'knowing', 'knows', 'love', 'loved', 'lovely', 'loves', 'loving']\n",
      "pity :  ['pity']\n",
      "relaxed :  ['relax', 'relaxation', 'relaxed', 'relaxing']\n"
     ]
    }
   ],
   "source": [
    "#let's take a look at the words associated with these 14 high frequency emotion types:\n",
    "for emo_type in greater_than_50_df.larger.index:\n",
    "  print(emo_type,\": \", emo_type_lookup_df[emo_type_lookup_df.emotion_type == emo_type]['emotion_word'].tolist())"
   ]
  },
  {
   "cell_type": "markdown",
   "metadata": {
    "id": "pYsN8t9ra2FW"
   },
   "source": [
    "the categorization process is not perfect because some verbs like \"use\" got categorized into enjoyment category, \"know\" got categorized into loving category, \"long\" got categorized into longing while\n",
    "\n",
    "it could just be describing some process being too long. only \"long\" as a verb should be put into this category."
   ]
  },
  {
   "cell_type": "code",
   "execution_count": null,
   "metadata": {
    "id": "rpr-VbChaNTh"
   },
   "outputs": [],
   "source": [
    "#next we look at the mid level frequency emotions from 10-50 occurences"
   ]
  },
  {
   "cell_type": "code",
   "execution_count": null,
   "metadata": {
    "id": "TntoLrAt_l9L"
   },
   "outputs": [],
   "source": [
    "less_than_50_df = pd.DataFrame(emotion_strength, columns=['smaller'])\n",
    "less_than_50_df = less_than_50_df[(less_than_50_df.smaller < 50)&(less_than_50_df.smaller >= 10)]"
   ]
  },
  {
   "cell_type": "code",
   "execution_count": null,
   "metadata": {
    "colab": {
     "base_uri": "https://localhost:8080/",
     "height": 503
    },
    "executionInfo": {
     "elapsed": 692,
     "status": "ok",
     "timestamp": 1649945670422,
     "user": {
      "displayName": "Sophia Tang",
      "userId": "01214725123456231622"
     },
     "user_tz": 300
    },
    "id": "GJgGjN0XbEiG",
    "outputId": "565b3264-b87f-4b84-e391-a6fc594cf6b2"
   },
   "outputs": [
    {
     "data": {
      "image/png": "[encoded data removed]",
      "text/plain": [
       "<Figure size 576x576 with 1 Axes>"
      ]
     },
     "metadata": {
      "needs_background": "light"
     },
     "output_type": "display_data"
    }
   ],
   "source": [
    "fig = plt.figure(figsize=(8,8))\n",
    "ax = fig.add_subplot(111,polar=True)\n",
    "\n",
    "N = len(less_than_50_df.smaller) \n",
    "\n",
    "theta = np.arange(0, 2*np.pi, 2*np.pi/N) \n",
    "bars = ax.bar(theta, less_than_50_df.smaller, width=0.4)\n",
    "\n",
    "ax.set_xticks(theta)\n",
    "ax.set_xticklabels(less_than_50_df.index.tolist())\n",
    "ax.yaxis.grid(True)\n",
    "ax.xaxis.grid(True)\n",
    "plt.show()"
   ]
  },
  {
   "cell_type": "code",
   "execution_count": null,
   "metadata": {
    "colab": {
     "base_uri": "https://localhost:8080/"
    },
    "executionInfo": {
     "elapsed": 102,
     "status": "ok",
     "timestamp": 1649946144621,
     "user": {
      "displayName": "Sophia Tang",
      "userId": "01214725123456231622"
     },
     "user_tz": 300
    },
    "id": "R8Kv6Qsec_qW",
    "outputId": "ce852229-ece2-4663-ebbd-b5d1ca270c62"
   },
   "outputs": [
    {
     "data": {
      "text/plain": [
       "37"
      ]
     },
     "execution_count": 90,
     "metadata": {},
     "output_type": "execute_result"
    }
   ],
   "source": [
    "len(less_than_50_df) # 37 mid tier occrence emotion types"
   ]
  },
  {
   "cell_type": "code",
   "execution_count": null,
   "metadata": {
    "colab": {
     "base_uri": "https://localhost:8080/"
    },
    "executionInfo": {
     "elapsed": 110,
     "status": "ok",
     "timestamp": 1649945985457,
     "user": {
      "displayName": "Sophia Tang",
      "userId": "01214725123456231622"
     },
     "user_tz": 300
    },
    "id": "yEfckwkqbUlE",
    "outputId": "f62f28f3-5a5f-48c0-e1ab-f0907d0d6174"
   },
   "outputs": [
    {
     "name": "stdout",
     "output_type": "stream",
     "text": [
      "admiration :  ['admire', 'appreciate', 'appreciated', 'appreciating', 'appreciative']\n",
      "affection :  ['affect', 'affected', 'affection', 'affects', 'hearted']\n",
      "amazement :  ['amazing']\n",
      "anguish :  ['pain', 'painful', 'pains']\n",
      "annoyed :  ['annoy', 'annoyed', 'annoying']\n",
      "apprehension :  ['catch', 'catching']\n",
      "attentiveness :  ['attention']\n",
      "attraction :  ['attract', 'attractive', 'draw', 'drawing', 'draws']\n",
      "baffled :  ['baffled', 'confused', 'confusing', 'lost']\n",
      "calm :  ['calm', 'calming']\n",
      "comfortable :  ['comfort', 'comfortable', 'comforting', 'easy']\n",
      "curiosity :  ['rarity']\n",
      "dislike :  ['dislike', 'disliked', 'dislikes']\n",
      "dread :  ['awful', 'awfully', 'dread', 'dreadful', 'horrendous', 'horrific', 'terrible']\n",
      "elation :  ['elated', 'elation', 'light']\n",
      "ennui :  ['boredom', 'tedium']\n",
      "focused :  ['focus', 'focused', 'focuses', 'focusing']\n",
      "hate :  ['hate', 'hated']\n",
      "hope :  ['hope', 'hopeful', 'hopefully', 'hoping']\n",
      "impatient :  ['impatience', 'rare', 'rarely']\n",
      "intrigued :  ['intrigued', 'intriguing']\n",
      "joy :  ['joy', 'joyful']\n",
      "kind :  ['kind', 'kinds']\n",
      "mad :  ['insane', 'insanely']\n",
      "neglect :  ['ignore', 'ignored', 'ignores', 'neglected', 'neglection']\n",
      "nostalgic :  ['nostalgic', 'nostalgical']\n",
      "overwhelmed :  ['overpowered', 'overwhelmed', 'overwhelming']\n",
      "puzzled :  ['puzzle', 'puzzles']\n",
      "relieved :  ['project', 'projects', 'relieve', 'reliever', 'relieving', 'stick']\n",
      "sadness :  ['sad', 'sadly', 'sadness']\n",
      "satisfaction :  ['satisfaction']\n",
      "stressed :  ['stress', 'stressed', 'stressful', 'stressing']\n",
      "strong :  ['strong', 'strongly']\n",
      "suspicious :  ['funny']\n",
      "tired :  ['tired', 'tiring']\n",
      "tolerance :  ['allow', 'allowed', 'allowing', 'allows', 'marginally']\n",
      "vigilance :  ['watch', 'watching']\n"
     ]
    }
   ],
   "source": [
    "#let's take a look at the words associated with these mid frequency emotion types which are actually more diverse and interesting to explore:\n",
    "for emo_type in less_than_50_df.smaller.index:\n",
    "  print(emo_type,\": \", emo_type_lookup_df[emo_type_lookup_df.emotion_type == emo_type]['emotion_word'].tolist())"
   ]
  },
  {
   "cell_type": "markdown",
   "metadata": {
    "id": "MwTiVfZpbrmk"
   },
   "source": [
    "Although these emotions don't appear to be high frequency in the text survey responses, they could be more telling of emotions existing across the larger pool of text data like the app reviews for each game."
   ]
  },
  {
   "cell_type": "code",
   "execution_count": null,
   "metadata": {
    "id": "ZSl0LhlWcBG_"
   },
   "outputs": [],
   "source": [
    "#similarly let's look at the lowest tier of emotions with less than 10 occurences\n",
    "less_than_10_df = pd.DataFrame(emotion_strength, columns=['least'])\n",
    "less_than_10_df = less_than_10_df[less_than_10_df.least < 10]"
   ]
  },
  {
   "cell_type": "code",
   "execution_count": null,
   "metadata": {
    "colab": {
     "base_uri": "https://localhost:8080/"
    },
    "executionInfo": {
     "elapsed": 107,
     "status": "ok",
     "timestamp": 1649945896826,
     "user": {
      "displayName": "Sophia Tang",
      "userId": "01214725123456231622"
     },
     "user_tz": 300
    },
    "id": "uoCUgTAY-fQs",
    "outputId": "8ee62bd0-5a2d-4587-9494-7cc89c245c8c"
   },
   "outputs": [
    {
     "data": {
      "text/plain": [
       "86"
      ]
     },
     "execution_count": 87,
     "metadata": {},
     "output_type": "execute_result"
    }
   ],
   "source": [
    "len(less_than_10_df) # way more than high+mid tiers combined"
   ]
  },
  {
   "cell_type": "code",
   "execution_count": null,
   "metadata": {
    "colab": {
     "base_uri": "https://localhost:8080/"
    },
    "executionInfo": {
     "elapsed": 298,
     "status": "ok",
     "timestamp": 1649946027437,
     "user": {
      "displayName": "Sophia Tang",
      "userId": "01214725123456231622"
     },
     "user_tz": 300
    },
    "id": "zMJP4km0_7mm",
    "outputId": "a168ecfc-48bb-44fd-9d68-fb3de31b4e70"
   },
   "outputs": [
    {
     "name": "stdout",
     "output_type": "stream",
     "text": [
      "afraid :  ['afraid']\n",
      "aggressive :  ['aggressive', 'aggressively']\n",
      "agitation :  ['agitated']\n",
      "agony :  ['suffer', 'suffered', 'suffering']\n",
      "alarm :  ['alarms', 'alert']\n",
      "alienation :  ['aliens']\n",
      "ambivalence :  ['ambivalent']\n",
      "anger :  ['anger']\n",
      "anticipating :  ['anticipated']\n",
      "anxious :  ['anxious', 'nervous']\n",
      "apathy :  ['indifferent', 'numbing']\n",
      "astonished :  ['astounding']\n",
      "awe :  ['awe']\n",
      "carefree :  ['carefree']\n",
      "careless :  ['regardless']\n",
      "caring :  ['care', 'cared', 'careful']\n",
      "cheerfulness :  ['cheerful']\n",
      "confident :  ['confident']\n",
      "courage :  ['brave']\n",
      "cruelty :  ['cruel']\n",
      "delighted :  ['captivated', 'captivating', 'charm', 'delightful']\n",
      "demoralized :  ['discouraged', 'discouraging']\n",
      "desire :  ['desire', 'desired']\n",
      "despair :  ['despair']\n",
      "determined :  ['compulsion', 'driven']\n",
      "disappointment :  ['disappointing', 'disappointment']\n",
      "discomfort :  ['irritating']\n",
      "discontentment :  ['discontent']\n",
      "disgust :  ['disgusted', 'disgusting']\n",
      "distraction :  ['distracted', 'distraction', 'distractions']\n",
      "distress :  ['distressed']\n",
      "disturbed :  ['mad', 'unbalanced']\n",
      "dominant :  ['dominant', 'dominate', 'dominated', 'prevalence']\n",
      "doubt :  ['doubt']\n",
      "eagerness :  ['forward']\n",
      "embarrassment :  ['plethora']\n",
      "enchanted :  ['enchant', 'enchantment']\n",
      "expectancy :  ['anticipation', 'expect', 'expected']\n",
      "fascination :  ['fascinated', 'fascinating']\n",
      "friendliness :  ['friendliness']\n",
      "gloomy :  ['dark', 'sorry']\n",
      "greed :  ['greed']\n",
      "grief :  ['grief']\n",
      "grumpiness :  ['grumpy']\n",
      "guilt :  ['guilt']\n",
      "idleness :  ['idle', 'idles', 'idling']\n",
      "infuriated :  ['furious', 'infuriated', 'infuriating']\n",
      "insightful :  ['insight']\n",
      "irritated :  ['pissed', 'steam']\n",
      "isolated :  ['apart', 'isolated']\n",
      "lazy :  ['laziness', 'lazy']\n",
      "melancholy :  ['somber']\n",
      "miserable :  ['miserable']\n",
      "negative :  ['minus', 'negative', 'negatively']\n",
      "numb :  ['numb']\n",
      "offended :  ['offender']\n",
      "passion :  ['passionate']\n",
      "patience :  ['patience']\n",
      "pleased :  ['please', 'pleased', 'pleasing']\n",
      "pleasure :  ['pleasure']\n",
      "positive :  ['position', 'positive']\n",
      "powerless :  ['powerless']\n",
      "pride :  ['pride']\n",
      "rage :  ['rage']\n",
      "regret :  ['regret']\n",
      "rejected :  ['rejects']\n",
      "sentimentality :  ['sentiment']\n",
      "serenity :  ['peaceful']\n",
      "shame :  ['shame']\n",
      "shocked :  ['shock']\n",
      "smug :  ['smug']\n",
      "spite :  ['spite']\n",
      "stubborn :  ['stubbornness']\n",
      "stuck :  ['stuck']\n",
      "sullenness :  ['soured']\n",
      "surprise :  ['surprised', 'surprisingly']\n",
      "suspense :  ['suspension']\n",
      "tension :  ['tension']\n",
      "thankfulness :  ['grating', 'thank', 'thanks']\n",
      "thrilled :  ['thrill', 'thrilling']\n",
      "triumphant :  ['victorious', 'victory']\n",
      "trust :  ['trust']\n",
      "uncertainty :  ['uncertainty']\n",
      "unsure :  ['unsure']\n",
      "upset :  ['upset', 'upsetting']\n",
      "weak :  ['weak']\n"
     ]
    }
   ],
   "source": [
    "#let's take a look at what consists the low occurence tiers of emotion types:\n",
    "for emo_type in less_than_10_df.least.index:\n",
    "  print(emo_type,\": \", emo_type_lookup_df[emo_type_lookup_df.emotion_type == emo_type]['emotion_word'].tolist())"
   ]
  },
  {
   "cell_type": "code",
   "execution_count": null,
   "metadata": {
    "colab": {
     "base_uri": "https://localhost:8080/"
    },
    "executionInfo": {
     "elapsed": 114,
     "status": "ok",
     "timestamp": 1649946306120,
     "user": {
      "displayName": "Sophia Tang",
      "userId": "01214725123456231622"
     },
     "user_tz": 300
    },
    "id": "cBt4db4YArYU",
    "outputId": "0a613915-b588-499d-91a6-8c276d87b480"
   },
   "outputs": [
    {
     "data": {
      "text/plain": [
       "(4866, 138)"
      ]
     },
     "execution_count": 92,
     "metadata": {},
     "output_type": "execute_result"
    }
   ],
   "source": [
    "emo_wc_sum_df.shape"
   ]
  },
  {
   "cell_type": "markdown",
   "metadata": {
    "id": "v1NRxbeIH751"
   },
   "source": []
  },
  {
   "cell_type": "markdown",
   "metadata": {
    "id": "ZRmJ3d7M-zb1"
   },
   "source": [
    "#**TFIDF Vectorization**"
   ]
  },
  {
   "cell_type": "code",
   "execution_count": null,
   "metadata": {
    "id": "qK-bfTx49Gs5"
   },
   "outputs": [],
   "source": [
    "tfidfvectorizer = TfidfVectorizer(ngram_range=(1, 2))\n",
    "tfidf_df = tfidfvectorizer.fit_transform(all_text_df['repo'])\n",
    "tfidf_feature_names = tfidfvectorizer.get_feature_names_out()\n",
    "#this is the list indices that are words only (no numbers) after filtered by the regex pattern and removed from stopwords\n",
    "tfidf_indices = [i for i,val in enumerate(tfidf_feature_names) if reg.fullmatch(val)]\n",
    "#this is the list of words from the wc_vect CountVectorizer features after being fit transformed by the text repo\n"
   ]
  }
 ],
 "metadata": {
  "colab": {
   "collapsed_sections": [
    "ZvOdqFeX5Spf",
    "LPzW7T8I5gpI"
   ],
   "name": "survey_text_st.ipynb",
   "provenance": []
  },
  "kernelspec": {
   "display_name": "Python 3",
   "language": "python",
   "name": "python3"
  },
  "language_info": {
   "codemirror_mode": {
    "name": "ipython",
    "version": 3
   },
   "file_extension": ".py",
   "mimetype": "text/x-python",
   "name": "python",
   "nbconvert_exporter": "python",
   "pygments_lexer": "ipython3",
   "version": "3.8.10"
  }
 },
 "nbformat": 4,
 "nbformat_minor": 1
}
