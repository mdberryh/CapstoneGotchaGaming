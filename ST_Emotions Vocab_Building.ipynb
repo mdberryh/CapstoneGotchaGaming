{
 "cells": [
  {
   "cell_type": "code",
   "execution_count": null,
   "metadata": {
    "colab": {
     "base_uri": "https://localhost:8080/"
    },
    "executionInfo": {
     "elapsed": 22723,
     "status": "ok",
     "timestamp": 1649950537086,
     "user": {
      "displayName": "Sophia Tang",
      "userId": "01214725123456231622"
     },
     "user_tz": 300
    },
    "id": "TNdLdERynM8S",
    "outputId": "701e6095-53cd-4f25-ba92-2e9f58b763a0"
   },
   "outputs": [
    {
     "name": "stdout",
     "output_type": "stream",
     "text": [
      "Mounted at /content/drive\n"
     ]
    }
   ],
   "source": [
    "#mount to drive\n",
    "from google.colab import drive\n",
    "drive.mount('/content/drive')"
   ]
  },
  {
   "cell_type": "code",
   "execution_count": null,
   "metadata": {
    "colab": {
     "base_uri": "https://localhost:8080/"
    },
    "executionInfo": {
     "elapsed": 1895,
     "status": "ok",
     "timestamp": 1649950541386,
     "user": {
      "displayName": "Sophia Tang",
      "userId": "01214725123456231622"
     },
     "user_tz": 300
    },
    "id": "PATPoVQLnRig",
    "outputId": "ef94685f-dae8-473c-8832-3c24573b4f1d"
   },
   "outputs": [
    {
     "name": "stdout",
     "output_type": "stream",
     "text": [
      "[nltk_data] Downloading package wordnet to /root/nltk_data...\n",
      "[nltk_data]   Unzipping corpora/wordnet.zip.\n"
     ]
    }
   ],
   "source": [
    "import pandas as pd\n",
    "import numpy as np\n",
    "from nltk.corpus import wordnet\n",
    "import nltk\n",
    "nltk.download('wordnet')\n",
    "import pickle"
   ]
  },
  {
   "cell_type": "code",
   "execution_count": null,
   "metadata": {
    "id": "3XRK3paWnlW1"
   },
   "outputs": [],
   "source": [
    "path = 'drive/Shareddrives/SIADS 697 Capstone Gacha/'\n",
    "emotions = pd.read_csv(path+'berkley_emotions.csv')"
   ]
  },
  {
   "cell_type": "code",
   "execution_count": null,
   "metadata": {
    "id": "JqpvYRG7p7gr"
   },
   "outputs": [],
   "source": [
    "synonyms = {}"
   ]
  },
  {
   "cell_type": "code",
   "execution_count": null,
   "metadata": {
    "id": "G9oT21kLnx_4"
   },
   "outputs": [],
   "source": [
    "for m in emotions['Emotions']:\n",
    "  for syn in wordnet.synsets(m):\n",
    "    syn_list = []\n",
    "    for l in syn.lemmas():\n",
    "      syn_list.append(l.name())\n",
    "  \n",
    "  synonyms[m] = syn_list"
   ]
  },
  {
   "cell_type": "code",
   "execution_count": null,
   "metadata": {
    "colab": {
     "base_uri": "https://localhost:8080/"
    },
    "executionInfo": {
     "elapsed": 155,
     "status": "ok",
     "timestamp": 1649950549348,
     "user": {
      "displayName": "Sophia Tang",
      "userId": "01214725123456231622"
     },
     "user_tz": 300
    },
    "id": "ZjC45CCN1aG_",
    "outputId": "82d547cc-cc00-47a3-be4b-d359fee3a554"
   },
   "outputs": [
    {
     "data": {
      "text/plain": [
       "['rage']"
      ]
     },
     "execution_count": 6,
     "metadata": {},
     "output_type": "execute_result"
    }
   ],
   "source": [
    "synonyms['rage']"
   ]
  },
  {
   "cell_type": "code",
   "execution_count": null,
   "metadata": {
    "colab": {
     "base_uri": "https://localhost:8080/"
    },
    "executionInfo": {
     "elapsed": 121,
     "status": "ok",
     "timestamp": 1649950551437,
     "user": {
      "displayName": "Sophia Tang",
      "userId": "01214725123456231622"
     },
     "user_tz": 300
    },
    "id": "2fvU9uzq16fo",
    "outputId": "bf44626c-8ea9-4236-c2b1-a59e7d668e18"
   },
   "outputs": [
    {
     "data": {
      "text/plain": [
       "862"
      ]
     },
     "execution_count": 7,
     "metadata": {},
     "output_type": "execute_result"
    }
   ],
   "source": [
    "len([word for l in [*synonyms.values()] for word in l])"
   ]
  },
  {
   "cell_type": "code",
   "execution_count": null,
   "metadata": {
    "colab": {
     "base_uri": "https://localhost:8080/"
    },
    "executionInfo": {
     "elapsed": 133,
     "status": "ok",
     "timestamp": 1649950562614,
     "user": {
      "displayName": "Sophia Tang",
      "userId": "01214725123456231622"
     },
     "user_tz": 300
    },
    "id": "Zu3HQjff7wjX",
    "outputId": "86a38f79-efc5-417d-c86e-e0b62b3b6d4d"
   },
   "outputs": [
    {
     "data": {
      "text/plain": [
       "['grieve', 'sorrow']"
      ]
     },
     "execution_count": 8,
     "metadata": {},
     "output_type": "execute_result"
    }
   ],
   "source": [
    "synonyms['sorrow']"
   ]
  },
  {
   "cell_type": "code",
   "execution_count": null,
   "metadata": {
    "colab": {
     "base_uri": "https://localhost:8080/"
    },
    "executionInfo": {
     "elapsed": 134,
     "status": "ok",
     "timestamp": 1649950581727,
     "user": {
      "displayName": "Sophia Tang",
      "userId": "01214725123456231622"
     },
     "user_tz": 300
    },
    "id": "RlFMkYDWt7lg",
    "outputId": "0c7674d8-a2f6-4966-a905-f372da8c49bf"
   },
   "outputs": [
    {
     "data": {
      "text/plain": [
       "['like']"
      ]
     },
     "execution_count": 10,
     "metadata": {},
     "output_type": "execute_result"
    }
   ],
   "source": [
    "synonyms['liking']"
   ]
  },
  {
   "cell_type": "code",
   "execution_count": null,
   "metadata": {
    "id": "KbUlNLm075oH"
   },
   "outputs": [],
   "source": [
    "#with open(path+\"emotions_dictionary.plk\", 'wb') as emo:\n",
    "#    pickle.dump(synonyms, emo)"
   ]
  },
  {
   "cell_type": "code",
   "execution_count": null,
   "metadata": {
    "id": "DID6KdqSAvMf"
   },
   "outputs": [],
   "source": []
  }
 ],
 "metadata": {
  "colab": {
   "authorship_tag": "ABX9TyPc32yfr7JwQn0qug4agYOp",
   "collapsed_sections": [],
   "name": "ST_Emotions Vocab_Building.ipynb",
   "provenance": []
  },
  "kernelspec": {
   "display_name": "Python 3",
   "language": "python",
   "name": "python3"
  },
  "language_info": {
   "codemirror_mode": {
    "name": "ipython",
    "version": 3
   },
   "file_extension": ".py",
   "mimetype": "text/x-python",
   "name": "python",
   "nbconvert_exporter": "python",
   "pygments_lexer": "ipython3",
   "version": "3.8.10"
  }
 },
 "nbformat": 4,
 "nbformat_minor": 1
}
